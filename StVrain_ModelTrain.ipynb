{
 "cells": [
  {
   "cell_type": "markdown",
   "id": "8dcb1ede-92fc-4b32-a3fc-67533b63371b",
   "metadata": {},
   "source": [
    "# Workflow for Training New St. Vrain Natural Flow Prediction Models for Hydrology outside the normal Historical Record"
   ]
  },
  {
   "cell_type": "markdown",
   "id": "c5df475f-5862-4c87-af37-119046608a87",
   "metadata": {},
   "source": [
    "The cell below loads in all the required Python libraries for training new versions of the St Vrain Prediction Model."
   ]
  },
  {
   "cell_type": "code",
   "execution_count": 1,
   "id": "db8bd6ab-9686-40a8-b1aa-7552d4c6096b",
   "metadata": {},
   "outputs": [],
   "source": [
    "# standard libraries\n",
    "import os\n",
    "import pickle\n",
    "# data read-in / manipulation libraries\n",
    "import pandas as pd\n",
    "import numpy as np\n",
    "# model building libraries\n",
    "from sklearn.metrics import r2_score\n",
    "from sklearn.neighbors import KNeighborsRegressor\n",
    "from sklearn.model_selection import train_test_split\n",
    "from sklearn.preprocessing import StandardScaler, MinMaxScaler\n",
    "\n",
    "# graphing libraries\n",
    "import plotly.graph_objects as go"
   ]
  },
  {
   "cell_type": "markdown",
   "id": "02d7630e-ec82-4c2f-8f39-e44a1f5019bc",
   "metadata": {},
   "source": [
    "The cell below reads in the raw Natural Flow Data that the St. Vrain Prediction Models is built from.  \n",
    "Future users may need to adjust the stvrain_path variable and the sheetname keyword argument."
   ]
  },
  {
   "cell_type": "code",
   "execution_count": 2,
   "id": "bd24a0a9-20eb-4308-9f43-1978aa9d8efb",
   "metadata": {},
   "outputs": [
    {
     "data": {
      "text/html": [
       "<div>\n",
       "<style scoped>\n",
       "    .dataframe tbody tr th:only-of-type {\n",
       "        vertical-align: middle;\n",
       "    }\n",
       "\n",
       "    .dataframe tbody tr th {\n",
       "        vertical-align: top;\n",
       "    }\n",
       "\n",
       "    .dataframe thead tr th {\n",
       "        text-align: left;\n",
       "    }\n",
       "</style>\n",
       "<table border=\"1\" class=\"dataframe\">\n",
       "  <thead>\n",
       "    <tr>\n",
       "      <th>Date</th>\n",
       "      <th>UpperColoradoReach.Inflow</th>\n",
       "      <th>ColoRAbv09095500:GainsAbvCameo.Local Inflow</th>\n",
       "      <th>TaylorRiver.Inflow</th>\n",
       "      <th>TaylorAboveBlueMesa:GainsAboveBlueMesa.Local Inflow</th>\n",
       "      <th>GunnisonRiverAboveCrystal:GainsAboveCrystal.Local Inflow</th>\n",
       "      <th>GunnisonRiverAboveGrandJunction:GainsGunnisonRiverAbvGrandJunction.Local Inflow</th>\n",
       "      <th>DoloresRiver.Inflow</th>\n",
       "      <th>GrandValleyReach:GainsAboveCisco.Local Inflow</th>\n",
       "      <th>GreenRAboveGage09211200.Inflow</th>\n",
       "      <th>Gage09211200ToGage09217000:GainsAbv09217000.Local Inflow</th>\n",
       "      <th>...</th>\n",
       "      <th>ColoradoRAbvPowell:GainsAboveLeesFerry.Local Inflow</th>\n",
       "      <th>CoRivPowellToVirgin:PariaGains.LocalInflow</th>\n",
       "      <th>CoRivPowellToVirgin:LittleCoR.LocalInflow</th>\n",
       "      <th>CoRivPowellToVirgin:GainsAboveGC.LocalInflow</th>\n",
       "      <th>VirginRiver.Inflow</th>\n",
       "      <th>CoRivVirginToMead:GainsAboveHoover.LocalInflow</th>\n",
       "      <th>CoRivMeadToMohave:GainsAboveDavis.LocalInflow</th>\n",
       "      <th>CoRivMohaveToHavasu:BillWilliamsRiver.LocalInflow</th>\n",
       "      <th>CoRivMohaveToHavasu:GainsAboveParker.LocalInflow</th>\n",
       "      <th>AboveImperialDamColoradoR:GainsOnColoRAboveImperialDam.LocalInflow</th>\n",
       "    </tr>\n",
       "    <tr>\n",
       "      <th></th>\n",
       "      <th>(ac-ft/month)</th>\n",
       "      <th>(ac-ft/month)</th>\n",
       "      <th>(ac-ft/month)</th>\n",
       "      <th>(ac-ft/month)</th>\n",
       "      <th>(ac-ft/month)</th>\n",
       "      <th>(ac-ft/month)</th>\n",
       "      <th>(ac-ft/month)</th>\n",
       "      <th>(ac-ft/month)</th>\n",
       "      <th>(ac-ft/month)</th>\n",
       "      <th>(ac-ft/month)</th>\n",
       "      <th>...</th>\n",
       "      <th>(ac-ft/month)</th>\n",
       "      <th>(ac-ft/month)</th>\n",
       "      <th>(ac-ft/month)</th>\n",
       "      <th>(ac-ft/month)</th>\n",
       "      <th>(ac-ft/month)</th>\n",
       "      <th>(ac-ft/month)</th>\n",
       "      <th>(ac-ft/month)</th>\n",
       "      <th>(ac-ft/month)</th>\n",
       "      <th>(ac-ft/month)</th>\n",
       "      <th>(ac-ft/month)</th>\n",
       "    </tr>\n",
       "  </thead>\n",
       "  <tbody>\n",
       "    <tr>\n",
       "      <th>1905-10-31</th>\n",
       "      <td>66982</td>\n",
       "      <td>45086</td>\n",
       "      <td>6375</td>\n",
       "      <td>21625</td>\n",
       "      <td>3900</td>\n",
       "      <td>42472</td>\n",
       "      <td>23495</td>\n",
       "      <td>-4175</td>\n",
       "      <td>28000</td>\n",
       "      <td>2010</td>\n",
       "      <td>...</td>\n",
       "      <td>-3916</td>\n",
       "      <td>4398</td>\n",
       "      <td>8058</td>\n",
       "      <td>1529</td>\n",
       "      <td>5279</td>\n",
       "      <td>28837</td>\n",
       "      <td>-11318</td>\n",
       "      <td>133</td>\n",
       "      <td>57535</td>\n",
       "      <td>-24994</td>\n",
       "    </tr>\n",
       "    <tr>\n",
       "      <th>1905-11-30</th>\n",
       "      <td>60131</td>\n",
       "      <td>42706</td>\n",
       "      <td>4097</td>\n",
       "      <td>20903</td>\n",
       "      <td>4200</td>\n",
       "      <td>30014</td>\n",
       "      <td>6836</td>\n",
       "      <td>15103</td>\n",
       "      <td>24000</td>\n",
       "      <td>1441</td>\n",
       "      <td>...</td>\n",
       "      <td>23450</td>\n",
       "      <td>2746</td>\n",
       "      <td>812</td>\n",
       "      <td>5831</td>\n",
       "      <td>6857</td>\n",
       "      <td>34679</td>\n",
       "      <td>6792</td>\n",
       "      <td>265</td>\n",
       "      <td>7122</td>\n",
       "      <td>-6261</td>\n",
       "    </tr>\n",
       "    <tr>\n",
       "      <th>1905-12-31</th>\n",
       "      <td>37105</td>\n",
       "      <td>29707</td>\n",
       "      <td>3981</td>\n",
       "      <td>23019</td>\n",
       "      <td>2200</td>\n",
       "      <td>10557</td>\n",
       "      <td>2001</td>\n",
       "      <td>4950</td>\n",
       "      <td>18000</td>\n",
       "      <td>1513</td>\n",
       "      <td>...</td>\n",
       "      <td>-8598</td>\n",
       "      <td>1445</td>\n",
       "      <td>23</td>\n",
       "      <td>4070</td>\n",
       "      <td>10396</td>\n",
       "      <td>2030</td>\n",
       "      <td>7730</td>\n",
       "      <td>528</td>\n",
       "      <td>6332</td>\n",
       "      <td>2436</td>\n",
       "    </tr>\n",
       "    <tr>\n",
       "      <th>1906-01-31</th>\n",
       "      <td>37525</td>\n",
       "      <td>31693</td>\n",
       "      <td>3770</td>\n",
       "      <td>22230</td>\n",
       "      <td>2600</td>\n",
       "      <td>5317</td>\n",
       "      <td>2929</td>\n",
       "      <td>1786</td>\n",
       "      <td>18000</td>\n",
       "      <td>2435</td>\n",
       "      <td>...</td>\n",
       "      <td>820</td>\n",
       "      <td>2717</td>\n",
       "      <td>72</td>\n",
       "      <td>3150</td>\n",
       "      <td>11961</td>\n",
       "      <td>34792</td>\n",
       "      <td>-41977</td>\n",
       "      <td>398</td>\n",
       "      <td>-12154</td>\n",
       "      <td>-59403</td>\n",
       "    </tr>\n",
       "    <tr>\n",
       "      <th>1906-02-28</th>\n",
       "      <td>38047</td>\n",
       "      <td>21806</td>\n",
       "      <td>3898</td>\n",
       "      <td>18102</td>\n",
       "      <td>3500</td>\n",
       "      <td>16175</td>\n",
       "      <td>4306</td>\n",
       "      <td>3506</td>\n",
       "      <td>17000</td>\n",
       "      <td>-1202</td>\n",
       "      <td>...</td>\n",
       "      <td>24584</td>\n",
       "      <td>2848</td>\n",
       "      <td>7259</td>\n",
       "      <td>1967</td>\n",
       "      <td>15361</td>\n",
       "      <td>69835</td>\n",
       "      <td>-43645</td>\n",
       "      <td>5304</td>\n",
       "      <td>14311</td>\n",
       "      <td>20591</td>\n",
       "    </tr>\n",
       "    <tr>\n",
       "      <th>...</th>\n",
       "      <td>...</td>\n",
       "      <td>...</td>\n",
       "      <td>...</td>\n",
       "      <td>...</td>\n",
       "      <td>...</td>\n",
       "      <td>...</td>\n",
       "      <td>...</td>\n",
       "      <td>...</td>\n",
       "      <td>...</td>\n",
       "      <td>...</td>\n",
       "      <td>...</td>\n",
       "      <td>...</td>\n",
       "      <td>...</td>\n",
       "      <td>...</td>\n",
       "      <td>...</td>\n",
       "      <td>...</td>\n",
       "      <td>...</td>\n",
       "      <td>...</td>\n",
       "      <td>...</td>\n",
       "      <td>...</td>\n",
       "      <td>...</td>\n",
       "    </tr>\n",
       "    <tr>\n",
       "      <th>2020-08-31</th>\n",
       "      <td>88912</td>\n",
       "      <td>51889</td>\n",
       "      <td>4037</td>\n",
       "      <td>35582</td>\n",
       "      <td>3471</td>\n",
       "      <td>79158</td>\n",
       "      <td>39360</td>\n",
       "      <td>-2518</td>\n",
       "      <td>74105</td>\n",
       "      <td>-10147</td>\n",
       "      <td>...</td>\n",
       "      <td>382</td>\n",
       "      <td>228</td>\n",
       "      <td>116</td>\n",
       "      <td>23259</td>\n",
       "      <td>5410</td>\n",
       "      <td>-5129</td>\n",
       "      <td>-17688</td>\n",
       "      <td>2213</td>\n",
       "      <td>-1183</td>\n",
       "      <td>-56757</td>\n",
       "    </tr>\n",
       "    <tr>\n",
       "      <th>2020-09-30</th>\n",
       "      <td>62284</td>\n",
       "      <td>34406</td>\n",
       "      <td>5529</td>\n",
       "      <td>22724</td>\n",
       "      <td>2662</td>\n",
       "      <td>48359</td>\n",
       "      <td>25065</td>\n",
       "      <td>-2003</td>\n",
       "      <td>45900</td>\n",
       "      <td>-6669</td>\n",
       "      <td>...</td>\n",
       "      <td>10366</td>\n",
       "      <td>351</td>\n",
       "      <td>0</td>\n",
       "      <td>23688</td>\n",
       "      <td>4584</td>\n",
       "      <td>320</td>\n",
       "      <td>-1271</td>\n",
       "      <td>1957</td>\n",
       "      <td>1068</td>\n",
       "      <td>-20619</td>\n",
       "    </tr>\n",
       "    <tr>\n",
       "      <th>2020-10-31</th>\n",
       "      <td>57953</td>\n",
       "      <td>32671</td>\n",
       "      <td>4250</td>\n",
       "      <td>16967</td>\n",
       "      <td>1839</td>\n",
       "      <td>28016</td>\n",
       "      <td>7831</td>\n",
       "      <td>1776</td>\n",
       "      <td>36244</td>\n",
       "      <td>-6085</td>\n",
       "      <td>...</td>\n",
       "      <td>-7300</td>\n",
       "      <td>461</td>\n",
       "      <td>0</td>\n",
       "      <td>24510</td>\n",
       "      <td>6281</td>\n",
       "      <td>-12198</td>\n",
       "      <td>-12168</td>\n",
       "      <td>1659</td>\n",
       "      <td>19223</td>\n",
       "      <td>-4828</td>\n",
       "    </tr>\n",
       "    <tr>\n",
       "      <th>2020-11-30</th>\n",
       "      <td>42310</td>\n",
       "      <td>31922</td>\n",
       "      <td>4143</td>\n",
       "      <td>20530</td>\n",
       "      <td>3369</td>\n",
       "      <td>39321</td>\n",
       "      <td>8297</td>\n",
       "      <td>16861</td>\n",
       "      <td>32123</td>\n",
       "      <td>-2841</td>\n",
       "      <td>...</td>\n",
       "      <td>3004</td>\n",
       "      <td>807</td>\n",
       "      <td>0</td>\n",
       "      <td>23986</td>\n",
       "      <td>6725</td>\n",
       "      <td>18510</td>\n",
       "      <td>-31726</td>\n",
       "      <td>1618</td>\n",
       "      <td>18293</td>\n",
       "      <td>2238</td>\n",
       "    </tr>\n",
       "    <tr>\n",
       "      <th>2020-12-31</th>\n",
       "      <td>35517</td>\n",
       "      <td>25217</td>\n",
       "      <td>3941</td>\n",
       "      <td>17077</td>\n",
       "      <td>4959</td>\n",
       "      <td>27388</td>\n",
       "      <td>3592</td>\n",
       "      <td>8213</td>\n",
       "      <td>23866</td>\n",
       "      <td>-4415</td>\n",
       "      <td>...</td>\n",
       "      <td>-10721</td>\n",
       "      <td>594</td>\n",
       "      <td>0</td>\n",
       "      <td>23921</td>\n",
       "      <td>8249</td>\n",
       "      <td>31020</td>\n",
       "      <td>-2402</td>\n",
       "      <td>1533</td>\n",
       "      <td>7351</td>\n",
       "      <td>16839</td>\n",
       "    </tr>\n",
       "  </tbody>\n",
       "</table>\n",
       "<p>1383 rows × 29 columns</p>\n",
       "</div>"
      ],
      "text/plain": [
       "Date       UpperColoradoReach.Inflow  \\\n",
       "                       (ac-ft/month)   \n",
       "1905-10-31                     66982   \n",
       "1905-11-30                     60131   \n",
       "1905-12-31                     37105   \n",
       "1906-01-31                     37525   \n",
       "1906-02-28                     38047   \n",
       "...                              ...   \n",
       "2020-08-31                     88912   \n",
       "2020-09-30                     62284   \n",
       "2020-10-31                     57953   \n",
       "2020-11-30                     42310   \n",
       "2020-12-31                     35517   \n",
       "\n",
       "Date       ColoRAbv09095500:GainsAbvCameo.Local Inflow TaylorRiver.Inflow  \\\n",
       "                                         (ac-ft/month)      (ac-ft/month)   \n",
       "1905-10-31                                       45086               6375   \n",
       "1905-11-30                                       42706               4097   \n",
       "1905-12-31                                       29707               3981   \n",
       "1906-01-31                                       31693               3770   \n",
       "1906-02-28                                       21806               3898   \n",
       "...                                                ...                ...   \n",
       "2020-08-31                                       51889               4037   \n",
       "2020-09-30                                       34406               5529   \n",
       "2020-10-31                                       32671               4250   \n",
       "2020-11-30                                       31922               4143   \n",
       "2020-12-31                                       25217               3941   \n",
       "\n",
       "Date       TaylorAboveBlueMesa:GainsAboveBlueMesa.Local Inflow  \\\n",
       "                                                 (ac-ft/month)   \n",
       "1905-10-31                                              21625    \n",
       "1905-11-30                                              20903    \n",
       "1905-12-31                                              23019    \n",
       "1906-01-31                                              22230    \n",
       "1906-02-28                                              18102    \n",
       "...                                                       ...    \n",
       "2020-08-31                                              35582    \n",
       "2020-09-30                                              22724    \n",
       "2020-10-31                                              16967    \n",
       "2020-11-30                                              20530    \n",
       "2020-12-31                                              17077    \n",
       "\n",
       "Date       GunnisonRiverAboveCrystal:GainsAboveCrystal.Local Inflow  \\\n",
       "                                                      (ac-ft/month)   \n",
       "1905-10-31                                               3900         \n",
       "1905-11-30                                               4200         \n",
       "1905-12-31                                               2200         \n",
       "1906-01-31                                               2600         \n",
       "1906-02-28                                               3500         \n",
       "...                                                       ...         \n",
       "2020-08-31                                               3471         \n",
       "2020-09-30                                               2662         \n",
       "2020-10-31                                               1839         \n",
       "2020-11-30                                               3369         \n",
       "2020-12-31                                               4959         \n",
       "\n",
       "Date       GunnisonRiverAboveGrandJunction:GainsGunnisonRiverAbvGrandJunction.Local Inflow  \\\n",
       "                                                                             (ac-ft/month)   \n",
       "1905-10-31                                              42472                                \n",
       "1905-11-30                                              30014                                \n",
       "1905-12-31                                              10557                                \n",
       "1906-01-31                                               5317                                \n",
       "1906-02-28                                              16175                                \n",
       "...                                                       ...                                \n",
       "2020-08-31                                              79158                                \n",
       "2020-09-30                                              48359                                \n",
       "2020-10-31                                              28016                                \n",
       "2020-11-30                                              39321                                \n",
       "2020-12-31                                              27388                                \n",
       "\n",
       "Date       DoloresRiver.Inflow GrandValleyReach:GainsAboveCisco.Local Inflow  \\\n",
       "                 (ac-ft/month)                                 (ac-ft/month)   \n",
       "1905-10-31               23495                                         -4175   \n",
       "1905-11-30                6836                                         15103   \n",
       "1905-12-31                2001                                          4950   \n",
       "1906-01-31                2929                                          1786   \n",
       "1906-02-28                4306                                          3506   \n",
       "...                        ...                                           ...   \n",
       "2020-08-31               39360                                         -2518   \n",
       "2020-09-30               25065                                         -2003   \n",
       "2020-10-31                7831                                          1776   \n",
       "2020-11-30                8297                                         16861   \n",
       "2020-12-31                3592                                          8213   \n",
       "\n",
       "Date       GreenRAboveGage09211200.Inflow  \\\n",
       "                            (ac-ft/month)   \n",
       "1905-10-31                          28000   \n",
       "1905-11-30                          24000   \n",
       "1905-12-31                          18000   \n",
       "1906-01-31                          18000   \n",
       "1906-02-28                          17000   \n",
       "...                                   ...   \n",
       "2020-08-31                          74105   \n",
       "2020-09-30                          45900   \n",
       "2020-10-31                          36244   \n",
       "2020-11-30                          32123   \n",
       "2020-12-31                          23866   \n",
       "\n",
       "Date       Gage09211200ToGage09217000:GainsAbv09217000.Local Inflow  ...  \\\n",
       "                                                      (ac-ft/month)  ...   \n",
       "1905-10-31                                               2010        ...   \n",
       "1905-11-30                                               1441        ...   \n",
       "1905-12-31                                               1513        ...   \n",
       "1906-01-31                                               2435        ...   \n",
       "1906-02-28                                              -1202        ...   \n",
       "...                                                       ...        ...   \n",
       "2020-08-31                                             -10147        ...   \n",
       "2020-09-30                                              -6669        ...   \n",
       "2020-10-31                                              -6085        ...   \n",
       "2020-11-30                                              -2841        ...   \n",
       "2020-12-31                                              -4415        ...   \n",
       "\n",
       "Date       ColoradoRAbvPowell:GainsAboveLeesFerry.Local Inflow  \\\n",
       "                                                 (ac-ft/month)   \n",
       "1905-10-31                                              -3916    \n",
       "1905-11-30                                              23450    \n",
       "1905-12-31                                              -8598    \n",
       "1906-01-31                                                820    \n",
       "1906-02-28                                              24584    \n",
       "...                                                       ...    \n",
       "2020-08-31                                                382    \n",
       "2020-09-30                                              10366    \n",
       "2020-10-31                                              -7300    \n",
       "2020-11-30                                               3004    \n",
       "2020-12-31                                             -10721    \n",
       "\n",
       "Date       CoRivPowellToVirgin:PariaGains.LocalInflow  \\\n",
       "                                        (ac-ft/month)   \n",
       "1905-10-31                                       4398   \n",
       "1905-11-30                                       2746   \n",
       "1905-12-31                                       1445   \n",
       "1906-01-31                                       2717   \n",
       "1906-02-28                                       2848   \n",
       "...                                               ...   \n",
       "2020-08-31                                        228   \n",
       "2020-09-30                                        351   \n",
       "2020-10-31                                        461   \n",
       "2020-11-30                                        807   \n",
       "2020-12-31                                        594   \n",
       "\n",
       "Date       CoRivPowellToVirgin:LittleCoR.LocalInflow  \\\n",
       "                                       (ac-ft/month)   \n",
       "1905-10-31                                      8058   \n",
       "1905-11-30                                       812   \n",
       "1905-12-31                                        23   \n",
       "1906-01-31                                        72   \n",
       "1906-02-28                                      7259   \n",
       "...                                              ...   \n",
       "2020-08-31                                       116   \n",
       "2020-09-30                                         0   \n",
       "2020-10-31                                         0   \n",
       "2020-11-30                                         0   \n",
       "2020-12-31                                         0   \n",
       "\n",
       "Date       CoRivPowellToVirgin:GainsAboveGC.LocalInflow VirginRiver.Inflow  \\\n",
       "                                          (ac-ft/month)      (ac-ft/month)   \n",
       "1905-10-31                                         1529               5279   \n",
       "1905-11-30                                         5831               6857   \n",
       "1905-12-31                                         4070              10396   \n",
       "1906-01-31                                         3150              11961   \n",
       "1906-02-28                                         1967              15361   \n",
       "...                                                 ...                ...   \n",
       "2020-08-31                                        23259               5410   \n",
       "2020-09-30                                        23688               4584   \n",
       "2020-10-31                                        24510               6281   \n",
       "2020-11-30                                        23986               6725   \n",
       "2020-12-31                                        23921               8249   \n",
       "\n",
       "Date       CoRivVirginToMead:GainsAboveHoover.LocalInflow  \\\n",
       "                                            (ac-ft/month)   \n",
       "1905-10-31                                          28837   \n",
       "1905-11-30                                          34679   \n",
       "1905-12-31                                           2030   \n",
       "1906-01-31                                          34792   \n",
       "1906-02-28                                          69835   \n",
       "...                                                   ...   \n",
       "2020-08-31                                          -5129   \n",
       "2020-09-30                                            320   \n",
       "2020-10-31                                         -12198   \n",
       "2020-11-30                                          18510   \n",
       "2020-12-31                                          31020   \n",
       "\n",
       "Date       CoRivMeadToMohave:GainsAboveDavis.LocalInflow  \\\n",
       "                                           (ac-ft/month)   \n",
       "1905-10-31                                        -11318   \n",
       "1905-11-30                                          6792   \n",
       "1905-12-31                                          7730   \n",
       "1906-01-31                                        -41977   \n",
       "1906-02-28                                        -43645   \n",
       "...                                                  ...   \n",
       "2020-08-31                                        -17688   \n",
       "2020-09-30                                         -1271   \n",
       "2020-10-31                                        -12168   \n",
       "2020-11-30                                        -31726   \n",
       "2020-12-31                                         -2402   \n",
       "\n",
       "Date       CoRivMohaveToHavasu:BillWilliamsRiver.LocalInflow  \\\n",
       "                                               (ac-ft/month)   \n",
       "1905-10-31                                               133   \n",
       "1905-11-30                                               265   \n",
       "1905-12-31                                               528   \n",
       "1906-01-31                                               398   \n",
       "1906-02-28                                              5304   \n",
       "...                                                      ...   \n",
       "2020-08-31                                              2213   \n",
       "2020-09-30                                              1957   \n",
       "2020-10-31                                              1659   \n",
       "2020-11-30                                              1618   \n",
       "2020-12-31                                              1533   \n",
       "\n",
       "Date       CoRivMohaveToHavasu:GainsAboveParker.LocalInflow  \\\n",
       "                                              (ac-ft/month)   \n",
       "1905-10-31                                            57535   \n",
       "1905-11-30                                             7122   \n",
       "1905-12-31                                             6332   \n",
       "1906-01-31                                           -12154   \n",
       "1906-02-28                                            14311   \n",
       "...                                                     ...   \n",
       "2020-08-31                                            -1183   \n",
       "2020-09-30                                             1068   \n",
       "2020-10-31                                            19223   \n",
       "2020-11-30                                            18293   \n",
       "2020-12-31                                             7351   \n",
       "\n",
       "Date       AboveImperialDamColoradoR:GainsOnColoRAboveImperialDam.LocalInflow  \n",
       "                                                                (ac-ft/month)  \n",
       "1905-10-31                                             -24994                  \n",
       "1905-11-30                                              -6261                  \n",
       "1905-12-31                                               2436                  \n",
       "1906-01-31                                             -59403                  \n",
       "1906-02-28                                              20591                  \n",
       "...                                                       ...                  \n",
       "2020-08-31                                             -56757                  \n",
       "2020-09-30                                             -20619                  \n",
       "2020-10-31                                              -4828                  \n",
       "2020-11-30                                               2238                  \n",
       "2020-12-31                                              16839                  \n",
       "\n",
       "[1383 rows x 29 columns]"
      ]
     },
     "metadata": {},
     "output_type": "display_data"
    }
   ],
   "source": [
    "# Excel file path - user input\n",
    "stvrain_path = r\"./NatFlowData_CRSS_StVrain.xlsx\" # hard-coded, potentially change for other users\n",
    "# read-in 29 point natural flow data from Excel/csv\n",
    "nf_hist_df = pd.read_excel(stvrain_path, sheet_name=\"ZackNF\", index_col=0, header=[0,1]) # change sheet_name if needed\n",
    "# display is a replacement for print() in jupyter notebooks\n",
    "display(nf_hist_df)"
   ]
  },
  {
   "cell_type": "markdown",
   "id": "03d899a9-7458-47bc-baa2-f6ce7b9fed60",
   "metadata": {},
   "source": [
    "The 29 point natural flow data is in monthly values we will need annual total sums for model prediction. <br>\n",
    "The cell below groups the natural flow dataframe by the calendar year and then sums the values of the months to a single annual value. <br>\n",
    "The first row of the resulting dataframe is dropped because 1905 does not contain all 12 months and would be invalid."
   ]
  },
  {
   "cell_type": "code",
   "execution_count": 3,
   "id": "4c718951-04a9-4e04-bf83-3c2f80d99004",
   "metadata": {},
   "outputs": [
    {
     "data": {
      "text/html": [
       "<div>\n",
       "<style scoped>\n",
       "    .dataframe tbody tr th:only-of-type {\n",
       "        vertical-align: middle;\n",
       "    }\n",
       "\n",
       "    .dataframe tbody tr th {\n",
       "        vertical-align: top;\n",
       "    }\n",
       "\n",
       "    .dataframe thead tr th {\n",
       "        text-align: left;\n",
       "    }\n",
       "</style>\n",
       "<table border=\"1\" class=\"dataframe\">\n",
       "  <thead>\n",
       "    <tr>\n",
       "      <th>Date</th>\n",
       "      <th>UpperColoradoReach.Inflow</th>\n",
       "      <th>ColoRAbv09095500:GainsAbvCameo.Local Inflow</th>\n",
       "      <th>TaylorRiver.Inflow</th>\n",
       "      <th>TaylorAboveBlueMesa:GainsAboveBlueMesa.Local Inflow</th>\n",
       "      <th>GunnisonRiverAboveCrystal:GainsAboveCrystal.Local Inflow</th>\n",
       "      <th>GunnisonRiverAboveGrandJunction:GainsGunnisonRiverAbvGrandJunction.Local Inflow</th>\n",
       "      <th>DoloresRiver.Inflow</th>\n",
       "      <th>GrandValleyReach:GainsAboveCisco.Local Inflow</th>\n",
       "      <th>GreenRAboveGage09211200.Inflow</th>\n",
       "      <th>Gage09211200ToGage09217000:GainsAbv09217000.Local Inflow</th>\n",
       "      <th>...</th>\n",
       "      <th>ColoradoRAbvPowell:GainsAboveLeesFerry.Local Inflow</th>\n",
       "      <th>CoRivPowellToVirgin:PariaGains.LocalInflow</th>\n",
       "      <th>CoRivPowellToVirgin:LittleCoR.LocalInflow</th>\n",
       "      <th>CoRivPowellToVirgin:GainsAboveGC.LocalInflow</th>\n",
       "      <th>VirginRiver.Inflow</th>\n",
       "      <th>CoRivVirginToMead:GainsAboveHoover.LocalInflow</th>\n",
       "      <th>CoRivMeadToMohave:GainsAboveDavis.LocalInflow</th>\n",
       "      <th>CoRivMohaveToHavasu:BillWilliamsRiver.LocalInflow</th>\n",
       "      <th>CoRivMohaveToHavasu:GainsAboveParker.LocalInflow</th>\n",
       "      <th>AboveImperialDamColoradoR:GainsOnColoRAboveImperialDam.LocalInflow</th>\n",
       "    </tr>\n",
       "    <tr>\n",
       "      <th></th>\n",
       "      <th>(ac-ft/month)</th>\n",
       "      <th>(ac-ft/month)</th>\n",
       "      <th>(ac-ft/month)</th>\n",
       "      <th>(ac-ft/month)</th>\n",
       "      <th>(ac-ft/month)</th>\n",
       "      <th>(ac-ft/month)</th>\n",
       "      <th>(ac-ft/month)</th>\n",
       "      <th>(ac-ft/month)</th>\n",
       "      <th>(ac-ft/month)</th>\n",
       "      <th>(ac-ft/month)</th>\n",
       "      <th>...</th>\n",
       "      <th>(ac-ft/month)</th>\n",
       "      <th>(ac-ft/month)</th>\n",
       "      <th>(ac-ft/month)</th>\n",
       "      <th>(ac-ft/month)</th>\n",
       "      <th>(ac-ft/month)</th>\n",
       "      <th>(ac-ft/month)</th>\n",
       "      <th>(ac-ft/month)</th>\n",
       "      <th>(ac-ft/month)</th>\n",
       "      <th>(ac-ft/month)</th>\n",
       "      <th>(ac-ft/month)</th>\n",
       "    </tr>\n",
       "  </thead>\n",
       "  <tbody>\n",
       "    <tr>\n",
       "      <th>1906</th>\n",
       "      <td>2763072</td>\n",
       "      <td>1743827</td>\n",
       "      <td>196474</td>\n",
       "      <td>1271454</td>\n",
       "      <td>237400</td>\n",
       "      <td>1126729</td>\n",
       "      <td>645028</td>\n",
       "      <td>197486</td>\n",
       "      <td>1530600</td>\n",
       "      <td>143449</td>\n",
       "      <td>...</td>\n",
       "      <td>886435</td>\n",
       "      <td>22433</td>\n",
       "      <td>251227</td>\n",
       "      <td>68262</td>\n",
       "      <td>116584</td>\n",
       "      <td>119482</td>\n",
       "      <td>-46987</td>\n",
       "      <td>18933</td>\n",
       "      <td>52398</td>\n",
       "      <td>-300761</td>\n",
       "    </tr>\n",
       "    <tr>\n",
       "      <th>1907</th>\n",
       "      <td>3081437</td>\n",
       "      <td>1700573</td>\n",
       "      <td>223675</td>\n",
       "      <td>1486653</td>\n",
       "      <td>254700</td>\n",
       "      <td>901188</td>\n",
       "      <td>659614</td>\n",
       "      <td>136148</td>\n",
       "      <td>1993900</td>\n",
       "      <td>123284</td>\n",
       "      <td>...</td>\n",
       "      <td>818195</td>\n",
       "      <td>17427</td>\n",
       "      <td>432145</td>\n",
       "      <td>253602</td>\n",
       "      <td>115329</td>\n",
       "      <td>217141</td>\n",
       "      <td>12319</td>\n",
       "      <td>84568</td>\n",
       "      <td>-29965</td>\n",
       "      <td>-108356</td>\n",
       "    </tr>\n",
       "    <tr>\n",
       "      <th>1908</th>\n",
       "      <td>1649464</td>\n",
       "      <td>1224669</td>\n",
       "      <td>154109</td>\n",
       "      <td>786219</td>\n",
       "      <td>146600</td>\n",
       "      <td>586817</td>\n",
       "      <td>438902</td>\n",
       "      <td>214486</td>\n",
       "      <td>1140300</td>\n",
       "      <td>101565</td>\n",
       "      <td>...</td>\n",
       "      <td>-258097</td>\n",
       "      <td>22536</td>\n",
       "      <td>135563</td>\n",
       "      <td>326248</td>\n",
       "      <td>126253</td>\n",
       "      <td>327918</td>\n",
       "      <td>137995</td>\n",
       "      <td>123017</td>\n",
       "      <td>-47087</td>\n",
       "      <td>-183789</td>\n",
       "    </tr>\n",
       "    <tr>\n",
       "      <th>1909</th>\n",
       "      <td>3215703</td>\n",
       "      <td>1958192</td>\n",
       "      <td>251808</td>\n",
       "      <td>1576720</td>\n",
       "      <td>276600</td>\n",
       "      <td>923322</td>\n",
       "      <td>975058</td>\n",
       "      <td>-23894</td>\n",
       "      <td>2067800</td>\n",
       "      <td>161231</td>\n",
       "      <td>...</td>\n",
       "      <td>-33810</td>\n",
       "      <td>19744</td>\n",
       "      <td>184638</td>\n",
       "      <td>253175</td>\n",
       "      <td>114546</td>\n",
       "      <td>329061</td>\n",
       "      <td>432618</td>\n",
       "      <td>111677</td>\n",
       "      <td>-128057</td>\n",
       "      <td>-179842</td>\n",
       "    </tr>\n",
       "    <tr>\n",
       "      <th>1910</th>\n",
       "      <td>1847184</td>\n",
       "      <td>1428398</td>\n",
       "      <td>149178</td>\n",
       "      <td>1065850</td>\n",
       "      <td>222800</td>\n",
       "      <td>916096</td>\n",
       "      <td>777540</td>\n",
       "      <td>137973</td>\n",
       "      <td>1267900</td>\n",
       "      <td>113201</td>\n",
       "      <td>...</td>\n",
       "      <td>339009</td>\n",
       "      <td>20034</td>\n",
       "      <td>141902</td>\n",
       "      <td>188064</td>\n",
       "      <td>134605</td>\n",
       "      <td>655399</td>\n",
       "      <td>277107</td>\n",
       "      <td>58494</td>\n",
       "      <td>-93519</td>\n",
       "      <td>-222470</td>\n",
       "    </tr>\n",
       "    <tr>\n",
       "      <th>...</th>\n",
       "      <td>...</td>\n",
       "      <td>...</td>\n",
       "      <td>...</td>\n",
       "      <td>...</td>\n",
       "      <td>...</td>\n",
       "      <td>...</td>\n",
       "      <td>...</td>\n",
       "      <td>...</td>\n",
       "      <td>...</td>\n",
       "      <td>...</td>\n",
       "      <td>...</td>\n",
       "      <td>...</td>\n",
       "      <td>...</td>\n",
       "      <td>...</td>\n",
       "      <td>...</td>\n",
       "      <td>...</td>\n",
       "      <td>...</td>\n",
       "      <td>...</td>\n",
       "      <td>...</td>\n",
       "      <td>...</td>\n",
       "      <td>...</td>\n",
       "    </tr>\n",
       "    <tr>\n",
       "      <th>2016</th>\n",
       "      <td>2106977</td>\n",
       "      <td>1243413</td>\n",
       "      <td>122128</td>\n",
       "      <td>796749</td>\n",
       "      <td>200108</td>\n",
       "      <td>1063634</td>\n",
       "      <td>773373</td>\n",
       "      <td>39587</td>\n",
       "      <td>1128697</td>\n",
       "      <td>53193</td>\n",
       "      <td>...</td>\n",
       "      <td>184844</td>\n",
       "      <td>17418</td>\n",
       "      <td>51513</td>\n",
       "      <td>330455</td>\n",
       "      <td>117854</td>\n",
       "      <td>153749</td>\n",
       "      <td>-260799</td>\n",
       "      <td>15053</td>\n",
       "      <td>225854</td>\n",
       "      <td>-226104</td>\n",
       "    </tr>\n",
       "    <tr>\n",
       "      <th>2017</th>\n",
       "      <td>2181450</td>\n",
       "      <td>1181741</td>\n",
       "      <td>183123</td>\n",
       "      <td>1118073</td>\n",
       "      <td>214091</td>\n",
       "      <td>1183310</td>\n",
       "      <td>879500</td>\n",
       "      <td>-184324</td>\n",
       "      <td>2599990</td>\n",
       "      <td>26734</td>\n",
       "      <td>...</td>\n",
       "      <td>241691</td>\n",
       "      <td>15744</td>\n",
       "      <td>112807</td>\n",
       "      <td>310507</td>\n",
       "      <td>157534</td>\n",
       "      <td>183222</td>\n",
       "      <td>-212374</td>\n",
       "      <td>25787</td>\n",
       "      <td>151602</td>\n",
       "      <td>-272665</td>\n",
       "    </tr>\n",
       "    <tr>\n",
       "      <th>2018</th>\n",
       "      <td>1474316</td>\n",
       "      <td>745990</td>\n",
       "      <td>81528</td>\n",
       "      <td>376184</td>\n",
       "      <td>97410</td>\n",
       "      <td>546353</td>\n",
       "      <td>275536</td>\n",
       "      <td>22451</td>\n",
       "      <td>1473163</td>\n",
       "      <td>113783</td>\n",
       "      <td>...</td>\n",
       "      <td>135025</td>\n",
       "      <td>16822</td>\n",
       "      <td>80285</td>\n",
       "      <td>295634</td>\n",
       "      <td>91523</td>\n",
       "      <td>59763</td>\n",
       "      <td>-166960</td>\n",
       "      <td>42244</td>\n",
       "      <td>85307</td>\n",
       "      <td>-299647</td>\n",
       "    </tr>\n",
       "    <tr>\n",
       "      <th>2019</th>\n",
       "      <td>2550862</td>\n",
       "      <td>1754427</td>\n",
       "      <td>197643</td>\n",
       "      <td>1217690</td>\n",
       "      <td>265474</td>\n",
       "      <td>1407105</td>\n",
       "      <td>1145601</td>\n",
       "      <td>57573</td>\n",
       "      <td>1245921</td>\n",
       "      <td>41379</td>\n",
       "      <td>...</td>\n",
       "      <td>373792</td>\n",
       "      <td>21290</td>\n",
       "      <td>151729</td>\n",
       "      <td>323118</td>\n",
       "      <td>231861</td>\n",
       "      <td>162385</td>\n",
       "      <td>-162306</td>\n",
       "      <td>17741</td>\n",
       "      <td>149582</td>\n",
       "      <td>-230419</td>\n",
       "    </tr>\n",
       "    <tr>\n",
       "      <th>2020</th>\n",
       "      <td>1714823</td>\n",
       "      <td>885858</td>\n",
       "      <td>96341</td>\n",
       "      <td>540459</td>\n",
       "      <td>98169</td>\n",
       "      <td>641245</td>\n",
       "      <td>383523</td>\n",
       "      <td>-36641</td>\n",
       "      <td>1102231</td>\n",
       "      <td>25827</td>\n",
       "      <td>...</td>\n",
       "      <td>82292</td>\n",
       "      <td>8093</td>\n",
       "      <td>74755</td>\n",
       "      <td>283492</td>\n",
       "      <td>126031</td>\n",
       "      <td>19388</td>\n",
       "      <td>-120295</td>\n",
       "      <td>83625</td>\n",
       "      <td>3265</td>\n",
       "      <td>-351331</td>\n",
       "    </tr>\n",
       "  </tbody>\n",
       "</table>\n",
       "<p>115 rows × 29 columns</p>\n",
       "</div>"
      ],
      "text/plain": [
       "Date UpperColoradoReach.Inflow ColoRAbv09095500:GainsAbvCameo.Local Inflow  \\\n",
       "                 (ac-ft/month)                               (ac-ft/month)   \n",
       "1906                   2763072                                     1743827   \n",
       "1907                   3081437                                     1700573   \n",
       "1908                   1649464                                     1224669   \n",
       "1909                   3215703                                     1958192   \n",
       "1910                   1847184                                     1428398   \n",
       "...                        ...                                         ...   \n",
       "2016                   2106977                                     1243413   \n",
       "2017                   2181450                                     1181741   \n",
       "2018                   1474316                                      745990   \n",
       "2019                   2550862                                     1754427   \n",
       "2020                   1714823                                      885858   \n",
       "\n",
       "Date TaylorRiver.Inflow TaylorAboveBlueMesa:GainsAboveBlueMesa.Local Inflow  \\\n",
       "          (ac-ft/month)                                       (ac-ft/month)   \n",
       "1906             196474                                            1271454    \n",
       "1907             223675                                            1486653    \n",
       "1908             154109                                             786219    \n",
       "1909             251808                                            1576720    \n",
       "1910             149178                                            1065850    \n",
       "...                 ...                                                ...    \n",
       "2016             122128                                             796749    \n",
       "2017             183123                                            1118073    \n",
       "2018              81528                                             376184    \n",
       "2019             197643                                            1217690    \n",
       "2020              96341                                             540459    \n",
       "\n",
       "Date GunnisonRiverAboveCrystal:GainsAboveCrystal.Local Inflow  \\\n",
       "                                                (ac-ft/month)   \n",
       "1906                                             237400         \n",
       "1907                                             254700         \n",
       "1908                                             146600         \n",
       "1909                                             276600         \n",
       "1910                                             222800         \n",
       "...                                                 ...         \n",
       "2016                                             200108         \n",
       "2017                                             214091         \n",
       "2018                                              97410         \n",
       "2019                                             265474         \n",
       "2020                                              98169         \n",
       "\n",
       "Date GunnisonRiverAboveGrandJunction:GainsGunnisonRiverAbvGrandJunction.Local Inflow  \\\n",
       "                                                                       (ac-ft/month)   \n",
       "1906                                            1126729                                \n",
       "1907                                             901188                                \n",
       "1908                                             586817                                \n",
       "1909                                             923322                                \n",
       "1910                                             916096                                \n",
       "...                                                 ...                                \n",
       "2016                                            1063634                                \n",
       "2017                                            1183310                                \n",
       "2018                                             546353                                \n",
       "2019                                            1407105                                \n",
       "2020                                             641245                                \n",
       "\n",
       "Date DoloresRiver.Inflow GrandValleyReach:GainsAboveCisco.Local Inflow  \\\n",
       "           (ac-ft/month)                                 (ac-ft/month)   \n",
       "1906              645028                                        197486   \n",
       "1907              659614                                        136148   \n",
       "1908              438902                                        214486   \n",
       "1909              975058                                        -23894   \n",
       "1910              777540                                        137973   \n",
       "...                  ...                                           ...   \n",
       "2016              773373                                         39587   \n",
       "2017              879500                                       -184324   \n",
       "2018              275536                                         22451   \n",
       "2019             1145601                                         57573   \n",
       "2020              383523                                        -36641   \n",
       "\n",
       "Date GreenRAboveGage09211200.Inflow  \\\n",
       "                      (ac-ft/month)   \n",
       "1906                        1530600   \n",
       "1907                        1993900   \n",
       "1908                        1140300   \n",
       "1909                        2067800   \n",
       "1910                        1267900   \n",
       "...                             ...   \n",
       "2016                        1128697   \n",
       "2017                        2599990   \n",
       "2018                        1473163   \n",
       "2019                        1245921   \n",
       "2020                        1102231   \n",
       "\n",
       "Date Gage09211200ToGage09217000:GainsAbv09217000.Local Inflow  ...  \\\n",
       "                                                (ac-ft/month)  ...   \n",
       "1906                                             143449        ...   \n",
       "1907                                             123284        ...   \n",
       "1908                                             101565        ...   \n",
       "1909                                             161231        ...   \n",
       "1910                                             113201        ...   \n",
       "...                                                 ...        ...   \n",
       "2016                                              53193        ...   \n",
       "2017                                              26734        ...   \n",
       "2018                                             113783        ...   \n",
       "2019                                              41379        ...   \n",
       "2020                                              25827        ...   \n",
       "\n",
       "Date ColoradoRAbvPowell:GainsAboveLeesFerry.Local Inflow  \\\n",
       "                                           (ac-ft/month)   \n",
       "1906                                             886435    \n",
       "1907                                             818195    \n",
       "1908                                            -258097    \n",
       "1909                                             -33810    \n",
       "1910                                             339009    \n",
       "...                                                 ...    \n",
       "2016                                             184844    \n",
       "2017                                             241691    \n",
       "2018                                             135025    \n",
       "2019                                             373792    \n",
       "2020                                              82292    \n",
       "\n",
       "Date CoRivPowellToVirgin:PariaGains.LocalInflow  \\\n",
       "                                  (ac-ft/month)   \n",
       "1906                                      22433   \n",
       "1907                                      17427   \n",
       "1908                                      22536   \n",
       "1909                                      19744   \n",
       "1910                                      20034   \n",
       "...                                         ...   \n",
       "2016                                      17418   \n",
       "2017                                      15744   \n",
       "2018                                      16822   \n",
       "2019                                      21290   \n",
       "2020                                       8093   \n",
       "\n",
       "Date CoRivPowellToVirgin:LittleCoR.LocalInflow  \\\n",
       "                                 (ac-ft/month)   \n",
       "1906                                    251227   \n",
       "1907                                    432145   \n",
       "1908                                    135563   \n",
       "1909                                    184638   \n",
       "1910                                    141902   \n",
       "...                                        ...   \n",
       "2016                                     51513   \n",
       "2017                                    112807   \n",
       "2018                                     80285   \n",
       "2019                                    151729   \n",
       "2020                                     74755   \n",
       "\n",
       "Date CoRivPowellToVirgin:GainsAboveGC.LocalInflow VirginRiver.Inflow  \\\n",
       "                                    (ac-ft/month)      (ac-ft/month)   \n",
       "1906                                        68262             116584   \n",
       "1907                                       253602             115329   \n",
       "1908                                       326248             126253   \n",
       "1909                                       253175             114546   \n",
       "1910                                       188064             134605   \n",
       "...                                           ...                ...   \n",
       "2016                                       330455             117854   \n",
       "2017                                       310507             157534   \n",
       "2018                                       295634              91523   \n",
       "2019                                       323118             231861   \n",
       "2020                                       283492             126031   \n",
       "\n",
       "Date CoRivVirginToMead:GainsAboveHoover.LocalInflow  \\\n",
       "                                      (ac-ft/month)   \n",
       "1906                                         119482   \n",
       "1907                                         217141   \n",
       "1908                                         327918   \n",
       "1909                                         329061   \n",
       "1910                                         655399   \n",
       "...                                             ...   \n",
       "2016                                         153749   \n",
       "2017                                         183222   \n",
       "2018                                          59763   \n",
       "2019                                         162385   \n",
       "2020                                          19388   \n",
       "\n",
       "Date CoRivMeadToMohave:GainsAboveDavis.LocalInflow  \\\n",
       "                                     (ac-ft/month)   \n",
       "1906                                        -46987   \n",
       "1907                                         12319   \n",
       "1908                                        137995   \n",
       "1909                                        432618   \n",
       "1910                                        277107   \n",
       "...                                            ...   \n",
       "2016                                       -260799   \n",
       "2017                                       -212374   \n",
       "2018                                       -166960   \n",
       "2019                                       -162306   \n",
       "2020                                       -120295   \n",
       "\n",
       "Date CoRivMohaveToHavasu:BillWilliamsRiver.LocalInflow  \\\n",
       "                                         (ac-ft/month)   \n",
       "1906                                             18933   \n",
       "1907                                             84568   \n",
       "1908                                            123017   \n",
       "1909                                            111677   \n",
       "1910                                             58494   \n",
       "...                                                ...   \n",
       "2016                                             15053   \n",
       "2017                                             25787   \n",
       "2018                                             42244   \n",
       "2019                                             17741   \n",
       "2020                                             83625   \n",
       "\n",
       "Date CoRivMohaveToHavasu:GainsAboveParker.LocalInflow  \\\n",
       "                                        (ac-ft/month)   \n",
       "1906                                            52398   \n",
       "1907                                           -29965   \n",
       "1908                                           -47087   \n",
       "1909                                          -128057   \n",
       "1910                                           -93519   \n",
       "...                                               ...   \n",
       "2016                                           225854   \n",
       "2017                                           151602   \n",
       "2018                                            85307   \n",
       "2019                                           149582   \n",
       "2020                                             3265   \n",
       "\n",
       "Date AboveImperialDamColoradoR:GainsOnColoRAboveImperialDam.LocalInflow  \n",
       "                                                          (ac-ft/month)  \n",
       "1906                                            -300761                  \n",
       "1907                                            -108356                  \n",
       "1908                                            -183789                  \n",
       "1909                                            -179842                  \n",
       "1910                                            -222470                  \n",
       "...                                                 ...                  \n",
       "2016                                            -226104                  \n",
       "2017                                            -272665                  \n",
       "2018                                            -299647                  \n",
       "2019                                            -230419                  \n",
       "2020                                            -351331                  \n",
       "\n",
       "[115 rows x 29 columns]"
      ]
     },
     "metadata": {},
     "output_type": "display_data"
    }
   ],
   "source": [
    "# annual summary dataframe for the 29 point natural flow data\n",
    "# note that nf_hist_df is directly mutated here. (be careful)\n",
    "nf_hist_df = nf_hist_df.groupby(nf_hist_df.index.year).sum()\n",
    "# row 0 for 1905 is dropped via index loc (iloc) selection\n",
    "nf_hist_df = nf_hist_df.iloc[1:]\n",
    "display(nf_hist_df)"
   ]
  },
  {
   "cell_type": "markdown",
   "id": "6e20e185-42b8-4f58-becc-6a946a20985a",
   "metadata": {},
   "source": [
    "The St. Vrain Natural Flow and Gauge data is read from the same Excel Workbook, but a different sheet."
   ]
  },
  {
   "cell_type": "code",
   "execution_count": 4,
   "id": "bcd2b07b-366c-46df-9143-1249be10dbc3",
   "metadata": {},
   "outputs": [
    {
     "data": {
      "text/html": [
       "<div>\n",
       "<style scoped>\n",
       "    .dataframe tbody tr th:only-of-type {\n",
       "        vertical-align: middle;\n",
       "    }\n",
       "\n",
       "    .dataframe tbody tr th {\n",
       "        vertical-align: top;\n",
       "    }\n",
       "\n",
       "    .dataframe thead tr th {\n",
       "        text-align: left;\n",
       "    }\n",
       "</style>\n",
       "<table border=\"1\" class=\"dataframe\">\n",
       "  <thead>\n",
       "    <tr>\n",
       "      <th>Year</th>\n",
       "      <th>Natural Flow (Cal Year)</th>\n",
       "      <th>St. Vrain Gaged Streamflow (CY)</th>\n",
       "    </tr>\n",
       "    <tr>\n",
       "      <th></th>\n",
       "      <th>acre-feet</th>\n",
       "      <th>acre-feet</th>\n",
       "    </tr>\n",
       "  </thead>\n",
       "  <tbody>\n",
       "    <tr>\n",
       "      <th>1906</th>\n",
       "      <td>149314.2240</td>\n",
       "      <td>117360</td>\n",
       "    </tr>\n",
       "    <tr>\n",
       "      <th>1907</th>\n",
       "      <td>189603.2858</td>\n",
       "      <td>154462</td>\n",
       "    </tr>\n",
       "    <tr>\n",
       "      <th>1908</th>\n",
       "      <td>91389.0603</td>\n",
       "      <td>64017</td>\n",
       "    </tr>\n",
       "    <tr>\n",
       "      <th>1909</th>\n",
       "      <td>165939.3530</td>\n",
       "      <td>132670</td>\n",
       "    </tr>\n",
       "    <tr>\n",
       "      <th>1910</th>\n",
       "      <td>76251.6143</td>\n",
       "      <td>50077</td>\n",
       "    </tr>\n",
       "    <tr>\n",
       "      <th>...</th>\n",
       "      <td>...</td>\n",
       "      <td>...</td>\n",
       "    </tr>\n",
       "    <tr>\n",
       "      <th>2016</th>\n",
       "      <td>109972.0670</td>\n",
       "      <td>81130</td>\n",
       "    </tr>\n",
       "    <tr>\n",
       "      <th>2017</th>\n",
       "      <td>139323.9440</td>\n",
       "      <td>108160</td>\n",
       "    </tr>\n",
       "    <tr>\n",
       "      <th>2018</th>\n",
       "      <td>83574.9239</td>\n",
       "      <td>56821</td>\n",
       "    </tr>\n",
       "    <tr>\n",
       "      <th>2019</th>\n",
       "      <td>121156.8370</td>\n",
       "      <td>91430</td>\n",
       "    </tr>\n",
       "    <tr>\n",
       "      <th>2020</th>\n",
       "      <td>90568.1199</td>\n",
       "      <td>63261</td>\n",
       "    </tr>\n",
       "  </tbody>\n",
       "</table>\n",
       "<p>115 rows × 2 columns</p>\n",
       "</div>"
      ],
      "text/plain": [
       "Year Natural Flow (Cal Year) St. Vrain Gaged Streamflow (CY)\n",
       "                   acre-feet                       acre-feet\n",
       "1906             149314.2240                          117360\n",
       "1907             189603.2858                          154462\n",
       "1908              91389.0603                           64017\n",
       "1909             165939.3530                          132670\n",
       "1910              76251.6143                           50077\n",
       "...                      ...                             ...\n",
       "2016             109972.0670                           81130\n",
       "2017             139323.9440                          108160\n",
       "2018              83574.9239                           56821\n",
       "2019             121156.8370                           91430\n",
       "2020              90568.1199                           63261\n",
       "\n",
       "[115 rows x 2 columns]"
      ]
     },
     "metadata": {},
     "output_type": "display_data"
    }
   ],
   "source": [
    "# st. vrain natural flow value is the sum for the year\n",
    "nf_stvrain_df = pd.read_excel(stvrain_path, sheet_name=\"ZackStVrain\", # change sheet_name if needed\n",
    "                              index_col=0, header=[0,1]) \n",
    "display(nf_stvrain_df)"
   ]
  },
  {
   "cell_type": "markdown",
   "id": "0a686ec2-8816-456b-a017-218ec45c6abd",
   "metadata": {},
   "source": [
    "Notice that both the nf_hist_df and nf_stvrain_df uses a MultiIndex header for the name and units associated with each column."
   ]
  },
  {
   "cell_type": "code",
   "execution_count": 5,
   "id": "b1799317-3528-4661-91b9-d368e9dbacf0",
   "metadata": {},
   "outputs": [
    {
     "name": "stdout",
     "output_type": "stream",
     "text": [
      "29 Point Historical Natural Flow Point Columns:\n",
      "\n",
      "MultiIndex([(                  'UpperColoradoReach.Inflow', '(ac-ft/month)'),\n",
      "            ('ColoRAbv09095500:GainsAbvCameo.Local Inflow', '(ac-ft/month)'),\n",
      "            (                         'TaylorRiver.Inflow', '(ac-ft/month)')],\n",
      "           names=['Date', None])\n",
      "\n",
      "\n",
      "St. Vrain Natural Flow and Gauge Columns:\n",
      "\n",
      "MultiIndex([(        'Natural Flow (Cal Year)', 'acre-feet'),\n",
      "            ('St. Vrain Gaged Streamflow (CY)', 'acre-feet')],\n",
      "           names=['Year', None])\n"
     ]
    }
   ],
   "source": [
    "print(\"29 Point Historical Natural Flow Point Columns:\\n\")\n",
    "print(nf_hist_df.columns[0:3]) # first five columns only\n",
    "print(\"\\n\\nSt. Vrain Natural Flow and Gauge Columns:\\n\")\n",
    "print(nf_stvrain_df.columns)"
   ]
  },
  {
   "cell_type": "markdown",
   "id": "098f925d-beb7-4a44-9275-17511f3e54fb",
   "metadata": {},
   "source": [
    "Because each pandas dataframe column is a two part MultiIndex locator, a tuple will be needed to address each column."
   ]
  },
  {
   "cell_type": "markdown",
   "id": "1e42a5fc-7a37-4a49-989b-4e4de51cf45e",
   "metadata": {},
   "source": [
    "**Based on previous analysis using:  \n",
    "1.) Dynamic Time Warping Distance Metric  \n",
    "2.) Wasserstein Distance Metric  \n",
    "3.) Correlation Analysis  \n",
    "in the Exploration Notebook it is determined that the \"UpperColoradoReach.Inflow\" node is likely the best predictor for St.Vrain.**\n",
    "\n",
    "However, due to the magnitude differences in flow values from the UpperColoradoReach.Inflow and St. Vrain it is required to scale the data using a StandardScaler() or MinMaxScaler() object from the scikit-learn library."
   ]
  },
  {
   "cell_type": "code",
   "execution_count": 6,
   "id": "f63b6fe0-6a13-40d6-adc1-d02c9d022de9",
   "metadata": {
    "collapsed": true,
    "jupyter": {
     "outputs_hidden": true
    },
    "tags": []
   },
   "outputs": [
    {
     "data": {
      "text/html": [
       "<div>\n",
       "<style scoped>\n",
       "    .dataframe tbody tr th:only-of-type {\n",
       "        vertical-align: middle;\n",
       "    }\n",
       "\n",
       "    .dataframe tbody tr th {\n",
       "        vertical-align: top;\n",
       "    }\n",
       "\n",
       "    .dataframe thead tr th {\n",
       "        text-align: left;\n",
       "    }\n",
       "</style>\n",
       "<table border=\"1\" class=\"dataframe\">\n",
       "  <thead>\n",
       "    <tr>\n",
       "      <th>Date</th>\n",
       "      <th>UpperColoradoReach.Inflow</th>\n",
       "      <th>ColoRAbv09095500:GainsAbvCameo.Local Inflow</th>\n",
       "      <th>TaylorRiver.Inflow</th>\n",
       "      <th>TaylorAboveBlueMesa:GainsAboveBlueMesa.Local Inflow</th>\n",
       "      <th>GunnisonRiverAboveCrystal:GainsAboveCrystal.Local Inflow</th>\n",
       "      <th>GunnisonRiverAboveGrandJunction:GainsGunnisonRiverAbvGrandJunction.Local Inflow</th>\n",
       "      <th>DoloresRiver.Inflow</th>\n",
       "      <th>GrandValleyReach:GainsAboveCisco.Local Inflow</th>\n",
       "      <th>GreenRAboveGage09211200.Inflow</th>\n",
       "      <th>Gage09211200ToGage09217000:GainsAbv09217000.Local Inflow</th>\n",
       "      <th>...</th>\n",
       "      <th>ColoradoRAbvPowell:GainsAboveLeesFerry.Local Inflow</th>\n",
       "      <th>CoRivPowellToVirgin:PariaGains.LocalInflow</th>\n",
       "      <th>CoRivPowellToVirgin:LittleCoR.LocalInflow</th>\n",
       "      <th>CoRivPowellToVirgin:GainsAboveGC.LocalInflow</th>\n",
       "      <th>VirginRiver.Inflow</th>\n",
       "      <th>CoRivVirginToMead:GainsAboveHoover.LocalInflow</th>\n",
       "      <th>CoRivMeadToMohave:GainsAboveDavis.LocalInflow</th>\n",
       "      <th>CoRivMohaveToHavasu:BillWilliamsRiver.LocalInflow</th>\n",
       "      <th>CoRivMohaveToHavasu:GainsAboveParker.LocalInflow</th>\n",
       "      <th>AboveImperialDamColoradoR:GainsOnColoRAboveImperialDam.LocalInflow</th>\n",
       "    </tr>\n",
       "    <tr>\n",
       "      <th></th>\n",
       "      <th>(ac-ft/month)</th>\n",
       "      <th>(ac-ft/month)</th>\n",
       "      <th>(ac-ft/month)</th>\n",
       "      <th>(ac-ft/month)</th>\n",
       "      <th>(ac-ft/month)</th>\n",
       "      <th>(ac-ft/month)</th>\n",
       "      <th>(ac-ft/month)</th>\n",
       "      <th>(ac-ft/month)</th>\n",
       "      <th>(ac-ft/month)</th>\n",
       "      <th>(ac-ft/month)</th>\n",
       "      <th>...</th>\n",
       "      <th>(ac-ft/month)</th>\n",
       "      <th>(ac-ft/month)</th>\n",
       "      <th>(ac-ft/month)</th>\n",
       "      <th>(ac-ft/month)</th>\n",
       "      <th>(ac-ft/month)</th>\n",
       "      <th>(ac-ft/month)</th>\n",
       "      <th>(ac-ft/month)</th>\n",
       "      <th>(ac-ft/month)</th>\n",
       "      <th>(ac-ft/month)</th>\n",
       "      <th>(ac-ft/month)</th>\n",
       "    </tr>\n",
       "  </thead>\n",
       "  <tbody>\n",
       "    <tr>\n",
       "      <th>1906</th>\n",
       "      <td>1.143895</td>\n",
       "      <td>0.729398</td>\n",
       "      <td>1.029941</td>\n",
       "      <td>1.113337</td>\n",
       "      <td>0.328136</td>\n",
       "      <td>0.289179</td>\n",
       "      <td>-0.447298</td>\n",
       "      <td>0.857260</td>\n",
       "      <td>0.495090</td>\n",
       "      <td>1.104956</td>\n",
       "      <td>...</td>\n",
       "      <td>1.597757</td>\n",
       "      <td>0.213712</td>\n",
       "      <td>0.664358</td>\n",
       "      <td>-0.791764</td>\n",
       "      <td>-0.568195</td>\n",
       "      <td>-0.659345</td>\n",
       "      <td>-0.478929</td>\n",
       "      <td>-0.616673</td>\n",
       "      <td>0.506166</td>\n",
       "      <td>-0.081758</td>\n",
       "    </tr>\n",
       "    <tr>\n",
       "      <th>1907</th>\n",
       "      <td>1.708980</td>\n",
       "      <td>0.625657</td>\n",
       "      <td>1.653706</td>\n",
       "      <td>1.817496</td>\n",
       "      <td>0.518957</td>\n",
       "      <td>-0.364122</td>\n",
       "      <td>-0.405524</td>\n",
       "      <td>0.487689</td>\n",
       "      <td>1.589285</td>\n",
       "      <td>0.713040</td>\n",
       "      <td>...</td>\n",
       "      <td>1.377198</td>\n",
       "      <td>-0.410016</td>\n",
       "      <td>2.135518</td>\n",
       "      <td>0.530074</td>\n",
       "      <td>-0.581593</td>\n",
       "      <td>-0.273990</td>\n",
       "      <td>-0.204645</td>\n",
       "      <td>-0.070595</td>\n",
       "      <td>0.121404</td>\n",
       "      <td>0.926754</td>\n",
       "    </tr>\n",
       "    <tr>\n",
       "      <th>1908</th>\n",
       "      <td>-0.832714</td>\n",
       "      <td>-0.515757</td>\n",
       "      <td>0.058439</td>\n",
       "      <td>-0.474414</td>\n",
       "      <td>-0.673399</td>\n",
       "      <td>-1.274728</td>\n",
       "      <td>-1.037639</td>\n",
       "      <td>0.959688</td>\n",
       "      <td>-0.426699</td>\n",
       "      <td>0.290921</td>\n",
       "      <td>...</td>\n",
       "      <td>-2.101491</td>\n",
       "      <td>0.226545</td>\n",
       "      <td>-0.276180</td>\n",
       "      <td>1.048182</td>\n",
       "      <td>-0.464969</td>\n",
       "      <td>0.163127</td>\n",
       "      <td>0.376592</td>\n",
       "      <td>0.249298</td>\n",
       "      <td>0.041418</td>\n",
       "      <td>0.531363</td>\n",
       "    </tr>\n",
       "    <tr>\n",
       "      <th>1909</th>\n",
       "      <td>1.947297</td>\n",
       "      <td>1.243534</td>\n",
       "      <td>2.298844</td>\n",
       "      <td>2.112207</td>\n",
       "      <td>0.760517</td>\n",
       "      <td>-0.300009</td>\n",
       "      <td>0.497902</td>\n",
       "      <td>-0.476589</td>\n",
       "      <td>1.763818</td>\n",
       "      <td>1.450557</td>\n",
       "      <td>...</td>\n",
       "      <td>-1.376572</td>\n",
       "      <td>-0.121327</td>\n",
       "      <td>0.122880</td>\n",
       "      <td>0.527028</td>\n",
       "      <td>-0.589953</td>\n",
       "      <td>0.167638</td>\n",
       "      <td>1.739190</td>\n",
       "      <td>0.154950</td>\n",
       "      <td>-0.336837</td>\n",
       "      <td>0.552052</td>\n",
       "    </tr>\n",
       "    <tr>\n",
       "      <th>1910</th>\n",
       "      <td>-0.481769</td>\n",
       "      <td>-0.027131</td>\n",
       "      <td>-0.054637</td>\n",
       "      <td>0.440574</td>\n",
       "      <td>0.167096</td>\n",
       "      <td>-0.320940</td>\n",
       "      <td>-0.067786</td>\n",
       "      <td>0.498685</td>\n",
       "      <td>-0.125340</td>\n",
       "      <td>0.517072</td>\n",
       "      <td>...</td>\n",
       "      <td>-0.171582</td>\n",
       "      <td>-0.085194</td>\n",
       "      <td>-0.224634</td>\n",
       "      <td>0.062659</td>\n",
       "      <td>-0.375804</td>\n",
       "      <td>1.455342</td>\n",
       "      <td>1.019969</td>\n",
       "      <td>-0.287529</td>\n",
       "      <td>-0.175491</td>\n",
       "      <td>0.328613</td>\n",
       "    </tr>\n",
       "    <tr>\n",
       "      <th>...</th>\n",
       "      <td>...</td>\n",
       "      <td>...</td>\n",
       "      <td>...</td>\n",
       "      <td>...</td>\n",
       "      <td>...</td>\n",
       "      <td>...</td>\n",
       "      <td>...</td>\n",
       "      <td>...</td>\n",
       "      <td>...</td>\n",
       "      <td>...</td>\n",
       "      <td>...</td>\n",
       "      <td>...</td>\n",
       "      <td>...</td>\n",
       "      <td>...</td>\n",
       "      <td>...</td>\n",
       "      <td>...</td>\n",
       "      <td>...</td>\n",
       "      <td>...</td>\n",
       "      <td>...</td>\n",
       "      <td>...</td>\n",
       "      <td>...</td>\n",
       "    </tr>\n",
       "    <tr>\n",
       "      <th>2016</th>\n",
       "      <td>-0.020647</td>\n",
       "      <td>-0.470801</td>\n",
       "      <td>-0.674940</td>\n",
       "      <td>-0.439959</td>\n",
       "      <td>-0.083199</td>\n",
       "      <td>0.106418</td>\n",
       "      <td>-0.079720</td>\n",
       "      <td>-0.094106</td>\n",
       "      <td>-0.454102</td>\n",
       "      <td>-0.649211</td>\n",
       "      <td>...</td>\n",
       "      <td>-0.669859</td>\n",
       "      <td>-0.411138</td>\n",
       "      <td>-0.959644</td>\n",
       "      <td>1.078186</td>\n",
       "      <td>-0.554636</td>\n",
       "      <td>-0.524130</td>\n",
       "      <td>-1.467785</td>\n",
       "      <td>-0.648955</td>\n",
       "      <td>1.316472</td>\n",
       "      <td>0.309565</td>\n",
       "    </tr>\n",
       "    <tr>\n",
       "      <th>2017</th>\n",
       "      <td>0.111540</td>\n",
       "      <td>-0.618716</td>\n",
       "      <td>0.723780</td>\n",
       "      <td>0.611455</td>\n",
       "      <td>0.071035</td>\n",
       "      <td>0.453071</td>\n",
       "      <td>0.224225</td>\n",
       "      <td>-1.443206</td>\n",
       "      <td>3.020714</td>\n",
       "      <td>-1.163453</td>\n",
       "      <td>...</td>\n",
       "      <td>-0.486124</td>\n",
       "      <td>-0.619712</td>\n",
       "      <td>-0.461224</td>\n",
       "      <td>0.935918</td>\n",
       "      <td>-0.131015</td>\n",
       "      <td>-0.407832</td>\n",
       "      <td>-1.243825</td>\n",
       "      <td>-0.559649</td>\n",
       "      <td>0.969601</td>\n",
       "      <td>0.065510</td>\n",
       "    </tr>\n",
       "    <tr>\n",
       "      <th>2018</th>\n",
       "      <td>-1.143594</td>\n",
       "      <td>-1.663827</td>\n",
       "      <td>-1.605967</td>\n",
       "      <td>-1.816102</td>\n",
       "      <td>-1.215971</td>\n",
       "      <td>-1.391936</td>\n",
       "      <td>-1.505516</td>\n",
       "      <td>-0.197353</td>\n",
       "      <td>0.359438</td>\n",
       "      <td>0.528384</td>\n",
       "      <td>...</td>\n",
       "      <td>-0.830879</td>\n",
       "      <td>-0.485397</td>\n",
       "      <td>-0.725681</td>\n",
       "      <td>0.829844</td>\n",
       "      <td>-0.835745</td>\n",
       "      <td>-0.894991</td>\n",
       "      <td>-1.033790</td>\n",
       "      <td>-0.422728</td>\n",
       "      <td>0.659901</td>\n",
       "      <td>-0.075919</td>\n",
       "    </tr>\n",
       "    <tr>\n",
       "      <th>2019</th>\n",
       "      <td>0.767231</td>\n",
       "      <td>0.754821</td>\n",
       "      <td>1.056748</td>\n",
       "      <td>0.937414</td>\n",
       "      <td>0.637796</td>\n",
       "      <td>1.101315</td>\n",
       "      <td>0.986334</td>\n",
       "      <td>0.014262</td>\n",
       "      <td>-0.177249</td>\n",
       "      <td>-0.878821</td>\n",
       "      <td>...</td>\n",
       "      <td>-0.059159</td>\n",
       "      <td>0.071298</td>\n",
       "      <td>-0.144724</td>\n",
       "      <td>1.025859</td>\n",
       "      <td>0.662497</td>\n",
       "      <td>-0.490053</td>\n",
       "      <td>-1.012266</td>\n",
       "      <td>-0.626591</td>\n",
       "      <td>0.960164</td>\n",
       "      <td>0.286947</td>\n",
       "    </tr>\n",
       "    <tr>\n",
       "      <th>2020</th>\n",
       "      <td>-0.716704</td>\n",
       "      <td>-1.328366</td>\n",
       "      <td>-1.266279</td>\n",
       "      <td>-1.278573</td>\n",
       "      <td>-1.207599</td>\n",
       "      <td>-1.117072</td>\n",
       "      <td>-1.196244</td>\n",
       "      <td>-0.553392</td>\n",
       "      <td>-0.516608</td>\n",
       "      <td>-1.181081</td>\n",
       "      <td>...</td>\n",
       "      <td>-1.001318</td>\n",
       "      <td>-1.572996</td>\n",
       "      <td>-0.770649</td>\n",
       "      <td>0.743248</td>\n",
       "      <td>-0.467339</td>\n",
       "      <td>-1.054308</td>\n",
       "      <td>-0.817970</td>\n",
       "      <td>-0.078441</td>\n",
       "      <td>0.276639</td>\n",
       "      <td>-0.346826</td>\n",
       "    </tr>\n",
       "  </tbody>\n",
       "</table>\n",
       "<p>115 rows × 29 columns</p>\n",
       "</div>"
      ],
      "text/plain": [
       "Date UpperColoradoReach.Inflow ColoRAbv09095500:GainsAbvCameo.Local Inflow  \\\n",
       "                 (ac-ft/month)                               (ac-ft/month)   \n",
       "1906                  1.143895                                    0.729398   \n",
       "1907                  1.708980                                    0.625657   \n",
       "1908                 -0.832714                                   -0.515757   \n",
       "1909                  1.947297                                    1.243534   \n",
       "1910                 -0.481769                                   -0.027131   \n",
       "...                        ...                                         ...   \n",
       "2016                 -0.020647                                   -0.470801   \n",
       "2017                  0.111540                                   -0.618716   \n",
       "2018                 -1.143594                                   -1.663827   \n",
       "2019                  0.767231                                    0.754821   \n",
       "2020                 -0.716704                                   -1.328366   \n",
       "\n",
       "Date TaylorRiver.Inflow TaylorAboveBlueMesa:GainsAboveBlueMesa.Local Inflow  \\\n",
       "          (ac-ft/month)                                       (ac-ft/month)   \n",
       "1906           1.029941                                           1.113337    \n",
       "1907           1.653706                                           1.817496    \n",
       "1908           0.058439                                          -0.474414    \n",
       "1909           2.298844                                           2.112207    \n",
       "1910          -0.054637                                           0.440574    \n",
       "...                 ...                                                ...    \n",
       "2016          -0.674940                                          -0.439959    \n",
       "2017           0.723780                                           0.611455    \n",
       "2018          -1.605967                                          -1.816102    \n",
       "2019           1.056748                                           0.937414    \n",
       "2020          -1.266279                                          -1.278573    \n",
       "\n",
       "Date GunnisonRiverAboveCrystal:GainsAboveCrystal.Local Inflow  \\\n",
       "                                                (ac-ft/month)   \n",
       "1906                                           0.328136         \n",
       "1907                                           0.518957         \n",
       "1908                                          -0.673399         \n",
       "1909                                           0.760517         \n",
       "1910                                           0.167096         \n",
       "...                                                 ...         \n",
       "2016                                          -0.083199         \n",
       "2017                                           0.071035         \n",
       "2018                                          -1.215971         \n",
       "2019                                           0.637796         \n",
       "2020                                          -1.207599         \n",
       "\n",
       "Date GunnisonRiverAboveGrandJunction:GainsGunnisonRiverAbvGrandJunction.Local Inflow  \\\n",
       "                                                                       (ac-ft/month)   \n",
       "1906                                           0.289179                                \n",
       "1907                                          -0.364122                                \n",
       "1908                                          -1.274728                                \n",
       "1909                                          -0.300009                                \n",
       "1910                                          -0.320940                                \n",
       "...                                                 ...                                \n",
       "2016                                           0.106418                                \n",
       "2017                                           0.453071                                \n",
       "2018                                          -1.391936                                \n",
       "2019                                           1.101315                                \n",
       "2020                                          -1.117072                                \n",
       "\n",
       "Date DoloresRiver.Inflow GrandValleyReach:GainsAboveCisco.Local Inflow  \\\n",
       "           (ac-ft/month)                                 (ac-ft/month)   \n",
       "1906           -0.447298                                      0.857260   \n",
       "1907           -0.405524                                      0.487689   \n",
       "1908           -1.037639                                      0.959688   \n",
       "1909            0.497902                                     -0.476589   \n",
       "1910           -0.067786                                      0.498685   \n",
       "...                  ...                                           ...   \n",
       "2016           -0.079720                                     -0.094106   \n",
       "2017            0.224225                                     -1.443206   \n",
       "2018           -1.505516                                     -0.197353   \n",
       "2019            0.986334                                      0.014262   \n",
       "2020           -1.196244                                     -0.553392   \n",
       "\n",
       "Date GreenRAboveGage09211200.Inflow  \\\n",
       "                      (ac-ft/month)   \n",
       "1906                       0.495090   \n",
       "1907                       1.589285   \n",
       "1908                      -0.426699   \n",
       "1909                       1.763818   \n",
       "1910                      -0.125340   \n",
       "...                             ...   \n",
       "2016                      -0.454102   \n",
       "2017                       3.020714   \n",
       "2018                       0.359438   \n",
       "2019                      -0.177249   \n",
       "2020                      -0.516608   \n",
       "\n",
       "Date Gage09211200ToGage09217000:GainsAbv09217000.Local Inflow  ...  \\\n",
       "                                                (ac-ft/month)  ...   \n",
       "1906                                           1.104956        ...   \n",
       "1907                                           0.713040        ...   \n",
       "1908                                           0.290921        ...   \n",
       "1909                                           1.450557        ...   \n",
       "1910                                           0.517072        ...   \n",
       "...                                                 ...        ...   \n",
       "2016                                          -0.649211        ...   \n",
       "2017                                          -1.163453        ...   \n",
       "2018                                           0.528384        ...   \n",
       "2019                                          -0.878821        ...   \n",
       "2020                                          -1.181081        ...   \n",
       "\n",
       "Date ColoradoRAbvPowell:GainsAboveLeesFerry.Local Inflow  \\\n",
       "                                           (ac-ft/month)   \n",
       "1906                                           1.597757    \n",
       "1907                                           1.377198    \n",
       "1908                                          -2.101491    \n",
       "1909                                          -1.376572    \n",
       "1910                                          -0.171582    \n",
       "...                                                 ...    \n",
       "2016                                          -0.669859    \n",
       "2017                                          -0.486124    \n",
       "2018                                          -0.830879    \n",
       "2019                                          -0.059159    \n",
       "2020                                          -1.001318    \n",
       "\n",
       "Date CoRivPowellToVirgin:PariaGains.LocalInflow  \\\n",
       "                                  (ac-ft/month)   \n",
       "1906                                   0.213712   \n",
       "1907                                  -0.410016   \n",
       "1908                                   0.226545   \n",
       "1909                                  -0.121327   \n",
       "1910                                  -0.085194   \n",
       "...                                         ...   \n",
       "2016                                  -0.411138   \n",
       "2017                                  -0.619712   \n",
       "2018                                  -0.485397   \n",
       "2019                                   0.071298   \n",
       "2020                                  -1.572996   \n",
       "\n",
       "Date CoRivPowellToVirgin:LittleCoR.LocalInflow  \\\n",
       "                                 (ac-ft/month)   \n",
       "1906                                  0.664358   \n",
       "1907                                  2.135518   \n",
       "1908                                 -0.276180   \n",
       "1909                                  0.122880   \n",
       "1910                                 -0.224634   \n",
       "...                                        ...   \n",
       "2016                                 -0.959644   \n",
       "2017                                 -0.461224   \n",
       "2018                                 -0.725681   \n",
       "2019                                 -0.144724   \n",
       "2020                                 -0.770649   \n",
       "\n",
       "Date CoRivPowellToVirgin:GainsAboveGC.LocalInflow VirginRiver.Inflow  \\\n",
       "                                    (ac-ft/month)      (ac-ft/month)   \n",
       "1906                                    -0.791764          -0.568195   \n",
       "1907                                     0.530074          -0.581593   \n",
       "1908                                     1.048182          -0.464969   \n",
       "1909                                     0.527028          -0.589953   \n",
       "1910                                     0.062659          -0.375804   \n",
       "...                                           ...                ...   \n",
       "2016                                     1.078186          -0.554636   \n",
       "2017                                     0.935918          -0.131015   \n",
       "2018                                     0.829844          -0.835745   \n",
       "2019                                     1.025859           0.662497   \n",
       "2020                                     0.743248          -0.467339   \n",
       "\n",
       "Date CoRivVirginToMead:GainsAboveHoover.LocalInflow  \\\n",
       "                                      (ac-ft/month)   \n",
       "1906                                      -0.659345   \n",
       "1907                                      -0.273990   \n",
       "1908                                       0.163127   \n",
       "1909                                       0.167638   \n",
       "1910                                       1.455342   \n",
       "...                                             ...   \n",
       "2016                                      -0.524130   \n",
       "2017                                      -0.407832   \n",
       "2018                                      -0.894991   \n",
       "2019                                      -0.490053   \n",
       "2020                                      -1.054308   \n",
       "\n",
       "Date CoRivMeadToMohave:GainsAboveDavis.LocalInflow  \\\n",
       "                                     (ac-ft/month)   \n",
       "1906                                     -0.478929   \n",
       "1907                                     -0.204645   \n",
       "1908                                      0.376592   \n",
       "1909                                      1.739190   \n",
       "1910                                      1.019969   \n",
       "...                                            ...   \n",
       "2016                                     -1.467785   \n",
       "2017                                     -1.243825   \n",
       "2018                                     -1.033790   \n",
       "2019                                     -1.012266   \n",
       "2020                                     -0.817970   \n",
       "\n",
       "Date CoRivMohaveToHavasu:BillWilliamsRiver.LocalInflow  \\\n",
       "                                         (ac-ft/month)   \n",
       "1906                                         -0.616673   \n",
       "1907                                         -0.070595   \n",
       "1908                                          0.249298   \n",
       "1909                                          0.154950   \n",
       "1910                                         -0.287529   \n",
       "...                                                ...   \n",
       "2016                                         -0.648955   \n",
       "2017                                         -0.559649   \n",
       "2018                                         -0.422728   \n",
       "2019                                         -0.626591   \n",
       "2020                                         -0.078441   \n",
       "\n",
       "Date CoRivMohaveToHavasu:GainsAboveParker.LocalInflow  \\\n",
       "                                        (ac-ft/month)   \n",
       "1906                                         0.506166   \n",
       "1907                                         0.121404   \n",
       "1908                                         0.041418   \n",
       "1909                                        -0.336837   \n",
       "1910                                        -0.175491   \n",
       "...                                               ...   \n",
       "2016                                         1.316472   \n",
       "2017                                         0.969601   \n",
       "2018                                         0.659901   \n",
       "2019                                         0.960164   \n",
       "2020                                         0.276639   \n",
       "\n",
       "Date AboveImperialDamColoradoR:GainsOnColoRAboveImperialDam.LocalInflow  \n",
       "                                                          (ac-ft/month)  \n",
       "1906                                          -0.081758                  \n",
       "1907                                           0.926754                  \n",
       "1908                                           0.531363                  \n",
       "1909                                           0.552052                  \n",
       "1910                                           0.328613                  \n",
       "...                                                 ...                  \n",
       "2016                                           0.309565                  \n",
       "2017                                           0.065510                  \n",
       "2018                                          -0.075919                  \n",
       "2019                                           0.286947                  \n",
       "2020                                          -0.346826                  \n",
       "\n",
       "[115 rows x 29 columns]"
      ]
     },
     "metadata": {},
     "output_type": "display_data"
    },
    {
     "name": "stdout",
     "output_type": "stream",
     "text": [
      "\n",
      "\n",
      "\n"
     ]
    },
    {
     "data": {
      "text/html": [
       "<div>\n",
       "<style scoped>\n",
       "    .dataframe tbody tr th:only-of-type {\n",
       "        vertical-align: middle;\n",
       "    }\n",
       "\n",
       "    .dataframe tbody tr th {\n",
       "        vertical-align: top;\n",
       "    }\n",
       "\n",
       "    .dataframe thead tr th {\n",
       "        text-align: left;\n",
       "    }\n",
       "</style>\n",
       "<table border=\"1\" class=\"dataframe\">\n",
       "  <thead>\n",
       "    <tr>\n",
       "      <th>Year</th>\n",
       "      <th>Natural Flow (Cal Year)</th>\n",
       "      <th>St. Vrain Gaged Streamflow (CY)</th>\n",
       "    </tr>\n",
       "    <tr>\n",
       "      <th></th>\n",
       "      <th>acre-feet</th>\n",
       "      <th>acre-feet</th>\n",
       "    </tr>\n",
       "  </thead>\n",
       "  <tbody>\n",
       "    <tr>\n",
       "      <th>1906</th>\n",
       "      <td>0.873931</td>\n",
       "      <td>0.880308</td>\n",
       "    </tr>\n",
       "    <tr>\n",
       "      <th>1907</th>\n",
       "      <td>2.054987</td>\n",
       "      <td>2.069505</td>\n",
       "    </tr>\n",
       "    <tr>\n",
       "      <th>1908</th>\n",
       "      <td>-0.824119</td>\n",
       "      <td>-0.829448</td>\n",
       "    </tr>\n",
       "    <tr>\n",
       "      <th>1909</th>\n",
       "      <td>1.361289</td>\n",
       "      <td>1.371025</td>\n",
       "    </tr>\n",
       "    <tr>\n",
       "      <th>1910</th>\n",
       "      <td>-1.267867</td>\n",
       "      <td>-1.276254</td>\n",
       "    </tr>\n",
       "    <tr>\n",
       "      <th>...</th>\n",
       "      <td>...</td>\n",
       "      <td>...</td>\n",
       "    </tr>\n",
       "    <tr>\n",
       "      <th>2016</th>\n",
       "      <td>-0.279367</td>\n",
       "      <td>-0.280940</td>\n",
       "    </tr>\n",
       "    <tr>\n",
       "      <th>2017</th>\n",
       "      <td>0.581070</td>\n",
       "      <td>0.585428</td>\n",
       "    </tr>\n",
       "    <tr>\n",
       "      <th>2018</th>\n",
       "      <td>-1.053187</td>\n",
       "      <td>-1.060095</td>\n",
       "    </tr>\n",
       "    <tr>\n",
       "      <th>2019</th>\n",
       "      <td>0.048510</td>\n",
       "      <td>0.049196</td>\n",
       "    </tr>\n",
       "    <tr>\n",
       "      <th>2020</th>\n",
       "      <td>-0.848185</td>\n",
       "      <td>-0.853679</td>\n",
       "    </tr>\n",
       "  </tbody>\n",
       "</table>\n",
       "<p>115 rows × 2 columns</p>\n",
       "</div>"
      ],
      "text/plain": [
       "Year Natural Flow (Cal Year) St. Vrain Gaged Streamflow (CY)\n",
       "                   acre-feet                       acre-feet\n",
       "1906                0.873931                        0.880308\n",
       "1907                2.054987                        2.069505\n",
       "1908               -0.824119                       -0.829448\n",
       "1909                1.361289                        1.371025\n",
       "1910               -1.267867                       -1.276254\n",
       "...                      ...                             ...\n",
       "2016               -0.279367                       -0.280940\n",
       "2017                0.581070                        0.585428\n",
       "2018               -1.053187                       -1.060095\n",
       "2019                0.048510                        0.049196\n",
       "2020               -0.848185                       -0.853679\n",
       "\n",
       "[115 rows x 2 columns]"
      ]
     },
     "metadata": {},
     "output_type": "display_data"
    }
   ],
   "source": [
    "# scaling UpperColoradoReach.Inflow data\n",
    "# initial scaling objects for scaling data\n",
    "hist_SS = StandardScaler()\n",
    "vrain_SS = StandardScaler()\n",
    "\n",
    "# scaling historial data\n",
    "nf_hist_df_SS = pd.DataFrame(hist_SS.fit_transform(nf_hist_df),\n",
    "                             columns=nf_hist_df.columns, index=nf_hist_df.index)\n",
    "\n",
    "nf_stvrain_df_SS = pd.DataFrame(vrain_SS.fit_transform(nf_stvrain_df),\n",
    "                                columns=nf_stvrain_df.columns, index=nf_stvrain_df.index)\n",
    "\n",
    "# display scaled dataframe\n",
    "display(nf_hist_df_SS)\n",
    "print(\"\\n\\n\")\n",
    "display(nf_stvrain_df_SS)\n"
   ]
  },
  {
   "cell_type": "code",
   "execution_count": 7,
   "id": "cac6c58d-38a9-4c3f-bf59-cfa6ef902e77",
   "metadata": {},
   "outputs": [
    {
     "name": "stdout",
     "output_type": "stream",
     "text": [
      "X numpy array current shape: (115,)\n",
      "Scikit-learn models require a 2-dimensional shape (n_samples, n_features)\n",
      "X array reshaped: (115, 1)\n",
      "y array reshaped: (115, 1)\n"
     ]
    }
   ],
   "source": [
    "# select only the UpperColoradoReach.Inflow data as the X predictor\n",
    "X_uc = nf_hist_df_SS.loc[:,('UpperColoradoReach.Inflow', '(ac-ft/month)')].values\n",
    "print(\"X numpy array current shape: {}\".format(X_uc.shape))\n",
    "print(\"Scikit-learn models require a 2-dimensional shape (n_samples, n_features)\")\n",
    "# reshape X data into n_samples, n_features\n",
    "X_uc = X_uc.reshape(-1, 1)\n",
    "print(\"X array reshaped: {}\".format(X_uc.shape))\n",
    "\n",
    "# y is the time-series of St. Vrain Natural Flow data\n",
    "y_uc = nf_stvrain_df_SS.iloc[:,0].values\n",
    "# y reshaped like X\n",
    "y_uc = y_uc.reshape(-1, 1)\n",
    "print(\"y array reshaped: {}\".format(y_uc.shape))"
   ]
  },
  {
   "cell_type": "code",
   "execution_count": 8,
   "id": "698a1889-049f-45fa-88db-e614efc6922e",
   "metadata": {},
   "outputs": [],
   "source": [
    "# split data for validation for training a K-NN model without overfitting the data\n",
    "X_train_uc, X_test_uc, y_train_uc, y_test_uc = train_test_split(X_uc, y_uc, test_size=0.25, random_state=42, shuffle=False)"
   ]
  },
  {
   "cell_type": "code",
   "execution_count": 9,
   "id": "5927fea3-33fe-4841-b984-cca3550db7c8",
   "metadata": {},
   "outputs": [
    {
     "data": {
      "text/html": [
       "<style>#sk-container-id-1 {color: black;background-color: white;}#sk-container-id-1 pre{padding: 0;}#sk-container-id-1 div.sk-toggleable {background-color: white;}#sk-container-id-1 label.sk-toggleable__label {cursor: pointer;display: block;width: 100%;margin-bottom: 0;padding: 0.3em;box-sizing: border-box;text-align: center;}#sk-container-id-1 label.sk-toggleable__label-arrow:before {content: \"▸\";float: left;margin-right: 0.25em;color: #696969;}#sk-container-id-1 label.sk-toggleable__label-arrow:hover:before {color: black;}#sk-container-id-1 div.sk-estimator:hover label.sk-toggleable__label-arrow:before {color: black;}#sk-container-id-1 div.sk-toggleable__content {max-height: 0;max-width: 0;overflow: hidden;text-align: left;background-color: #f0f8ff;}#sk-container-id-1 div.sk-toggleable__content pre {margin: 0.2em;color: black;border-radius: 0.25em;background-color: #f0f8ff;}#sk-container-id-1 input.sk-toggleable__control:checked~div.sk-toggleable__content {max-height: 200px;max-width: 100%;overflow: auto;}#sk-container-id-1 input.sk-toggleable__control:checked~label.sk-toggleable__label-arrow:before {content: \"▾\";}#sk-container-id-1 div.sk-estimator input.sk-toggleable__control:checked~label.sk-toggleable__label {background-color: #d4ebff;}#sk-container-id-1 div.sk-label input.sk-toggleable__control:checked~label.sk-toggleable__label {background-color: #d4ebff;}#sk-container-id-1 input.sk-hidden--visually {border: 0;clip: rect(1px 1px 1px 1px);clip: rect(1px, 1px, 1px, 1px);height: 1px;margin: -1px;overflow: hidden;padding: 0;position: absolute;width: 1px;}#sk-container-id-1 div.sk-estimator {font-family: monospace;background-color: #f0f8ff;border: 1px dotted black;border-radius: 0.25em;box-sizing: border-box;margin-bottom: 0.5em;}#sk-container-id-1 div.sk-estimator:hover {background-color: #d4ebff;}#sk-container-id-1 div.sk-parallel-item::after {content: \"\";width: 100%;border-bottom: 1px solid gray;flex-grow: 1;}#sk-container-id-1 div.sk-label:hover label.sk-toggleable__label {background-color: #d4ebff;}#sk-container-id-1 div.sk-serial::before {content: \"\";position: absolute;border-left: 1px solid gray;box-sizing: border-box;top: 0;bottom: 0;left: 50%;z-index: 0;}#sk-container-id-1 div.sk-serial {display: flex;flex-direction: column;align-items: center;background-color: white;padding-right: 0.2em;padding-left: 0.2em;position: relative;}#sk-container-id-1 div.sk-item {position: relative;z-index: 1;}#sk-container-id-1 div.sk-parallel {display: flex;align-items: stretch;justify-content: center;background-color: white;position: relative;}#sk-container-id-1 div.sk-item::before, #sk-container-id-1 div.sk-parallel-item::before {content: \"\";position: absolute;border-left: 1px solid gray;box-sizing: border-box;top: 0;bottom: 0;left: 50%;z-index: -1;}#sk-container-id-1 div.sk-parallel-item {display: flex;flex-direction: column;z-index: 1;position: relative;background-color: white;}#sk-container-id-1 div.sk-parallel-item:first-child::after {align-self: flex-end;width: 50%;}#sk-container-id-1 div.sk-parallel-item:last-child::after {align-self: flex-start;width: 50%;}#sk-container-id-1 div.sk-parallel-item:only-child::after {width: 0;}#sk-container-id-1 div.sk-dashed-wrapped {border: 1px dashed gray;margin: 0 0.4em 0.5em 0.4em;box-sizing: border-box;padding-bottom: 0.4em;background-color: white;}#sk-container-id-1 div.sk-label label {font-family: monospace;font-weight: bold;display: inline-block;line-height: 1.2em;}#sk-container-id-1 div.sk-label-container {text-align: center;}#sk-container-id-1 div.sk-container {/* jupyter's `normalize.less` sets `[hidden] { display: none; }` but bootstrap.min.css set `[hidden] { display: none !important; }` so we also need the `!important` here to be able to override the default hidden behavior on the sphinx rendered scikit-learn.org. See: https://github.com/scikit-learn/scikit-learn/issues/21755 */display: inline-block !important;position: relative;}#sk-container-id-1 div.sk-text-repr-fallback {display: none;}</style><div id=\"sk-container-id-1\" class=\"sk-top-container\"><div class=\"sk-text-repr-fallback\"><pre>KNeighborsRegressor(n_neighbors=12, weights=&#x27;distance&#x27;)</pre><b>In a Jupyter environment, please rerun this cell to show the HTML representation or trust the notebook. <br />On GitHub, the HTML representation is unable to render, please try loading this page with nbviewer.org.</b></div><div class=\"sk-container\" hidden><div class=\"sk-item\"><div class=\"sk-estimator sk-toggleable\"><input class=\"sk-toggleable__control sk-hidden--visually\" id=\"sk-estimator-id-1\" type=\"checkbox\" checked><label for=\"sk-estimator-id-1\" class=\"sk-toggleable__label sk-toggleable__label-arrow\">KNeighborsRegressor</label><div class=\"sk-toggleable__content\"><pre>KNeighborsRegressor(n_neighbors=12, weights=&#x27;distance&#x27;)</pre></div></div></div></div></div>"
      ],
      "text/plain": [
       "KNeighborsRegressor(n_neighbors=12, weights='distance')"
      ]
     },
     "execution_count": 9,
     "metadata": {},
     "output_type": "execute_result"
    }
   ],
   "source": [
    "# KNeighbors regressor object\n",
    "neigh_uc = KNeighborsRegressor(n_neighbors=12, weights=\"distance\")\n",
    "# fit/train model\n",
    "neigh_uc.fit(X_train_uc, y_train_uc)"
   ]
  },
  {
   "cell_type": "code",
   "execution_count": 10,
   "id": "859cdb43-4489-45dd-b75e-80ce2f109be8",
   "metadata": {},
   "outputs": [],
   "source": [
    "# predict from X_test to get out of sample R^2 or validated R^2\n",
    "neigh_y_test_pred_uc = neigh_uc.predict(X_test_uc)\n",
    "# predict in sample from X_train\n",
    "neigh_y_train_pred_uc = neigh_uc.predict(X_train_uc)"
   ]
  },
  {
   "cell_type": "code",
   "execution_count": 11,
   "id": "28514872-3aca-4d52-86e4-36f49c40113b",
   "metadata": {},
   "outputs": [
    {
     "name": "stdout",
     "output_type": "stream",
     "text": [
      "R^2 from test set: 0.49\n",
      "R^2 from train set: 1.0\n",
      "R^2 from train should be higher than R^2 from test\n"
     ]
    }
   ],
   "source": [
    "# calculate R^2 score\n",
    "r2_test_uc = r2_score(y_test_uc, neigh_y_test_pred_uc)\n",
    "r2_train_uc = r2_score(y_train_uc, neigh_y_train_pred_uc)\n",
    "print(\"R^2 from test set: {}\".format(round(r2_test_uc, 2)))\n",
    "print(\"R^2 from train set: {}\".format(round(r2_train_uc, 2)))\n",
    "print(\"R^2 from train should be higher than R^2 from test\")"
   ]
  },
  {
   "cell_type": "code",
   "execution_count": 25,
   "id": "463046f3-cd5f-40e6-a20e-ae9b4106c0c7",
   "metadata": {
    "tags": []
   },
   "outputs": [
    {
     "data": {
      "application/vnd.plotly.v1+json": {
       "config": {
        "plotlyServerURL": "https://plot.ly"
       },
       "data": [
        {
         "mode": "markers",
         "name": "UC v St. Vrain NF",
         "type": "scatter",
         "visible": true,
         "x": [
          0.8739308595092585,
          2.054986611665624,
          -0.8241192991688989,
          1.3612890495128684,
          -1.2678667301715334,
          -0.5521727924934683,
          0.9706385134106931,
          -0.42452378257090273,
          1.8123579948003383,
          0.7823800982780121,
          0.09934648084447396,
          1.1072325038290793,
          0.45800518278899915,
          -0.863337149598974,
          0.524217138060554,
          1.7422306210199365,
          -1.0530598675886227,
          2.0370648180031785,
          1.1211115482994634,
          -1.0394673171554716,
          1.3695018785802062,
          -0.08012611714640529,
          0.35668179162103675,
          -0.03428707118917447,
          -0.5152787270320586,
          -0.9106404984131716,
          -0.7173843539643202,
          0.3108427456638068,
          -1.076647876654114,
          0.028295959610766343,
          0.5885191330838916,
          -0.5204037870314433,
          0.8136397810071785,
          -0.9230552400265883,
          -1.093009869447181,
          -0.07172229205424607,
          1.327196259082179,
          0.22534019188525037,
          -0.24724763886547457,
          0.06270707674949293,
          -0.9386532487203681,
          1.4247952277661156,
          -0.6537190123570555,
          1.0737445341436584,
          -0.8444946796998634,
          0.8029537653626021,
          1.0686315400134165,
          -0.7877123946398802,
          -2.032759999734153,
          -1.381889026483349,
          -1.1066547082447418,
          1.9686761957680186,
          -0.4441751728443494,
          -0.29197402466085287,
          -0.6179225159267038,
          0.2528955325977468,
          -0.9335815998326918,
          -1.1393404324790637,
          -1.5654567441114413,
          0.5796941458391989,
          -1.8956265307044153,
          -0.41008235016765326,
          -0.9391220499495411,
          1.657326350841802,
          0.17817274239749012,
          0.4113993092210453,
          -0.7325130953275681,
          0.37232301289427316,
          -0.5667686246362181,
          0.0439120993542671,
          -1.1104069707577402,
          -1.6263430662950165,
          0.4024290566509085,
          1.017331075968517,
          1.738996689601282,
          -1.6227666910873149,
          0.21323294525331868,
          1.6713093916128974,
          1.6172533597850145,
          -0.361947857618096,
          0.7118148266679775,
          -0.4750433949239376,
          -0.6444228699247547,
          -0.783051381049515,
          0.21719040962249664,
          0.019815538528605667,
          -0.7214615096447526,
          -0.01958321785787725,
          -0.7507760605275524,
          2.0517243184189904,
          0.6466778946063964,
          1.4730550839925225,
          0.26139675235375875,
          0.808230384521506,
          -0.6304398291536593,
          -1.0359480115154287,
          -2.115163202265703,
          0.2648558693579291,
          -0.4149778801650808,
          -0.12558463385008128,
          -0.7123446843202019,
          -0.5865266319312252,
          -0.5650097515832502,
          -0.12737282145393208,
          0.22959046464592095,
          1.2448706199208088,
          -1.5496562011856123,
          -0.21079923079531587,
          1.242871514123357,
          1.542894436447591,
          -0.27936680370633954,
          0.5810702881158415,
          -1.0531871982718375,
          0.048509705571073175,
          -0.8481847982964451
         ],
         "y": [
          1.1438949931826752,
          1.708979910613305,
          -0.8327138825734189,
          1.9472965959390818,
          -0.4817689298481378,
          0.1797708258436555,
          1.557428560731944,
          -0.5120142363140431,
          1.7179026310126069,
          -0.6048889816678279,
          0.39723351435793464,
          1.6186753063254022,
          1.3403013395252974,
          -0.7965686113955026,
          1.309997459402504,
          1.5300782128837553,
          -0.12063038586501074,
          0.9944505199899896,
          0.20912332778184067,
          -0.39132232881626366,
          0.9478915626010717,
          0.7446125738502344,
          1.324140335102054,
          1.3656442084055904,
          0.02518962043780511,
          -1.4775832205229715,
          0.027736687032791852,
          -0.15700462679258098,
          -1.854556176418208,
          -0.6767677334661436,
          0.5279557168579928,
          -0.9737752229938937,
          0.8273540765623612,
          -0.5359655371034167,
          -1.1493843712226068,
          -0.4956402367748426,
          -0.1729863603265605,
          -0.22423831010373274,
          -0.8883925808438992,
          -0.33332730865975024,
          -0.76104990085036,
          0.578002469270708,
          -0.2217089931017424,
          0.13998333818287306,
          -0.8284717298472738,
          0.2866677496646147,
          1.3110091862033,
          -0.4201476678424551,
          -1.8966156119825324,
          -1.2607399928042675,
          -0.44159095114143404,
          1.7365787527634435,
          -0.209949887741612,
          -0.5839054128274563,
          -0.3533612742748132,
          -0.805920871945318,
          1.0529851277735942,
          -1.506154740369314,
          -1.1342688178268527,
          0.8159535129807585,
          -1.5276796717960766,
          -0.627324467215307,
          -0.4867370409278367,
          -0.23239957296348815,
          0.5514189038399648,
          0.6762943904070011,
          -0.17085995908558899,
          0.40146856724688124,
          0.4400828068106001,
          0.05635968069882404,
          -0.7710411467480467,
          -1.8629357592718192,
          0.6573449249240196,
          0.5735277968763096,
          0.15327245845929516,
          -1.5229068062393385,
          0.23292553199004432,
          1.5445885051583315,
          2.470446324956362,
          0.945507792261652,
          1.2376554432269815,
          -1.0161452764356558,
          -0.45773598093098067,
          -0.9570391317575663,
          -1.056216757584381,
          -0.467192964079475,
          -0.9116569723843112,
          0.6585572221256754,
          -0.9936760666614836,
          0.7418241127904963,
          0.7128354775087378,
          1.495427457436138,
          -0.4074105599082217,
          -0.09072942150323607,
          -0.543239320313351,
          -0.9664517409235696,
          -2.1773378499360643,
          -0.20802050698290078,
          -1.4399310088996589,
          -0.32163920167160553,
          -0.11202005830244581,
          -0.47306097952409254,
          0.742038882865753,
          0.6427955835448514,
          -0.07510267982918502,
          2.5848957005972992,
          -1.7048632089235725,
          -0.6748223780737357,
          1.2967349635155763,
          0.17892594521702573,
          -0.02064692851615838,
          0.11153961540610474,
          -1.1435944539871736,
          0.7672308802055766,
          -0.7167043177080961
         ]
        },
        {
         "mode": "markers",
         "name": "UC vs Predicted Train",
         "type": "scatter",
         "visible": true,
         "x": [
          0.8739308595092585,
          2.054986611665624,
          -0.8241192991688989,
          1.3612890495128684,
          -1.2678667301715334,
          -0.5521727924934683,
          0.9706385134106931,
          -0.42452378257090273,
          1.8123579948003383,
          0.7823800982780121,
          0.09934648084447396,
          1.1072325038290793,
          0.45800518278899915,
          -0.863337149598974,
          0.524217138060554,
          1.7422306210199365,
          -1.0530598675886227,
          2.0370648180031785,
          1.1211115482994634,
          -1.0394673171554716,
          1.3695018785802062,
          -0.08012611714640529,
          0.35668179162103675,
          -0.03428707118917447,
          -0.5152787270320586,
          -0.9106404984131716,
          -0.7173843539643202,
          0.3108427456638068,
          -1.076647876654114,
          0.028295959610766343,
          0.5885191330838916,
          -0.5204037870314433,
          0.8136397810071785,
          -0.9230552400265883,
          -1.093009869447181,
          -0.07172229205424607,
          1.327196259082179,
          0.22534019188525037,
          -0.24724763886547457,
          0.06270707674949293,
          -0.9386532487203681,
          1.4247952277661156,
          -0.6537190123570555,
          1.0737445341436584,
          -0.8444946796998634,
          0.8029537653626021,
          1.0686315400134165,
          -0.7877123946398802,
          -2.032759999734153,
          -1.381889026483349,
          -1.1066547082447418,
          1.9686761957680186,
          -0.4441751728443494,
          -0.29197402466085287,
          -0.6179225159267038,
          0.2528955325977468,
          -0.9335815998326918,
          -1.1393404324790637,
          -1.5654567441114413,
          0.5796941458391989,
          -1.8956265307044153,
          -0.41008235016765326,
          -0.9391220499495411,
          1.657326350841802,
          0.17817274239749012,
          0.4113993092210453,
          -0.7325130953275681,
          0.37232301289427316,
          -0.5667686246362181,
          0.0439120993542671,
          -1.1104069707577402,
          -1.6263430662950165,
          0.4024290566509085,
          1.017331075968517,
          1.738996689601282,
          -1.6227666910873149,
          0.21323294525331868,
          1.6713093916128974,
          1.6172533597850145,
          -0.361947857618096,
          0.7118148266679775,
          -0.4750433949239376,
          -0.6444228699247547,
          -0.783051381049515,
          0.21719040962249664,
          0.019815538528605667
         ],
         "y": [
          1.1438949931826752,
          1.708979910613305,
          -0.8327138825734189,
          1.9472965959390818,
          -0.4817689298481378,
          0.1797708258436555,
          1.557428560731944,
          -0.5120142363140431,
          1.7179026310126069,
          -0.6048889816678279,
          0.39723351435793464,
          1.6186753063254022,
          1.3403013395252974,
          -0.7965686113955026,
          1.309997459402504,
          1.5300782128837553,
          -0.12063038586501074,
          0.9944505199899896,
          0.20912332778184067,
          -0.39132232881626366,
          0.9478915626010717,
          0.7446125738502344,
          1.324140335102054,
          1.3656442084055904,
          0.02518962043780511,
          -1.4775832205229715,
          0.027736687032791852,
          -0.15700462679258098,
          -1.854556176418208,
          -0.6767677334661436,
          0.5279557168579928,
          -0.9737752229938937,
          0.8273540765623612,
          -0.5359655371034167,
          -1.1493843712226068,
          -0.4956402367748426,
          -0.1729863603265605,
          -0.22423831010373274,
          -0.8883925808438992,
          -0.33332730865975024,
          -0.76104990085036,
          0.578002469270708,
          -0.2217089931017424,
          0.13998333818287306,
          -0.8284717298472738,
          0.2866677496646147,
          1.3110091862033,
          -0.4201476678424551,
          -1.8966156119825324,
          -1.2607399928042675,
          -0.44159095114143404,
          1.7365787527634435,
          -0.209949887741612,
          -0.5839054128274563,
          -0.3533612742748132,
          -0.805920871945318,
          1.0529851277735942,
          -1.506154740369314,
          -1.1342688178268527,
          0.8159535129807585,
          -1.5276796717960766,
          -0.627324467215307,
          -0.4867370409278367,
          -0.23239957296348815,
          0.5514189038399648,
          0.6762943904070011,
          -0.17085995908558899,
          0.40146856724688124,
          0.4400828068106001,
          0.05635968069882404,
          -0.7710411467480467,
          -1.8629357592718192,
          0.6573449249240196,
          0.5735277968763096,
          0.15327245845929516,
          -1.5229068062393385,
          0.23292553199004432,
          1.5445885051583315,
          2.470446324956362,
          0.945507792261652,
          1.2376554432269815,
          -1.0161452764356558,
          -0.45773598093098067,
          -0.9570391317575663,
          -1.056216757584381,
          -0.467192964079475,
          -0.9116569723843112,
          0.6585572221256754,
          -0.9936760666614836,
          0.7418241127904963,
          0.7128354775087378,
          1.495427457436138,
          -0.4074105599082217,
          -0.09072942150323607,
          -0.543239320313351,
          -0.9664517409235696,
          -2.1773378499360643,
          -0.20802050698290078,
          -1.4399310088996589,
          -0.32163920167160553,
          -0.11202005830244581,
          -0.47306097952409254,
          0.742038882865753,
          0.6427955835448514,
          -0.07510267982918502,
          2.5848957005972992,
          -1.7048632089235725,
          -0.6748223780737357,
          1.2967349635155763,
          0.17892594521702573,
          -0.02064692851615838,
          0.11153961540610474,
          -1.1435944539871736,
          0.7672308802055766,
          -0.7167043177080961
         ]
        },
        {
         "mode": "markers",
         "name": "UC vs Predicted Test",
         "type": "scatter",
         "visible": true,
         "x": [
          -0.543005931164884,
          0.41494962651653783,
          -0.552239249007925,
          0.06941832520028327,
          0.3968869272163963,
          1.260842663307717,
          -0.7598710712343725,
          -0.1850318820673365,
          -0.6349518876747865,
          -0.6096489933297374,
          -1.380051087809215,
          -0.2445724966139323,
          -1.2379908530692947,
          -0.1493518524076312,
          -0.4679643175468666,
          -0.5972774268393114,
          0.06003618263105674,
          0.4927477821046852,
          -0.1395338072572416,
          1.441506806354929,
          -1.3787499004152313,
          -0.05392492541164147,
          0.6707210179360844,
          -0.3851875283526603,
          -0.1905979178858332,
          0.45940968047804487,
          -1.1489348047732464,
          0.44511579994870853,
          -0.4775204419932001
         ],
         "y": [
          1.1438949931826752,
          1.708979910613305,
          -0.8327138825734189,
          1.9472965959390818,
          -0.4817689298481378,
          0.1797708258436555,
          1.557428560731944,
          -0.5120142363140431,
          1.7179026310126069,
          -0.6048889816678279,
          0.39723351435793464,
          1.6186753063254022,
          1.3403013395252974,
          -0.7965686113955026,
          1.309997459402504,
          1.5300782128837553,
          -0.12063038586501074,
          0.9944505199899896,
          0.20912332778184067,
          -0.39132232881626366,
          0.9478915626010717,
          0.7446125738502344,
          1.324140335102054,
          1.3656442084055904,
          0.02518962043780511,
          -1.4775832205229715,
          0.027736687032791852,
          -0.15700462679258098,
          -1.854556176418208,
          -0.6767677334661436,
          0.5279557168579928,
          -0.9737752229938937,
          0.8273540765623612,
          -0.5359655371034167,
          -1.1493843712226068,
          -0.4956402367748426,
          -0.1729863603265605,
          -0.22423831010373274,
          -0.8883925808438992,
          -0.33332730865975024,
          -0.76104990085036,
          0.578002469270708,
          -0.2217089931017424,
          0.13998333818287306,
          -0.8284717298472738,
          0.2866677496646147,
          1.3110091862033,
          -0.4201476678424551,
          -1.8966156119825324,
          -1.2607399928042675,
          -0.44159095114143404,
          1.7365787527634435,
          -0.209949887741612,
          -0.5839054128274563,
          -0.3533612742748132,
          -0.805920871945318,
          1.0529851277735942,
          -1.506154740369314,
          -1.1342688178268527,
          0.8159535129807585,
          -1.5276796717960766,
          -0.627324467215307,
          -0.4867370409278367,
          -0.23239957296348815,
          0.5514189038399648,
          0.6762943904070011,
          -0.17085995908558899,
          0.40146856724688124,
          0.4400828068106001,
          0.05635968069882404,
          -0.7710411467480467,
          -1.8629357592718192,
          0.6573449249240196,
          0.5735277968763096,
          0.15327245845929516,
          -1.5229068062393385,
          0.23292553199004432,
          1.5445885051583315,
          2.470446324956362,
          0.945507792261652,
          1.2376554432269815,
          -1.0161452764356558,
          -0.45773598093098067,
          -0.9570391317575663,
          -1.056216757584381,
          -0.467192964079475,
          -0.9116569723843112,
          0.6585572221256754,
          -0.9936760666614836,
          0.7418241127904963,
          0.7128354775087378,
          1.495427457436138,
          -0.4074105599082217,
          -0.09072942150323607,
          -0.543239320313351,
          -0.9664517409235696,
          -2.1773378499360643,
          -0.20802050698290078,
          -1.4399310088996589,
          -0.32163920167160553,
          -0.11202005830244581,
          -0.47306097952409254,
          0.742038882865753,
          0.6427955835448514,
          -0.07510267982918502,
          2.5848957005972992,
          -1.7048632089235725,
          -0.6748223780737357,
          1.2967349635155763,
          0.17892594521702573,
          -0.02064692851615838,
          0.11153961540610474,
          -1.1435944539871736,
          0.7672308802055766,
          -0.7167043177080961
         ]
        }
       ],
       "layout": {
        "autosize": false,
        "font": {
         "color": "Black",
         "family": "Arial, monospace",
         "size": 14
        },
        "height": 800,
        "legend": {
         "title": {
          "text": "Legend"
         }
        },
        "template": {
         "data": {
          "bar": [
           {
            "error_x": {
             "color": "#2a3f5f"
            },
            "error_y": {
             "color": "#2a3f5f"
            },
            "marker": {
             "line": {
              "color": "#E5ECF6",
              "width": 0.5
             },
             "pattern": {
              "fillmode": "overlay",
              "size": 10,
              "solidity": 0.2
             }
            },
            "type": "bar"
           }
          ],
          "barpolar": [
           {
            "marker": {
             "line": {
              "color": "#E5ECF6",
              "width": 0.5
             },
             "pattern": {
              "fillmode": "overlay",
              "size": 10,
              "solidity": 0.2
             }
            },
            "type": "barpolar"
           }
          ],
          "carpet": [
           {
            "aaxis": {
             "endlinecolor": "#2a3f5f",
             "gridcolor": "white",
             "linecolor": "white",
             "minorgridcolor": "white",
             "startlinecolor": "#2a3f5f"
            },
            "baxis": {
             "endlinecolor": "#2a3f5f",
             "gridcolor": "white",
             "linecolor": "white",
             "minorgridcolor": "white",
             "startlinecolor": "#2a3f5f"
            },
            "type": "carpet"
           }
          ],
          "choropleth": [
           {
            "colorbar": {
             "outlinewidth": 0,
             "ticks": ""
            },
            "type": "choropleth"
           }
          ],
          "contour": [
           {
            "colorbar": {
             "outlinewidth": 0,
             "ticks": ""
            },
            "colorscale": [
             [
              0,
              "#0d0887"
             ],
             [
              0.1111111111111111,
              "#46039f"
             ],
             [
              0.2222222222222222,
              "#7201a8"
             ],
             [
              0.3333333333333333,
              "#9c179e"
             ],
             [
              0.4444444444444444,
              "#bd3786"
             ],
             [
              0.5555555555555556,
              "#d8576b"
             ],
             [
              0.6666666666666666,
              "#ed7953"
             ],
             [
              0.7777777777777778,
              "#fb9f3a"
             ],
             [
              0.8888888888888888,
              "#fdca26"
             ],
             [
              1,
              "#f0f921"
             ]
            ],
            "type": "contour"
           }
          ],
          "contourcarpet": [
           {
            "colorbar": {
             "outlinewidth": 0,
             "ticks": ""
            },
            "type": "contourcarpet"
           }
          ],
          "heatmap": [
           {
            "colorbar": {
             "outlinewidth": 0,
             "ticks": ""
            },
            "colorscale": [
             [
              0,
              "#0d0887"
             ],
             [
              0.1111111111111111,
              "#46039f"
             ],
             [
              0.2222222222222222,
              "#7201a8"
             ],
             [
              0.3333333333333333,
              "#9c179e"
             ],
             [
              0.4444444444444444,
              "#bd3786"
             ],
             [
              0.5555555555555556,
              "#d8576b"
             ],
             [
              0.6666666666666666,
              "#ed7953"
             ],
             [
              0.7777777777777778,
              "#fb9f3a"
             ],
             [
              0.8888888888888888,
              "#fdca26"
             ],
             [
              1,
              "#f0f921"
             ]
            ],
            "type": "heatmap"
           }
          ],
          "heatmapgl": [
           {
            "colorbar": {
             "outlinewidth": 0,
             "ticks": ""
            },
            "colorscale": [
             [
              0,
              "#0d0887"
             ],
             [
              0.1111111111111111,
              "#46039f"
             ],
             [
              0.2222222222222222,
              "#7201a8"
             ],
             [
              0.3333333333333333,
              "#9c179e"
             ],
             [
              0.4444444444444444,
              "#bd3786"
             ],
             [
              0.5555555555555556,
              "#d8576b"
             ],
             [
              0.6666666666666666,
              "#ed7953"
             ],
             [
              0.7777777777777778,
              "#fb9f3a"
             ],
             [
              0.8888888888888888,
              "#fdca26"
             ],
             [
              1,
              "#f0f921"
             ]
            ],
            "type": "heatmapgl"
           }
          ],
          "histogram": [
           {
            "marker": {
             "pattern": {
              "fillmode": "overlay",
              "size": 10,
              "solidity": 0.2
             }
            },
            "type": "histogram"
           }
          ],
          "histogram2d": [
           {
            "colorbar": {
             "outlinewidth": 0,
             "ticks": ""
            },
            "colorscale": [
             [
              0,
              "#0d0887"
             ],
             [
              0.1111111111111111,
              "#46039f"
             ],
             [
              0.2222222222222222,
              "#7201a8"
             ],
             [
              0.3333333333333333,
              "#9c179e"
             ],
             [
              0.4444444444444444,
              "#bd3786"
             ],
             [
              0.5555555555555556,
              "#d8576b"
             ],
             [
              0.6666666666666666,
              "#ed7953"
             ],
             [
              0.7777777777777778,
              "#fb9f3a"
             ],
             [
              0.8888888888888888,
              "#fdca26"
             ],
             [
              1,
              "#f0f921"
             ]
            ],
            "type": "histogram2d"
           }
          ],
          "histogram2dcontour": [
           {
            "colorbar": {
             "outlinewidth": 0,
             "ticks": ""
            },
            "colorscale": [
             [
              0,
              "#0d0887"
             ],
             [
              0.1111111111111111,
              "#46039f"
             ],
             [
              0.2222222222222222,
              "#7201a8"
             ],
             [
              0.3333333333333333,
              "#9c179e"
             ],
             [
              0.4444444444444444,
              "#bd3786"
             ],
             [
              0.5555555555555556,
              "#d8576b"
             ],
             [
              0.6666666666666666,
              "#ed7953"
             ],
             [
              0.7777777777777778,
              "#fb9f3a"
             ],
             [
              0.8888888888888888,
              "#fdca26"
             ],
             [
              1,
              "#f0f921"
             ]
            ],
            "type": "histogram2dcontour"
           }
          ],
          "mesh3d": [
           {
            "colorbar": {
             "outlinewidth": 0,
             "ticks": ""
            },
            "type": "mesh3d"
           }
          ],
          "parcoords": [
           {
            "line": {
             "colorbar": {
              "outlinewidth": 0,
              "ticks": ""
             }
            },
            "type": "parcoords"
           }
          ],
          "pie": [
           {
            "automargin": true,
            "type": "pie"
           }
          ],
          "scatter": [
           {
            "fillpattern": {
             "fillmode": "overlay",
             "size": 10,
             "solidity": 0.2
            },
            "type": "scatter"
           }
          ],
          "scatter3d": [
           {
            "line": {
             "colorbar": {
              "outlinewidth": 0,
              "ticks": ""
             }
            },
            "marker": {
             "colorbar": {
              "outlinewidth": 0,
              "ticks": ""
             }
            },
            "type": "scatter3d"
           }
          ],
          "scattercarpet": [
           {
            "marker": {
             "colorbar": {
              "outlinewidth": 0,
              "ticks": ""
             }
            },
            "type": "scattercarpet"
           }
          ],
          "scattergeo": [
           {
            "marker": {
             "colorbar": {
              "outlinewidth": 0,
              "ticks": ""
             }
            },
            "type": "scattergeo"
           }
          ],
          "scattergl": [
           {
            "marker": {
             "colorbar": {
              "outlinewidth": 0,
              "ticks": ""
             }
            },
            "type": "scattergl"
           }
          ],
          "scattermapbox": [
           {
            "marker": {
             "colorbar": {
              "outlinewidth": 0,
              "ticks": ""
             }
            },
            "type": "scattermapbox"
           }
          ],
          "scatterpolar": [
           {
            "marker": {
             "colorbar": {
              "outlinewidth": 0,
              "ticks": ""
             }
            },
            "type": "scatterpolar"
           }
          ],
          "scatterpolargl": [
           {
            "marker": {
             "colorbar": {
              "outlinewidth": 0,
              "ticks": ""
             }
            },
            "type": "scatterpolargl"
           }
          ],
          "scatterternary": [
           {
            "marker": {
             "colorbar": {
              "outlinewidth": 0,
              "ticks": ""
             }
            },
            "type": "scatterternary"
           }
          ],
          "surface": [
           {
            "colorbar": {
             "outlinewidth": 0,
             "ticks": ""
            },
            "colorscale": [
             [
              0,
              "#0d0887"
             ],
             [
              0.1111111111111111,
              "#46039f"
             ],
             [
              0.2222222222222222,
              "#7201a8"
             ],
             [
              0.3333333333333333,
              "#9c179e"
             ],
             [
              0.4444444444444444,
              "#bd3786"
             ],
             [
              0.5555555555555556,
              "#d8576b"
             ],
             [
              0.6666666666666666,
              "#ed7953"
             ],
             [
              0.7777777777777778,
              "#fb9f3a"
             ],
             [
              0.8888888888888888,
              "#fdca26"
             ],
             [
              1,
              "#f0f921"
             ]
            ],
            "type": "surface"
           }
          ],
          "table": [
           {
            "cells": {
             "fill": {
              "color": "#EBF0F8"
             },
             "line": {
              "color": "white"
             }
            },
            "header": {
             "fill": {
              "color": "#C8D4E3"
             },
             "line": {
              "color": "white"
             }
            },
            "type": "table"
           }
          ]
         },
         "layout": {
          "annotationdefaults": {
           "arrowcolor": "#2a3f5f",
           "arrowhead": 0,
           "arrowwidth": 1
          },
          "autotypenumbers": "strict",
          "coloraxis": {
           "colorbar": {
            "outlinewidth": 0,
            "ticks": ""
           }
          },
          "colorscale": {
           "diverging": [
            [
             0,
             "#8e0152"
            ],
            [
             0.1,
             "#c51b7d"
            ],
            [
             0.2,
             "#de77ae"
            ],
            [
             0.3,
             "#f1b6da"
            ],
            [
             0.4,
             "#fde0ef"
            ],
            [
             0.5,
             "#f7f7f7"
            ],
            [
             0.6,
             "#e6f5d0"
            ],
            [
             0.7,
             "#b8e186"
            ],
            [
             0.8,
             "#7fbc41"
            ],
            [
             0.9,
             "#4d9221"
            ],
            [
             1,
             "#276419"
            ]
           ],
           "sequential": [
            [
             0,
             "#0d0887"
            ],
            [
             0.1111111111111111,
             "#46039f"
            ],
            [
             0.2222222222222222,
             "#7201a8"
            ],
            [
             0.3333333333333333,
             "#9c179e"
            ],
            [
             0.4444444444444444,
             "#bd3786"
            ],
            [
             0.5555555555555556,
             "#d8576b"
            ],
            [
             0.6666666666666666,
             "#ed7953"
            ],
            [
             0.7777777777777778,
             "#fb9f3a"
            ],
            [
             0.8888888888888888,
             "#fdca26"
            ],
            [
             1,
             "#f0f921"
            ]
           ],
           "sequentialminus": [
            [
             0,
             "#0d0887"
            ],
            [
             0.1111111111111111,
             "#46039f"
            ],
            [
             0.2222222222222222,
             "#7201a8"
            ],
            [
             0.3333333333333333,
             "#9c179e"
            ],
            [
             0.4444444444444444,
             "#bd3786"
            ],
            [
             0.5555555555555556,
             "#d8576b"
            ],
            [
             0.6666666666666666,
             "#ed7953"
            ],
            [
             0.7777777777777778,
             "#fb9f3a"
            ],
            [
             0.8888888888888888,
             "#fdca26"
            ],
            [
             1,
             "#f0f921"
            ]
           ]
          },
          "colorway": [
           "#636efa",
           "#EF553B",
           "#00cc96",
           "#ab63fa",
           "#FFA15A",
           "#19d3f3",
           "#FF6692",
           "#B6E880",
           "#FF97FF",
           "#FECB52"
          ],
          "font": {
           "color": "#2a3f5f"
          },
          "geo": {
           "bgcolor": "white",
           "lakecolor": "white",
           "landcolor": "#E5ECF6",
           "showlakes": true,
           "showland": true,
           "subunitcolor": "white"
          },
          "hoverlabel": {
           "align": "left"
          },
          "hovermode": "closest",
          "mapbox": {
           "style": "light"
          },
          "paper_bgcolor": "white",
          "plot_bgcolor": "#E5ECF6",
          "polar": {
           "angularaxis": {
            "gridcolor": "white",
            "linecolor": "white",
            "ticks": ""
           },
           "bgcolor": "#E5ECF6",
           "radialaxis": {
            "gridcolor": "white",
            "linecolor": "white",
            "ticks": ""
           }
          },
          "scene": {
           "xaxis": {
            "backgroundcolor": "#E5ECF6",
            "gridcolor": "white",
            "gridwidth": 2,
            "linecolor": "white",
            "showbackground": true,
            "ticks": "",
            "zerolinecolor": "white"
           },
           "yaxis": {
            "backgroundcolor": "#E5ECF6",
            "gridcolor": "white",
            "gridwidth": 2,
            "linecolor": "white",
            "showbackground": true,
            "ticks": "",
            "zerolinecolor": "white"
           },
           "zaxis": {
            "backgroundcolor": "#E5ECF6",
            "gridcolor": "white",
            "gridwidth": 2,
            "linecolor": "white",
            "showbackground": true,
            "ticks": "",
            "zerolinecolor": "white"
           }
          },
          "shapedefaults": {
           "line": {
            "color": "#2a3f5f"
           }
          },
          "ternary": {
           "aaxis": {
            "gridcolor": "white",
            "linecolor": "white",
            "ticks": ""
           },
           "baxis": {
            "gridcolor": "white",
            "linecolor": "white",
            "ticks": ""
           },
           "bgcolor": "#E5ECF6",
           "caxis": {
            "gridcolor": "white",
            "linecolor": "white",
            "ticks": ""
           }
          },
          "title": {
           "x": 0.05
          },
          "xaxis": {
           "automargin": true,
           "gridcolor": "white",
           "linecolor": "white",
           "ticks": "",
           "title": {
            "standoff": 15
           },
           "zerolinecolor": "white",
           "zerolinewidth": 2
          },
          "yaxis": {
           "automargin": true,
           "gridcolor": "white",
           "linecolor": "white",
           "ticks": "",
           "title": {
            "standoff": 15
           },
           "zerolinecolor": "white",
           "zerolinewidth": 2
          }
         }
        },
        "title": {
         "text": "Historical UpperColoradoReach.Inflow vs. St. Vrain Actual and St. Vrain Predicted"
        },
        "width": 800,
        "xaxis": {
         "autorange": true,
         "range": [
          -2.384867573028826,
          2.3246909824287467
         ],
         "title": {
          "text": "St. Vrain Volume in Acre-Ft"
         },
         "type": "linear"
        },
        "yaxis": {
         "autorange": true,
         "range": [
          -2.4779511394565628,
          2.8855089901177977
         ],
         "title": {
          "text": "UpperColoradoReach.Inflow Volume in Acre-Ft"
         },
         "type": "linear"
        }
       }
      },
      "image/png": "[encoded data removed]",
      "text/html": [
       "<div>                            <div id=\"584a9084-e7f2-4f73-aafb-28daea9051c5\" class=\"plotly-graph-div\" style=\"height:800px; width:800px;\"></div>            <script type=\"text/javascript\">                require([\"plotly\"], function(Plotly) {                    window.PLOTLYENV=window.PLOTLYENV || {};                                    if (document.getElementById(\"584a9084-e7f2-4f73-aafb-28daea9051c5\")) {                    Plotly.newPlot(                        \"584a9084-e7f2-4f73-aafb-28daea9051c5\",                        [{\"mode\":\"markers\",\"name\":\"UC v St. Vrain NF\",\"x\":[0.8739308595092585,2.054986611665624,-0.8241192991688989,1.3612890495128684,-1.2678667301715334,-0.5521727924934683,0.9706385134106931,-0.42452378257090273,1.8123579948003383,0.7823800982780121,0.09934648084447396,1.1072325038290793,0.45800518278899915,-0.863337149598974,0.524217138060554,1.7422306210199365,-1.0530598675886227,2.0370648180031785,1.1211115482994634,-1.0394673171554716,1.3695018785802062,-0.08012611714640529,0.35668179162103675,-0.03428707118917447,-0.5152787270320586,-0.9106404984131716,-0.7173843539643202,0.3108427456638068,-1.076647876654114,0.028295959610766343,0.5885191330838916,-0.5204037870314433,0.8136397810071785,-0.9230552400265883,-1.093009869447181,-0.07172229205424607,1.327196259082179,0.22534019188525037,-0.24724763886547457,0.06270707674949293,-0.9386532487203681,1.4247952277661156,-0.6537190123570555,1.0737445341436584,-0.8444946796998634,0.8029537653626021,1.0686315400134165,-0.7877123946398802,-2.032759999734153,-1.381889026483349,-1.1066547082447418,1.9686761957680186,-0.4441751728443494,-0.29197402466085287,-0.6179225159267038,0.2528955325977468,-0.9335815998326918,-1.1393404324790637,-1.5654567441114413,0.5796941458391989,-1.8956265307044153,-0.41008235016765326,-0.9391220499495411,1.657326350841802,0.17817274239749012,0.4113993092210453,-0.7325130953275681,0.37232301289427316,-0.5667686246362181,0.0439120993542671,-1.1104069707577402,-1.6263430662950165,0.4024290566509085,1.017331075968517,1.738996689601282,-1.6227666910873149,0.21323294525331868,1.6713093916128974,1.6172533597850145,-0.361947857618096,0.7118148266679775,-0.4750433949239376,-0.6444228699247547,-0.783051381049515,0.21719040962249664,0.019815538528605667,-0.7214615096447526,-0.01958321785787725,-0.7507760605275524,2.0517243184189904,0.6466778946063964,1.4730550839925225,0.26139675235375875,0.808230384521506,-0.6304398291536593,-1.0359480115154287,-2.115163202265703,0.2648558693579291,-0.4149778801650808,-0.12558463385008128,-0.7123446843202019,-0.5865266319312252,-0.5650097515832502,-0.12737282145393208,0.22959046464592095,1.2448706199208088,-1.5496562011856123,-0.21079923079531587,1.242871514123357,1.542894436447591,-0.27936680370633954,0.5810702881158415,-1.0531871982718375,0.048509705571073175,-0.8481847982964451],\"y\":[1.1438949931826752,1.708979910613305,-0.8327138825734189,1.9472965959390818,-0.4817689298481378,0.1797708258436555,1.557428560731944,-0.5120142363140431,1.7179026310126069,-0.6048889816678279,0.39723351435793464,1.6186753063254022,1.3403013395252974,-0.7965686113955026,1.309997459402504,1.5300782128837553,-0.12063038586501074,0.9944505199899896,0.20912332778184067,-0.39132232881626366,0.9478915626010717,0.7446125738502344,1.324140335102054,1.3656442084055904,0.02518962043780511,-1.4775832205229715,0.027736687032791852,-0.15700462679258098,-1.854556176418208,-0.6767677334661436,0.5279557168579928,-0.9737752229938937,0.8273540765623612,-0.5359655371034167,-1.1493843712226068,-0.4956402367748426,-0.1729863603265605,-0.22423831010373274,-0.8883925808438992,-0.33332730865975024,-0.76104990085036,0.578002469270708,-0.2217089931017424,0.13998333818287306,-0.8284717298472738,0.2866677496646147,1.3110091862033,-0.4201476678424551,-1.8966156119825324,-1.2607399928042675,-0.44159095114143404,1.7365787527634435,-0.209949887741612,-0.5839054128274563,-0.3533612742748132,-0.805920871945318,1.0529851277735942,-1.506154740369314,-1.1342688178268527,0.8159535129807585,-1.5276796717960766,-0.627324467215307,-0.4867370409278367,-0.23239957296348815,0.5514189038399648,0.6762943904070011,-0.17085995908558899,0.40146856724688124,0.4400828068106001,0.05635968069882404,-0.7710411467480467,-1.8629357592718192,0.6573449249240196,0.5735277968763096,0.15327245845929516,-1.5229068062393385,0.23292553199004432,1.5445885051583315,2.470446324956362,0.945507792261652,1.2376554432269815,-1.0161452764356558,-0.45773598093098067,-0.9570391317575663,-1.056216757584381,-0.467192964079475,-0.9116569723843112,0.6585572221256754,-0.9936760666614836,0.7418241127904963,0.7128354775087378,1.495427457436138,-0.4074105599082217,-0.09072942150323607,-0.543239320313351,-0.9664517409235696,-2.1773378499360643,-0.20802050698290078,-1.4399310088996589,-0.32163920167160553,-0.11202005830244581,-0.47306097952409254,0.742038882865753,0.6427955835448514,-0.07510267982918502,2.5848957005972992,-1.7048632089235725,-0.6748223780737357,1.2967349635155763,0.17892594521702573,-0.02064692851615838,0.11153961540610474,-1.1435944539871736,0.7672308802055766,-0.7167043177080961],\"type\":\"scatter\"},{\"mode\":\"markers\",\"name\":\"UC vs Predicted Train\",\"x\":[0.8739308595092585,2.054986611665624,-0.8241192991688989,1.3612890495128684,-1.2678667301715334,-0.5521727924934683,0.9706385134106931,-0.42452378257090273,1.8123579948003383,0.7823800982780121,0.09934648084447396,1.1072325038290793,0.45800518278899915,-0.863337149598974,0.524217138060554,1.7422306210199365,-1.0530598675886227,2.0370648180031785,1.1211115482994634,-1.0394673171554716,1.3695018785802062,-0.08012611714640529,0.35668179162103675,-0.03428707118917447,-0.5152787270320586,-0.9106404984131716,-0.7173843539643202,0.3108427456638068,-1.076647876654114,0.028295959610766343,0.5885191330838916,-0.5204037870314433,0.8136397810071785,-0.9230552400265883,-1.093009869447181,-0.07172229205424607,1.327196259082179,0.22534019188525037,-0.24724763886547457,0.06270707674949293,-0.9386532487203681,1.4247952277661156,-0.6537190123570555,1.0737445341436584,-0.8444946796998634,0.8029537653626021,1.0686315400134165,-0.7877123946398802,-2.032759999734153,-1.381889026483349,-1.1066547082447418,1.9686761957680186,-0.4441751728443494,-0.29197402466085287,-0.6179225159267038,0.2528955325977468,-0.9335815998326918,-1.1393404324790637,-1.5654567441114413,0.5796941458391989,-1.8956265307044153,-0.41008235016765326,-0.9391220499495411,1.657326350841802,0.17817274239749012,0.4113993092210453,-0.7325130953275681,0.37232301289427316,-0.5667686246362181,0.0439120993542671,-1.1104069707577402,-1.6263430662950165,0.4024290566509085,1.017331075968517,1.738996689601282,-1.6227666910873149,0.21323294525331868,1.6713093916128974,1.6172533597850145,-0.361947857618096,0.7118148266679775,-0.4750433949239376,-0.6444228699247547,-0.783051381049515,0.21719040962249664,0.019815538528605667],\"y\":[1.1438949931826752,1.708979910613305,-0.8327138825734189,1.9472965959390818,-0.4817689298481378,0.1797708258436555,1.557428560731944,-0.5120142363140431,1.7179026310126069,-0.6048889816678279,0.39723351435793464,1.6186753063254022,1.3403013395252974,-0.7965686113955026,1.309997459402504,1.5300782128837553,-0.12063038586501074,0.9944505199899896,0.20912332778184067,-0.39132232881626366,0.9478915626010717,0.7446125738502344,1.324140335102054,1.3656442084055904,0.02518962043780511,-1.4775832205229715,0.027736687032791852,-0.15700462679258098,-1.854556176418208,-0.6767677334661436,0.5279557168579928,-0.9737752229938937,0.8273540765623612,-0.5359655371034167,-1.1493843712226068,-0.4956402367748426,-0.1729863603265605,-0.22423831010373274,-0.8883925808438992,-0.33332730865975024,-0.76104990085036,0.578002469270708,-0.2217089931017424,0.13998333818287306,-0.8284717298472738,0.2866677496646147,1.3110091862033,-0.4201476678424551,-1.8966156119825324,-1.2607399928042675,-0.44159095114143404,1.7365787527634435,-0.209949887741612,-0.5839054128274563,-0.3533612742748132,-0.805920871945318,1.0529851277735942,-1.506154740369314,-1.1342688178268527,0.8159535129807585,-1.5276796717960766,-0.627324467215307,-0.4867370409278367,-0.23239957296348815,0.5514189038399648,0.6762943904070011,-0.17085995908558899,0.40146856724688124,0.4400828068106001,0.05635968069882404,-0.7710411467480467,-1.8629357592718192,0.6573449249240196,0.5735277968763096,0.15327245845929516,-1.5229068062393385,0.23292553199004432,1.5445885051583315,2.470446324956362,0.945507792261652,1.2376554432269815,-1.0161452764356558,-0.45773598093098067,-0.9570391317575663,-1.056216757584381,-0.467192964079475,-0.9116569723843112,0.6585572221256754,-0.9936760666614836,0.7418241127904963,0.7128354775087378,1.495427457436138,-0.4074105599082217,-0.09072942150323607,-0.543239320313351,-0.9664517409235696,-2.1773378499360643,-0.20802050698290078,-1.4399310088996589,-0.32163920167160553,-0.11202005830244581,-0.47306097952409254,0.742038882865753,0.6427955835448514,-0.07510267982918502,2.5848957005972992,-1.7048632089235725,-0.6748223780737357,1.2967349635155763,0.17892594521702573,-0.02064692851615838,0.11153961540610474,-1.1435944539871736,0.7672308802055766,-0.7167043177080961],\"type\":\"scatter\"},{\"mode\":\"markers\",\"name\":\"UC vs Predicted Test\",\"x\":[-0.543005931164884,0.41494962651653783,-0.552239249007925,0.06941832520028327,0.3968869272163963,1.260842663307717,-0.7598710712343725,-0.1850318820673365,-0.6349518876747865,-0.6096489933297374,-1.380051087809215,-0.2445724966139323,-1.2379908530692947,-0.1493518524076312,-0.4679643175468666,-0.5972774268393114,0.06003618263105674,0.4927477821046852,-0.1395338072572416,1.441506806354929,-1.3787499004152313,-0.05392492541164147,0.6707210179360844,-0.3851875283526603,-0.1905979178858332,0.45940968047804487,-1.1489348047732464,0.44511579994870853,-0.4775204419932001],\"y\":[1.1438949931826752,1.708979910613305,-0.8327138825734189,1.9472965959390818,-0.4817689298481378,0.1797708258436555,1.557428560731944,-0.5120142363140431,1.7179026310126069,-0.6048889816678279,0.39723351435793464,1.6186753063254022,1.3403013395252974,-0.7965686113955026,1.309997459402504,1.5300782128837553,-0.12063038586501074,0.9944505199899896,0.20912332778184067,-0.39132232881626366,0.9478915626010717,0.7446125738502344,1.324140335102054,1.3656442084055904,0.02518962043780511,-1.4775832205229715,0.027736687032791852,-0.15700462679258098,-1.854556176418208,-0.6767677334661436,0.5279557168579928,-0.9737752229938937,0.8273540765623612,-0.5359655371034167,-1.1493843712226068,-0.4956402367748426,-0.1729863603265605,-0.22423831010373274,-0.8883925808438992,-0.33332730865975024,-0.76104990085036,0.578002469270708,-0.2217089931017424,0.13998333818287306,-0.8284717298472738,0.2866677496646147,1.3110091862033,-0.4201476678424551,-1.8966156119825324,-1.2607399928042675,-0.44159095114143404,1.7365787527634435,-0.209949887741612,-0.5839054128274563,-0.3533612742748132,-0.805920871945318,1.0529851277735942,-1.506154740369314,-1.1342688178268527,0.8159535129807585,-1.5276796717960766,-0.627324467215307,-0.4867370409278367,-0.23239957296348815,0.5514189038399648,0.6762943904070011,-0.17085995908558899,0.40146856724688124,0.4400828068106001,0.05635968069882404,-0.7710411467480467,-1.8629357592718192,0.6573449249240196,0.5735277968763096,0.15327245845929516,-1.5229068062393385,0.23292553199004432,1.5445885051583315,2.470446324956362,0.945507792261652,1.2376554432269815,-1.0161452764356558,-0.45773598093098067,-0.9570391317575663,-1.056216757584381,-0.467192964079475,-0.9116569723843112,0.6585572221256754,-0.9936760666614836,0.7418241127904963,0.7128354775087378,1.495427457436138,-0.4074105599082217,-0.09072942150323607,-0.543239320313351,-0.9664517409235696,-2.1773378499360643,-0.20802050698290078,-1.4399310088996589,-0.32163920167160553,-0.11202005830244581,-0.47306097952409254,0.742038882865753,0.6427955835448514,-0.07510267982918502,2.5848957005972992,-1.7048632089235725,-0.6748223780737357,1.2967349635155763,0.17892594521702573,-0.02064692851615838,0.11153961540610474,-1.1435944539871736,0.7672308802055766,-0.7167043177080961],\"type\":\"scatter\"}],                        {\"template\":{\"data\":{\"histogram2dcontour\":[{\"type\":\"histogram2dcontour\",\"colorbar\":{\"outlinewidth\":0,\"ticks\":\"\"},\"colorscale\":[[0.0,\"#0d0887\"],[0.1111111111111111,\"#46039f\"],[0.2222222222222222,\"#7201a8\"],[0.3333333333333333,\"#9c179e\"],[0.4444444444444444,\"#bd3786\"],[0.5555555555555556,\"#d8576b\"],[0.6666666666666666,\"#ed7953\"],[0.7777777777777778,\"#fb9f3a\"],[0.8888888888888888,\"#fdca26\"],[1.0,\"#f0f921\"]]}],\"choropleth\":[{\"type\":\"choropleth\",\"colorbar\":{\"outlinewidth\":0,\"ticks\":\"\"}}],\"histogram2d\":[{\"type\":\"histogram2d\",\"colorbar\":{\"outlinewidth\":0,\"ticks\":\"\"},\"colorscale\":[[0.0,\"#0d0887\"],[0.1111111111111111,\"#46039f\"],[0.2222222222222222,\"#7201a8\"],[0.3333333333333333,\"#9c179e\"],[0.4444444444444444,\"#bd3786\"],[0.5555555555555556,\"#d8576b\"],[0.6666666666666666,\"#ed7953\"],[0.7777777777777778,\"#fb9f3a\"],[0.8888888888888888,\"#fdca26\"],[1.0,\"#f0f921\"]]}],\"heatmap\":[{\"type\":\"heatmap\",\"colorbar\":{\"outlinewidth\":0,\"ticks\":\"\"},\"colorscale\":[[0.0,\"#0d0887\"],[0.1111111111111111,\"#46039f\"],[0.2222222222222222,\"#7201a8\"],[0.3333333333333333,\"#9c179e\"],[0.4444444444444444,\"#bd3786\"],[0.5555555555555556,\"#d8576b\"],[0.6666666666666666,\"#ed7953\"],[0.7777777777777778,\"#fb9f3a\"],[0.8888888888888888,\"#fdca26\"],[1.0,\"#f0f921\"]]}],\"heatmapgl\":[{\"type\":\"heatmapgl\",\"colorbar\":{\"outlinewidth\":0,\"ticks\":\"\"},\"colorscale\":[[0.0,\"#0d0887\"],[0.1111111111111111,\"#46039f\"],[0.2222222222222222,\"#7201a8\"],[0.3333333333333333,\"#9c179e\"],[0.4444444444444444,\"#bd3786\"],[0.5555555555555556,\"#d8576b\"],[0.6666666666666666,\"#ed7953\"],[0.7777777777777778,\"#fb9f3a\"],[0.8888888888888888,\"#fdca26\"],[1.0,\"#f0f921\"]]}],\"contourcarpet\":[{\"type\":\"contourcarpet\",\"colorbar\":{\"outlinewidth\":0,\"ticks\":\"\"}}],\"contour\":[{\"type\":\"contour\",\"colorbar\":{\"outlinewidth\":0,\"ticks\":\"\"},\"colorscale\":[[0.0,\"#0d0887\"],[0.1111111111111111,\"#46039f\"],[0.2222222222222222,\"#7201a8\"],[0.3333333333333333,\"#9c179e\"],[0.4444444444444444,\"#bd3786\"],[0.5555555555555556,\"#d8576b\"],[0.6666666666666666,\"#ed7953\"],[0.7777777777777778,\"#fb9f3a\"],[0.8888888888888888,\"#fdca26\"],[1.0,\"#f0f921\"]]}],\"surface\":[{\"type\":\"surface\",\"colorbar\":{\"outlinewidth\":0,\"ticks\":\"\"},\"colorscale\":[[0.0,\"#0d0887\"],[0.1111111111111111,\"#46039f\"],[0.2222222222222222,\"#7201a8\"],[0.3333333333333333,\"#9c179e\"],[0.4444444444444444,\"#bd3786\"],[0.5555555555555556,\"#d8576b\"],[0.6666666666666666,\"#ed7953\"],[0.7777777777777778,\"#fb9f3a\"],[0.8888888888888888,\"#fdca26\"],[1.0,\"#f0f921\"]]}],\"mesh3d\":[{\"type\":\"mesh3d\",\"colorbar\":{\"outlinewidth\":0,\"ticks\":\"\"}}],\"scatter\":[{\"fillpattern\":{\"fillmode\":\"overlay\",\"size\":10,\"solidity\":0.2},\"type\":\"scatter\"}],\"parcoords\":[{\"type\":\"parcoords\",\"line\":{\"colorbar\":{\"outlinewidth\":0,\"ticks\":\"\"}}}],\"scatterpolargl\":[{\"type\":\"scatterpolargl\",\"marker\":{\"colorbar\":{\"outlinewidth\":0,\"ticks\":\"\"}}}],\"bar\":[{\"error_x\":{\"color\":\"#2a3f5f\"},\"error_y\":{\"color\":\"#2a3f5f\"},\"marker\":{\"line\":{\"color\":\"#E5ECF6\",\"width\":0.5},\"pattern\":{\"fillmode\":\"overlay\",\"size\":10,\"solidity\":0.2}},\"type\":\"bar\"}],\"scattergeo\":[{\"type\":\"scattergeo\",\"marker\":{\"colorbar\":{\"outlinewidth\":0,\"ticks\":\"\"}}}],\"scatterpolar\":[{\"type\":\"scatterpolar\",\"marker\":{\"colorbar\":{\"outlinewidth\":0,\"ticks\":\"\"}}}],\"histogram\":[{\"marker\":{\"pattern\":{\"fillmode\":\"overlay\",\"size\":10,\"solidity\":0.2}},\"type\":\"histogram\"}],\"scattergl\":[{\"type\":\"scattergl\",\"marker\":{\"colorbar\":{\"outlinewidth\":0,\"ticks\":\"\"}}}],\"scatter3d\":[{\"type\":\"scatter3d\",\"line\":{\"colorbar\":{\"outlinewidth\":0,\"ticks\":\"\"}},\"marker\":{\"colorbar\":{\"outlinewidth\":0,\"ticks\":\"\"}}}],\"scattermapbox\":[{\"type\":\"scattermapbox\",\"marker\":{\"colorbar\":{\"outlinewidth\":0,\"ticks\":\"\"}}}],\"scatterternary\":[{\"type\":\"scatterternary\",\"marker\":{\"colorbar\":{\"outlinewidth\":0,\"ticks\":\"\"}}}],\"scattercarpet\":[{\"type\":\"scattercarpet\",\"marker\":{\"colorbar\":{\"outlinewidth\":0,\"ticks\":\"\"}}}],\"carpet\":[{\"aaxis\":{\"endlinecolor\":\"#2a3f5f\",\"gridcolor\":\"white\",\"linecolor\":\"white\",\"minorgridcolor\":\"white\",\"startlinecolor\":\"#2a3f5f\"},\"baxis\":{\"endlinecolor\":\"#2a3f5f\",\"gridcolor\":\"white\",\"linecolor\":\"white\",\"minorgridcolor\":\"white\",\"startlinecolor\":\"#2a3f5f\"},\"type\":\"carpet\"}],\"table\":[{\"cells\":{\"fill\":{\"color\":\"#EBF0F8\"},\"line\":{\"color\":\"white\"}},\"header\":{\"fill\":{\"color\":\"#C8D4E3\"},\"line\":{\"color\":\"white\"}},\"type\":\"table\"}],\"barpolar\":[{\"marker\":{\"line\":{\"color\":\"#E5ECF6\",\"width\":0.5},\"pattern\":{\"fillmode\":\"overlay\",\"size\":10,\"solidity\":0.2}},\"type\":\"barpolar\"}],\"pie\":[{\"automargin\":true,\"type\":\"pie\"}]},\"layout\":{\"autotypenumbers\":\"strict\",\"colorway\":[\"#636efa\",\"#EF553B\",\"#00cc96\",\"#ab63fa\",\"#FFA15A\",\"#19d3f3\",\"#FF6692\",\"#B6E880\",\"#FF97FF\",\"#FECB52\"],\"font\":{\"color\":\"#2a3f5f\"},\"hovermode\":\"closest\",\"hoverlabel\":{\"align\":\"left\"},\"paper_bgcolor\":\"white\",\"plot_bgcolor\":\"#E5ECF6\",\"polar\":{\"bgcolor\":\"#E5ECF6\",\"angularaxis\":{\"gridcolor\":\"white\",\"linecolor\":\"white\",\"ticks\":\"\"},\"radialaxis\":{\"gridcolor\":\"white\",\"linecolor\":\"white\",\"ticks\":\"\"}},\"ternary\":{\"bgcolor\":\"#E5ECF6\",\"aaxis\":{\"gridcolor\":\"white\",\"linecolor\":\"white\",\"ticks\":\"\"},\"baxis\":{\"gridcolor\":\"white\",\"linecolor\":\"white\",\"ticks\":\"\"},\"caxis\":{\"gridcolor\":\"white\",\"linecolor\":\"white\",\"ticks\":\"\"}},\"coloraxis\":{\"colorbar\":{\"outlinewidth\":0,\"ticks\":\"\"}},\"colorscale\":{\"sequential\":[[0.0,\"#0d0887\"],[0.1111111111111111,\"#46039f\"],[0.2222222222222222,\"#7201a8\"],[0.3333333333333333,\"#9c179e\"],[0.4444444444444444,\"#bd3786\"],[0.5555555555555556,\"#d8576b\"],[0.6666666666666666,\"#ed7953\"],[0.7777777777777778,\"#fb9f3a\"],[0.8888888888888888,\"#fdca26\"],[1.0,\"#f0f921\"]],\"sequentialminus\":[[0.0,\"#0d0887\"],[0.1111111111111111,\"#46039f\"],[0.2222222222222222,\"#7201a8\"],[0.3333333333333333,\"#9c179e\"],[0.4444444444444444,\"#bd3786\"],[0.5555555555555556,\"#d8576b\"],[0.6666666666666666,\"#ed7953\"],[0.7777777777777778,\"#fb9f3a\"],[0.8888888888888888,\"#fdca26\"],[1.0,\"#f0f921\"]],\"diverging\":[[0,\"#8e0152\"],[0.1,\"#c51b7d\"],[0.2,\"#de77ae\"],[0.3,\"#f1b6da\"],[0.4,\"#fde0ef\"],[0.5,\"#f7f7f7\"],[0.6,\"#e6f5d0\"],[0.7,\"#b8e186\"],[0.8,\"#7fbc41\"],[0.9,\"#4d9221\"],[1,\"#276419\"]]},\"xaxis\":{\"gridcolor\":\"white\",\"linecolor\":\"white\",\"ticks\":\"\",\"title\":{\"standoff\":15},\"zerolinecolor\":\"white\",\"automargin\":true,\"zerolinewidth\":2},\"yaxis\":{\"gridcolor\":\"white\",\"linecolor\":\"white\",\"ticks\":\"\",\"title\":{\"standoff\":15},\"zerolinecolor\":\"white\",\"automargin\":true,\"zerolinewidth\":2},\"scene\":{\"xaxis\":{\"backgroundcolor\":\"#E5ECF6\",\"gridcolor\":\"white\",\"linecolor\":\"white\",\"showbackground\":true,\"ticks\":\"\",\"zerolinecolor\":\"white\",\"gridwidth\":2},\"yaxis\":{\"backgroundcolor\":\"#E5ECF6\",\"gridcolor\":\"white\",\"linecolor\":\"white\",\"showbackground\":true,\"ticks\":\"\",\"zerolinecolor\":\"white\",\"gridwidth\":2},\"zaxis\":{\"backgroundcolor\":\"#E5ECF6\",\"gridcolor\":\"white\",\"linecolor\":\"white\",\"showbackground\":true,\"ticks\":\"\",\"zerolinecolor\":\"white\",\"gridwidth\":2}},\"shapedefaults\":{\"line\":{\"color\":\"#2a3f5f\"}},\"annotationdefaults\":{\"arrowcolor\":\"#2a3f5f\",\"arrowhead\":0,\"arrowwidth\":1},\"geo\":{\"bgcolor\":\"white\",\"landcolor\":\"#E5ECF6\",\"subunitcolor\":\"white\",\"showland\":true,\"showlakes\":true,\"lakecolor\":\"white\"},\"title\":{\"x\":0.05},\"mapbox\":{\"style\":\"light\"}}},\"font\":{\"family\":\"Arial, monospace\",\"size\":14,\"color\":\"Black\"},\"title\":{\"text\":\"Historical UpperColoradoReach.Inflow vs. St. Vrain Actual and St. Vrain Predicted\"},\"yaxis\":{\"title\":{\"text\":\"UpperColoradoReach.Inflow Volume in Acre-Ft\"}},\"xaxis\":{\"title\":{\"text\":\"St. Vrain Volume in Acre-Ft\"}},\"legend\":{\"title\":{\"text\":\"Legend\"}},\"autosize\":false,\"width\":800,\"height\":800},                        {\"responsive\": true}                    ).then(function(){\n",
       "                            \n",
       "var gd = document.getElementById('584a9084-e7f2-4f73-aafb-28daea9051c5');\n",
       "var x = new MutationObserver(function (mutations, observer) {{\n",
       "        var display = window.getComputedStyle(gd).display;\n",
       "        if (!display || display === 'none') {{\n",
       "            console.log([gd, 'removed!']);\n",
       "            Plotly.purge(gd);\n",
       "            observer.disconnect();\n",
       "        }}\n",
       "}});\n",
       "\n",
       "// Listen for the removal of the full notebook cells\n",
       "var notebookContainer = gd.closest('#notebook-container');\n",
       "if (notebookContainer) {{\n",
       "    x.observe(notebookContainer, {childList: true});\n",
       "}}\n",
       "\n",
       "// Listen for the clearing of the current output cell\n",
       "var outputEl = gd.closest('.output');\n",
       "if (outputEl) {{\n",
       "    x.observe(outputEl, {childList: true});\n",
       "}}\n",
       "\n",
       "                        })                };                });            </script>        </div>"
      ]
     },
     "metadata": {},
     "output_type": "display_data"
    }
   ],
   "source": [
    "# graph\n",
    "y_vals = nf_hist_df_SS.loc[:,('UpperColoradoReach.Inflow', '(ac-ft/month)')].values\n",
    "fig = go.Figure()\n",
    "fig.add_trace(go.Scatter(mode='markers', y=y_vals,\n",
    "                         x=nf_stvrain_df_SS.iloc[:,0].values,\n",
    "                         name=\"UC v St. Vrain NF\"))\n",
    "fig.add_trace(go.Scatter(mode='markers', y=y_vals,\n",
    "                         x=neigh_y_train_pred_uc.flatten(),\n",
    "                         name=\"UC vs Predicted Train\"))\n",
    "fig.add_trace(go.Scatter(mode='markers', y=y_vals,\n",
    "                         x=neigh_y_test_pred_uc.flatten(),\n",
    "                         name=\"UC vs Predicted Test\"))\n",
    "\n",
    "fig.update_layout(\n",
    "        title=\"Historical UpperColoradoReach.Inflow vs. St. Vrain Actual and St. Vrain Predicted\",\n",
    "        yaxis_title=\"UpperColoradoReach.Inflow Volume in Acre-Ft\",\n",
    "        xaxis_title=\"St. Vrain Volume in Acre-Ft\",\n",
    "        legend_title=\"Legend\",\n",
    "        font=dict(\n",
    "            family=\"Arial, monospace\",\n",
    "            size=14,\n",
    "            color=\"Black\"),\n",
    "        autosize=False,\n",
    "        width=800,\n",
    "        height=800,\n",
    "    )\n",
    "fig.show()"
   ]
  },
  {
   "cell_type": "code",
   "execution_count": 23,
   "id": "2c570eb1-a4c7-470d-8b89-5e591ef9fe29",
   "metadata": {},
   "outputs": [
    {
     "data": {
      "application/vnd.plotly.v1+json": {
       "config": {
        "plotlyServerURL": "https://plot.ly"
       },
       "data": [
        {
         "mode": "markers+lines",
         "name": "St. Vrain Actual NF",
         "type": "scatter",
         "visible": true,
         "x": [
          1906,
          1907,
          1908,
          1909,
          1910,
          1911,
          1912,
          1913,
          1914,
          1915,
          1916,
          1917,
          1918,
          1919,
          1920,
          1921,
          1922,
          1923,
          1924,
          1925,
          1926,
          1927,
          1928,
          1929,
          1930,
          1931,
          1932,
          1933,
          1934,
          1935,
          1936,
          1937,
          1938,
          1939,
          1940,
          1941,
          1942,
          1943,
          1944,
          1945,
          1946,
          1947,
          1948,
          1949,
          1950,
          1951,
          1952,
          1953,
          1954,
          1955,
          1956,
          1957,
          1958,
          1959,
          1960,
          1961,
          1962,
          1963,
          1964,
          1965,
          1966,
          1967,
          1968,
          1969,
          1970,
          1971,
          1972,
          1973,
          1974,
          1975,
          1976,
          1977,
          1978,
          1979,
          1980,
          1981,
          1982,
          1983,
          1984,
          1985,
          1986,
          1987,
          1988,
          1989,
          1990,
          1991,
          1992,
          1993,
          1994,
          1995,
          1996,
          1997,
          1998,
          1999,
          2000,
          2001,
          2002,
          2003,
          2004,
          2005,
          2006,
          2007,
          2008,
          2009,
          2010,
          2011,
          2012,
          2013,
          2014,
          2015,
          2016,
          2017,
          2018,
          2019,
          2020
         ],
         "y": [
          0.8739308595092585,
          2.054986611665624,
          -0.8241192991688989,
          1.3612890495128684,
          -1.2678667301715334,
          -0.5521727924934683,
          0.9706385134106931,
          -0.42452378257090273,
          1.8123579948003383,
          0.7823800982780121,
          0.09934648084447396,
          1.1072325038290793,
          0.45800518278899915,
          -0.863337149598974,
          0.524217138060554,
          1.7422306210199365,
          -1.0530598675886227,
          2.0370648180031785,
          1.1211115482994634,
          -1.0394673171554716,
          1.3695018785802062,
          -0.08012611714640529,
          0.35668179162103675,
          -0.03428707118917447,
          -0.5152787270320586,
          -0.9106404984131716,
          -0.7173843539643202,
          0.3108427456638068,
          -1.076647876654114,
          0.028295959610766343,
          0.5885191330838916,
          -0.5204037870314433,
          0.8136397810071785,
          -0.9230552400265883,
          -1.093009869447181,
          -0.07172229205424607,
          1.327196259082179,
          0.22534019188525037,
          -0.24724763886547457,
          0.06270707674949293,
          -0.9386532487203681,
          1.4247952277661156,
          -0.6537190123570555,
          1.0737445341436584,
          -0.8444946796998634,
          0.8029537653626021,
          1.0686315400134165,
          -0.7877123946398802,
          -2.032759999734153,
          -1.381889026483349,
          -1.1066547082447418,
          1.9686761957680186,
          -0.4441751728443494,
          -0.29197402466085287,
          -0.6179225159267038,
          0.2528955325977468,
          -0.9335815998326918,
          -1.1393404324790637,
          -1.5654567441114413,
          0.5796941458391989,
          -1.8956265307044153,
          -0.41008235016765326,
          -0.9391220499495411,
          1.657326350841802,
          0.17817274239749012,
          0.4113993092210453,
          -0.7325130953275681,
          0.37232301289427316,
          -0.5667686246362181,
          0.0439120993542671,
          -1.1104069707577402,
          -1.6263430662950165,
          0.4024290566509085,
          1.017331075968517,
          1.738996689601282,
          -1.6227666910873149,
          0.21323294525331868,
          1.6713093916128974,
          1.6172533597850145,
          -0.361947857618096,
          0.7118148266679775,
          -0.4750433949239376,
          -0.6444228699247547,
          -0.783051381049515,
          0.21719040962249664,
          0.019815538528605667,
          -0.7214615096447526,
          -0.01958321785787725,
          -0.7507760605275524,
          2.0517243184189904,
          0.6466778946063964,
          1.4730550839925225,
          0.26139675235375875,
          0.808230384521506,
          -0.6304398291536593,
          -1.0359480115154287,
          -2.115163202265703,
          0.2648558693579291,
          -0.4149778801650808,
          -0.12558463385008128,
          -0.7123446843202019,
          -0.5865266319312252,
          -0.5650097515832502,
          -0.12737282145393208,
          0.22959046464592095,
          1.2448706199208088,
          -1.5496562011856123,
          -0.21079923079531587,
          1.242871514123357,
          1.542894436447591,
          -0.27936680370633954,
          0.5810702881158415,
          -1.0531871982718375,
          0.048509705571073175,
          -0.8481847982964451
         ]
        },
        {
         "mode": "markers+lines",
         "name": "St. Vrain Predicted Train NF",
         "type": "scatter",
         "visible": "legendonly",
         "x": [
          1906,
          1907,
          1908,
          1909,
          1910,
          1911,
          1912,
          1913,
          1914,
          1915,
          1916,
          1917,
          1918,
          1919,
          1920,
          1921,
          1922,
          1923,
          1924,
          1925,
          1926,
          1927,
          1928,
          1929,
          1930,
          1931,
          1932,
          1933,
          1934,
          1935,
          1936,
          1937,
          1938,
          1939,
          1940,
          1941,
          1942,
          1943,
          1944,
          1945,
          1946,
          1947,
          1948,
          1949,
          1950,
          1951,
          1952,
          1953,
          1954,
          1955,
          1956,
          1957,
          1958,
          1959,
          1960,
          1961,
          1962,
          1963,
          1964,
          1965,
          1966,
          1967,
          1968,
          1969,
          1970,
          1971,
          1972,
          1973,
          1974,
          1975,
          1976,
          1977,
          1978,
          1979,
          1980,
          1981,
          1982,
          1983,
          1984,
          1985,
          1986,
          1987,
          1988,
          1989,
          1990,
          1991,
          1992,
          1993,
          1994,
          1995,
          1996,
          1997,
          1998,
          1999,
          2000,
          2001,
          2002,
          2003,
          2004,
          2005,
          2006,
          2007,
          2008,
          2009,
          2010,
          2011,
          2012,
          2013,
          2014,
          2015,
          2016,
          2017,
          2018,
          2019,
          2020
         ],
         "y": [
          0.8739308595092585,
          2.054986611665624,
          -0.8241192991688989,
          1.3612890495128684,
          -1.2678667301715334,
          -0.5521727924934683,
          0.9706385134106931,
          -0.42452378257090273,
          1.8123579948003383,
          0.7823800982780121,
          0.09934648084447396,
          1.1072325038290793,
          0.45800518278899915,
          -0.863337149598974,
          0.524217138060554,
          1.7422306210199365,
          -1.0530598675886227,
          2.0370648180031785,
          1.1211115482994634,
          -1.0394673171554716,
          1.3695018785802062,
          -0.08012611714640529,
          0.35668179162103675,
          -0.03428707118917447,
          -0.5152787270320586,
          -0.9106404984131716,
          -0.7173843539643202,
          0.3108427456638068,
          -1.076647876654114,
          0.028295959610766343,
          0.5885191330838916,
          -0.5204037870314433,
          0.8136397810071785,
          -0.9230552400265883,
          -1.093009869447181,
          -0.07172229205424607,
          1.327196259082179,
          0.22534019188525037,
          -0.24724763886547457,
          0.06270707674949293,
          -0.9386532487203681,
          1.4247952277661156,
          -0.6537190123570555,
          1.0737445341436584,
          -0.8444946796998634,
          0.8029537653626021,
          1.0686315400134165,
          -0.7877123946398802,
          -2.032759999734153,
          -1.381889026483349,
          -1.1066547082447418,
          1.9686761957680186,
          -0.4441751728443494,
          -0.29197402466085287,
          -0.6179225159267038,
          0.2528955325977468,
          -0.9335815998326918,
          -1.1393404324790637,
          -1.5654567441114413,
          0.5796941458391989,
          -1.8956265307044153,
          -0.41008235016765326,
          -0.9391220499495411,
          1.657326350841802,
          0.17817274239749012,
          0.4113993092210453,
          -0.7325130953275681,
          0.37232301289427316,
          -0.5667686246362181,
          0.0439120993542671,
          -1.1104069707577402,
          -1.6263430662950165,
          0.4024290566509085,
          1.017331075968517,
          1.738996689601282,
          -1.6227666910873149,
          0.21323294525331868,
          1.6713093916128974,
          1.6172533597850145,
          -0.361947857618096,
          0.7118148266679775,
          -0.4750433949239376,
          -0.6444228699247547,
          -0.783051381049515,
          0.21719040962249664,
          0.019815538528605667
         ]
        },
        {
         "mode": "markers+lines",
         "name": "St. Vrain Predicted Test NF",
         "type": "scatter",
         "visible": true,
         "x": [
          1992,
          1993,
          1994,
          1995,
          1996,
          1997,
          1998,
          1999,
          2000,
          2001,
          2002,
          2003,
          2004,
          2005,
          2006,
          2007,
          2008,
          2009,
          2010,
          2011,
          2012,
          2013,
          2014,
          2015,
          2016,
          2017,
          2018,
          2019,
          2020
         ],
         "y": [
          -0.543005931164884,
          0.41494962651653783,
          -0.552239249007925,
          0.06941832520028327,
          0.3968869272163963,
          1.260842663307717,
          -0.7598710712343725,
          -0.1850318820673365,
          -0.6349518876747865,
          -0.6096489933297374,
          -1.380051087809215,
          -0.2445724966139323,
          -1.2379908530692947,
          -0.1493518524076312,
          -0.4679643175468666,
          -0.5972774268393114,
          0.06003618263105674,
          0.4927477821046852,
          -0.1395338072572416,
          1.441506806354929,
          -1.3787499004152313,
          -0.05392492541164147,
          0.6707210179360844,
          -0.3851875283526603,
          -0.1905979178858332,
          0.45940968047804487,
          -1.1489348047732464,
          0.44511579994870853,
          -0.4775204419932001
         ]
        }
       ],
       "layout": {
        "autosize": true,
        "font": {
         "color": "Black",
         "family": "Arial, monospace",
         "size": 14
        },
        "hovermode": "x unified",
        "legend": {
         "title": {
          "text": "Legend"
         }
        },
        "template": {
         "data": {
          "bar": [
           {
            "error_x": {
             "color": "#2a3f5f"
            },
            "error_y": {
             "color": "#2a3f5f"
            },
            "marker": {
             "line": {
              "color": "#E5ECF6",
              "width": 0.5
             },
             "pattern": {
              "fillmode": "overlay",
              "size": 10,
              "solidity": 0.2
             }
            },
            "type": "bar"
           }
          ],
          "barpolar": [
           {
            "marker": {
             "line": {
              "color": "#E5ECF6",
              "width": 0.5
             },
             "pattern": {
              "fillmode": "overlay",
              "size": 10,
              "solidity": 0.2
             }
            },
            "type": "barpolar"
           }
          ],
          "carpet": [
           {
            "aaxis": {
             "endlinecolor": "#2a3f5f",
             "gridcolor": "white",
             "linecolor": "white",
             "minorgridcolor": "white",
             "startlinecolor": "#2a3f5f"
            },
            "baxis": {
             "endlinecolor": "#2a3f5f",
             "gridcolor": "white",
             "linecolor": "white",
             "minorgridcolor": "white",
             "startlinecolor": "#2a3f5f"
            },
            "type": "carpet"
           }
          ],
          "choropleth": [
           {
            "colorbar": {
             "outlinewidth": 0,
             "ticks": ""
            },
            "type": "choropleth"
           }
          ],
          "contour": [
           {
            "colorbar": {
             "outlinewidth": 0,
             "ticks": ""
            },
            "colorscale": [
             [
              0,
              "#0d0887"
             ],
             [
              0.1111111111111111,
              "#46039f"
             ],
             [
              0.2222222222222222,
              "#7201a8"
             ],
             [
              0.3333333333333333,
              "#9c179e"
             ],
             [
              0.4444444444444444,
              "#bd3786"
             ],
             [
              0.5555555555555556,
              "#d8576b"
             ],
             [
              0.6666666666666666,
              "#ed7953"
             ],
             [
              0.7777777777777778,
              "#fb9f3a"
             ],
             [
              0.8888888888888888,
              "#fdca26"
             ],
             [
              1,
              "#f0f921"
             ]
            ],
            "type": "contour"
           }
          ],
          "contourcarpet": [
           {
            "colorbar": {
             "outlinewidth": 0,
             "ticks": ""
            },
            "type": "contourcarpet"
           }
          ],
          "heatmap": [
           {
            "colorbar": {
             "outlinewidth": 0,
             "ticks": ""
            },
            "colorscale": [
             [
              0,
              "#0d0887"
             ],
             [
              0.1111111111111111,
              "#46039f"
             ],
             [
              0.2222222222222222,
              "#7201a8"
             ],
             [
              0.3333333333333333,
              "#9c179e"
             ],
             [
              0.4444444444444444,
              "#bd3786"
             ],
             [
              0.5555555555555556,
              "#d8576b"
             ],
             [
              0.6666666666666666,
              "#ed7953"
             ],
             [
              0.7777777777777778,
              "#fb9f3a"
             ],
             [
              0.8888888888888888,
              "#fdca26"
             ],
             [
              1,
              "#f0f921"
             ]
            ],
            "type": "heatmap"
           }
          ],
          "heatmapgl": [
           {
            "colorbar": {
             "outlinewidth": 0,
             "ticks": ""
            },
            "colorscale": [
             [
              0,
              "#0d0887"
             ],
             [
              0.1111111111111111,
              "#46039f"
             ],
             [
              0.2222222222222222,
              "#7201a8"
             ],
             [
              0.3333333333333333,
              "#9c179e"
             ],
             [
              0.4444444444444444,
              "#bd3786"
             ],
             [
              0.5555555555555556,
              "#d8576b"
             ],
             [
              0.6666666666666666,
              "#ed7953"
             ],
             [
              0.7777777777777778,
              "#fb9f3a"
             ],
             [
              0.8888888888888888,
              "#fdca26"
             ],
             [
              1,
              "#f0f921"
             ]
            ],
            "type": "heatmapgl"
           }
          ],
          "histogram": [
           {
            "marker": {
             "pattern": {
              "fillmode": "overlay",
              "size": 10,
              "solidity": 0.2
             }
            },
            "type": "histogram"
           }
          ],
          "histogram2d": [
           {
            "colorbar": {
             "outlinewidth": 0,
             "ticks": ""
            },
            "colorscale": [
             [
              0,
              "#0d0887"
             ],
             [
              0.1111111111111111,
              "#46039f"
             ],
             [
              0.2222222222222222,
              "#7201a8"
             ],
             [
              0.3333333333333333,
              "#9c179e"
             ],
             [
              0.4444444444444444,
              "#bd3786"
             ],
             [
              0.5555555555555556,
              "#d8576b"
             ],
             [
              0.6666666666666666,
              "#ed7953"
             ],
             [
              0.7777777777777778,
              "#fb9f3a"
             ],
             [
              0.8888888888888888,
              "#fdca26"
             ],
             [
              1,
              "#f0f921"
             ]
            ],
            "type": "histogram2d"
           }
          ],
          "histogram2dcontour": [
           {
            "colorbar": {
             "outlinewidth": 0,
             "ticks": ""
            },
            "colorscale": [
             [
              0,
              "#0d0887"
             ],
             [
              0.1111111111111111,
              "#46039f"
             ],
             [
              0.2222222222222222,
              "#7201a8"
             ],
             [
              0.3333333333333333,
              "#9c179e"
             ],
             [
              0.4444444444444444,
              "#bd3786"
             ],
             [
              0.5555555555555556,
              "#d8576b"
             ],
             [
              0.6666666666666666,
              "#ed7953"
             ],
             [
              0.7777777777777778,
              "#fb9f3a"
             ],
             [
              0.8888888888888888,
              "#fdca26"
             ],
             [
              1,
              "#f0f921"
             ]
            ],
            "type": "histogram2dcontour"
           }
          ],
          "mesh3d": [
           {
            "colorbar": {
             "outlinewidth": 0,
             "ticks": ""
            },
            "type": "mesh3d"
           }
          ],
          "parcoords": [
           {
            "line": {
             "colorbar": {
              "outlinewidth": 0,
              "ticks": ""
             }
            },
            "type": "parcoords"
           }
          ],
          "pie": [
           {
            "automargin": true,
            "type": "pie"
           }
          ],
          "scatter": [
           {
            "fillpattern": {
             "fillmode": "overlay",
             "size": 10,
             "solidity": 0.2
            },
            "type": "scatter"
           }
          ],
          "scatter3d": [
           {
            "line": {
             "colorbar": {
              "outlinewidth": 0,
              "ticks": ""
             }
            },
            "marker": {
             "colorbar": {
              "outlinewidth": 0,
              "ticks": ""
             }
            },
            "type": "scatter3d"
           }
          ],
          "scattercarpet": [
           {
            "marker": {
             "colorbar": {
              "outlinewidth": 0,
              "ticks": ""
             }
            },
            "type": "scattercarpet"
           }
          ],
          "scattergeo": [
           {
            "marker": {
             "colorbar": {
              "outlinewidth": 0,
              "ticks": ""
             }
            },
            "type": "scattergeo"
           }
          ],
          "scattergl": [
           {
            "marker": {
             "colorbar": {
              "outlinewidth": 0,
              "ticks": ""
             }
            },
            "type": "scattergl"
           }
          ],
          "scattermapbox": [
           {
            "marker": {
             "colorbar": {
              "outlinewidth": 0,
              "ticks": ""
             }
            },
            "type": "scattermapbox"
           }
          ],
          "scatterpolar": [
           {
            "marker": {
             "colorbar": {
              "outlinewidth": 0,
              "ticks": ""
             }
            },
            "type": "scatterpolar"
           }
          ],
          "scatterpolargl": [
           {
            "marker": {
             "colorbar": {
              "outlinewidth": 0,
              "ticks": ""
             }
            },
            "type": "scatterpolargl"
           }
          ],
          "scatterternary": [
           {
            "marker": {
             "colorbar": {
              "outlinewidth": 0,
              "ticks": ""
             }
            },
            "type": "scatterternary"
           }
          ],
          "surface": [
           {
            "colorbar": {
             "outlinewidth": 0,
             "ticks": ""
            },
            "colorscale": [
             [
              0,
              "#0d0887"
             ],
             [
              0.1111111111111111,
              "#46039f"
             ],
             [
              0.2222222222222222,
              "#7201a8"
             ],
             [
              0.3333333333333333,
              "#9c179e"
             ],
             [
              0.4444444444444444,
              "#bd3786"
             ],
             [
              0.5555555555555556,
              "#d8576b"
             ],
             [
              0.6666666666666666,
              "#ed7953"
             ],
             [
              0.7777777777777778,
              "#fb9f3a"
             ],
             [
              0.8888888888888888,
              "#fdca26"
             ],
             [
              1,
              "#f0f921"
             ]
            ],
            "type": "surface"
           }
          ],
          "table": [
           {
            "cells": {
             "fill": {
              "color": "#EBF0F8"
             },
             "line": {
              "color": "white"
             }
            },
            "header": {
             "fill": {
              "color": "#C8D4E3"
             },
             "line": {
              "color": "white"
             }
            },
            "type": "table"
           }
          ]
         },
         "layout": {
          "annotationdefaults": {
           "arrowcolor": "#2a3f5f",
           "arrowhead": 0,
           "arrowwidth": 1
          },
          "autotypenumbers": "strict",
          "coloraxis": {
           "colorbar": {
            "outlinewidth": 0,
            "ticks": ""
           }
          },
          "colorscale": {
           "diverging": [
            [
             0,
             "#8e0152"
            ],
            [
             0.1,
             "#c51b7d"
            ],
            [
             0.2,
             "#de77ae"
            ],
            [
             0.3,
             "#f1b6da"
            ],
            [
             0.4,
             "#fde0ef"
            ],
            [
             0.5,
             "#f7f7f7"
            ],
            [
             0.6,
             "#e6f5d0"
            ],
            [
             0.7,
             "#b8e186"
            ],
            [
             0.8,
             "#7fbc41"
            ],
            [
             0.9,
             "#4d9221"
            ],
            [
             1,
             "#276419"
            ]
           ],
           "sequential": [
            [
             0,
             "#0d0887"
            ],
            [
             0.1111111111111111,
             "#46039f"
            ],
            [
             0.2222222222222222,
             "#7201a8"
            ],
            [
             0.3333333333333333,
             "#9c179e"
            ],
            [
             0.4444444444444444,
             "#bd3786"
            ],
            [
             0.5555555555555556,
             "#d8576b"
            ],
            [
             0.6666666666666666,
             "#ed7953"
            ],
            [
             0.7777777777777778,
             "#fb9f3a"
            ],
            [
             0.8888888888888888,
             "#fdca26"
            ],
            [
             1,
             "#f0f921"
            ]
           ],
           "sequentialminus": [
            [
             0,
             "#0d0887"
            ],
            [
             0.1111111111111111,
             "#46039f"
            ],
            [
             0.2222222222222222,
             "#7201a8"
            ],
            [
             0.3333333333333333,
             "#9c179e"
            ],
            [
             0.4444444444444444,
             "#bd3786"
            ],
            [
             0.5555555555555556,
             "#d8576b"
            ],
            [
             0.6666666666666666,
             "#ed7953"
            ],
            [
             0.7777777777777778,
             "#fb9f3a"
            ],
            [
             0.8888888888888888,
             "#fdca26"
            ],
            [
             1,
             "#f0f921"
            ]
           ]
          },
          "colorway": [
           "#636efa",
           "#EF553B",
           "#00cc96",
           "#ab63fa",
           "#FFA15A",
           "#19d3f3",
           "#FF6692",
           "#B6E880",
           "#FF97FF",
           "#FECB52"
          ],
          "font": {
           "color": "#2a3f5f"
          },
          "geo": {
           "bgcolor": "white",
           "lakecolor": "white",
           "landcolor": "#E5ECF6",
           "showlakes": true,
           "showland": true,
           "subunitcolor": "white"
          },
          "hoverlabel": {
           "align": "left"
          },
          "hovermode": "closest",
          "mapbox": {
           "style": "light"
          },
          "paper_bgcolor": "white",
          "plot_bgcolor": "#E5ECF6",
          "polar": {
           "angularaxis": {
            "gridcolor": "white",
            "linecolor": "white",
            "ticks": ""
           },
           "bgcolor": "#E5ECF6",
           "radialaxis": {
            "gridcolor": "white",
            "linecolor": "white",
            "ticks": ""
           }
          },
          "scene": {
           "xaxis": {
            "backgroundcolor": "#E5ECF6",
            "gridcolor": "white",
            "gridwidth": 2,
            "linecolor": "white",
            "showbackground": true,
            "ticks": "",
            "zerolinecolor": "white"
           },
           "yaxis": {
            "backgroundcolor": "#E5ECF6",
            "gridcolor": "white",
            "gridwidth": 2,
            "linecolor": "white",
            "showbackground": true,
            "ticks": "",
            "zerolinecolor": "white"
           },
           "zaxis": {
            "backgroundcolor": "#E5ECF6",
            "gridcolor": "white",
            "gridwidth": 2,
            "linecolor": "white",
            "showbackground": true,
            "ticks": "",
            "zerolinecolor": "white"
           }
          },
          "shapedefaults": {
           "line": {
            "color": "#2a3f5f"
           }
          },
          "ternary": {
           "aaxis": {
            "gridcolor": "white",
            "linecolor": "white",
            "ticks": ""
           },
           "baxis": {
            "gridcolor": "white",
            "linecolor": "white",
            "ticks": ""
           },
           "bgcolor": "#E5ECF6",
           "caxis": {
            "gridcolor": "white",
            "linecolor": "white",
            "ticks": ""
           }
          },
          "title": {
           "x": 0.05
          },
          "xaxis": {
           "automargin": true,
           "gridcolor": "white",
           "linecolor": "white",
           "ticks": "",
           "title": {
            "standoff": 15
           },
           "zerolinecolor": "white",
           "zerolinewidth": 2
          },
          "yaxis": {
           "automargin": true,
           "gridcolor": "white",
           "linecolor": "white",
           "ticks": "",
           "title": {
            "standoff": 15
           },
           "zerolinecolor": "white",
           "zerolinewidth": 2
          }
         }
        },
        "title": {
         "text": "St. Vrain Actual Natural Flow vs. St. Vrain Predicted Natural Flow"
        },
        "xaxis": {
         "autorange": true,
         "range": [
          1898.3156996587031,
          2027.6843003412969
         ],
         "title": {
          "text": "Calendar Year from 1906-2020"
         },
         "type": "linear"
        },
        "yaxis": {
         "autorange": true,
         "range": [
          -2.459301779143531,
          2.3991251885434517
         ],
         "title": {
          "text": "Water Volume in Acre-Ft"
         },
         "type": "linear"
        }
       }
      },
      "image/png": "[encoded data removed]",
      "text/html": [
       "<div>                            <div id=\"d7516602-06ca-4968-9a21-a4eba95cd475\" class=\"plotly-graph-div\" style=\"height:525px; width:100%;\"></div>            <script type=\"text/javascript\">                require([\"plotly\"], function(Plotly) {                    window.PLOTLYENV=window.PLOTLYENV || {};                                    if (document.getElementById(\"d7516602-06ca-4968-9a21-a4eba95cd475\")) {                    Plotly.newPlot(                        \"d7516602-06ca-4968-9a21-a4eba95cd475\",                        [{\"mode\":\"markers+lines\",\"name\":\"St. Vrain Actual NF\",\"x\":[1906,1907,1908,1909,1910,1911,1912,1913,1914,1915,1916,1917,1918,1919,1920,1921,1922,1923,1924,1925,1926,1927,1928,1929,1930,1931,1932,1933,1934,1935,1936,1937,1938,1939,1940,1941,1942,1943,1944,1945,1946,1947,1948,1949,1950,1951,1952,1953,1954,1955,1956,1957,1958,1959,1960,1961,1962,1963,1964,1965,1966,1967,1968,1969,1970,1971,1972,1973,1974,1975,1976,1977,1978,1979,1980,1981,1982,1983,1984,1985,1986,1987,1988,1989,1990,1991,1992,1993,1994,1995,1996,1997,1998,1999,2000,2001,2002,2003,2004,2005,2006,2007,2008,2009,2010,2011,2012,2013,2014,2015,2016,2017,2018,2019,2020],\"y\":[0.8739308595092585,2.054986611665624,-0.8241192991688989,1.3612890495128684,-1.2678667301715334,-0.5521727924934683,0.9706385134106931,-0.42452378257090273,1.8123579948003383,0.7823800982780121,0.09934648084447396,1.1072325038290793,0.45800518278899915,-0.863337149598974,0.524217138060554,1.7422306210199365,-1.0530598675886227,2.0370648180031785,1.1211115482994634,-1.0394673171554716,1.3695018785802062,-0.08012611714640529,0.35668179162103675,-0.03428707118917447,-0.5152787270320586,-0.9106404984131716,-0.7173843539643202,0.3108427456638068,-1.076647876654114,0.028295959610766343,0.5885191330838916,-0.5204037870314433,0.8136397810071785,-0.9230552400265883,-1.093009869447181,-0.07172229205424607,1.327196259082179,0.22534019188525037,-0.24724763886547457,0.06270707674949293,-0.9386532487203681,1.4247952277661156,-0.6537190123570555,1.0737445341436584,-0.8444946796998634,0.8029537653626021,1.0686315400134165,-0.7877123946398802,-2.032759999734153,-1.381889026483349,-1.1066547082447418,1.9686761957680186,-0.4441751728443494,-0.29197402466085287,-0.6179225159267038,0.2528955325977468,-0.9335815998326918,-1.1393404324790637,-1.5654567441114413,0.5796941458391989,-1.8956265307044153,-0.41008235016765326,-0.9391220499495411,1.657326350841802,0.17817274239749012,0.4113993092210453,-0.7325130953275681,0.37232301289427316,-0.5667686246362181,0.0439120993542671,-1.1104069707577402,-1.6263430662950165,0.4024290566509085,1.017331075968517,1.738996689601282,-1.6227666910873149,0.21323294525331868,1.6713093916128974,1.6172533597850145,-0.361947857618096,0.7118148266679775,-0.4750433949239376,-0.6444228699247547,-0.783051381049515,0.21719040962249664,0.019815538528605667,-0.7214615096447526,-0.01958321785787725,-0.7507760605275524,2.0517243184189904,0.6466778946063964,1.4730550839925225,0.26139675235375875,0.808230384521506,-0.6304398291536593,-1.0359480115154287,-2.115163202265703,0.2648558693579291,-0.4149778801650808,-0.12558463385008128,-0.7123446843202019,-0.5865266319312252,-0.5650097515832502,-0.12737282145393208,0.22959046464592095,1.2448706199208088,-1.5496562011856123,-0.21079923079531587,1.242871514123357,1.542894436447591,-0.27936680370633954,0.5810702881158415,-1.0531871982718375,0.048509705571073175,-0.8481847982964451],\"type\":\"scatter\"},{\"mode\":\"markers+lines\",\"name\":\"St. Vrain Predicted Train NF\",\"x\":[1906,1907,1908,1909,1910,1911,1912,1913,1914,1915,1916,1917,1918,1919,1920,1921,1922,1923,1924,1925,1926,1927,1928,1929,1930,1931,1932,1933,1934,1935,1936,1937,1938,1939,1940,1941,1942,1943,1944,1945,1946,1947,1948,1949,1950,1951,1952,1953,1954,1955,1956,1957,1958,1959,1960,1961,1962,1963,1964,1965,1966,1967,1968,1969,1970,1971,1972,1973,1974,1975,1976,1977,1978,1979,1980,1981,1982,1983,1984,1985,1986,1987,1988,1989,1990,1991,1992,1993,1994,1995,1996,1997,1998,1999,2000,2001,2002,2003,2004,2005,2006,2007,2008,2009,2010,2011,2012,2013,2014,2015,2016,2017,2018,2019,2020],\"y\":[0.8739308595092585,2.054986611665624,-0.8241192991688989,1.3612890495128684,-1.2678667301715334,-0.5521727924934683,0.9706385134106931,-0.42452378257090273,1.8123579948003383,0.7823800982780121,0.09934648084447396,1.1072325038290793,0.45800518278899915,-0.863337149598974,0.524217138060554,1.7422306210199365,-1.0530598675886227,2.0370648180031785,1.1211115482994634,-1.0394673171554716,1.3695018785802062,-0.08012611714640529,0.35668179162103675,-0.03428707118917447,-0.5152787270320586,-0.9106404984131716,-0.7173843539643202,0.3108427456638068,-1.076647876654114,0.028295959610766343,0.5885191330838916,-0.5204037870314433,0.8136397810071785,-0.9230552400265883,-1.093009869447181,-0.07172229205424607,1.327196259082179,0.22534019188525037,-0.24724763886547457,0.06270707674949293,-0.9386532487203681,1.4247952277661156,-0.6537190123570555,1.0737445341436584,-0.8444946796998634,0.8029537653626021,1.0686315400134165,-0.7877123946398802,-2.032759999734153,-1.381889026483349,-1.1066547082447418,1.9686761957680186,-0.4441751728443494,-0.29197402466085287,-0.6179225159267038,0.2528955325977468,-0.9335815998326918,-1.1393404324790637,-1.5654567441114413,0.5796941458391989,-1.8956265307044153,-0.41008235016765326,-0.9391220499495411,1.657326350841802,0.17817274239749012,0.4113993092210453,-0.7325130953275681,0.37232301289427316,-0.5667686246362181,0.0439120993542671,-1.1104069707577402,-1.6263430662950165,0.4024290566509085,1.017331075968517,1.738996689601282,-1.6227666910873149,0.21323294525331868,1.6713093916128974,1.6172533597850145,-0.361947857618096,0.7118148266679775,-0.4750433949239376,-0.6444228699247547,-0.783051381049515,0.21719040962249664,0.019815538528605667],\"type\":\"scatter\"},{\"mode\":\"markers+lines\",\"name\":\"St. Vrain Predicted Test NF\",\"x\":[1992,1993,1994,1995,1996,1997,1998,1999,2000,2001,2002,2003,2004,2005,2006,2007,2008,2009,2010,2011,2012,2013,2014,2015,2016,2017,2018,2019,2020],\"y\":[-0.543005931164884,0.41494962651653783,-0.552239249007925,0.06941832520028327,0.3968869272163963,1.260842663307717,-0.7598710712343725,-0.1850318820673365,-0.6349518876747865,-0.6096489933297374,-1.380051087809215,-0.2445724966139323,-1.2379908530692947,-0.1493518524076312,-0.4679643175468666,-0.5972774268393114,0.06003618263105674,0.4927477821046852,-0.1395338072572416,1.441506806354929,-1.3787499004152313,-0.05392492541164147,0.6707210179360844,-0.3851875283526603,-0.1905979178858332,0.45940968047804487,-1.1489348047732464,0.44511579994870853,-0.4775204419932001],\"type\":\"scatter\"}],                        {\"template\":{\"data\":{\"histogram2dcontour\":[{\"type\":\"histogram2dcontour\",\"colorbar\":{\"outlinewidth\":0,\"ticks\":\"\"},\"colorscale\":[[0.0,\"#0d0887\"],[0.1111111111111111,\"#46039f\"],[0.2222222222222222,\"#7201a8\"],[0.3333333333333333,\"#9c179e\"],[0.4444444444444444,\"#bd3786\"],[0.5555555555555556,\"#d8576b\"],[0.6666666666666666,\"#ed7953\"],[0.7777777777777778,\"#fb9f3a\"],[0.8888888888888888,\"#fdca26\"],[1.0,\"#f0f921\"]]}],\"choropleth\":[{\"type\":\"choropleth\",\"colorbar\":{\"outlinewidth\":0,\"ticks\":\"\"}}],\"histogram2d\":[{\"type\":\"histogram2d\",\"colorbar\":{\"outlinewidth\":0,\"ticks\":\"\"},\"colorscale\":[[0.0,\"#0d0887\"],[0.1111111111111111,\"#46039f\"],[0.2222222222222222,\"#7201a8\"],[0.3333333333333333,\"#9c179e\"],[0.4444444444444444,\"#bd3786\"],[0.5555555555555556,\"#d8576b\"],[0.6666666666666666,\"#ed7953\"],[0.7777777777777778,\"#fb9f3a\"],[0.8888888888888888,\"#fdca26\"],[1.0,\"#f0f921\"]]}],\"heatmap\":[{\"type\":\"heatmap\",\"colorbar\":{\"outlinewidth\":0,\"ticks\":\"\"},\"colorscale\":[[0.0,\"#0d0887\"],[0.1111111111111111,\"#46039f\"],[0.2222222222222222,\"#7201a8\"],[0.3333333333333333,\"#9c179e\"],[0.4444444444444444,\"#bd3786\"],[0.5555555555555556,\"#d8576b\"],[0.6666666666666666,\"#ed7953\"],[0.7777777777777778,\"#fb9f3a\"],[0.8888888888888888,\"#fdca26\"],[1.0,\"#f0f921\"]]}],\"heatmapgl\":[{\"type\":\"heatmapgl\",\"colorbar\":{\"outlinewidth\":0,\"ticks\":\"\"},\"colorscale\":[[0.0,\"#0d0887\"],[0.1111111111111111,\"#46039f\"],[0.2222222222222222,\"#7201a8\"],[0.3333333333333333,\"#9c179e\"],[0.4444444444444444,\"#bd3786\"],[0.5555555555555556,\"#d8576b\"],[0.6666666666666666,\"#ed7953\"],[0.7777777777777778,\"#fb9f3a\"],[0.8888888888888888,\"#fdca26\"],[1.0,\"#f0f921\"]]}],\"contourcarpet\":[{\"type\":\"contourcarpet\",\"colorbar\":{\"outlinewidth\":0,\"ticks\":\"\"}}],\"contour\":[{\"type\":\"contour\",\"colorbar\":{\"outlinewidth\":0,\"ticks\":\"\"},\"colorscale\":[[0.0,\"#0d0887\"],[0.1111111111111111,\"#46039f\"],[0.2222222222222222,\"#7201a8\"],[0.3333333333333333,\"#9c179e\"],[0.4444444444444444,\"#bd3786\"],[0.5555555555555556,\"#d8576b\"],[0.6666666666666666,\"#ed7953\"],[0.7777777777777778,\"#fb9f3a\"],[0.8888888888888888,\"#fdca26\"],[1.0,\"#f0f921\"]]}],\"surface\":[{\"type\":\"surface\",\"colorbar\":{\"outlinewidth\":0,\"ticks\":\"\"},\"colorscale\":[[0.0,\"#0d0887\"],[0.1111111111111111,\"#46039f\"],[0.2222222222222222,\"#7201a8\"],[0.3333333333333333,\"#9c179e\"],[0.4444444444444444,\"#bd3786\"],[0.5555555555555556,\"#d8576b\"],[0.6666666666666666,\"#ed7953\"],[0.7777777777777778,\"#fb9f3a\"],[0.8888888888888888,\"#fdca26\"],[1.0,\"#f0f921\"]]}],\"mesh3d\":[{\"type\":\"mesh3d\",\"colorbar\":{\"outlinewidth\":0,\"ticks\":\"\"}}],\"scatter\":[{\"fillpattern\":{\"fillmode\":\"overlay\",\"size\":10,\"solidity\":0.2},\"type\":\"scatter\"}],\"parcoords\":[{\"type\":\"parcoords\",\"line\":{\"colorbar\":{\"outlinewidth\":0,\"ticks\":\"\"}}}],\"scatterpolargl\":[{\"type\":\"scatterpolargl\",\"marker\":{\"colorbar\":{\"outlinewidth\":0,\"ticks\":\"\"}}}],\"bar\":[{\"error_x\":{\"color\":\"#2a3f5f\"},\"error_y\":{\"color\":\"#2a3f5f\"},\"marker\":{\"line\":{\"color\":\"#E5ECF6\",\"width\":0.5},\"pattern\":{\"fillmode\":\"overlay\",\"size\":10,\"solidity\":0.2}},\"type\":\"bar\"}],\"scattergeo\":[{\"type\":\"scattergeo\",\"marker\":{\"colorbar\":{\"outlinewidth\":0,\"ticks\":\"\"}}}],\"scatterpolar\":[{\"type\":\"scatterpolar\",\"marker\":{\"colorbar\":{\"outlinewidth\":0,\"ticks\":\"\"}}}],\"histogram\":[{\"marker\":{\"pattern\":{\"fillmode\":\"overlay\",\"size\":10,\"solidity\":0.2}},\"type\":\"histogram\"}],\"scattergl\":[{\"type\":\"scattergl\",\"marker\":{\"colorbar\":{\"outlinewidth\":0,\"ticks\":\"\"}}}],\"scatter3d\":[{\"type\":\"scatter3d\",\"line\":{\"colorbar\":{\"outlinewidth\":0,\"ticks\":\"\"}},\"marker\":{\"colorbar\":{\"outlinewidth\":0,\"ticks\":\"\"}}}],\"scattermapbox\":[{\"type\":\"scattermapbox\",\"marker\":{\"colorbar\":{\"outlinewidth\":0,\"ticks\":\"\"}}}],\"scatterternary\":[{\"type\":\"scatterternary\",\"marker\":{\"colorbar\":{\"outlinewidth\":0,\"ticks\":\"\"}}}],\"scattercarpet\":[{\"type\":\"scattercarpet\",\"marker\":{\"colorbar\":{\"outlinewidth\":0,\"ticks\":\"\"}}}],\"carpet\":[{\"aaxis\":{\"endlinecolor\":\"#2a3f5f\",\"gridcolor\":\"white\",\"linecolor\":\"white\",\"minorgridcolor\":\"white\",\"startlinecolor\":\"#2a3f5f\"},\"baxis\":{\"endlinecolor\":\"#2a3f5f\",\"gridcolor\":\"white\",\"linecolor\":\"white\",\"minorgridcolor\":\"white\",\"startlinecolor\":\"#2a3f5f\"},\"type\":\"carpet\"}],\"table\":[{\"cells\":{\"fill\":{\"color\":\"#EBF0F8\"},\"line\":{\"color\":\"white\"}},\"header\":{\"fill\":{\"color\":\"#C8D4E3\"},\"line\":{\"color\":\"white\"}},\"type\":\"table\"}],\"barpolar\":[{\"marker\":{\"line\":{\"color\":\"#E5ECF6\",\"width\":0.5},\"pattern\":{\"fillmode\":\"overlay\",\"size\":10,\"solidity\":0.2}},\"type\":\"barpolar\"}],\"pie\":[{\"automargin\":true,\"type\":\"pie\"}]},\"layout\":{\"autotypenumbers\":\"strict\",\"colorway\":[\"#636efa\",\"#EF553B\",\"#00cc96\",\"#ab63fa\",\"#FFA15A\",\"#19d3f3\",\"#FF6692\",\"#B6E880\",\"#FF97FF\",\"#FECB52\"],\"font\":{\"color\":\"#2a3f5f\"},\"hovermode\":\"closest\",\"hoverlabel\":{\"align\":\"left\"},\"paper_bgcolor\":\"white\",\"plot_bgcolor\":\"#E5ECF6\",\"polar\":{\"bgcolor\":\"#E5ECF6\",\"angularaxis\":{\"gridcolor\":\"white\",\"linecolor\":\"white\",\"ticks\":\"\"},\"radialaxis\":{\"gridcolor\":\"white\",\"linecolor\":\"white\",\"ticks\":\"\"}},\"ternary\":{\"bgcolor\":\"#E5ECF6\",\"aaxis\":{\"gridcolor\":\"white\",\"linecolor\":\"white\",\"ticks\":\"\"},\"baxis\":{\"gridcolor\":\"white\",\"linecolor\":\"white\",\"ticks\":\"\"},\"caxis\":{\"gridcolor\":\"white\",\"linecolor\":\"white\",\"ticks\":\"\"}},\"coloraxis\":{\"colorbar\":{\"outlinewidth\":0,\"ticks\":\"\"}},\"colorscale\":{\"sequential\":[[0.0,\"#0d0887\"],[0.1111111111111111,\"#46039f\"],[0.2222222222222222,\"#7201a8\"],[0.3333333333333333,\"#9c179e\"],[0.4444444444444444,\"#bd3786\"],[0.5555555555555556,\"#d8576b\"],[0.6666666666666666,\"#ed7953\"],[0.7777777777777778,\"#fb9f3a\"],[0.8888888888888888,\"#fdca26\"],[1.0,\"#f0f921\"]],\"sequentialminus\":[[0.0,\"#0d0887\"],[0.1111111111111111,\"#46039f\"],[0.2222222222222222,\"#7201a8\"],[0.3333333333333333,\"#9c179e\"],[0.4444444444444444,\"#bd3786\"],[0.5555555555555556,\"#d8576b\"],[0.6666666666666666,\"#ed7953\"],[0.7777777777777778,\"#fb9f3a\"],[0.8888888888888888,\"#fdca26\"],[1.0,\"#f0f921\"]],\"diverging\":[[0,\"#8e0152\"],[0.1,\"#c51b7d\"],[0.2,\"#de77ae\"],[0.3,\"#f1b6da\"],[0.4,\"#fde0ef\"],[0.5,\"#f7f7f7\"],[0.6,\"#e6f5d0\"],[0.7,\"#b8e186\"],[0.8,\"#7fbc41\"],[0.9,\"#4d9221\"],[1,\"#276419\"]]},\"xaxis\":{\"gridcolor\":\"white\",\"linecolor\":\"white\",\"ticks\":\"\",\"title\":{\"standoff\":15},\"zerolinecolor\":\"white\",\"automargin\":true,\"zerolinewidth\":2},\"yaxis\":{\"gridcolor\":\"white\",\"linecolor\":\"white\",\"ticks\":\"\",\"title\":{\"standoff\":15},\"zerolinecolor\":\"white\",\"automargin\":true,\"zerolinewidth\":2},\"scene\":{\"xaxis\":{\"backgroundcolor\":\"#E5ECF6\",\"gridcolor\":\"white\",\"linecolor\":\"white\",\"showbackground\":true,\"ticks\":\"\",\"zerolinecolor\":\"white\",\"gridwidth\":2},\"yaxis\":{\"backgroundcolor\":\"#E5ECF6\",\"gridcolor\":\"white\",\"linecolor\":\"white\",\"showbackground\":true,\"ticks\":\"\",\"zerolinecolor\":\"white\",\"gridwidth\":2},\"zaxis\":{\"backgroundcolor\":\"#E5ECF6\",\"gridcolor\":\"white\",\"linecolor\":\"white\",\"showbackground\":true,\"ticks\":\"\",\"zerolinecolor\":\"white\",\"gridwidth\":2}},\"shapedefaults\":{\"line\":{\"color\":\"#2a3f5f\"}},\"annotationdefaults\":{\"arrowcolor\":\"#2a3f5f\",\"arrowhead\":0,\"arrowwidth\":1},\"geo\":{\"bgcolor\":\"white\",\"landcolor\":\"#E5ECF6\",\"subunitcolor\":\"white\",\"showland\":true,\"showlakes\":true,\"lakecolor\":\"white\"},\"title\":{\"x\":0.05},\"mapbox\":{\"style\":\"light\"}}},\"font\":{\"family\":\"Arial, monospace\",\"size\":14,\"color\":\"Black\"},\"title\":{\"text\":\"St. Vrain Actual Natural Flow vs. St. Vrain Predicted Natural Flow\"},\"yaxis\":{\"title\":{\"text\":\"Water Volume in Acre-Ft\"}},\"xaxis\":{\"title\":{\"text\":\"Calendar Year from 1906-2020\"}},\"legend\":{\"title\":{\"text\":\"Legend\"}},\"hovermode\":\"x unified\"},                        {\"responsive\": true}                    ).then(function(){\n",
       "                            \n",
       "var gd = document.getElementById('d7516602-06ca-4968-9a21-a4eba95cd475');\n",
       "var x = new MutationObserver(function (mutations, observer) {{\n",
       "        var display = window.getComputedStyle(gd).display;\n",
       "        if (!display || display === 'none') {{\n",
       "            console.log([gd, 'removed!']);\n",
       "            Plotly.purge(gd);\n",
       "            observer.disconnect();\n",
       "        }}\n",
       "}});\n",
       "\n",
       "// Listen for the removal of the full notebook cells\n",
       "var notebookContainer = gd.closest('#notebook-container');\n",
       "if (notebookContainer) {{\n",
       "    x.observe(notebookContainer, {childList: true});\n",
       "}}\n",
       "\n",
       "// Listen for the clearing of the current output cell\n",
       "var outputEl = gd.closest('.output');\n",
       "if (outputEl) {{\n",
       "    x.observe(outputEl, {childList: true});\n",
       "}}\n",
       "\n",
       "                        })                };                });            </script>        </div>"
      ]
     },
     "metadata": {},
     "output_type": "display_data"
    }
   ],
   "source": [
    "# graph\n",
    "fig = go.Figure()\n",
    "fig.add_trace(go.Scatter(mode='markers+lines', x=nf_stvrain_df.index.values,\n",
    "                         y=y_uc.flatten(), name=\"St. Vrain Actual NF\"))\n",
    "fig.add_trace(go.Scatter(mode='markers+lines', x=nf_stvrain_df.index.values,\n",
    "                         y=neigh_y_train_pred_uc.flatten(), name=\"St. Vrain Predicted Train NF\"))\n",
    "fig.add_trace(go.Scatter(mode='markers+lines', x=nf_stvrain_df.index.values[len(neigh_y_train_pred_uc.flatten()):],\n",
    "                         y=neigh_y_test_pred_uc.flatten(), name=\"St. Vrain Predicted Test NF\"))\n",
    "\n",
    "fig.update_layout(\n",
    "        title=\"St. Vrain Actual Natural Flow vs. St. Vrain Predicted Natural Flow\",\n",
    "        yaxis_title=\"Water Volume in Acre-Ft\",\n",
    "        xaxis_title=\"Calendar Year from 1906-2020\",\n",
    "        legend_title=\"Legend\",\n",
    "        font=dict(\n",
    "            family=\"Arial, monospace\",\n",
    "            size=14,\n",
    "            color=\"Black\")\n",
    "    )\n",
    "fig.update_traces(mode=\"markers+lines\", hovertemplate=None)\n",
    "fig.update_layout(hovermode=\"x unified\")\n",
    "fig.show()"
   ]
  },
  {
   "cell_type": "code",
   "execution_count": 13,
   "id": "3db2ccc3-e08f-43c1-9d54-ae887422f9e6",
   "metadata": {
    "collapsed": true,
    "jupyter": {
     "outputs_hidden": true
    },
    "tags": []
   },
   "outputs": [
    {
     "data": {
      "text/html": [
       "<div>\n",
       "<style scoped>\n",
       "    .dataframe tbody tr th:only-of-type {\n",
       "        vertical-align: middle;\n",
       "    }\n",
       "\n",
       "    .dataframe tbody tr th {\n",
       "        vertical-align: top;\n",
       "    }\n",
       "\n",
       "    .dataframe thead th {\n",
       "        text-align: right;\n",
       "    }\n",
       "</style>\n",
       "<table border=\"1\" class=\"dataframe\">\n",
       "  <thead>\n",
       "    <tr style=\"text-align: right;\">\n",
       "      <th></th>\n",
       "      <th>Values</th>\n",
       "    </tr>\n",
       "    <tr>\n",
       "      <th>Year</th>\n",
       "      <th></th>\n",
       "    </tr>\n",
       "  </thead>\n",
       "  <tbody>\n",
       "    <tr>\n",
       "      <th>1950</th>\n",
       "      <td>0.321503</td>\n",
       "    </tr>\n",
       "    <tr>\n",
       "      <th>1951</th>\n",
       "      <td>-0.537511</td>\n",
       "    </tr>\n",
       "    <tr>\n",
       "      <th>1952</th>\n",
       "      <td>1.405533</td>\n",
       "    </tr>\n",
       "    <tr>\n",
       "      <th>1953</th>\n",
       "      <td>-0.770418</td>\n",
       "    </tr>\n",
       "    <tr>\n",
       "      <th>1954</th>\n",
       "      <td>-0.009765</td>\n",
       "    </tr>\n",
       "    <tr>\n",
       "      <th>...</th>\n",
       "      <td>...</td>\n",
       "    </tr>\n",
       "    <tr>\n",
       "      <th>2095</th>\n",
       "      <td>0.848480</td>\n",
       "    </tr>\n",
       "    <tr>\n",
       "      <th>2096</th>\n",
       "      <td>0.293631</td>\n",
       "    </tr>\n",
       "    <tr>\n",
       "      <th>2097</th>\n",
       "      <td>-0.462874</td>\n",
       "    </tr>\n",
       "    <tr>\n",
       "      <th>2098</th>\n",
       "      <td>-0.655593</td>\n",
       "    </tr>\n",
       "    <tr>\n",
       "      <th>2099</th>\n",
       "      <td>-0.045240</td>\n",
       "    </tr>\n",
       "  </tbody>\n",
       "</table>\n",
       "<p>150 rows × 1 columns</p>\n",
       "</div>"
      ],
      "text/plain": [
       "        Values\n",
       "Year          \n",
       "1950  0.321503\n",
       "1951 -0.537511\n",
       "1952  1.405533\n",
       "1953 -0.770418\n",
       "1954 -0.009765\n",
       "...        ...\n",
       "2095  0.848480\n",
       "2096  0.293631\n",
       "2097 -0.462874\n",
       "2098 -0.655593\n",
       "2099 -0.045240\n",
       "\n",
       "[150 rows x 1 columns]"
      ]
     },
     "metadata": {},
     "output_type": "display_data"
    },
    {
     "data": {
      "text/html": [
       "<div>\n",
       "<style scoped>\n",
       "    .dataframe tbody tr th:only-of-type {\n",
       "        vertical-align: middle;\n",
       "    }\n",
       "\n",
       "    .dataframe tbody tr th {\n",
       "        vertical-align: top;\n",
       "    }\n",
       "\n",
       "    .dataframe thead th {\n",
       "        text-align: right;\n",
       "    }\n",
       "</style>\n",
       "<table border=\"1\" class=\"dataframe\">\n",
       "  <thead>\n",
       "    <tr style=\"text-align: right;\">\n",
       "      <th></th>\n",
       "      <th>Values</th>\n",
       "    </tr>\n",
       "    <tr>\n",
       "      <th>Year</th>\n",
       "      <th></th>\n",
       "    </tr>\n",
       "  </thead>\n",
       "  <tbody>\n",
       "    <tr>\n",
       "      <th>1950</th>\n",
       "      <td>0.547497</td>\n",
       "    </tr>\n",
       "    <tr>\n",
       "      <th>1951</th>\n",
       "      <td>-0.507327</td>\n",
       "    </tr>\n",
       "    <tr>\n",
       "      <th>1952</th>\n",
       "      <td>1.544783</td>\n",
       "    </tr>\n",
       "    <tr>\n",
       "      <th>1953</th>\n",
       "      <td>-0.473632</td>\n",
       "    </tr>\n",
       "    <tr>\n",
       "      <th>1954</th>\n",
       "      <td>0.213450</td>\n",
       "    </tr>\n",
       "    <tr>\n",
       "      <th>...</th>\n",
       "      <td>...</td>\n",
       "    </tr>\n",
       "    <tr>\n",
       "      <th>2095</th>\n",
       "      <td>-0.038825</td>\n",
       "    </tr>\n",
       "    <tr>\n",
       "      <th>2096</th>\n",
       "      <td>-0.981147</td>\n",
       "    </tr>\n",
       "    <tr>\n",
       "      <th>2097</th>\n",
       "      <td>-0.027292</td>\n",
       "    </tr>\n",
       "    <tr>\n",
       "      <th>2098</th>\n",
       "      <td>-1.579077</td>\n",
       "    </tr>\n",
       "    <tr>\n",
       "      <th>2099</th>\n",
       "      <td>-0.394560</td>\n",
       "    </tr>\n",
       "  </tbody>\n",
       "</table>\n",
       "<p>150 rows × 1 columns</p>\n",
       "</div>"
      ],
      "text/plain": [
       "        Values\n",
       "Year          \n",
       "1950  0.547497\n",
       "1951 -0.507327\n",
       "1952  1.544783\n",
       "1953 -0.473632\n",
       "1954  0.213450\n",
       "...        ...\n",
       "2095 -0.038825\n",
       "2096 -0.981147\n",
       "2097 -0.027292\n",
       "2098 -1.579077\n",
       "2099 -0.394560\n",
       "\n",
       "[150 rows x 1 columns]"
      ]
     },
     "metadata": {},
     "output_type": "display_data"
    },
    {
     "data": {
      "text/html": [
       "<div>\n",
       "<style scoped>\n",
       "    .dataframe tbody tr th:only-of-type {\n",
       "        vertical-align: middle;\n",
       "    }\n",
       "\n",
       "    .dataframe tbody tr th {\n",
       "        vertical-align: top;\n",
       "    }\n",
       "\n",
       "    .dataframe thead th {\n",
       "        text-align: right;\n",
       "    }\n",
       "</style>\n",
       "<table border=\"1\" class=\"dataframe\">\n",
       "  <thead>\n",
       "    <tr style=\"text-align: right;\">\n",
       "      <th></th>\n",
       "      <th>Values</th>\n",
       "    </tr>\n",
       "    <tr>\n",
       "      <th>Year</th>\n",
       "      <th></th>\n",
       "    </tr>\n",
       "  </thead>\n",
       "  <tbody>\n",
       "    <tr>\n",
       "      <th>1950</th>\n",
       "      <td>1.101612</td>\n",
       "    </tr>\n",
       "    <tr>\n",
       "      <th>1951</th>\n",
       "      <td>-0.140838</td>\n",
       "    </tr>\n",
       "    <tr>\n",
       "      <th>1952</th>\n",
       "      <td>1.849451</td>\n",
       "    </tr>\n",
       "    <tr>\n",
       "      <th>1953</th>\n",
       "      <td>-0.381993</td>\n",
       "    </tr>\n",
       "    <tr>\n",
       "      <th>1954</th>\n",
       "      <td>0.653200</td>\n",
       "    </tr>\n",
       "    <tr>\n",
       "      <th>...</th>\n",
       "      <td>...</td>\n",
       "    </tr>\n",
       "    <tr>\n",
       "      <th>2095</th>\n",
       "      <td>0.199615</td>\n",
       "    </tr>\n",
       "    <tr>\n",
       "      <th>2096</th>\n",
       "      <td>0.056236</td>\n",
       "    </tr>\n",
       "    <tr>\n",
       "      <th>2097</th>\n",
       "      <td>-0.798349</td>\n",
       "    </tr>\n",
       "    <tr>\n",
       "      <th>2098</th>\n",
       "      <td>-0.988148</td>\n",
       "    </tr>\n",
       "    <tr>\n",
       "      <th>2099</th>\n",
       "      <td>-0.424030</td>\n",
       "    </tr>\n",
       "  </tbody>\n",
       "</table>\n",
       "<p>150 rows × 1 columns</p>\n",
       "</div>"
      ],
      "text/plain": [
       "        Values\n",
       "Year          \n",
       "1950  1.101612\n",
       "1951 -0.140838\n",
       "1952  1.849451\n",
       "1953 -0.381993\n",
       "1954  0.653200\n",
       "...        ...\n",
       "2095  0.199615\n",
       "2096  0.056236\n",
       "2097 -0.798349\n",
       "2098 -0.988148\n",
       "2099 -0.424030\n",
       "\n",
       "[150 rows x 1 columns]"
      ]
     },
     "metadata": {},
     "output_type": "display_data"
    },
    {
     "data": {
      "text/html": [
       "<div>\n",
       "<style scoped>\n",
       "    .dataframe tbody tr th:only-of-type {\n",
       "        vertical-align: middle;\n",
       "    }\n",
       "\n",
       "    .dataframe tbody tr th {\n",
       "        vertical-align: top;\n",
       "    }\n",
       "\n",
       "    .dataframe thead th {\n",
       "        text-align: right;\n",
       "    }\n",
       "</style>\n",
       "<table border=\"1\" class=\"dataframe\">\n",
       "  <thead>\n",
       "    <tr style=\"text-align: right;\">\n",
       "      <th></th>\n",
       "      <th>Values</th>\n",
       "    </tr>\n",
       "    <tr>\n",
       "      <th>Year</th>\n",
       "      <th></th>\n",
       "    </tr>\n",
       "  </thead>\n",
       "  <tbody>\n",
       "    <tr>\n",
       "      <th>1950</th>\n",
       "      <td>1.003261</td>\n",
       "    </tr>\n",
       "    <tr>\n",
       "      <th>1951</th>\n",
       "      <td>-0.059281</td>\n",
       "    </tr>\n",
       "    <tr>\n",
       "      <th>1952</th>\n",
       "      <td>1.795409</td>\n",
       "    </tr>\n",
       "    <tr>\n",
       "      <th>1953</th>\n",
       "      <td>-0.324712</td>\n",
       "    </tr>\n",
       "    <tr>\n",
       "      <th>1954</th>\n",
       "      <td>0.636011</td>\n",
       "    </tr>\n",
       "    <tr>\n",
       "      <th>...</th>\n",
       "      <td>...</td>\n",
       "    </tr>\n",
       "    <tr>\n",
       "      <th>2095</th>\n",
       "      <td>-0.954092</td>\n",
       "    </tr>\n",
       "    <tr>\n",
       "      <th>2096</th>\n",
       "      <td>-1.013970</td>\n",
       "    </tr>\n",
       "    <tr>\n",
       "      <th>2097</th>\n",
       "      <td>-0.695472</td>\n",
       "    </tr>\n",
       "    <tr>\n",
       "      <th>2098</th>\n",
       "      <td>-1.303759</td>\n",
       "    </tr>\n",
       "    <tr>\n",
       "      <th>2099</th>\n",
       "      <td>-0.955694</td>\n",
       "    </tr>\n",
       "  </tbody>\n",
       "</table>\n",
       "<p>150 rows × 1 columns</p>\n",
       "</div>"
      ],
      "text/plain": [
       "        Values\n",
       "Year          \n",
       "1950  1.003261\n",
       "1951 -0.059281\n",
       "1952  1.795409\n",
       "1953 -0.324712\n",
       "1954  0.636011\n",
       "...        ...\n",
       "2095 -0.954092\n",
       "2096 -1.013970\n",
       "2097 -0.695472\n",
       "2098 -1.303759\n",
       "2099 -0.955694\n",
       "\n",
       "[150 rows x 1 columns]"
      ]
     },
     "metadata": {},
     "output_type": "display_data"
    }
   ],
   "source": [
    "# CMIP5 scaled\n",
    "# UpperColoradReach.Inflow maps to GlenwoodNF\n",
    "# read-in \n",
    "df_g45_cmip5 = pd.read_csv(\"./cmip5/GlenwoodNF_csiro_mk3_RCP4.5.Inflow\",\n",
    "                        header=None, delimiter=r\"\\s+\",\n",
    "                        names=['Year', 'Month', 'Value'], engine=\"python\")\n",
    "df_g85_cmip5 = pd.read_csv(\"./cmip5/GlenwoodNF_csiro_mk3_RCP8.5.Inflow\",\n",
    "                        header=None, delimiter=r\"\\s+\",\n",
    "                        names=['Year', 'Month', 'Value'], engine=\"python\")\n",
    "# sum to annual values\n",
    "df_g45_cmip5 = df_g45_cmip5.groupby(['Year']).sum()[\"Value\"]\n",
    "df_g85_cmip5 = df_g85_cmip5.groupby(['Year']).sum()[\"Value\"]\n",
    "\n",
    "# St. Vrain CMIP5 data\n",
    "# read-in\n",
    "df_stvrain_cmip5 = pd.read_csv(\"./cmip5/streamflow_cmip5_ncar_month_STVLC_af.csv\", header=0)\n",
    "\n",
    "# select RCP4.5/8.5 from St. Vrain data and summarize to annual values\n",
    "df_v45_cmip5 = df_stvrain_cmip5.groupby([\"Year\"]).sum()[\"csiro-mk3-6-0_rcp45_r1i1p1\"]\n",
    "df_v85_cmip5 = df_stvrain_cmip5.groupby([\"Year\"]).sum()[\"csiro-mk3-6-0_rcp85_r1i1p1\"]\n",
    "\n",
    "# scaler objects\n",
    "g45_SS = StandardScaler()\n",
    "g85_SS = StandardScaler()\n",
    "v45_SS = StandardScaler()\n",
    "v85_SS = StandardScaler()\n",
    "\n",
    "# apply scaler objects and create new scaled dataframes\n",
    "df_g45_SS = pd.DataFrame(g45_SS.fit_transform(df_g45_cmip5.values.reshape(-1,1)),\n",
    "                             columns=['Values'], index=df_g45_cmip5.index)\n",
    "df_g85_SS = pd.DataFrame(g85_SS.fit_transform(df_g85_cmip5.values.reshape(-1,1)),\n",
    "                              columns=['Values'], index=df_g85_cmip5.index)\n",
    "df_v45_SS = pd.DataFrame(v45_SS.fit_transform(df_v45_cmip5.values.reshape(-1,1)),\n",
    "                                columns=['Values'], index=df_v45_cmip5.index)\n",
    "df_v85_SS = pd.DataFrame(v85_SS.fit_transform(df_v85_cmip5.values.reshape(-1,1)),\n",
    "                                 columns=['Values'], index=df_v85_cmip5.index)\n",
    "\n",
    "display(df_g45_SS)\n",
    "display(df_g85_SS)\n",
    "display(df_v45_SS)\n",
    "display(df_v85_SS)"
   ]
  },
  {
   "cell_type": "code",
   "execution_count": 26,
   "id": "69a949ef-1d52-477b-98dd-7f0b3cddf48b",
   "metadata": {},
   "outputs": [
    {
     "data": {
      "application/vnd.plotly.v1+json": {
       "config": {
        "plotlyServerURL": "https://plot.ly"
       },
       "data": [
        {
         "mode": "markers",
         "name": "UpperColoradoReach v St. Vrain NF CMIP5 (45)",
         "type": "scatter",
         "visible": true,
         "x": [
          1.1016116470966335,
          -0.14083761962193897,
          1.849450739893322,
          -0.3819926920020408,
          0.6531997580784311,
          1.8844805428545186,
          0.6514403482094938,
          1.3805385916163848,
          1.821766488307277,
          2.673055323723779,
          0.6028281812213153,
          -0.4301746685872467,
          -1.3259682702665423,
          -0.4746952738126687,
          0.7797942601418336,
          2.0728767660185343,
          -0.5049093500184291,
          -1.358064667770869,
          1.8009545152806528,
          0.7714780871901437,
          2.4802951054136786,
          1.028839749865199,
          0.9597856115884876,
          -0.8279203732325686,
          0.43030402560936304,
          0.7949434303101315,
          2.721510366618372,
          2.2527585105789054,
          0.8884905541237847,
          0.7442861158457594,
          0.25376687012173854,
          -0.5602157638309576,
          -0.8742922549170665,
          0.3843274887378219,
          -0.03216159987628879,
          -0.30530346319385204,
          -1.2060363366231057,
          0.5711733782880438,
          0.5374696268086362,
          1.2623838073394857,
          0.6336561818088698,
          -0.22078400570728116,
          1.0800837457403634,
          -0.3768424431425497,
          -1.3826881673564522,
          -1.1138570795742115,
          -0.41172779330802994,
          1.8005889480176902,
          1.8848980621193303,
          0.7456558828260725,
          0.32414072455072146,
          1.0347376054587205,
          1.9694010469186698,
          -0.23797198770283745,
          -0.33597053829845963,
          -0.8369214296744155,
          -0.798516626525585,
          -1.0236919253217296,
          0.2096542810071436,
          0.6164897411794014,
          0.1863257880638587,
          -0.18217519450303707,
          0.4240773499958283,
          0.03893895348552987,
          -0.3777021905433101,
          -0.5750361138195323,
          0.04483174055990289,
          0.5092753553236204,
          -0.13664658769177762,
          -1.2074878337940966,
          -0.9403331587200371,
          -0.32080172761846365,
          0.5135506513846164,
          -1.0420234919500395,
          -0.31698006402120854,
          -0.46585514285376883,
          -1.5830302565872674,
          -1.042119160248957,
          -0.49091200082650094,
          -0.49536722915753983,
          -0.7458559797082809,
          -1.251025779710003,
          -1.4397622272218242,
          -0.48263130766855483,
          -0.7923533072416905,
          -0.16909461387170124,
          0.3064820035198828,
          0.3583697014865436,
          2.1047349431229074,
          -0.8814458361294896,
          -0.013325081868156482,
          0.753339124608873,
          2.1391014034809093,
          0.43867025018763955,
          -0.37810703866996065,
          0.519411126649421,
          -1.5109875925482434,
          -1.7137163207328447,
          -1.1048756636440629,
          -0.5457020590911239,
          -1.0398801419153547,
          0.2548585025929349,
          0.29526220282102533,
          -0.4357912215277659,
          0.8790143238521093,
          1.1716484448425697,
          -1.263811752825574,
          -0.1363253704504859,
          -0.45542919896645745,
          -0.5952075527388355,
          -0.26236740392676333,
          -0.7269763794471003,
          -0.7673287609188176,
          0.6902962495624909,
          0.22117439130580768,
          -0.2845345722605679,
          -1.5793695186326684,
          -0.8798511532925692,
          0.3239297472814796,
          -0.8066135858644181,
          -0.875093080942441,
          -1.415964896257355,
          0.9241089387113265,
          2.4509274719056235,
          0.08334805097027956,
          -0.5393594411020801,
          -0.37118534220855576,
          -1.1618838327605117,
          -0.7049574651386642,
          0.01443456378050558,
          -0.35853051686622917,
          -0.8291235129653107,
          0.810481609482742,
          -0.7829188924126947,
          -0.8836272000577841,
          -0.6004040521549692,
          0.2796188521955126,
          -0.47809561643633375,
          -0.9898139433369024,
          -0.7965804520513632,
          -0.162893914099382,
          -0.8117239202953281,
          0.20437351761988423,
          -1.369435890479271,
          -0.9070500940104904,
          0.19961544526975597,
          0.05623590848305796,
          -0.7983487318288095,
          -0.9881483012319107,
          -0.4240297228449725
         ],
         "y": [
          0.32150281969406674,
          -0.5375114090740458,
          1.405532603031209,
          -0.7704175223987417,
          -0.009765076585491975,
          1.1238717890433714,
          -0.06259969185870799,
          2.0323203952935884,
          3.0009890611594208,
          1.7111919323299076,
          0.9932216693869329,
          -0.6468315791577404,
          -1.177032917531821,
          -0.39039121137810817,
          0.87673518593033,
          1.9811292589488843,
          -0.6887560906866697,
          -1.5327784444328618,
          1.5179818835882692,
          0.4752712172625812,
          1.162282783032806,
          0.04660162735970287,
          1.0163529467574801,
          -1.1595006124604927,
          0.5766618307723061,
          0.2375405168878249,
          1.1053143984623661,
          1.1040478978870039,
          0.836342731920424,
          -0.04570806578804016,
          0.6600001684857009,
          -0.2400304799422764,
          -0.45047942104137606,
          0.17315697609433256,
          -0.19460359273624564,
          -0.5849921813773654,
          -1.1820209241966644,
          1.7879377815254334,
          -0.07249399547385534,
          0.7162275946940893,
          -0.023273177844341592,
          -0.426885741153798,
          1.2699891858829377,
          -0.6233233226912274,
          -1.5680176154955823,
          -0.9027371202720441,
          -0.09294185135166289,
          2.233187015323965,
          1.1924318106589167,
          0.19664480476080262,
          0.8726251126360266,
          0.1711900531605973,
          1.1052958252871392,
          -0.6823934677520401,
          -0.6057828704185444,
          -0.8692048406331392,
          -0.6710976260017965,
          -1.1217220609467886,
          -0.030365794254444113,
          1.0328396211542255,
          -0.058052163508853616,
          0.8496670223481163,
          0.8403701636380349,
          0.0014199575066413089,
          -0.060451351074227375,
          -0.6475984207432077,
          -0.05402515872450157,
          -0.05178201572935777,
          0.07173011021271304,
          -1.1691731867372266,
          -1.0968899717265952,
          -0.5262199928333643,
          0.20399927592168204,
          -1.058049008405685,
          0.1800616573754354,
          -0.585041315285757,
          -2.260961307098487,
          -1.068688801929371,
          -0.3673536266374417,
          -0.4946558829441572,
          -0.5126351020847179,
          -1.1384969966313074,
          -1.8601651235149732,
          -0.3826090013752562,
          -0.9799386548889545,
          0.04872621865854082,
          0.8942355519741721,
          1.0505619091114213,
          2.15628580550566,
          -0.6617650653461706,
          0.9955985206733177,
          1.0524395465401521,
          1.137166793223741,
          0.21559863249206815,
          -0.06045364414594354,
          1.492946411274727,
          -2.4490672244432017,
          -2.947783114127447,
          -1.0717632831446346,
          -0.046741415306823804,
          -1.0864134171278006,
          1.0188868238734847,
          -0.3394293168372538,
          -0.8671894697812067,
          0.11594264528312846,
          1.0927318775513466,
          -1.0768344738272535,
          -0.5147227849197941,
          0.05496258764204617,
          -0.09082118917587054,
          1.0014316124749365,
          -0.4663794518145019,
          0.09190002492539714,
          1.610122931042169,
          0.11258757699362157,
          -0.4803178748708234,
          -1.9436092929505666,
          -0.669878525974654,
          0.7732403000993268,
          -0.7937644460051585,
          -0.6725657148423458,
          -0.9420661464887248,
          1.069293276388032,
          2.55398025619848,
          0.7134381637605206,
          -0.5208245674183308,
          -0.0676557994851346,
          -1.164738553914393,
          -0.6470540897524468,
          0.8126492285745207,
          0.23592065280962995,
          -0.44307051616859777,
          0.7682155233201249,
          -1.0515225359517513,
          -0.41881048965916823,
          -0.430561561113433,
          0.8557443780988987,
          -0.552635761170373,
          -0.4275681574766448,
          -0.4786571587209172,
          0.7197146720841823,
          -1.0092440068708652,
          0.6352869303164952,
          -1.5332478260737379,
          -0.6780764148370206,
          0.848479807865738,
          0.29363060633653454,
          -0.46287382074809114,
          -0.655592911841618,
          -0.0452401413656413
         ]
        },
        {
         "mode": "markers",
         "name": "UpperColoradoReach v St. Vrain NF CMIP5 (85)",
         "type": "scatter",
         "visible": true,
         "x": [
          1.0032613824979484,
          -0.0592810080939172,
          1.795408915374512,
          -0.3247118739953667,
          0.6360113768703808,
          1.6128547064682786,
          0.5381711096808885,
          1.3042682871678275,
          2.120638059797887,
          2.47671077437419,
          0.6362778573241785,
          -0.24816083930331165,
          -1.1134387109139294,
          -0.30970127164253425,
          0.8156589394785513,
          1.9969050335013991,
          -0.20768728563749317,
          -1.0890250633427074,
          1.4165197183082485,
          0.9968555291446163,
          2.7743898218272927,
          0.8748211029680665,
          1.051999277938208,
          -0.6732996316239989,
          0.43409175450608906,
          0.5885692083687546,
          2.4811767625358927,
          2.0663745575039534,
          0.9358984891995084,
          0.8293967381118537,
          0.35474181240017433,
          -0.496773618416361,
          -0.7349265985699973,
          0.46511641665977216,
          0.031238202276059484,
          -0.27203923308162903,
          -1.126024625046442,
          0.5232275571769249,
          0.5862029739887734,
          1.4787008505837316,
          1.0239460187572265,
          -0.05834689280223174,
          1.0057061284085804,
          -0.2949095846525386,
          -1.1598544986039727,
          -1.0437542832310613,
          -0.3086227409806006,
          1.5313201954933862,
          1.6772845923661994,
          0.8067848443520004,
          0.4625163670628978,
          1.0526130428283804,
          1.8397564685104673,
          -0.18762157224910414,
          -0.25464806942716395,
          -0.66097675977301,
          -0.3111608984204012,
          -0.859659643853307,
          1.7510900156484777,
          -0.3798407223570576,
          -0.8489453987653617,
          -1.1477213151956511,
          0.009457842759943927,
          1.2375466670269755,
          1.3534990284239807,
          -0.09613500812921019,
          -1.024358496699102,
          0.8732829646595486,
          -0.3413465761866265,
          -1.2357642602829015,
          -0.9796739742214401,
          2.0590116660732156,
          -0.8114214717291779,
          -1.4202846957721418,
          -1.3178088098130525,
          -0.21869265377339941,
          1.270687128970169,
          0.39020380887225736,
          -0.14503680340870323,
          -0.5370225259506821,
          -0.5156799973047009,
          -0.06079679640465835,
          -0.7618606381981716,
          -0.20242414755509391,
          -0.6530069797966485,
          -1.3849390339038699,
          -0.23877269408344007,
          1.4464687153287892,
          -0.7084876973541029,
          -0.6969081061983998,
          0.9777858236383697,
          1.067406449337896,
          -1.0009763874867967,
          -0.8320298889097303,
          0.016945092159540112,
          -0.3277577775385006,
          -0.20995151219085373,
          0.25744081054164897,
          0.10599034854107654,
          -0.165872158883756,
          -1.0758517454224785,
          -1.3473921837930438,
          1.0717194256874378,
          1.3548360166080486,
          -0.9193433071464802,
          1.540354752286896,
          1.5904468279282835,
          0.371094560917791,
          -1.1111131649914388,
          -0.3996852279306847,
          0.1622028852564957,
          -0.13259473142511166,
          0.06165311064424964,
          -0.9964805994725193,
          -1.4093664353198772,
          -1.1318224437004185,
          -0.17972743827460205,
          -0.13435980831705205,
          -1.4074340201275073,
          -0.7921019044204052,
          -0.4750935474962677,
          -0.770395471964473,
          0.18198091420258128,
          0.11479567473262142,
          -0.5653875383689588,
          0.5850361896339267,
          -0.41084590004175536,
          -1.091702478460962,
          -1.1129349763486585,
          -0.41813601085496427,
          -0.9314747713242034,
          -0.28323027797767936,
          -0.7686389913699848,
          -0.590476270632866,
          -0.6530533990227996,
          -0.9165501305012808,
          0.45678215979659365,
          -0.4329047747703175,
          -1.4598057956865609,
          -0.7354882138987406,
          -0.8720845233864556,
          -0.8592710977381153,
          -0.8002418882259881,
          -1.290280489474769,
          -1.0767365761036825,
          -0.9540918229203125,
          -1.0139697592710817,
          -0.6954719754275808,
          -1.3037586842877447,
          -0.9556941458378294
         ],
         "y": [
          0.547496641829875,
          -0.5073265940905088,
          1.5447829070489756,
          -0.4736323616378166,
          0.2134501846740251,
          1.0110849424910833,
          0.03200965778079035,
          1.3749454326475214,
          2.6785535854180886,
          2.00363236948986,
          0.3232041554773189,
          -0.5648439755812044,
          -0.9940540706262049,
          -0.17040059496679916,
          0.7757640061255936,
          1.612244829494382,
          -0.7529397705531914,
          -1.3067651462945156,
          1.7820659799617775,
          0.0004146832479777385,
          1.156952351958292,
          0.081557694664291,
          1.0285107419349324,
          -0.9786426448083727,
          0.9339984286882234,
          0.24939875274662848,
          1.0622751671408355,
          1.0121982346306109,
          0.4583712263326415,
          -0.014433567008087265,
          0.19280367320374028,
          -0.3346520194600284,
          -0.3553915778441631,
          0.6701791682439939,
          -0.13046898731048304,
          -0.5279910620514972,
          -0.9984386796407061,
          1.276099114581892,
          -0.023130959074276147,
          0.6207535605394502,
          0.020135628310122524,
          -0.30257222441216725,
          1.088777074247501,
          -0.43189532687466775,
          -1.3377414432368053,
          -0.6366268432085673,
          -0.04110524319219756,
          1.8270645369129865,
          0.9136653364253763,
          0.8112701949322634,
          0.8240557577779187,
          0.3211763598230015,
          1.1035699063798323,
          -0.4755446293827779,
          -0.40901888031138417,
          -0.6047190782662567,
          -0.2755054305057266,
          -0.9556495903442558,
          3.310604657024456,
          -0.5977176182338548,
          -0.4771986420436216,
          -0.9833334023500824,
          0.5887572118101013,
          1.0259270236059899,
          1.1496442316433493,
          -0.021701498940054936,
          -1.5826482899288437,
          1.8091896178875921,
          -0.3649566379362173,
          -1.3167033493185891,
          -0.6364254507531082,
          3.0356451367603974,
          -0.7557133554974731,
          -1.6305308149193931,
          -0.9982875804098834,
          -0.0400355320388612,
          1.0114262710550592,
          0.7541960227795483,
          -0.10886425536084644,
          -0.5699337346356353,
          -0.637263002263312,
          -0.012738532953912965,
          -0.7558361233980622,
          0.12385037100392086,
          -0.6243567516759838,
          -2.1141196698812026,
          0.03492607355681553,
          0.7827546651005474,
          -0.841681314375985,
          -0.797794526704495,
          0.5433093100070573,
          0.9001363729710269,
          -0.9901629016536535,
          -0.4237404303943846,
          0.07339111628707792,
          -0.5000454636048979,
          -0.06406953439478548,
          0.7533806189301169,
          0.2040649173711236,
          -0.03933783550722224,
          -0.9847624685877746,
          -0.9877268285743257,
          1.7886856897782106,
          1.8067371315822869,
          -0.9804153736061326,
          1.9820609992539757,
          0.8791365170521448,
          0.7083416333076227,
          -0.9866466503512318,
          -0.38334360073825025,
          0.841390347240218,
          -0.07885580430562536,
          1.0158047476572525,
          -0.9816676480467101,
          -1.8049405161655308,
          -0.986069768561472,
          -0.1851485761108692,
          -0.002567210602623153,
          -1.9820769311176099,
          -0.9800214516119723,
          -0.03038005024803218,
          -0.5045212938644635,
          -0.027096098974576387,
          1.0120885301214908,
          -0.000619916755592802,
          0.7018057929260734,
          -0.8163748830710589,
          -0.9901513794047985,
          -0.9426310864287439,
          -0.028979807996902748,
          -0.9845951472842426,
          0.7585485443265892,
          -0.07201504246699017,
          -0.4015599472506611,
          -0.034872647799705156,
          -0.9842995281842198,
          1.4131212417110464,
          -0.24259720412962,
          -2.3302212471960706,
          -0.1015246225074004,
          -0.9819574044058161,
          -0.4427807575144201,
          -0.36205586342732804,
          -1.4624195963813507,
          -0.9859024950870665,
          -0.03882499414316597,
          -0.9811472380906278,
          -0.027292021442971673,
          -1.5790773942571623,
          -0.39455963136279704
         ]
        },
        {
         "mode": "markers",
         "name": "UpperColoradoReach v St.Vrain NF (Hist)",
         "type": "scatter",
         "visible": true,
         "x": [
          0.8739308595092585,
          2.054986611665624,
          -0.8241192991688989,
          1.3612890495128684,
          -1.2678667301715334,
          -0.5521727924934683,
          0.9706385134106931,
          -0.42452378257090273,
          1.8123579948003383,
          0.7823800982780121,
          0.09934648084447396,
          1.1072325038290793,
          0.45800518278899915,
          -0.863337149598974,
          0.524217138060554,
          1.7422306210199365,
          -1.0530598675886227,
          2.0370648180031785,
          1.1211115482994634,
          -1.0394673171554716,
          1.3695018785802062,
          -0.08012611714640529,
          0.35668179162103675,
          -0.03428707118917447,
          -0.5152787270320586,
          -0.9106404984131716,
          -0.7173843539643202,
          0.3108427456638068,
          -1.076647876654114,
          0.028295959610766343,
          0.5885191330838916,
          -0.5204037870314433,
          0.8136397810071785,
          -0.9230552400265883,
          -1.093009869447181,
          -0.07172229205424607,
          1.327196259082179,
          0.22534019188525037,
          -0.24724763886547457,
          0.06270707674949293,
          -0.9386532487203681,
          1.4247952277661156,
          -0.6537190123570555,
          1.0737445341436584,
          -0.8444946796998634,
          0.8029537653626021,
          1.0686315400134165,
          -0.7877123946398802,
          -2.032759999734153,
          -1.381889026483349,
          -1.1066547082447418,
          1.9686761957680186,
          -0.4441751728443494,
          -0.29197402466085287,
          -0.6179225159267038,
          0.2528955325977468,
          -0.9335815998326918,
          -1.1393404324790637,
          -1.5654567441114413,
          0.5796941458391989,
          -1.8956265307044153,
          -0.41008235016765326,
          -0.9391220499495411,
          1.657326350841802,
          0.17817274239749012,
          0.4113993092210453,
          -0.7325130953275681,
          0.37232301289427316,
          -0.5667686246362181,
          0.0439120993542671,
          -1.1104069707577402,
          -1.6263430662950165,
          0.4024290566509085,
          1.017331075968517,
          1.738996689601282,
          -1.6227666910873149,
          0.21323294525331868,
          1.6713093916128974,
          1.6172533597850145,
          -0.361947857618096,
          0.7118148266679775,
          -0.4750433949239376,
          -0.6444228699247547,
          -0.783051381049515,
          0.21719040962249664,
          0.019815538528605667,
          -0.7214615096447526,
          -0.01958321785787725,
          -0.7507760605275524,
          2.0517243184189904,
          0.6466778946063964,
          1.4730550839925225,
          0.26139675235375875,
          0.808230384521506,
          -0.6304398291536593,
          -1.0359480115154287,
          -2.115163202265703,
          0.2648558693579291,
          -0.4149778801650808,
          -0.12558463385008128,
          -0.7123446843202019,
          -0.5865266319312252,
          -0.5650097515832502,
          -0.12737282145393208,
          0.22959046464592095,
          1.2448706199208088,
          -1.5496562011856123,
          -0.21079923079531587,
          1.242871514123357,
          1.542894436447591,
          -0.27936680370633954,
          0.5810702881158415,
          -1.0531871982718375,
          0.048509705571073175,
          -0.8481847982964451
         ],
         "y": [
          1.1438949931826752,
          1.708979910613305,
          -0.8327138825734189,
          1.9472965959390818,
          -0.4817689298481378,
          0.1797708258436555,
          1.557428560731944,
          -0.5120142363140431,
          1.7179026310126069,
          -0.6048889816678279,
          0.39723351435793464,
          1.6186753063254022,
          1.3403013395252974,
          -0.7965686113955026,
          1.309997459402504,
          1.5300782128837553,
          -0.12063038586501074,
          0.9944505199899896,
          0.20912332778184067,
          -0.39132232881626366,
          0.9478915626010717,
          0.7446125738502344,
          1.324140335102054,
          1.3656442084055904,
          0.02518962043780511,
          -1.4775832205229715,
          0.027736687032791852,
          -0.15700462679258098,
          -1.854556176418208,
          -0.6767677334661436,
          0.5279557168579928,
          -0.9737752229938937,
          0.8273540765623612,
          -0.5359655371034167,
          -1.1493843712226068,
          -0.4956402367748426,
          -0.1729863603265605,
          -0.22423831010373274,
          -0.8883925808438992,
          -0.33332730865975024,
          -0.76104990085036,
          0.578002469270708,
          -0.2217089931017424,
          0.13998333818287306,
          -0.8284717298472738,
          0.2866677496646147,
          1.3110091862033,
          -0.4201476678424551,
          -1.8966156119825324,
          -1.2607399928042675,
          -0.44159095114143404,
          1.7365787527634435,
          -0.209949887741612,
          -0.5839054128274563,
          -0.3533612742748132,
          -0.805920871945318,
          1.0529851277735942,
          -1.506154740369314,
          -1.1342688178268527,
          0.8159535129807585,
          -1.5276796717960766,
          -0.627324467215307,
          -0.4867370409278367,
          -0.23239957296348815,
          0.5514189038399648,
          0.6762943904070011,
          -0.17085995908558899,
          0.40146856724688124,
          0.4400828068106001,
          0.05635968069882404,
          -0.7710411467480467,
          -1.8629357592718192,
          0.6573449249240196,
          0.5735277968763096,
          0.15327245845929516,
          -1.5229068062393385,
          0.23292553199004432,
          1.5445885051583315,
          2.470446324956362,
          0.945507792261652,
          1.2376554432269815,
          -1.0161452764356558,
          -0.45773598093098067,
          -0.9570391317575663,
          -1.056216757584381,
          -0.467192964079475,
          -0.9116569723843112,
          0.6585572221256754,
          -0.9936760666614836,
          0.7418241127904963,
          0.7128354775087378,
          1.495427457436138,
          -0.4074105599082217,
          -0.09072942150323607,
          -0.543239320313351,
          -0.9664517409235696,
          -2.1773378499360643,
          -0.20802050698290078,
          -1.4399310088996589,
          -0.32163920167160553,
          -0.11202005830244581,
          -0.47306097952409254,
          0.742038882865753,
          0.6427955835448514,
          -0.07510267982918502,
          2.5848957005972992,
          -1.7048632089235725,
          -0.6748223780737357,
          1.2967349635155763,
          0.17892594521702573,
          -0.02064692851615838,
          0.11153961540610474,
          -1.1435944539871736,
          0.7672308802055766,
          -0.7167043177080961
         ]
        }
       ],
       "layout": {
        "autosize": false,
        "font": {
         "color": "Black",
         "family": "Arial, monospace",
         "size": 14
        },
        "height": 800,
        "legend": {
         "title": {
          "text": "Legend"
         }
        },
        "template": {
         "data": {
          "bar": [
           {
            "error_x": {
             "color": "#2a3f5f"
            },
            "error_y": {
             "color": "#2a3f5f"
            },
            "marker": {
             "line": {
              "color": "#E5ECF6",
              "width": 0.5
             },
             "pattern": {
              "fillmode": "overlay",
              "size": 10,
              "solidity": 0.2
             }
            },
            "type": "bar"
           }
          ],
          "barpolar": [
           {
            "marker": {
             "line": {
              "color": "#E5ECF6",
              "width": 0.5
             },
             "pattern": {
              "fillmode": "overlay",
              "size": 10,
              "solidity": 0.2
             }
            },
            "type": "barpolar"
           }
          ],
          "carpet": [
           {
            "aaxis": {
             "endlinecolor": "#2a3f5f",
             "gridcolor": "white",
             "linecolor": "white",
             "minorgridcolor": "white",
             "startlinecolor": "#2a3f5f"
            },
            "baxis": {
             "endlinecolor": "#2a3f5f",
             "gridcolor": "white",
             "linecolor": "white",
             "minorgridcolor": "white",
             "startlinecolor": "#2a3f5f"
            },
            "type": "carpet"
           }
          ],
          "choropleth": [
           {
            "colorbar": {
             "outlinewidth": 0,
             "ticks": ""
            },
            "type": "choropleth"
           }
          ],
          "contour": [
           {
            "colorbar": {
             "outlinewidth": 0,
             "ticks": ""
            },
            "colorscale": [
             [
              0,
              "#0d0887"
             ],
             [
              0.1111111111111111,
              "#46039f"
             ],
             [
              0.2222222222222222,
              "#7201a8"
             ],
             [
              0.3333333333333333,
              "#9c179e"
             ],
             [
              0.4444444444444444,
              "#bd3786"
             ],
             [
              0.5555555555555556,
              "#d8576b"
             ],
             [
              0.6666666666666666,
              "#ed7953"
             ],
             [
              0.7777777777777778,
              "#fb9f3a"
             ],
             [
              0.8888888888888888,
              "#fdca26"
             ],
             [
              1,
              "#f0f921"
             ]
            ],
            "type": "contour"
           }
          ],
          "contourcarpet": [
           {
            "colorbar": {
             "outlinewidth": 0,
             "ticks": ""
            },
            "type": "contourcarpet"
           }
          ],
          "heatmap": [
           {
            "colorbar": {
             "outlinewidth": 0,
             "ticks": ""
            },
            "colorscale": [
             [
              0,
              "#0d0887"
             ],
             [
              0.1111111111111111,
              "#46039f"
             ],
             [
              0.2222222222222222,
              "#7201a8"
             ],
             [
              0.3333333333333333,
              "#9c179e"
             ],
             [
              0.4444444444444444,
              "#bd3786"
             ],
             [
              0.5555555555555556,
              "#d8576b"
             ],
             [
              0.6666666666666666,
              "#ed7953"
             ],
             [
              0.7777777777777778,
              "#fb9f3a"
             ],
             [
              0.8888888888888888,
              "#fdca26"
             ],
             [
              1,
              "#f0f921"
             ]
            ],
            "type": "heatmap"
           }
          ],
          "heatmapgl": [
           {
            "colorbar": {
             "outlinewidth": 0,
             "ticks": ""
            },
            "colorscale": [
             [
              0,
              "#0d0887"
             ],
             [
              0.1111111111111111,
              "#46039f"
             ],
             [
              0.2222222222222222,
              "#7201a8"
             ],
             [
              0.3333333333333333,
              "#9c179e"
             ],
             [
              0.4444444444444444,
              "#bd3786"
             ],
             [
              0.5555555555555556,
              "#d8576b"
             ],
             [
              0.6666666666666666,
              "#ed7953"
             ],
             [
              0.7777777777777778,
              "#fb9f3a"
             ],
             [
              0.8888888888888888,
              "#fdca26"
             ],
             [
              1,
              "#f0f921"
             ]
            ],
            "type": "heatmapgl"
           }
          ],
          "histogram": [
           {
            "marker": {
             "pattern": {
              "fillmode": "overlay",
              "size": 10,
              "solidity": 0.2
             }
            },
            "type": "histogram"
           }
          ],
          "histogram2d": [
           {
            "colorbar": {
             "outlinewidth": 0,
             "ticks": ""
            },
            "colorscale": [
             [
              0,
              "#0d0887"
             ],
             [
              0.1111111111111111,
              "#46039f"
             ],
             [
              0.2222222222222222,
              "#7201a8"
             ],
             [
              0.3333333333333333,
              "#9c179e"
             ],
             [
              0.4444444444444444,
              "#bd3786"
             ],
             [
              0.5555555555555556,
              "#d8576b"
             ],
             [
              0.6666666666666666,
              "#ed7953"
             ],
             [
              0.7777777777777778,
              "#fb9f3a"
             ],
             [
              0.8888888888888888,
              "#fdca26"
             ],
             [
              1,
              "#f0f921"
             ]
            ],
            "type": "histogram2d"
           }
          ],
          "histogram2dcontour": [
           {
            "colorbar": {
             "outlinewidth": 0,
             "ticks": ""
            },
            "colorscale": [
             [
              0,
              "#0d0887"
             ],
             [
              0.1111111111111111,
              "#46039f"
             ],
             [
              0.2222222222222222,
              "#7201a8"
             ],
             [
              0.3333333333333333,
              "#9c179e"
             ],
             [
              0.4444444444444444,
              "#bd3786"
             ],
             [
              0.5555555555555556,
              "#d8576b"
             ],
             [
              0.6666666666666666,
              "#ed7953"
             ],
             [
              0.7777777777777778,
              "#fb9f3a"
             ],
             [
              0.8888888888888888,
              "#fdca26"
             ],
             [
              1,
              "#f0f921"
             ]
            ],
            "type": "histogram2dcontour"
           }
          ],
          "mesh3d": [
           {
            "colorbar": {
             "outlinewidth": 0,
             "ticks": ""
            },
            "type": "mesh3d"
           }
          ],
          "parcoords": [
           {
            "line": {
             "colorbar": {
              "outlinewidth": 0,
              "ticks": ""
             }
            },
            "type": "parcoords"
           }
          ],
          "pie": [
           {
            "automargin": true,
            "type": "pie"
           }
          ],
          "scatter": [
           {
            "fillpattern": {
             "fillmode": "overlay",
             "size": 10,
             "solidity": 0.2
            },
            "type": "scatter"
           }
          ],
          "scatter3d": [
           {
            "line": {
             "colorbar": {
              "outlinewidth": 0,
              "ticks": ""
             }
            },
            "marker": {
             "colorbar": {
              "outlinewidth": 0,
              "ticks": ""
             }
            },
            "type": "scatter3d"
           }
          ],
          "scattercarpet": [
           {
            "marker": {
             "colorbar": {
              "outlinewidth": 0,
              "ticks": ""
             }
            },
            "type": "scattercarpet"
           }
          ],
          "scattergeo": [
           {
            "marker": {
             "colorbar": {
              "outlinewidth": 0,
              "ticks": ""
             }
            },
            "type": "scattergeo"
           }
          ],
          "scattergl": [
           {
            "marker": {
             "colorbar": {
              "outlinewidth": 0,
              "ticks": ""
             }
            },
            "type": "scattergl"
           }
          ],
          "scattermapbox": [
           {
            "marker": {
             "colorbar": {
              "outlinewidth": 0,
              "ticks": ""
             }
            },
            "type": "scattermapbox"
           }
          ],
          "scatterpolar": [
           {
            "marker": {
             "colorbar": {
              "outlinewidth": 0,
              "ticks": ""
             }
            },
            "type": "scatterpolar"
           }
          ],
          "scatterpolargl": [
           {
            "marker": {
             "colorbar": {
              "outlinewidth": 0,
              "ticks": ""
             }
            },
            "type": "scatterpolargl"
           }
          ],
          "scatterternary": [
           {
            "marker": {
             "colorbar": {
              "outlinewidth": 0,
              "ticks": ""
             }
            },
            "type": "scatterternary"
           }
          ],
          "surface": [
           {
            "colorbar": {
             "outlinewidth": 0,
             "ticks": ""
            },
            "colorscale": [
             [
              0,
              "#0d0887"
             ],
             [
              0.1111111111111111,
              "#46039f"
             ],
             [
              0.2222222222222222,
              "#7201a8"
             ],
             [
              0.3333333333333333,
              "#9c179e"
             ],
             [
              0.4444444444444444,
              "#bd3786"
             ],
             [
              0.5555555555555556,
              "#d8576b"
             ],
             [
              0.6666666666666666,
              "#ed7953"
             ],
             [
              0.7777777777777778,
              "#fb9f3a"
             ],
             [
              0.8888888888888888,
              "#fdca26"
             ],
             [
              1,
              "#f0f921"
             ]
            ],
            "type": "surface"
           }
          ],
          "table": [
           {
            "cells": {
             "fill": {
              "color": "#EBF0F8"
             },
             "line": {
              "color": "white"
             }
            },
            "header": {
             "fill": {
              "color": "#C8D4E3"
             },
             "line": {
              "color": "white"
             }
            },
            "type": "table"
           }
          ]
         },
         "layout": {
          "annotationdefaults": {
           "arrowcolor": "#2a3f5f",
           "arrowhead": 0,
           "arrowwidth": 1
          },
          "autotypenumbers": "strict",
          "coloraxis": {
           "colorbar": {
            "outlinewidth": 0,
            "ticks": ""
           }
          },
          "colorscale": {
           "diverging": [
            [
             0,
             "#8e0152"
            ],
            [
             0.1,
             "#c51b7d"
            ],
            [
             0.2,
             "#de77ae"
            ],
            [
             0.3,
             "#f1b6da"
            ],
            [
             0.4,
             "#fde0ef"
            ],
            [
             0.5,
             "#f7f7f7"
            ],
            [
             0.6,
             "#e6f5d0"
            ],
            [
             0.7,
             "#b8e186"
            ],
            [
             0.8,
             "#7fbc41"
            ],
            [
             0.9,
             "#4d9221"
            ],
            [
             1,
             "#276419"
            ]
           ],
           "sequential": [
            [
             0,
             "#0d0887"
            ],
            [
             0.1111111111111111,
             "#46039f"
            ],
            [
             0.2222222222222222,
             "#7201a8"
            ],
            [
             0.3333333333333333,
             "#9c179e"
            ],
            [
             0.4444444444444444,
             "#bd3786"
            ],
            [
             0.5555555555555556,
             "#d8576b"
            ],
            [
             0.6666666666666666,
             "#ed7953"
            ],
            [
             0.7777777777777778,
             "#fb9f3a"
            ],
            [
             0.8888888888888888,
             "#fdca26"
            ],
            [
             1,
             "#f0f921"
            ]
           ],
           "sequentialminus": [
            [
             0,
             "#0d0887"
            ],
            [
             0.1111111111111111,
             "#46039f"
            ],
            [
             0.2222222222222222,
             "#7201a8"
            ],
            [
             0.3333333333333333,
             "#9c179e"
            ],
            [
             0.4444444444444444,
             "#bd3786"
            ],
            [
             0.5555555555555556,
             "#d8576b"
            ],
            [
             0.6666666666666666,
             "#ed7953"
            ],
            [
             0.7777777777777778,
             "#fb9f3a"
            ],
            [
             0.8888888888888888,
             "#fdca26"
            ],
            [
             1,
             "#f0f921"
            ]
           ]
          },
          "colorway": [
           "#636efa",
           "#EF553B",
           "#00cc96",
           "#ab63fa",
           "#FFA15A",
           "#19d3f3",
           "#FF6692",
           "#B6E880",
           "#FF97FF",
           "#FECB52"
          ],
          "font": {
           "color": "#2a3f5f"
          },
          "geo": {
           "bgcolor": "white",
           "lakecolor": "white",
           "landcolor": "#E5ECF6",
           "showlakes": true,
           "showland": true,
           "subunitcolor": "white"
          },
          "hoverlabel": {
           "align": "left"
          },
          "hovermode": "closest",
          "mapbox": {
           "style": "light"
          },
          "paper_bgcolor": "white",
          "plot_bgcolor": "#E5ECF6",
          "polar": {
           "angularaxis": {
            "gridcolor": "white",
            "linecolor": "white",
            "ticks": ""
           },
           "bgcolor": "#E5ECF6",
           "radialaxis": {
            "gridcolor": "white",
            "linecolor": "white",
            "ticks": ""
           }
          },
          "scene": {
           "xaxis": {
            "backgroundcolor": "#E5ECF6",
            "gridcolor": "white",
            "gridwidth": 2,
            "linecolor": "white",
            "showbackground": true,
            "ticks": "",
            "zerolinecolor": "white"
           },
           "yaxis": {
            "backgroundcolor": "#E5ECF6",
            "gridcolor": "white",
            "gridwidth": 2,
            "linecolor": "white",
            "showbackground": true,
            "ticks": "",
            "zerolinecolor": "white"
           },
           "zaxis": {
            "backgroundcolor": "#E5ECF6",
            "gridcolor": "white",
            "gridwidth": 2,
            "linecolor": "white",
            "showbackground": true,
            "ticks": "",
            "zerolinecolor": "white"
           }
          },
          "shapedefaults": {
           "line": {
            "color": "#2a3f5f"
           }
          },
          "ternary": {
           "aaxis": {
            "gridcolor": "white",
            "linecolor": "white",
            "ticks": ""
           },
           "baxis": {
            "gridcolor": "white",
            "linecolor": "white",
            "ticks": ""
           },
           "bgcolor": "#E5ECF6",
           "caxis": {
            "gridcolor": "white",
            "linecolor": "white",
            "ticks": ""
           }
          },
          "title": {
           "x": 0.05
          },
          "xaxis": {
           "automargin": true,
           "gridcolor": "white",
           "linecolor": "white",
           "ticks": "",
           "title": {
            "standoff": 15
           },
           "zerolinecolor": "white",
           "zerolinewidth": 2
          },
          "yaxis": {
           "automargin": true,
           "gridcolor": "white",
           "linecolor": "white",
           "ticks": "",
           "title": {
            "standoff": 15
           },
           "zerolinecolor": "white",
           "zerolinewidth": 2
          }
         }
        },
        "title": {
         "text": "UpperColoradoReach and St. Vrain NF Data for CMIP5"
        },
        "width": 800,
        "xaxis": {
         "autorange": true,
         "range": [
          -2.4522924609182097,
          3.111519080479799
         ],
         "title": {
          "text": "St. Vrain Volume in Acre-Ft"
         },
         "type": "linear"
        },
        "yaxis": {
         "autorange": true,
         "range": [
          -3.3428402895089704,
          3.7056618324059794
         ],
         "title": {
          "text": "UC Volume in Acre-Ft"
         },
         "type": "linear"
        }
       }
      },
      "image/png": "[encoded data removed]",
      "text/html": [
       "<div>                            <div id=\"5f936a12-fd37-44ec-bb70-9e13a908a76c\" class=\"plotly-graph-div\" style=\"height:800px; width:800px;\"></div>            <script type=\"text/javascript\">                require([\"plotly\"], function(Plotly) {                    window.PLOTLYENV=window.PLOTLYENV || {};                                    if (document.getElementById(\"5f936a12-fd37-44ec-bb70-9e13a908a76c\")) {                    Plotly.newPlot(                        \"5f936a12-fd37-44ec-bb70-9e13a908a76c\",                        [{\"mode\":\"markers\",\"name\":\"UpperColoradoReach v St. Vrain NF CMIP5 (45)\",\"x\":[1.1016116470966335,-0.14083761962193897,1.849450739893322,-0.3819926920020408,0.6531997580784311,1.8844805428545186,0.6514403482094938,1.3805385916163848,1.821766488307277,2.673055323723779,0.6028281812213153,-0.4301746685872467,-1.3259682702665423,-0.4746952738126687,0.7797942601418336,2.0728767660185343,-0.5049093500184291,-1.358064667770869,1.8009545152806528,0.7714780871901437,2.4802951054136786,1.028839749865199,0.9597856115884876,-0.8279203732325686,0.43030402560936304,0.7949434303101315,2.721510366618372,2.2527585105789054,0.8884905541237847,0.7442861158457594,0.25376687012173854,-0.5602157638309576,-0.8742922549170665,0.3843274887378219,-0.03216159987628879,-0.30530346319385204,-1.2060363366231057,0.5711733782880438,0.5374696268086362,1.2623838073394857,0.6336561818088698,-0.22078400570728116,1.0800837457403634,-0.3768424431425497,-1.3826881673564522,-1.1138570795742115,-0.41172779330802994,1.8005889480176902,1.8848980621193303,0.7456558828260725,0.32414072455072146,1.0347376054587205,1.9694010469186698,-0.23797198770283745,-0.33597053829845963,-0.8369214296744155,-0.798516626525585,-1.0236919253217296,0.2096542810071436,0.6164897411794014,0.1863257880638587,-0.18217519450303707,0.4240773499958283,0.03893895348552987,-0.3777021905433101,-0.5750361138195323,0.04483174055990289,0.5092753553236204,-0.13664658769177762,-1.2074878337940966,-0.9403331587200371,-0.32080172761846365,0.5135506513846164,-1.0420234919500395,-0.31698006402120854,-0.46585514285376883,-1.5830302565872674,-1.042119160248957,-0.49091200082650094,-0.49536722915753983,-0.7458559797082809,-1.251025779710003,-1.4397622272218242,-0.48263130766855483,-0.7923533072416905,-0.16909461387170124,0.3064820035198828,0.3583697014865436,2.1047349431229074,-0.8814458361294896,-0.013325081868156482,0.753339124608873,2.1391014034809093,0.43867025018763955,-0.37810703866996065,0.519411126649421,-1.5109875925482434,-1.7137163207328447,-1.1048756636440629,-0.5457020590911239,-1.0398801419153547,0.2548585025929349,0.29526220282102533,-0.4357912215277659,0.8790143238521093,1.1716484448425697,-1.263811752825574,-0.1363253704504859,-0.45542919896645745,-0.5952075527388355,-0.26236740392676333,-0.7269763794471003,-0.7673287609188176,0.6902962495624909,0.22117439130580768,-0.2845345722605679,-1.5793695186326684,-0.8798511532925692,0.3239297472814796,-0.8066135858644181,-0.875093080942441,-1.415964896257355,0.9241089387113265,2.4509274719056235,0.08334805097027956,-0.5393594411020801,-0.37118534220855576,-1.1618838327605117,-0.7049574651386642,0.01443456378050558,-0.35853051686622917,-0.8291235129653107,0.810481609482742,-0.7829188924126947,-0.8836272000577841,-0.6004040521549692,0.2796188521955126,-0.47809561643633375,-0.9898139433369024,-0.7965804520513632,-0.162893914099382,-0.8117239202953281,0.20437351761988423,-1.369435890479271,-0.9070500940104904,0.19961544526975597,0.05623590848305796,-0.7983487318288095,-0.9881483012319107,-0.4240297228449725],\"y\":[0.32150281969406674,-0.5375114090740458,1.405532603031209,-0.7704175223987417,-0.009765076585491975,1.1238717890433714,-0.06259969185870799,2.0323203952935884,3.0009890611594208,1.7111919323299076,0.9932216693869329,-0.6468315791577404,-1.177032917531821,-0.39039121137810817,0.87673518593033,1.9811292589488843,-0.6887560906866697,-1.5327784444328618,1.5179818835882692,0.4752712172625812,1.162282783032806,0.04660162735970287,1.0163529467574801,-1.1595006124604927,0.5766618307723061,0.2375405168878249,1.1053143984623661,1.1040478978870039,0.836342731920424,-0.04570806578804016,0.6600001684857009,-0.2400304799422764,-0.45047942104137606,0.17315697609433256,-0.19460359273624564,-0.5849921813773654,-1.1820209241966644,1.7879377815254334,-0.07249399547385534,0.7162275946940893,-0.023273177844341592,-0.426885741153798,1.2699891858829377,-0.6233233226912274,-1.5680176154955823,-0.9027371202720441,-0.09294185135166289,2.233187015323965,1.1924318106589167,0.19664480476080262,0.8726251126360266,0.1711900531605973,1.1052958252871392,-0.6823934677520401,-0.6057828704185444,-0.8692048406331392,-0.6710976260017965,-1.1217220609467886,-0.030365794254444113,1.0328396211542255,-0.058052163508853616,0.8496670223481163,0.8403701636380349,0.0014199575066413089,-0.060451351074227375,-0.6475984207432077,-0.05402515872450157,-0.05178201572935777,0.07173011021271304,-1.1691731867372266,-1.0968899717265952,-0.5262199928333643,0.20399927592168204,-1.058049008405685,0.1800616573754354,-0.585041315285757,-2.260961307098487,-1.068688801929371,-0.3673536266374417,-0.4946558829441572,-0.5126351020847179,-1.1384969966313074,-1.8601651235149732,-0.3826090013752562,-0.9799386548889545,0.04872621865854082,0.8942355519741721,1.0505619091114213,2.15628580550566,-0.6617650653461706,0.9955985206733177,1.0524395465401521,1.137166793223741,0.21559863249206815,-0.06045364414594354,1.492946411274727,-2.4490672244432017,-2.947783114127447,-1.0717632831446346,-0.046741415306823804,-1.0864134171278006,1.0188868238734847,-0.3394293168372538,-0.8671894697812067,0.11594264528312846,1.0927318775513466,-1.0768344738272535,-0.5147227849197941,0.05496258764204617,-0.09082118917587054,1.0014316124749365,-0.4663794518145019,0.09190002492539714,1.610122931042169,0.11258757699362157,-0.4803178748708234,-1.9436092929505666,-0.669878525974654,0.7732403000993268,-0.7937644460051585,-0.6725657148423458,-0.9420661464887248,1.069293276388032,2.55398025619848,0.7134381637605206,-0.5208245674183308,-0.0676557994851346,-1.164738553914393,-0.6470540897524468,0.8126492285745207,0.23592065280962995,-0.44307051616859777,0.7682155233201249,-1.0515225359517513,-0.41881048965916823,-0.430561561113433,0.8557443780988987,-0.552635761170373,-0.4275681574766448,-0.4786571587209172,0.7197146720841823,-1.0092440068708652,0.6352869303164952,-1.5332478260737379,-0.6780764148370206,0.848479807865738,0.29363060633653454,-0.46287382074809114,-0.655592911841618,-0.0452401413656413],\"type\":\"scatter\"},{\"mode\":\"markers\",\"name\":\"UpperColoradoReach v St. Vrain NF CMIP5 (85)\",\"x\":[1.0032613824979484,-0.0592810080939172,1.795408915374512,-0.3247118739953667,0.6360113768703808,1.6128547064682786,0.5381711096808885,1.3042682871678275,2.120638059797887,2.47671077437419,0.6362778573241785,-0.24816083930331165,-1.1134387109139294,-0.30970127164253425,0.8156589394785513,1.9969050335013991,-0.20768728563749317,-1.0890250633427074,1.4165197183082485,0.9968555291446163,2.7743898218272927,0.8748211029680665,1.051999277938208,-0.6732996316239989,0.43409175450608906,0.5885692083687546,2.4811767625358927,2.0663745575039534,0.9358984891995084,0.8293967381118537,0.35474181240017433,-0.496773618416361,-0.7349265985699973,0.46511641665977216,0.031238202276059484,-0.27203923308162903,-1.126024625046442,0.5232275571769249,0.5862029739887734,1.4787008505837316,1.0239460187572265,-0.05834689280223174,1.0057061284085804,-0.2949095846525386,-1.1598544986039727,-1.0437542832310613,-0.3086227409806006,1.5313201954933862,1.6772845923661994,0.8067848443520004,0.4625163670628978,1.0526130428283804,1.8397564685104673,-0.18762157224910414,-0.25464806942716395,-0.66097675977301,-0.3111608984204012,-0.859659643853307,1.7510900156484777,-0.3798407223570576,-0.8489453987653617,-1.1477213151956511,0.009457842759943927,1.2375466670269755,1.3534990284239807,-0.09613500812921019,-1.024358496699102,0.8732829646595486,-0.3413465761866265,-1.2357642602829015,-0.9796739742214401,2.0590116660732156,-0.8114214717291779,-1.4202846957721418,-1.3178088098130525,-0.21869265377339941,1.270687128970169,0.39020380887225736,-0.14503680340870323,-0.5370225259506821,-0.5156799973047009,-0.06079679640465835,-0.7618606381981716,-0.20242414755509391,-0.6530069797966485,-1.3849390339038699,-0.23877269408344007,1.4464687153287892,-0.7084876973541029,-0.6969081061983998,0.9777858236383697,1.067406449337896,-1.0009763874867967,-0.8320298889097303,0.016945092159540112,-0.3277577775385006,-0.20995151219085373,0.25744081054164897,0.10599034854107654,-0.165872158883756,-1.0758517454224785,-1.3473921837930438,1.0717194256874378,1.3548360166080486,-0.9193433071464802,1.540354752286896,1.5904468279282835,0.371094560917791,-1.1111131649914388,-0.3996852279306847,0.1622028852564957,-0.13259473142511166,0.06165311064424964,-0.9964805994725193,-1.4093664353198772,-1.1318224437004185,-0.17972743827460205,-0.13435980831705205,-1.4074340201275073,-0.7921019044204052,-0.4750935474962677,-0.770395471964473,0.18198091420258128,0.11479567473262142,-0.5653875383689588,0.5850361896339267,-0.41084590004175536,-1.091702478460962,-1.1129349763486585,-0.41813601085496427,-0.9314747713242034,-0.28323027797767936,-0.7686389913699848,-0.590476270632866,-0.6530533990227996,-0.9165501305012808,0.45678215979659365,-0.4329047747703175,-1.4598057956865609,-0.7354882138987406,-0.8720845233864556,-0.8592710977381153,-0.8002418882259881,-1.290280489474769,-1.0767365761036825,-0.9540918229203125,-1.0139697592710817,-0.6954719754275808,-1.3037586842877447,-0.9556941458378294],\"y\":[0.547496641829875,-0.5073265940905088,1.5447829070489756,-0.4736323616378166,0.2134501846740251,1.0110849424910833,0.03200965778079035,1.3749454326475214,2.6785535854180886,2.00363236948986,0.3232041554773189,-0.5648439755812044,-0.9940540706262049,-0.17040059496679916,0.7757640061255936,1.612244829494382,-0.7529397705531914,-1.3067651462945156,1.7820659799617775,0.0004146832479777385,1.156952351958292,0.081557694664291,1.0285107419349324,-0.9786426448083727,0.9339984286882234,0.24939875274662848,1.0622751671408355,1.0121982346306109,0.4583712263326415,-0.014433567008087265,0.19280367320374028,-0.3346520194600284,-0.3553915778441631,0.6701791682439939,-0.13046898731048304,-0.5279910620514972,-0.9984386796407061,1.276099114581892,-0.023130959074276147,0.6207535605394502,0.020135628310122524,-0.30257222441216725,1.088777074247501,-0.43189532687466775,-1.3377414432368053,-0.6366268432085673,-0.04110524319219756,1.8270645369129865,0.9136653364253763,0.8112701949322634,0.8240557577779187,0.3211763598230015,1.1035699063798323,-0.4755446293827779,-0.40901888031138417,-0.6047190782662567,-0.2755054305057266,-0.9556495903442558,3.310604657024456,-0.5977176182338548,-0.4771986420436216,-0.9833334023500824,0.5887572118101013,1.0259270236059899,1.1496442316433493,-0.021701498940054936,-1.5826482899288437,1.8091896178875921,-0.3649566379362173,-1.3167033493185891,-0.6364254507531082,3.0356451367603974,-0.7557133554974731,-1.6305308149193931,-0.9982875804098834,-0.0400355320388612,1.0114262710550592,0.7541960227795483,-0.10886425536084644,-0.5699337346356353,-0.637263002263312,-0.012738532953912965,-0.7558361233980622,0.12385037100392086,-0.6243567516759838,-2.1141196698812026,0.03492607355681553,0.7827546651005474,-0.841681314375985,-0.797794526704495,0.5433093100070573,0.9001363729710269,-0.9901629016536535,-0.4237404303943846,0.07339111628707792,-0.5000454636048979,-0.06406953439478548,0.7533806189301169,0.2040649173711236,-0.03933783550722224,-0.9847624685877746,-0.9877268285743257,1.7886856897782106,1.8067371315822869,-0.9804153736061326,1.9820609992539757,0.8791365170521448,0.7083416333076227,-0.9866466503512318,-0.38334360073825025,0.841390347240218,-0.07885580430562536,1.0158047476572525,-0.9816676480467101,-1.8049405161655308,-0.986069768561472,-0.1851485761108692,-0.002567210602623153,-1.9820769311176099,-0.9800214516119723,-0.03038005024803218,-0.5045212938644635,-0.027096098974576387,1.0120885301214908,-0.000619916755592802,0.7018057929260734,-0.8163748830710589,-0.9901513794047985,-0.9426310864287439,-0.028979807996902748,-0.9845951472842426,0.7585485443265892,-0.07201504246699017,-0.4015599472506611,-0.034872647799705156,-0.9842995281842198,1.4131212417110464,-0.24259720412962,-2.3302212471960706,-0.1015246225074004,-0.9819574044058161,-0.4427807575144201,-0.36205586342732804,-1.4624195963813507,-0.9859024950870665,-0.03882499414316597,-0.9811472380906278,-0.027292021442971673,-1.5790773942571623,-0.39455963136279704],\"type\":\"scatter\"},{\"mode\":\"markers\",\"name\":\"UpperColoradoReach v St.Vrain NF (Hist)\",\"x\":[0.8739308595092585,2.054986611665624,-0.8241192991688989,1.3612890495128684,-1.2678667301715334,-0.5521727924934683,0.9706385134106931,-0.42452378257090273,1.8123579948003383,0.7823800982780121,0.09934648084447396,1.1072325038290793,0.45800518278899915,-0.863337149598974,0.524217138060554,1.7422306210199365,-1.0530598675886227,2.0370648180031785,1.1211115482994634,-1.0394673171554716,1.3695018785802062,-0.08012611714640529,0.35668179162103675,-0.03428707118917447,-0.5152787270320586,-0.9106404984131716,-0.7173843539643202,0.3108427456638068,-1.076647876654114,0.028295959610766343,0.5885191330838916,-0.5204037870314433,0.8136397810071785,-0.9230552400265883,-1.093009869447181,-0.07172229205424607,1.327196259082179,0.22534019188525037,-0.24724763886547457,0.06270707674949293,-0.9386532487203681,1.4247952277661156,-0.6537190123570555,1.0737445341436584,-0.8444946796998634,0.8029537653626021,1.0686315400134165,-0.7877123946398802,-2.032759999734153,-1.381889026483349,-1.1066547082447418,1.9686761957680186,-0.4441751728443494,-0.29197402466085287,-0.6179225159267038,0.2528955325977468,-0.9335815998326918,-1.1393404324790637,-1.5654567441114413,0.5796941458391989,-1.8956265307044153,-0.41008235016765326,-0.9391220499495411,1.657326350841802,0.17817274239749012,0.4113993092210453,-0.7325130953275681,0.37232301289427316,-0.5667686246362181,0.0439120993542671,-1.1104069707577402,-1.6263430662950165,0.4024290566509085,1.017331075968517,1.738996689601282,-1.6227666910873149,0.21323294525331868,1.6713093916128974,1.6172533597850145,-0.361947857618096,0.7118148266679775,-0.4750433949239376,-0.6444228699247547,-0.783051381049515,0.21719040962249664,0.019815538528605667,-0.7214615096447526,-0.01958321785787725,-0.7507760605275524,2.0517243184189904,0.6466778946063964,1.4730550839925225,0.26139675235375875,0.808230384521506,-0.6304398291536593,-1.0359480115154287,-2.115163202265703,0.2648558693579291,-0.4149778801650808,-0.12558463385008128,-0.7123446843202019,-0.5865266319312252,-0.5650097515832502,-0.12737282145393208,0.22959046464592095,1.2448706199208088,-1.5496562011856123,-0.21079923079531587,1.242871514123357,1.542894436447591,-0.27936680370633954,0.5810702881158415,-1.0531871982718375,0.048509705571073175,-0.8481847982964451],\"y\":[1.1438949931826752,1.708979910613305,-0.8327138825734189,1.9472965959390818,-0.4817689298481378,0.1797708258436555,1.557428560731944,-0.5120142363140431,1.7179026310126069,-0.6048889816678279,0.39723351435793464,1.6186753063254022,1.3403013395252974,-0.7965686113955026,1.309997459402504,1.5300782128837553,-0.12063038586501074,0.9944505199899896,0.20912332778184067,-0.39132232881626366,0.9478915626010717,0.7446125738502344,1.324140335102054,1.3656442084055904,0.02518962043780511,-1.4775832205229715,0.027736687032791852,-0.15700462679258098,-1.854556176418208,-0.6767677334661436,0.5279557168579928,-0.9737752229938937,0.8273540765623612,-0.5359655371034167,-1.1493843712226068,-0.4956402367748426,-0.1729863603265605,-0.22423831010373274,-0.8883925808438992,-0.33332730865975024,-0.76104990085036,0.578002469270708,-0.2217089931017424,0.13998333818287306,-0.8284717298472738,0.2866677496646147,1.3110091862033,-0.4201476678424551,-1.8966156119825324,-1.2607399928042675,-0.44159095114143404,1.7365787527634435,-0.209949887741612,-0.5839054128274563,-0.3533612742748132,-0.805920871945318,1.0529851277735942,-1.506154740369314,-1.1342688178268527,0.8159535129807585,-1.5276796717960766,-0.627324467215307,-0.4867370409278367,-0.23239957296348815,0.5514189038399648,0.6762943904070011,-0.17085995908558899,0.40146856724688124,0.4400828068106001,0.05635968069882404,-0.7710411467480467,-1.8629357592718192,0.6573449249240196,0.5735277968763096,0.15327245845929516,-1.5229068062393385,0.23292553199004432,1.5445885051583315,2.470446324956362,0.945507792261652,1.2376554432269815,-1.0161452764356558,-0.45773598093098067,-0.9570391317575663,-1.056216757584381,-0.467192964079475,-0.9116569723843112,0.6585572221256754,-0.9936760666614836,0.7418241127904963,0.7128354775087378,1.495427457436138,-0.4074105599082217,-0.09072942150323607,-0.543239320313351,-0.9664517409235696,-2.1773378499360643,-0.20802050698290078,-1.4399310088996589,-0.32163920167160553,-0.11202005830244581,-0.47306097952409254,0.742038882865753,0.6427955835448514,-0.07510267982918502,2.5848957005972992,-1.7048632089235725,-0.6748223780737357,1.2967349635155763,0.17892594521702573,-0.02064692851615838,0.11153961540610474,-1.1435944539871736,0.7672308802055766,-0.7167043177080961],\"type\":\"scatter\"}],                        {\"template\":{\"data\":{\"histogram2dcontour\":[{\"type\":\"histogram2dcontour\",\"colorbar\":{\"outlinewidth\":0,\"ticks\":\"\"},\"colorscale\":[[0.0,\"#0d0887\"],[0.1111111111111111,\"#46039f\"],[0.2222222222222222,\"#7201a8\"],[0.3333333333333333,\"#9c179e\"],[0.4444444444444444,\"#bd3786\"],[0.5555555555555556,\"#d8576b\"],[0.6666666666666666,\"#ed7953\"],[0.7777777777777778,\"#fb9f3a\"],[0.8888888888888888,\"#fdca26\"],[1.0,\"#f0f921\"]]}],\"choropleth\":[{\"type\":\"choropleth\",\"colorbar\":{\"outlinewidth\":0,\"ticks\":\"\"}}],\"histogram2d\":[{\"type\":\"histogram2d\",\"colorbar\":{\"outlinewidth\":0,\"ticks\":\"\"},\"colorscale\":[[0.0,\"#0d0887\"],[0.1111111111111111,\"#46039f\"],[0.2222222222222222,\"#7201a8\"],[0.3333333333333333,\"#9c179e\"],[0.4444444444444444,\"#bd3786\"],[0.5555555555555556,\"#d8576b\"],[0.6666666666666666,\"#ed7953\"],[0.7777777777777778,\"#fb9f3a\"],[0.8888888888888888,\"#fdca26\"],[1.0,\"#f0f921\"]]}],\"heatmap\":[{\"type\":\"heatmap\",\"colorbar\":{\"outlinewidth\":0,\"ticks\":\"\"},\"colorscale\":[[0.0,\"#0d0887\"],[0.1111111111111111,\"#46039f\"],[0.2222222222222222,\"#7201a8\"],[0.3333333333333333,\"#9c179e\"],[0.4444444444444444,\"#bd3786\"],[0.5555555555555556,\"#d8576b\"],[0.6666666666666666,\"#ed7953\"],[0.7777777777777778,\"#fb9f3a\"],[0.8888888888888888,\"#fdca26\"],[1.0,\"#f0f921\"]]}],\"heatmapgl\":[{\"type\":\"heatmapgl\",\"colorbar\":{\"outlinewidth\":0,\"ticks\":\"\"},\"colorscale\":[[0.0,\"#0d0887\"],[0.1111111111111111,\"#46039f\"],[0.2222222222222222,\"#7201a8\"],[0.3333333333333333,\"#9c179e\"],[0.4444444444444444,\"#bd3786\"],[0.5555555555555556,\"#d8576b\"],[0.6666666666666666,\"#ed7953\"],[0.7777777777777778,\"#fb9f3a\"],[0.8888888888888888,\"#fdca26\"],[1.0,\"#f0f921\"]]}],\"contourcarpet\":[{\"type\":\"contourcarpet\",\"colorbar\":{\"outlinewidth\":0,\"ticks\":\"\"}}],\"contour\":[{\"type\":\"contour\",\"colorbar\":{\"outlinewidth\":0,\"ticks\":\"\"},\"colorscale\":[[0.0,\"#0d0887\"],[0.1111111111111111,\"#46039f\"],[0.2222222222222222,\"#7201a8\"],[0.3333333333333333,\"#9c179e\"],[0.4444444444444444,\"#bd3786\"],[0.5555555555555556,\"#d8576b\"],[0.6666666666666666,\"#ed7953\"],[0.7777777777777778,\"#fb9f3a\"],[0.8888888888888888,\"#fdca26\"],[1.0,\"#f0f921\"]]}],\"surface\":[{\"type\":\"surface\",\"colorbar\":{\"outlinewidth\":0,\"ticks\":\"\"},\"colorscale\":[[0.0,\"#0d0887\"],[0.1111111111111111,\"#46039f\"],[0.2222222222222222,\"#7201a8\"],[0.3333333333333333,\"#9c179e\"],[0.4444444444444444,\"#bd3786\"],[0.5555555555555556,\"#d8576b\"],[0.6666666666666666,\"#ed7953\"],[0.7777777777777778,\"#fb9f3a\"],[0.8888888888888888,\"#fdca26\"],[1.0,\"#f0f921\"]]}],\"mesh3d\":[{\"type\":\"mesh3d\",\"colorbar\":{\"outlinewidth\":0,\"ticks\":\"\"}}],\"scatter\":[{\"fillpattern\":{\"fillmode\":\"overlay\",\"size\":10,\"solidity\":0.2},\"type\":\"scatter\"}],\"parcoords\":[{\"type\":\"parcoords\",\"line\":{\"colorbar\":{\"outlinewidth\":0,\"ticks\":\"\"}}}],\"scatterpolargl\":[{\"type\":\"scatterpolargl\",\"marker\":{\"colorbar\":{\"outlinewidth\":0,\"ticks\":\"\"}}}],\"bar\":[{\"error_x\":{\"color\":\"#2a3f5f\"},\"error_y\":{\"color\":\"#2a3f5f\"},\"marker\":{\"line\":{\"color\":\"#E5ECF6\",\"width\":0.5},\"pattern\":{\"fillmode\":\"overlay\",\"size\":10,\"solidity\":0.2}},\"type\":\"bar\"}],\"scattergeo\":[{\"type\":\"scattergeo\",\"marker\":{\"colorbar\":{\"outlinewidth\":0,\"ticks\":\"\"}}}],\"scatterpolar\":[{\"type\":\"scatterpolar\",\"marker\":{\"colorbar\":{\"outlinewidth\":0,\"ticks\":\"\"}}}],\"histogram\":[{\"marker\":{\"pattern\":{\"fillmode\":\"overlay\",\"size\":10,\"solidity\":0.2}},\"type\":\"histogram\"}],\"scattergl\":[{\"type\":\"scattergl\",\"marker\":{\"colorbar\":{\"outlinewidth\":0,\"ticks\":\"\"}}}],\"scatter3d\":[{\"type\":\"scatter3d\",\"line\":{\"colorbar\":{\"outlinewidth\":0,\"ticks\":\"\"}},\"marker\":{\"colorbar\":{\"outlinewidth\":0,\"ticks\":\"\"}}}],\"scattermapbox\":[{\"type\":\"scattermapbox\",\"marker\":{\"colorbar\":{\"outlinewidth\":0,\"ticks\":\"\"}}}],\"scatterternary\":[{\"type\":\"scatterternary\",\"marker\":{\"colorbar\":{\"outlinewidth\":0,\"ticks\":\"\"}}}],\"scattercarpet\":[{\"type\":\"scattercarpet\",\"marker\":{\"colorbar\":{\"outlinewidth\":0,\"ticks\":\"\"}}}],\"carpet\":[{\"aaxis\":{\"endlinecolor\":\"#2a3f5f\",\"gridcolor\":\"white\",\"linecolor\":\"white\",\"minorgridcolor\":\"white\",\"startlinecolor\":\"#2a3f5f\"},\"baxis\":{\"endlinecolor\":\"#2a3f5f\",\"gridcolor\":\"white\",\"linecolor\":\"white\",\"minorgridcolor\":\"white\",\"startlinecolor\":\"#2a3f5f\"},\"type\":\"carpet\"}],\"table\":[{\"cells\":{\"fill\":{\"color\":\"#EBF0F8\"},\"line\":{\"color\":\"white\"}},\"header\":{\"fill\":{\"color\":\"#C8D4E3\"},\"line\":{\"color\":\"white\"}},\"type\":\"table\"}],\"barpolar\":[{\"marker\":{\"line\":{\"color\":\"#E5ECF6\",\"width\":0.5},\"pattern\":{\"fillmode\":\"overlay\",\"size\":10,\"solidity\":0.2}},\"type\":\"barpolar\"}],\"pie\":[{\"automargin\":true,\"type\":\"pie\"}]},\"layout\":{\"autotypenumbers\":\"strict\",\"colorway\":[\"#636efa\",\"#EF553B\",\"#00cc96\",\"#ab63fa\",\"#FFA15A\",\"#19d3f3\",\"#FF6692\",\"#B6E880\",\"#FF97FF\",\"#FECB52\"],\"font\":{\"color\":\"#2a3f5f\"},\"hovermode\":\"closest\",\"hoverlabel\":{\"align\":\"left\"},\"paper_bgcolor\":\"white\",\"plot_bgcolor\":\"#E5ECF6\",\"polar\":{\"bgcolor\":\"#E5ECF6\",\"angularaxis\":{\"gridcolor\":\"white\",\"linecolor\":\"white\",\"ticks\":\"\"},\"radialaxis\":{\"gridcolor\":\"white\",\"linecolor\":\"white\",\"ticks\":\"\"}},\"ternary\":{\"bgcolor\":\"#E5ECF6\",\"aaxis\":{\"gridcolor\":\"white\",\"linecolor\":\"white\",\"ticks\":\"\"},\"baxis\":{\"gridcolor\":\"white\",\"linecolor\":\"white\",\"ticks\":\"\"},\"caxis\":{\"gridcolor\":\"white\",\"linecolor\":\"white\",\"ticks\":\"\"}},\"coloraxis\":{\"colorbar\":{\"outlinewidth\":0,\"ticks\":\"\"}},\"colorscale\":{\"sequential\":[[0.0,\"#0d0887\"],[0.1111111111111111,\"#46039f\"],[0.2222222222222222,\"#7201a8\"],[0.3333333333333333,\"#9c179e\"],[0.4444444444444444,\"#bd3786\"],[0.5555555555555556,\"#d8576b\"],[0.6666666666666666,\"#ed7953\"],[0.7777777777777778,\"#fb9f3a\"],[0.8888888888888888,\"#fdca26\"],[1.0,\"#f0f921\"]],\"sequentialminus\":[[0.0,\"#0d0887\"],[0.1111111111111111,\"#46039f\"],[0.2222222222222222,\"#7201a8\"],[0.3333333333333333,\"#9c179e\"],[0.4444444444444444,\"#bd3786\"],[0.5555555555555556,\"#d8576b\"],[0.6666666666666666,\"#ed7953\"],[0.7777777777777778,\"#fb9f3a\"],[0.8888888888888888,\"#fdca26\"],[1.0,\"#f0f921\"]],\"diverging\":[[0,\"#8e0152\"],[0.1,\"#c51b7d\"],[0.2,\"#de77ae\"],[0.3,\"#f1b6da\"],[0.4,\"#fde0ef\"],[0.5,\"#f7f7f7\"],[0.6,\"#e6f5d0\"],[0.7,\"#b8e186\"],[0.8,\"#7fbc41\"],[0.9,\"#4d9221\"],[1,\"#276419\"]]},\"xaxis\":{\"gridcolor\":\"white\",\"linecolor\":\"white\",\"ticks\":\"\",\"title\":{\"standoff\":15},\"zerolinecolor\":\"white\",\"automargin\":true,\"zerolinewidth\":2},\"yaxis\":{\"gridcolor\":\"white\",\"linecolor\":\"white\",\"ticks\":\"\",\"title\":{\"standoff\":15},\"zerolinecolor\":\"white\",\"automargin\":true,\"zerolinewidth\":2},\"scene\":{\"xaxis\":{\"backgroundcolor\":\"#E5ECF6\",\"gridcolor\":\"white\",\"linecolor\":\"white\",\"showbackground\":true,\"ticks\":\"\",\"zerolinecolor\":\"white\",\"gridwidth\":2},\"yaxis\":{\"backgroundcolor\":\"#E5ECF6\",\"gridcolor\":\"white\",\"linecolor\":\"white\",\"showbackground\":true,\"ticks\":\"\",\"zerolinecolor\":\"white\",\"gridwidth\":2},\"zaxis\":{\"backgroundcolor\":\"#E5ECF6\",\"gridcolor\":\"white\",\"linecolor\":\"white\",\"showbackground\":true,\"ticks\":\"\",\"zerolinecolor\":\"white\",\"gridwidth\":2}},\"shapedefaults\":{\"line\":{\"color\":\"#2a3f5f\"}},\"annotationdefaults\":{\"arrowcolor\":\"#2a3f5f\",\"arrowhead\":0,\"arrowwidth\":1},\"geo\":{\"bgcolor\":\"white\",\"landcolor\":\"#E5ECF6\",\"subunitcolor\":\"white\",\"showland\":true,\"showlakes\":true,\"lakecolor\":\"white\"},\"title\":{\"x\":0.05},\"mapbox\":{\"style\":\"light\"}}},\"font\":{\"family\":\"Arial, monospace\",\"size\":14,\"color\":\"Black\"},\"title\":{\"text\":\"UpperColoradoReach and St. Vrain NF Data for CMIP5\"},\"yaxis\":{\"title\":{\"text\":\"UC Volume in Acre-Ft\"}},\"xaxis\":{\"title\":{\"text\":\"St. Vrain Volume in Acre-Ft\"}},\"legend\":{\"title\":{\"text\":\"Legend\"}},\"autosize\":false,\"width\":800,\"height\":800},                        {\"responsive\": true}                    ).then(function(){\n",
       "                            \n",
       "var gd = document.getElementById('5f936a12-fd37-44ec-bb70-9e13a908a76c');\n",
       "var x = new MutationObserver(function (mutations, observer) {{\n",
       "        var display = window.getComputedStyle(gd).display;\n",
       "        if (!display || display === 'none') {{\n",
       "            console.log([gd, 'removed!']);\n",
       "            Plotly.purge(gd);\n",
       "            observer.disconnect();\n",
       "        }}\n",
       "}});\n",
       "\n",
       "// Listen for the removal of the full notebook cells\n",
       "var notebookContainer = gd.closest('#notebook-container');\n",
       "if (notebookContainer) {{\n",
       "    x.observe(notebookContainer, {childList: true});\n",
       "}}\n",
       "\n",
       "// Listen for the clearing of the current output cell\n",
       "var outputEl = gd.closest('.output');\n",
       "if (outputEl) {{\n",
       "    x.observe(outputEl, {childList: true});\n",
       "}}\n",
       "\n",
       "                        })                };                });            </script>        </div>"
      ]
     },
     "metadata": {},
     "output_type": "display_data"
    }
   ],
   "source": [
    "# CMIP5 graph\n",
    "fig = go.Figure()\n",
    "fig.add_trace(go.Scatter(mode='markers', y=df_g45_SS[\"Values\"].values,\n",
    "                         x=df_v45_SS[\"Values\"].values, name=\"UpperColoradoReach v St. Vrain NF CMIP5 (45)\"))\n",
    "fig.add_trace(go.Scatter(mode='markers', y=df_g85_SS[\"Values\"].values,\n",
    "                         x=df_v85_SS[\"Values\"].values, name=\"UpperColoradoReach v St. Vrain NF CMIP5 (85)\"))\n",
    "fig.add_trace(go.Scatter(mode='markers', y=nf_hist_df_SS.loc[:,('UpperColoradoReach.Inflow', '(ac-ft/month)')].values,\n",
    "                             x=nf_stvrain_df_SS.iloc[:,0].values, name=\"UpperColoradoReach v St.Vrain NF (Hist)\"))\n",
    "\n",
    "fig.update_layout(\n",
    "        title=\"UpperColoradoReach and St. Vrain NF Data for CMIP5\",\n",
    "        yaxis_title=\"UC Volume in Acre-Ft\",\n",
    "        xaxis_title=\"St. Vrain Volume in Acre-Ft\",\n",
    "        legend_title=\"Legend\",\n",
    "        font=dict(\n",
    "            family=\"Arial, monospace\",\n",
    "            size=14,\n",
    "            color=\"Black\"),\n",
    "        autosize=False,\n",
    "        width=800,\n",
    "        height=800,\n",
    "    )\n",
    "fig.show()"
   ]
  },
  {
   "cell_type": "markdown",
   "id": "8a4a9b77-dbfe-4361-8f58-3ad27950d5c3",
   "metadata": {},
   "source": [
    "## Perform a comparison to CMIP5 Data"
   ]
  },
  {
   "cell_type": "code",
   "execution_count": 15,
   "id": "954ca896-e397-4367-88d7-6f0da8f3e1a7",
   "metadata": {},
   "outputs": [],
   "source": [
    "# Apply historically trained K-NN model to CMIP5 data\n",
    "cmip5_dict_uc = {}\n",
    "for n, v in zip([\"45\", \"85\"],[df_g45_SS[\"Values\"].values, df_g85_SS[\"Values\"].values]):\n",
    "    cmip5_X = v.reshape(-1, 1)\n",
    "    neigh_cmip5_pred = neigh_uc.predict(cmip5_X)\n",
    "    cmip5_dict_uc[n] = {}\n",
    "    cmip5_dict_uc[n][\"values\"] = v\n",
    "    cmip5_dict_uc[n][\"k_pred\"] = neigh_cmip5_pred"
   ]
  },
  {
   "cell_type": "code",
   "execution_count": 16,
   "id": "36a65bd3-c6d8-4309-9026-5d84c0ae981f",
   "metadata": {},
   "outputs": [
    {
     "data": {
      "application/vnd.plotly.v1+json": {
       "config": {
        "plotlyServerURL": "https://plot.ly"
       },
       "data": [
        {
         "mode": "markers",
         "name": "UC v K Predicted St. Vrain CMIP5 45",
         "type": "scatter",
         "x": [
          0.49378056974359263,
          -0.8110873904721206,
          0.6997318181205597,
          -1.0470971624657615,
          -0.21678799256810802,
          0.6119922425100275,
          -0.12801553625329423,
          1.3983765341453376,
          1.348222348399368,
          1.9365694878979844,
          1.8557144698951744,
          -0.2464300255094935,
          -1.029468871617485,
          -0.9823802649715162,
          0.6233660222196492,
          1.3959872573979002,
          -0.2630567694527102,
          -1.6585232474172327,
          1.4348610820590801,
          0.31849662697137554,
          0.6632422637524633,
          -0.10709844047884516,
          0.7675571572805314,
          -1.06598572402316,
          1.202548251738146,
          0.34474805190475655,
          0.49018759580176535,
          0.4817611126284191,
          0.6737717228879138,
          -0.13283820879542163,
          0.4251249732890822,
          0.4649971878300412,
          -0.7107745070517818,
          0.21909543888892458,
          0.037909703130927244,
          -0.27310840118412105,
          -1.052486958824446,
          1.5932561952257083,
          -0.1357922910411276,
          0.3828035515873092,
          -0.15167368999964972,
          -0.7638224059145755,
          0.6647372454054117,
          -0.2720561773031925,
          -1.440893216863451,
          -0.46356983220593795,
          -0.19629585924494178,
          1.3951191776309102,
          0.6373314753815941,
          0.4928082424481595,
          0.6248221996222902,
          0.34021266318227417,
          0.4900649773938685,
          -0.15845281300384514,
          0.6146489006784608,
          -0.5220180158909377,
          -0.14704340922010534,
          -1.0803977929909379,
          -0.1418115930041614,
          0.317901930187196,
          -0.12728539459114163,
          0.6437464046294016,
          0.6532005559592732,
          -0.20907748333853818,
          -0.12746993857646324,
          -0.24587507851368468,
          -0.12793138832680007,
          -0.1287895079291767,
          0.07620595113894536,
          -1.0293978368723573,
          -0.7381946204563526,
          -0.6007198297015013,
          0.7336921482147704,
          0.06666532850413068,
          -0.49047577998015013,
          -0.2722507769169581,
          -1.3590227024483366,
          -0.3429543021713404,
          -0.5442159786116644,
          -0.27396590113255415,
          -0.44603699476594877,
          -1.296427370614324,
          -1.4653018688643906,
          -0.7188698117796722,
          -0.561052095312183,
          -0.07137857299184229,
          0.6181226393930939,
          -0.635068163646386,
          1.3910114631192323,
          -0.21439699561310585,
          1.8674115214271676,
          -0.8579400619855709,
          0.7421248473527982,
          0.6882504826002183,
          -0.12747032613318138,
          1.246407354789227,
          -1.3285331482924505,
          -1.2896488058586106,
          -0.40627840538994553,
          -0.13197363238520463,
          -0.6179991378085703,
          0.6992664251254942,
          -0.24037001885686732,
          -0.5332620158444401,
          0.5327633591532119,
          0.39688675923316535,
          -0.49127342578190397,
          -0.48972415640515005,
          0.023823362503818852,
          -0.18546598858628224,
          1.343045800893644,
          -0.1770597188775488,
          0.25214008064119986,
          1.2274586333157862,
          0.4721526841205121,
          -0.9826973699121523,
          -1.5606849629464579,
          -0.16697482186437737,
          0.4908222761445019,
          -0.6860319803741687,
          -0.11729001941304425,
          -0.6208716233441077,
          0.07154625213767855,
          1.4643920722585562,
          0.3945715978591854,
          -0.5505612246175996,
          -0.13083066819807349,
          -1.044606504721399,
          -0.2462709451177385,
          0.5985090413025085,
          0.3143435820265449,
          -0.9602978636913265,
          0.4534913489737418,
          -0.09605975474219891,
          -0.7753101838553341,
          -0.7742502283418986,
          0.6357756025404314,
          -0.49044256180591966,
          -0.764720792785598,
          -0.8541938419937462,
          0.43430846835749753,
          -0.5079574859701713,
          0.5252856898070025,
          -1.6491852872384019,
          -0.03140747009422265,
          0.6457594745591774,
          0.647676478950525,
          -0.50016789313208,
          -0.23600339748791477,
          -0.13325332374179896
         ],
         "y": [
          0.32150281969406674,
          -0.5375114090740458,
          1.405532603031209,
          -0.7704175223987417,
          -0.009765076585491975,
          1.1238717890433714,
          -0.06259969185870799,
          2.0323203952935884,
          3.0009890611594208,
          1.7111919323299076,
          0.9932216693869329,
          -0.6468315791577404,
          -1.177032917531821,
          -0.39039121137810817,
          0.87673518593033,
          1.9811292589488843,
          -0.6887560906866697,
          -1.5327784444328618,
          1.5179818835882692,
          0.4752712172625812,
          1.162282783032806,
          0.04660162735970287,
          1.0163529467574801,
          -1.1595006124604927,
          0.5766618307723061,
          0.2375405168878249,
          1.1053143984623661,
          1.1040478978870039,
          0.836342731920424,
          -0.04570806578804016,
          0.6600001684857009,
          -0.2400304799422764,
          -0.45047942104137606,
          0.17315697609433256,
          -0.19460359273624564,
          -0.5849921813773654,
          -1.1820209241966644,
          1.7879377815254334,
          -0.07249399547385534,
          0.7162275946940893,
          -0.023273177844341592,
          -0.426885741153798,
          1.2699891858829377,
          -0.6233233226912274,
          -1.5680176154955823,
          -0.9027371202720441,
          -0.09294185135166289,
          2.233187015323965,
          1.1924318106589167,
          0.19664480476080262,
          0.8726251126360266,
          0.1711900531605973,
          1.1052958252871392,
          -0.6823934677520401,
          -0.6057828704185444,
          -0.8692048406331392,
          -0.6710976260017965,
          -1.1217220609467886,
          -0.030365794254444113,
          1.0328396211542255,
          -0.058052163508853616,
          0.8496670223481163,
          0.8403701636380349,
          0.0014199575066413089,
          -0.060451351074227375,
          -0.6475984207432077,
          -0.05402515872450157,
          -0.05178201572935777,
          0.07173011021271304,
          -1.1691731867372266,
          -1.0968899717265952,
          -0.5262199928333643,
          0.20399927592168204,
          -1.058049008405685,
          0.1800616573754354,
          -0.585041315285757,
          -2.260961307098487,
          -1.068688801929371,
          -0.3673536266374417,
          -0.4946558829441572,
          -0.5126351020847179,
          -1.1384969966313074,
          -1.8601651235149732,
          -0.3826090013752562,
          -0.9799386548889545,
          0.04872621865854082,
          0.8942355519741721,
          1.0505619091114213,
          2.15628580550566,
          -0.6617650653461706,
          0.9955985206733177,
          1.0524395465401521,
          1.137166793223741,
          0.21559863249206815,
          -0.06045364414594354,
          1.492946411274727,
          -2.4490672244432017,
          -2.947783114127447,
          -1.0717632831446346,
          -0.046741415306823804,
          -1.0864134171278006,
          1.0188868238734847,
          -0.3394293168372538,
          -0.8671894697812067,
          0.11594264528312846,
          1.0927318775513466,
          -1.0768344738272535,
          -0.5147227849197941,
          0.05496258764204617,
          -0.09082118917587054,
          1.0014316124749365,
          -0.4663794518145019,
          0.09190002492539714,
          1.610122931042169,
          0.11258757699362157,
          -0.4803178748708234,
          -1.9436092929505666,
          -0.669878525974654,
          0.7732403000993268,
          -0.7937644460051585,
          -0.6725657148423458,
          -0.9420661464887248,
          1.069293276388032,
          2.55398025619848,
          0.7134381637605206,
          -0.5208245674183308,
          -0.0676557994851346,
          -1.164738553914393,
          -0.6470540897524468,
          0.8126492285745207,
          0.23592065280962995,
          -0.44307051616859777,
          0.7682155233201249,
          -1.0515225359517513,
          -0.41881048965916823,
          -0.430561561113433,
          0.8557443780988987,
          -0.552635761170373,
          -0.4275681574766448,
          -0.4786571587209172,
          0.7197146720841823,
          -1.0092440068708652,
          0.6352869303164952,
          -1.5332478260737379,
          -0.6780764148370206,
          0.848479807865738,
          0.29363060633653454,
          -0.46287382074809114,
          -0.655592911841618,
          -0.0452401413656413
         ]
        },
        {
         "mode": "markers",
         "name": "UC vs K Predicted St.Vrain CMIP5 85",
         "type": "scatter",
         "x": [
          0.3979012358570509,
          -0.508899417933747,
          1.6558949764239967,
          -0.6224591229060933,
          0.7773837870616698,
          0.9233761401360806,
          -0.451815178285862,
          0.35019185971716243,
          1.400719276722145,
          1.399118874814939,
          0.48737116959922405,
          -0.38223243275402374,
          -0.5515123498815198,
          -0.3919392583274931,
          0.5068208871790514,
          1.2098979621552917,
          -0.7482446678384022,
          -1.1257916898316127,
          1.6104633852309953,
          -0.20259948816069603,
          0.6922189530153859,
          0.15755819735512636,
          0.4447017579107968,
          -0.5580774365775305,
          0.5266539740812091,
          0.4309343750430796,
          -0.1740593449697814,
          0.8881934262366702,
          0.14435019126351356,
          -0.20369964604575677,
          0.3882014478805967,
          -0.031374931380852254,
          -0.566644461339657,
          0.4348328367930972,
          -0.328418525915031,
          -0.623826902704011,
          -0.5418777516353942,
          0.6620881764225373,
          -0.15192168924505317,
          0.5920784627388944,
          -0.4179325109037914,
          -0.1060491916996041,
          0.38248599612270984,
          -0.7819361157168057,
          -1.114015083480266,
          -0.30068856057300164,
          -0.13756358324361762,
          1.509679804232169,
          0.5978278345138512,
          0.5991142477308415,
          0.7116667903986895,
          0.4950268538472649,
          0.47854373160685754,
          -0.7022075224840326,
          -0.7569938366063507,
          0.7464241089411089,
          0.028204335367115807,
          -0.7420235651563925,
          1.3274140070207707,
          0.0684805385470869,
          -0.7750634540358639,
          -0.5637278995356617,
          0.8780366174320265,
          0.5148270139235042,
          0.7622129793038451,
          -0.18879419884709353,
          -1.415307103221632,
          1.5426486277710945,
          -0.5320957410366584,
          -1.1180663505198392,
          -0.30104071950702727,
          1.3451746789017998,
          -0.7905449479269512,
          -1.3791607467350309,
          -0.5422462391016573,
          -0.13886791834460016,
          0.9124255538305086,
          0.2724288997379086,
          -0.3909807667056104,
          -0.3406350113133814,
          -0.29974007957713694,
          -0.20809492800917662,
          -0.7926934292443191,
          0.6459602777668751,
          -0.30204143693017277,
          -1.4019595413894073,
          -0.36004219514386865,
          0.5441997716016215,
          -0.6784066221716492,
          -0.7227457207628022,
          0.4767097496772457,
          0.6156910187650246,
          -0.5581448807864053,
          -0.7658116127518027,
          0.08907613358483871,
          -0.4572279258165292,
          -0.12860534619878008,
          0.2550123519273886,
          0.7366849072427935,
          -0.13548497579942262,
          -0.5634488406563622,
          -0.5612143763249643,
          1.5911857422869315,
          1.5477506698325232,
          -0.5618098385827489,
          1.396248876363036,
          0.6226136339059377,
          0.4119472110447585,
          -0.5622470456452114,
          -0.7319777143802152,
          0.6491948591076466,
          -0.14645084805729966,
          0.7827368130712051,
          -0.563132891494898,
          -1.4131367093367002,
          -0.5627021151816183,
          0.1379298338981203,
          -0.18515351903241947,
          -1.49279592771468,
          -0.5611951573832654,
          -0.1417963982417192,
          -0.5106683082132818,
          -0.14577029290346108,
          0.8915941646167473,
          -0.19625813611380039,
          0.42797053071981256,
          -0.5274191836269518,
          -0.5581615477924092,
          -0.6229062639621498,
          -0.14337310412978568,
          -0.5635128608510424,
          0.3477123675689824,
          -0.13519117059067778,
          -0.7863290034417105,
          -0.13784797250243758,
          -0.5636067665800285,
          0.7442939230387456,
          0.3768349222919468,
          -1.3457971985284545,
          -0.28796693187068173,
          -0.5633214241727736,
          -0.9824680193303987,
          -0.5234158199001675,
          -1.1750383094338452,
          -0.5628204731135508,
          -0.13568122913485442,
          -0.5626895304358167,
          -0.14550580655637682,
          -1.4205217160991044,
          -0.8925539438399487
         ],
         "y": [
          0.547496641829875,
          -0.5073265940905088,
          1.5447829070489756,
          -0.4736323616378166,
          0.2134501846740251,
          1.0110849424910833,
          0.03200965778079035,
          1.3749454326475214,
          2.6785535854180886,
          2.00363236948986,
          0.3232041554773189,
          -0.5648439755812044,
          -0.9940540706262049,
          -0.17040059496679916,
          0.7757640061255936,
          1.612244829494382,
          -0.7529397705531914,
          -1.3067651462945156,
          1.7820659799617775,
          0.0004146832479777385,
          1.156952351958292,
          0.081557694664291,
          1.0285107419349324,
          -0.9786426448083727,
          0.9339984286882234,
          0.24939875274662848,
          1.0622751671408355,
          1.0121982346306109,
          0.4583712263326415,
          -0.014433567008087265,
          0.19280367320374028,
          -0.3346520194600284,
          -0.3553915778441631,
          0.6701791682439939,
          -0.13046898731048304,
          -0.5279910620514972,
          -0.9984386796407061,
          1.276099114581892,
          -0.023130959074276147,
          0.6207535605394502,
          0.020135628310122524,
          -0.30257222441216725,
          1.088777074247501,
          -0.43189532687466775,
          -1.3377414432368053,
          -0.6366268432085673,
          -0.04110524319219756,
          1.8270645369129865,
          0.9136653364253763,
          0.8112701949322634,
          0.8240557577779187,
          0.3211763598230015,
          1.1035699063798323,
          -0.4755446293827779,
          -0.40901888031138417,
          -0.6047190782662567,
          -0.2755054305057266,
          -0.9556495903442558,
          3.310604657024456,
          -0.5977176182338548,
          -0.4771986420436216,
          -0.9833334023500824,
          0.5887572118101013,
          1.0259270236059899,
          1.1496442316433493,
          -0.021701498940054936,
          -1.5826482899288437,
          1.8091896178875921,
          -0.3649566379362173,
          -1.3167033493185891,
          -0.6364254507531082,
          3.0356451367603974,
          -0.7557133554974731,
          -1.6305308149193931,
          -0.9982875804098834,
          -0.0400355320388612,
          1.0114262710550592,
          0.7541960227795483,
          -0.10886425536084644,
          -0.5699337346356353,
          -0.637263002263312,
          -0.012738532953912965,
          -0.7558361233980622,
          0.12385037100392086,
          -0.6243567516759838,
          -2.1141196698812026,
          0.03492607355681553,
          0.7827546651005474,
          -0.841681314375985,
          -0.797794526704495,
          0.5433093100070573,
          0.9001363729710269,
          -0.9901629016536535,
          -0.4237404303943846,
          0.07339111628707792,
          -0.5000454636048979,
          -0.06406953439478548,
          0.7533806189301169,
          0.2040649173711236,
          -0.03933783550722224,
          -0.9847624685877746,
          -0.9877268285743257,
          1.7886856897782106,
          1.8067371315822869,
          -0.9804153736061326,
          1.9820609992539757,
          0.8791365170521448,
          0.7083416333076227,
          -0.9866466503512318,
          -0.38334360073825025,
          0.841390347240218,
          -0.07885580430562536,
          1.0158047476572525,
          -0.9816676480467101,
          -1.8049405161655308,
          -0.986069768561472,
          -0.1851485761108692,
          -0.002567210602623153,
          -1.9820769311176099,
          -0.9800214516119723,
          -0.03038005024803218,
          -0.5045212938644635,
          -0.027096098974576387,
          1.0120885301214908,
          -0.000619916755592802,
          0.7018057929260734,
          -0.8163748830710589,
          -0.9901513794047985,
          -0.9426310864287439,
          -0.028979807996902748,
          -0.9845951472842426,
          0.7585485443265892,
          -0.07201504246699017,
          -0.4015599472506611,
          -0.034872647799705156,
          -0.9842995281842198,
          1.4131212417110464,
          -0.24259720412962,
          -2.3302212471960706,
          -0.1015246225074004,
          -0.9819574044058161,
          -0.4427807575144201,
          -0.36205586342732804,
          -1.4624195963813507,
          -0.9859024950870665,
          -0.03882499414316597,
          -0.9811472380906278,
          -0.027292021442971673,
          -1.5790773942571623,
          -0.39455963136279704
         ]
        },
        {
         "mode": "markers",
         "name": "UC vs Actual St.Vrain CMIP5 45",
         "type": "scatter",
         "x": [
          1.1016116470966335,
          -0.14083761962193897,
          1.849450739893322,
          -0.3819926920020408,
          0.6531997580784311,
          1.8844805428545186,
          0.6514403482094938,
          1.3805385916163848,
          1.821766488307277,
          2.673055323723779,
          0.6028281812213153,
          -0.4301746685872467,
          -1.3259682702665423,
          -0.4746952738126687,
          0.7797942601418336,
          2.0728767660185343,
          -0.5049093500184291,
          -1.358064667770869,
          1.8009545152806528,
          0.7714780871901437,
          2.4802951054136786,
          1.028839749865199,
          0.9597856115884876,
          -0.8279203732325686,
          0.43030402560936304,
          0.7949434303101315,
          2.721510366618372,
          2.2527585105789054,
          0.8884905541237847,
          0.7442861158457594,
          0.25376687012173854,
          -0.5602157638309576,
          -0.8742922549170665,
          0.3843274887378219,
          -0.03216159987628879,
          -0.30530346319385204,
          -1.2060363366231057,
          0.5711733782880438,
          0.5374696268086362,
          1.2623838073394857,
          0.6336561818088698,
          -0.22078400570728116,
          1.0800837457403634,
          -0.3768424431425497,
          -1.3826881673564522,
          -1.1138570795742115,
          -0.41172779330802994,
          1.8005889480176902,
          1.8848980621193303,
          0.7456558828260725,
          0.32414072455072146,
          1.0347376054587205,
          1.9694010469186698,
          -0.23797198770283745,
          -0.33597053829845963,
          -0.8369214296744155,
          -0.798516626525585,
          -1.0236919253217296,
          0.2096542810071436,
          0.6164897411794014,
          0.1863257880638587,
          -0.18217519450303707,
          0.4240773499958283,
          0.03893895348552987,
          -0.3777021905433101,
          -0.5750361138195323,
          0.04483174055990289,
          0.5092753553236204,
          -0.13664658769177762,
          -1.2074878337940966,
          -0.9403331587200371,
          -0.32080172761846365,
          0.5135506513846164,
          -1.0420234919500395,
          -0.31698006402120854,
          -0.46585514285376883,
          -1.5830302565872674,
          -1.042119160248957,
          -0.49091200082650094,
          -0.49536722915753983,
          -0.7458559797082809,
          -1.251025779710003,
          -1.4397622272218242,
          -0.48263130766855483,
          -0.7923533072416905,
          -0.16909461387170124,
          0.3064820035198828,
          0.3583697014865436,
          2.1047349431229074,
          -0.8814458361294896,
          -0.013325081868156482,
          0.753339124608873,
          2.1391014034809093,
          0.43867025018763955,
          -0.37810703866996065,
          0.519411126649421,
          -1.5109875925482434,
          -1.7137163207328447,
          -1.1048756636440629,
          -0.5457020590911239,
          -1.0398801419153547,
          0.2548585025929349,
          0.29526220282102533,
          -0.4357912215277659,
          0.8790143238521093,
          1.1716484448425697,
          -1.263811752825574,
          -0.1363253704504859,
          -0.45542919896645745,
          -0.5952075527388355,
          -0.26236740392676333,
          -0.7269763794471003,
          -0.7673287609188176,
          0.6902962495624909,
          0.22117439130580768,
          -0.2845345722605679,
          -1.5793695186326684,
          -0.8798511532925692,
          0.3239297472814796,
          -0.8066135858644181,
          -0.875093080942441,
          -1.415964896257355,
          0.9241089387113265,
          2.4509274719056235,
          0.08334805097027956,
          -0.5393594411020801,
          -0.37118534220855576,
          -1.1618838327605117,
          -0.7049574651386642,
          0.01443456378050558,
          -0.35853051686622917,
          -0.8291235129653107,
          0.810481609482742,
          -0.7829188924126947,
          -0.8836272000577841,
          -0.6004040521549692,
          0.2796188521955126,
          -0.47809561643633375,
          -0.9898139433369024,
          -0.7965804520513632,
          -0.162893914099382,
          -0.8117239202953281,
          0.20437351761988423,
          -1.369435890479271,
          -0.9070500940104904,
          0.19961544526975597,
          0.05623590848305796,
          -0.7983487318288095,
          -0.9881483012319107,
          -0.4240297228449725
         ],
         "y": [
          0.32150281969406674,
          -0.5375114090740458,
          1.405532603031209,
          -0.7704175223987417,
          -0.009765076585491975,
          1.1238717890433714,
          -0.06259969185870799,
          2.0323203952935884,
          3.0009890611594208,
          1.7111919323299076,
          0.9932216693869329,
          -0.6468315791577404,
          -1.177032917531821,
          -0.39039121137810817,
          0.87673518593033,
          1.9811292589488843,
          -0.6887560906866697,
          -1.5327784444328618,
          1.5179818835882692,
          0.4752712172625812,
          1.162282783032806,
          0.04660162735970287,
          1.0163529467574801,
          -1.1595006124604927,
          0.5766618307723061,
          0.2375405168878249,
          1.1053143984623661,
          1.1040478978870039,
          0.836342731920424,
          -0.04570806578804016,
          0.6600001684857009,
          -0.2400304799422764,
          -0.45047942104137606,
          0.17315697609433256,
          -0.19460359273624564,
          -0.5849921813773654,
          -1.1820209241966644,
          1.7879377815254334,
          -0.07249399547385534,
          0.7162275946940893,
          -0.023273177844341592,
          -0.426885741153798,
          1.2699891858829377,
          -0.6233233226912274,
          -1.5680176154955823,
          -0.9027371202720441,
          -0.09294185135166289,
          2.233187015323965,
          1.1924318106589167,
          0.19664480476080262,
          0.8726251126360266,
          0.1711900531605973,
          1.1052958252871392,
          -0.6823934677520401,
          -0.6057828704185444,
          -0.8692048406331392,
          -0.6710976260017965,
          -1.1217220609467886,
          -0.030365794254444113,
          1.0328396211542255,
          -0.058052163508853616,
          0.8496670223481163,
          0.8403701636380349,
          0.0014199575066413089,
          -0.060451351074227375,
          -0.6475984207432077,
          -0.05402515872450157,
          -0.05178201572935777,
          0.07173011021271304,
          -1.1691731867372266,
          -1.0968899717265952,
          -0.5262199928333643,
          0.20399927592168204,
          -1.058049008405685,
          0.1800616573754354,
          -0.585041315285757,
          -2.260961307098487,
          -1.068688801929371,
          -0.3673536266374417,
          -0.4946558829441572,
          -0.5126351020847179,
          -1.1384969966313074,
          -1.8601651235149732,
          -0.3826090013752562,
          -0.9799386548889545,
          0.04872621865854082,
          0.8942355519741721,
          1.0505619091114213,
          2.15628580550566,
          -0.6617650653461706,
          0.9955985206733177,
          1.0524395465401521,
          1.137166793223741,
          0.21559863249206815,
          -0.06045364414594354,
          1.492946411274727,
          -2.4490672244432017,
          -2.947783114127447,
          -1.0717632831446346,
          -0.046741415306823804,
          -1.0864134171278006,
          1.0188868238734847,
          -0.3394293168372538,
          -0.8671894697812067,
          0.11594264528312846,
          1.0927318775513466,
          -1.0768344738272535,
          -0.5147227849197941,
          0.05496258764204617,
          -0.09082118917587054,
          1.0014316124749365,
          -0.4663794518145019,
          0.09190002492539714,
          1.610122931042169,
          0.11258757699362157,
          -0.4803178748708234,
          -1.9436092929505666,
          -0.669878525974654,
          0.7732403000993268,
          -0.7937644460051585,
          -0.6725657148423458,
          -0.9420661464887248,
          1.069293276388032,
          2.55398025619848,
          0.7134381637605206,
          -0.5208245674183308,
          -0.0676557994851346,
          -1.164738553914393,
          -0.6470540897524468,
          0.8126492285745207,
          0.23592065280962995,
          -0.44307051616859777,
          0.7682155233201249,
          -1.0515225359517513,
          -0.41881048965916823,
          -0.430561561113433,
          0.8557443780988987,
          -0.552635761170373,
          -0.4275681574766448,
          -0.4786571587209172,
          0.7197146720841823,
          -1.0092440068708652,
          0.6352869303164952,
          -1.5332478260737379,
          -0.6780764148370206,
          0.848479807865738,
          0.29363060633653454,
          -0.46287382074809114,
          -0.655592911841618,
          -0.0452401413656413
         ]
        },
        {
         "mode": "markers",
         "name": "UC vs Actual St.Vrain CMIP5 85",
         "type": "scatter",
         "x": [
          1.0032613824979484,
          -0.0592810080939172,
          1.795408915374512,
          -0.3247118739953667,
          0.6360113768703808,
          1.6128547064682786,
          0.5381711096808885,
          1.3042682871678275,
          2.120638059797887,
          2.47671077437419,
          0.6362778573241785,
          -0.24816083930331165,
          -1.1134387109139294,
          -0.30970127164253425,
          0.8156589394785513,
          1.9969050335013991,
          -0.20768728563749317,
          -1.0890250633427074,
          1.4165197183082485,
          0.9968555291446163,
          2.7743898218272927,
          0.8748211029680665,
          1.051999277938208,
          -0.6732996316239989,
          0.43409175450608906,
          0.5885692083687546,
          2.4811767625358927,
          2.0663745575039534,
          0.9358984891995084,
          0.8293967381118537,
          0.35474181240017433,
          -0.496773618416361,
          -0.7349265985699973,
          0.46511641665977216,
          0.031238202276059484,
          -0.27203923308162903,
          -1.126024625046442,
          0.5232275571769249,
          0.5862029739887734,
          1.4787008505837316,
          1.0239460187572265,
          -0.05834689280223174,
          1.0057061284085804,
          -0.2949095846525386,
          -1.1598544986039727,
          -1.0437542832310613,
          -0.3086227409806006,
          1.5313201954933862,
          1.6772845923661994,
          0.8067848443520004,
          0.4625163670628978,
          1.0526130428283804,
          1.8397564685104673,
          -0.18762157224910414,
          -0.25464806942716395,
          -0.66097675977301,
          -0.3111608984204012,
          -0.859659643853307,
          1.7510900156484777,
          -0.3798407223570576,
          -0.8489453987653617,
          -1.1477213151956511,
          0.009457842759943927,
          1.2375466670269755,
          1.3534990284239807,
          -0.09613500812921019,
          -1.024358496699102,
          0.8732829646595486,
          -0.3413465761866265,
          -1.2357642602829015,
          -0.9796739742214401,
          2.0590116660732156,
          -0.8114214717291779,
          -1.4202846957721418,
          -1.3178088098130525,
          -0.21869265377339941,
          1.270687128970169,
          0.39020380887225736,
          -0.14503680340870323,
          -0.5370225259506821,
          -0.5156799973047009,
          -0.06079679640465835,
          -0.7618606381981716,
          -0.20242414755509391,
          -0.6530069797966485,
          -1.3849390339038699,
          -0.23877269408344007,
          1.4464687153287892,
          -0.7084876973541029,
          -0.6969081061983998,
          0.9777858236383697,
          1.067406449337896,
          -1.0009763874867967,
          -0.8320298889097303,
          0.016945092159540112,
          -0.3277577775385006,
          -0.20995151219085373,
          0.25744081054164897,
          0.10599034854107654,
          -0.165872158883756,
          -1.0758517454224785,
          -1.3473921837930438,
          1.0717194256874378,
          1.3548360166080486,
          -0.9193433071464802,
          1.540354752286896,
          1.5904468279282835,
          0.371094560917791,
          -1.1111131649914388,
          -0.3996852279306847,
          0.1622028852564957,
          -0.13259473142511166,
          0.06165311064424964,
          -0.9964805994725193,
          -1.4093664353198772,
          -1.1318224437004185,
          -0.17972743827460205,
          -0.13435980831705205,
          -1.4074340201275073,
          -0.7921019044204052,
          -0.4750935474962677,
          -0.770395471964473,
          0.18198091420258128,
          0.11479567473262142,
          -0.5653875383689588,
          0.5850361896339267,
          -0.41084590004175536,
          -1.091702478460962,
          -1.1129349763486585,
          -0.41813601085496427,
          -0.9314747713242034,
          -0.28323027797767936,
          -0.7686389913699848,
          -0.590476270632866,
          -0.6530533990227996,
          -0.9165501305012808,
          0.45678215979659365,
          -0.4329047747703175,
          -1.4598057956865609,
          -0.7354882138987406,
          -0.8720845233864556,
          -0.8592710977381153,
          -0.8002418882259881,
          -1.290280489474769,
          -1.0767365761036825,
          -0.9540918229203125,
          -1.0139697592710817,
          -0.6954719754275808,
          -1.3037586842877447,
          -0.9556941458378294
         ],
         "y": [
          0.547496641829875,
          -0.5073265940905088,
          1.5447829070489756,
          -0.4736323616378166,
          0.2134501846740251,
          1.0110849424910833,
          0.03200965778079035,
          1.3749454326475214,
          2.6785535854180886,
          2.00363236948986,
          0.3232041554773189,
          -0.5648439755812044,
          -0.9940540706262049,
          -0.17040059496679916,
          0.7757640061255936,
          1.612244829494382,
          -0.7529397705531914,
          -1.3067651462945156,
          1.7820659799617775,
          0.0004146832479777385,
          1.156952351958292,
          0.081557694664291,
          1.0285107419349324,
          -0.9786426448083727,
          0.9339984286882234,
          0.24939875274662848,
          1.0622751671408355,
          1.0121982346306109,
          0.4583712263326415,
          -0.014433567008087265,
          0.19280367320374028,
          -0.3346520194600284,
          -0.3553915778441631,
          0.6701791682439939,
          -0.13046898731048304,
          -0.5279910620514972,
          -0.9984386796407061,
          1.276099114581892,
          -0.023130959074276147,
          0.6207535605394502,
          0.020135628310122524,
          -0.30257222441216725,
          1.088777074247501,
          -0.43189532687466775,
          -1.3377414432368053,
          -0.6366268432085673,
          -0.04110524319219756,
          1.8270645369129865,
          0.9136653364253763,
          0.8112701949322634,
          0.8240557577779187,
          0.3211763598230015,
          1.1035699063798323,
          -0.4755446293827779,
          -0.40901888031138417,
          -0.6047190782662567,
          -0.2755054305057266,
          -0.9556495903442558,
          3.310604657024456,
          -0.5977176182338548,
          -0.4771986420436216,
          -0.9833334023500824,
          0.5887572118101013,
          1.0259270236059899,
          1.1496442316433493,
          -0.021701498940054936,
          -1.5826482899288437,
          1.8091896178875921,
          -0.3649566379362173,
          -1.3167033493185891,
          -0.6364254507531082,
          3.0356451367603974,
          -0.7557133554974731,
          -1.6305308149193931,
          -0.9982875804098834,
          -0.0400355320388612,
          1.0114262710550592,
          0.7541960227795483,
          -0.10886425536084644,
          -0.5699337346356353,
          -0.637263002263312,
          -0.012738532953912965,
          -0.7558361233980622,
          0.12385037100392086,
          -0.6243567516759838,
          -2.1141196698812026,
          0.03492607355681553,
          0.7827546651005474,
          -0.841681314375985,
          -0.797794526704495,
          0.5433093100070573,
          0.9001363729710269,
          -0.9901629016536535,
          -0.4237404303943846,
          0.07339111628707792,
          -0.5000454636048979,
          -0.06406953439478548,
          0.7533806189301169,
          0.2040649173711236,
          -0.03933783550722224,
          -0.9847624685877746,
          -0.9877268285743257,
          1.7886856897782106,
          1.8067371315822869,
          -0.9804153736061326,
          1.9820609992539757,
          0.8791365170521448,
          0.7083416333076227,
          -0.9866466503512318,
          -0.38334360073825025,
          0.841390347240218,
          -0.07885580430562536,
          1.0158047476572525,
          -0.9816676480467101,
          -1.8049405161655308,
          -0.986069768561472,
          -0.1851485761108692,
          -0.002567210602623153,
          -1.9820769311176099,
          -0.9800214516119723,
          -0.03038005024803218,
          -0.5045212938644635,
          -0.027096098974576387,
          1.0120885301214908,
          -0.000619916755592802,
          0.7018057929260734,
          -0.8163748830710589,
          -0.9901513794047985,
          -0.9426310864287439,
          -0.028979807996902748,
          -0.9845951472842426,
          0.7585485443265892,
          -0.07201504246699017,
          -0.4015599472506611,
          -0.034872647799705156,
          -0.9842995281842198,
          1.4131212417110464,
          -0.24259720412962,
          -2.3302212471960706,
          -0.1015246225074004,
          -0.9819574044058161,
          -0.4427807575144201,
          -0.36205586342732804,
          -1.4624195963813507,
          -0.9859024950870665,
          -0.03882499414316597,
          -0.9811472380906278,
          -0.027292021442971673,
          -1.5790773942571623,
          -0.39455963136279704
         ]
        }
       ],
       "layout": {
        "autosize": true,
        "font": {
         "color": "Black",
         "family": "Arial, monospace",
         "size": 14
        },
        "legend": {
         "title": {
          "text": "Legend"
         }
        },
        "template": {
         "data": {
          "bar": [
           {
            "error_x": {
             "color": "#2a3f5f"
            },
            "error_y": {
             "color": "#2a3f5f"
            },
            "marker": {
             "line": {
              "color": "#E5ECF6",
              "width": 0.5
             },
             "pattern": {
              "fillmode": "overlay",
              "size": 10,
              "solidity": 0.2
             }
            },
            "type": "bar"
           }
          ],
          "barpolar": [
           {
            "marker": {
             "line": {
              "color": "#E5ECF6",
              "width": 0.5
             },
             "pattern": {
              "fillmode": "overlay",
              "size": 10,
              "solidity": 0.2
             }
            },
            "type": "barpolar"
           }
          ],
          "carpet": [
           {
            "aaxis": {
             "endlinecolor": "#2a3f5f",
             "gridcolor": "white",
             "linecolor": "white",
             "minorgridcolor": "white",
             "startlinecolor": "#2a3f5f"
            },
            "baxis": {
             "endlinecolor": "#2a3f5f",
             "gridcolor": "white",
             "linecolor": "white",
             "minorgridcolor": "white",
             "startlinecolor": "#2a3f5f"
            },
            "type": "carpet"
           }
          ],
          "choropleth": [
           {
            "colorbar": {
             "outlinewidth": 0,
             "ticks": ""
            },
            "type": "choropleth"
           }
          ],
          "contour": [
           {
            "colorbar": {
             "outlinewidth": 0,
             "ticks": ""
            },
            "colorscale": [
             [
              0,
              "#0d0887"
             ],
             [
              0.1111111111111111,
              "#46039f"
             ],
             [
              0.2222222222222222,
              "#7201a8"
             ],
             [
              0.3333333333333333,
              "#9c179e"
             ],
             [
              0.4444444444444444,
              "#bd3786"
             ],
             [
              0.5555555555555556,
              "#d8576b"
             ],
             [
              0.6666666666666666,
              "#ed7953"
             ],
             [
              0.7777777777777778,
              "#fb9f3a"
             ],
             [
              0.8888888888888888,
              "#fdca26"
             ],
             [
              1,
              "#f0f921"
             ]
            ],
            "type": "contour"
           }
          ],
          "contourcarpet": [
           {
            "colorbar": {
             "outlinewidth": 0,
             "ticks": ""
            },
            "type": "contourcarpet"
           }
          ],
          "heatmap": [
           {
            "colorbar": {
             "outlinewidth": 0,
             "ticks": ""
            },
            "colorscale": [
             [
              0,
              "#0d0887"
             ],
             [
              0.1111111111111111,
              "#46039f"
             ],
             [
              0.2222222222222222,
              "#7201a8"
             ],
             [
              0.3333333333333333,
              "#9c179e"
             ],
             [
              0.4444444444444444,
              "#bd3786"
             ],
             [
              0.5555555555555556,
              "#d8576b"
             ],
             [
              0.6666666666666666,
              "#ed7953"
             ],
             [
              0.7777777777777778,
              "#fb9f3a"
             ],
             [
              0.8888888888888888,
              "#fdca26"
             ],
             [
              1,
              "#f0f921"
             ]
            ],
            "type": "heatmap"
           }
          ],
          "heatmapgl": [
           {
            "colorbar": {
             "outlinewidth": 0,
             "ticks": ""
            },
            "colorscale": [
             [
              0,
              "#0d0887"
             ],
             [
              0.1111111111111111,
              "#46039f"
             ],
             [
              0.2222222222222222,
              "#7201a8"
             ],
             [
              0.3333333333333333,
              "#9c179e"
             ],
             [
              0.4444444444444444,
              "#bd3786"
             ],
             [
              0.5555555555555556,
              "#d8576b"
             ],
             [
              0.6666666666666666,
              "#ed7953"
             ],
             [
              0.7777777777777778,
              "#fb9f3a"
             ],
             [
              0.8888888888888888,
              "#fdca26"
             ],
             [
              1,
              "#f0f921"
             ]
            ],
            "type": "heatmapgl"
           }
          ],
          "histogram": [
           {
            "marker": {
             "pattern": {
              "fillmode": "overlay",
              "size": 10,
              "solidity": 0.2
             }
            },
            "type": "histogram"
           }
          ],
          "histogram2d": [
           {
            "colorbar": {
             "outlinewidth": 0,
             "ticks": ""
            },
            "colorscale": [
             [
              0,
              "#0d0887"
             ],
             [
              0.1111111111111111,
              "#46039f"
             ],
             [
              0.2222222222222222,
              "#7201a8"
             ],
             [
              0.3333333333333333,
              "#9c179e"
             ],
             [
              0.4444444444444444,
              "#bd3786"
             ],
             [
              0.5555555555555556,
              "#d8576b"
             ],
             [
              0.6666666666666666,
              "#ed7953"
             ],
             [
              0.7777777777777778,
              "#fb9f3a"
             ],
             [
              0.8888888888888888,
              "#fdca26"
             ],
             [
              1,
              "#f0f921"
             ]
            ],
            "type": "histogram2d"
           }
          ],
          "histogram2dcontour": [
           {
            "colorbar": {
             "outlinewidth": 0,
             "ticks": ""
            },
            "colorscale": [
             [
              0,
              "#0d0887"
             ],
             [
              0.1111111111111111,
              "#46039f"
             ],
             [
              0.2222222222222222,
              "#7201a8"
             ],
             [
              0.3333333333333333,
              "#9c179e"
             ],
             [
              0.4444444444444444,
              "#bd3786"
             ],
             [
              0.5555555555555556,
              "#d8576b"
             ],
             [
              0.6666666666666666,
              "#ed7953"
             ],
             [
              0.7777777777777778,
              "#fb9f3a"
             ],
             [
              0.8888888888888888,
              "#fdca26"
             ],
             [
              1,
              "#f0f921"
             ]
            ],
            "type": "histogram2dcontour"
           }
          ],
          "mesh3d": [
           {
            "colorbar": {
             "outlinewidth": 0,
             "ticks": ""
            },
            "type": "mesh3d"
           }
          ],
          "parcoords": [
           {
            "line": {
             "colorbar": {
              "outlinewidth": 0,
              "ticks": ""
             }
            },
            "type": "parcoords"
           }
          ],
          "pie": [
           {
            "automargin": true,
            "type": "pie"
           }
          ],
          "scatter": [
           {
            "fillpattern": {
             "fillmode": "overlay",
             "size": 10,
             "solidity": 0.2
            },
            "type": "scatter"
           }
          ],
          "scatter3d": [
           {
            "line": {
             "colorbar": {
              "outlinewidth": 0,
              "ticks": ""
             }
            },
            "marker": {
             "colorbar": {
              "outlinewidth": 0,
              "ticks": ""
             }
            },
            "type": "scatter3d"
           }
          ],
          "scattercarpet": [
           {
            "marker": {
             "colorbar": {
              "outlinewidth": 0,
              "ticks": ""
             }
            },
            "type": "scattercarpet"
           }
          ],
          "scattergeo": [
           {
            "marker": {
             "colorbar": {
              "outlinewidth": 0,
              "ticks": ""
             }
            },
            "type": "scattergeo"
           }
          ],
          "scattergl": [
           {
            "marker": {
             "colorbar": {
              "outlinewidth": 0,
              "ticks": ""
             }
            },
            "type": "scattergl"
           }
          ],
          "scattermapbox": [
           {
            "marker": {
             "colorbar": {
              "outlinewidth": 0,
              "ticks": ""
             }
            },
            "type": "scattermapbox"
           }
          ],
          "scatterpolar": [
           {
            "marker": {
             "colorbar": {
              "outlinewidth": 0,
              "ticks": ""
             }
            },
            "type": "scatterpolar"
           }
          ],
          "scatterpolargl": [
           {
            "marker": {
             "colorbar": {
              "outlinewidth": 0,
              "ticks": ""
             }
            },
            "type": "scatterpolargl"
           }
          ],
          "scatterternary": [
           {
            "marker": {
             "colorbar": {
              "outlinewidth": 0,
              "ticks": ""
             }
            },
            "type": "scatterternary"
           }
          ],
          "surface": [
           {
            "colorbar": {
             "outlinewidth": 0,
             "ticks": ""
            },
            "colorscale": [
             [
              0,
              "#0d0887"
             ],
             [
              0.1111111111111111,
              "#46039f"
             ],
             [
              0.2222222222222222,
              "#7201a8"
             ],
             [
              0.3333333333333333,
              "#9c179e"
             ],
             [
              0.4444444444444444,
              "#bd3786"
             ],
             [
              0.5555555555555556,
              "#d8576b"
             ],
             [
              0.6666666666666666,
              "#ed7953"
             ],
             [
              0.7777777777777778,
              "#fb9f3a"
             ],
             [
              0.8888888888888888,
              "#fdca26"
             ],
             [
              1,
              "#f0f921"
             ]
            ],
            "type": "surface"
           }
          ],
          "table": [
           {
            "cells": {
             "fill": {
              "color": "#EBF0F8"
             },
             "line": {
              "color": "white"
             }
            },
            "header": {
             "fill": {
              "color": "#C8D4E3"
             },
             "line": {
              "color": "white"
             }
            },
            "type": "table"
           }
          ]
         },
         "layout": {
          "annotationdefaults": {
           "arrowcolor": "#2a3f5f",
           "arrowhead": 0,
           "arrowwidth": 1
          },
          "autotypenumbers": "strict",
          "coloraxis": {
           "colorbar": {
            "outlinewidth": 0,
            "ticks": ""
           }
          },
          "colorscale": {
           "diverging": [
            [
             0,
             "#8e0152"
            ],
            [
             0.1,
             "#c51b7d"
            ],
            [
             0.2,
             "#de77ae"
            ],
            [
             0.3,
             "#f1b6da"
            ],
            [
             0.4,
             "#fde0ef"
            ],
            [
             0.5,
             "#f7f7f7"
            ],
            [
             0.6,
             "#e6f5d0"
            ],
            [
             0.7,
             "#b8e186"
            ],
            [
             0.8,
             "#7fbc41"
            ],
            [
             0.9,
             "#4d9221"
            ],
            [
             1,
             "#276419"
            ]
           ],
           "sequential": [
            [
             0,
             "#0d0887"
            ],
            [
             0.1111111111111111,
             "#46039f"
            ],
            [
             0.2222222222222222,
             "#7201a8"
            ],
            [
             0.3333333333333333,
             "#9c179e"
            ],
            [
             0.4444444444444444,
             "#bd3786"
            ],
            [
             0.5555555555555556,
             "#d8576b"
            ],
            [
             0.6666666666666666,
             "#ed7953"
            ],
            [
             0.7777777777777778,
             "#fb9f3a"
            ],
            [
             0.8888888888888888,
             "#fdca26"
            ],
            [
             1,
             "#f0f921"
            ]
           ],
           "sequentialminus": [
            [
             0,
             "#0d0887"
            ],
            [
             0.1111111111111111,
             "#46039f"
            ],
            [
             0.2222222222222222,
             "#7201a8"
            ],
            [
             0.3333333333333333,
             "#9c179e"
            ],
            [
             0.4444444444444444,
             "#bd3786"
            ],
            [
             0.5555555555555556,
             "#d8576b"
            ],
            [
             0.6666666666666666,
             "#ed7953"
            ],
            [
             0.7777777777777778,
             "#fb9f3a"
            ],
            [
             0.8888888888888888,
             "#fdca26"
            ],
            [
             1,
             "#f0f921"
            ]
           ]
          },
          "colorway": [
           "#636efa",
           "#EF553B",
           "#00cc96",
           "#ab63fa",
           "#FFA15A",
           "#19d3f3",
           "#FF6692",
           "#B6E880",
           "#FF97FF",
           "#FECB52"
          ],
          "font": {
           "color": "#2a3f5f"
          },
          "geo": {
           "bgcolor": "white",
           "lakecolor": "white",
           "landcolor": "#E5ECF6",
           "showlakes": true,
           "showland": true,
           "subunitcolor": "white"
          },
          "hoverlabel": {
           "align": "left"
          },
          "hovermode": "closest",
          "mapbox": {
           "style": "light"
          },
          "paper_bgcolor": "white",
          "plot_bgcolor": "#E5ECF6",
          "polar": {
           "angularaxis": {
            "gridcolor": "white",
            "linecolor": "white",
            "ticks": ""
           },
           "bgcolor": "#E5ECF6",
           "radialaxis": {
            "gridcolor": "white",
            "linecolor": "white",
            "ticks": ""
           }
          },
          "scene": {
           "xaxis": {
            "backgroundcolor": "#E5ECF6",
            "gridcolor": "white",
            "gridwidth": 2,
            "linecolor": "white",
            "showbackground": true,
            "ticks": "",
            "zerolinecolor": "white"
           },
           "yaxis": {
            "backgroundcolor": "#E5ECF6",
            "gridcolor": "white",
            "gridwidth": 2,
            "linecolor": "white",
            "showbackground": true,
            "ticks": "",
            "zerolinecolor": "white"
           },
           "zaxis": {
            "backgroundcolor": "#E5ECF6",
            "gridcolor": "white",
            "gridwidth": 2,
            "linecolor": "white",
            "showbackground": true,
            "ticks": "",
            "zerolinecolor": "white"
           }
          },
          "shapedefaults": {
           "line": {
            "color": "#2a3f5f"
           }
          },
          "ternary": {
           "aaxis": {
            "gridcolor": "white",
            "linecolor": "white",
            "ticks": ""
           },
           "baxis": {
            "gridcolor": "white",
            "linecolor": "white",
            "ticks": ""
           },
           "bgcolor": "#E5ECF6",
           "caxis": {
            "gridcolor": "white",
            "linecolor": "white",
            "ticks": ""
           }
          },
          "title": {
           "x": 0.05
          },
          "xaxis": {
           "automargin": true,
           "gridcolor": "white",
           "linecolor": "white",
           "ticks": "",
           "title": {
            "standoff": 15
           },
           "zerolinecolor": "white",
           "zerolinewidth": 2
          },
          "yaxis": {
           "automargin": true,
           "gridcolor": "white",
           "linecolor": "white",
           "ticks": "",
           "title": {
            "standoff": 15
           },
           "zerolinecolor": "white",
           "zerolinewidth": 2
          }
         }
        },
        "title": {
         "text": "KNeighborsRegressor Predictions for CMIP5 45 & 85"
        },
        "xaxis": {
         "autorange": true,
         "range": [
          -2.0257035986495042,
          3.0863770997439524
         ],
         "title": {
          "text": "St. Vrain Volume in Acre-Ft"
         },
         "type": "linear"
        },
        "yaxis": {
         "autorange": true,
         "range": [
          -3.4642520078632835,
          3.8270735507602924
         ],
         "title": {
          "text": "UC Volume in Acre-Ft"
         },
         "type": "linear"
        }
       }
      },
      "image/png": "[encoded data removed]",
      "text/html": [
       "<div>                            <div id=\"9ff0b213-60ef-4619-acbd-fcf99f2891c1\" class=\"plotly-graph-div\" style=\"height:525px; width:100%;\"></div>            <script type=\"text/javascript\">                require([\"plotly\"], function(Plotly) {                    window.PLOTLYENV=window.PLOTLYENV || {};                                    if (document.getElementById(\"9ff0b213-60ef-4619-acbd-fcf99f2891c1\")) {                    Plotly.newPlot(                        \"9ff0b213-60ef-4619-acbd-fcf99f2891c1\",                        [{\"mode\":\"markers\",\"name\":\"UC v K Predicted St. Vrain CMIP5 45\",\"x\":[0.49378056974359263,-0.8110873904721206,0.6997318181205597,-1.0470971624657615,-0.21678799256810802,0.6119922425100275,-0.12801553625329423,1.3983765341453376,1.348222348399368,1.9365694878979844,1.8557144698951744,-0.2464300255094935,-1.029468871617485,-0.9823802649715162,0.6233660222196492,1.3959872573979002,-0.2630567694527102,-1.6585232474172327,1.4348610820590801,0.31849662697137554,0.6632422637524633,-0.10709844047884516,0.7675571572805314,-1.06598572402316,1.202548251738146,0.34474805190475655,0.49018759580176535,0.4817611126284191,0.6737717228879138,-0.13283820879542163,0.4251249732890822,0.4649971878300412,-0.7107745070517818,0.21909543888892458,0.037909703130927244,-0.27310840118412105,-1.052486958824446,1.5932561952257083,-0.1357922910411276,0.3828035515873092,-0.15167368999964972,-0.7638224059145755,0.6647372454054117,-0.2720561773031925,-1.440893216863451,-0.46356983220593795,-0.19629585924494178,1.3951191776309102,0.6373314753815941,0.4928082424481595,0.6248221996222902,0.34021266318227417,0.4900649773938685,-0.15845281300384514,0.6146489006784608,-0.5220180158909377,-0.14704340922010534,-1.0803977929909379,-0.1418115930041614,0.317901930187196,-0.12728539459114163,0.6437464046294016,0.6532005559592732,-0.20907748333853818,-0.12746993857646324,-0.24587507851368468,-0.12793138832680007,-0.1287895079291767,0.07620595113894536,-1.0293978368723573,-0.7381946204563526,-0.6007198297015013,0.7336921482147704,0.06666532850413068,-0.49047577998015013,-0.2722507769169581,-1.3590227024483366,-0.3429543021713404,-0.5442159786116644,-0.27396590113255415,-0.44603699476594877,-1.296427370614324,-1.4653018688643906,-0.7188698117796722,-0.561052095312183,-0.07137857299184229,0.6181226393930939,-0.635068163646386,1.3910114631192323,-0.21439699561310585,1.8674115214271676,-0.8579400619855709,0.7421248473527982,0.6882504826002183,-0.12747032613318138,1.246407354789227,-1.3285331482924505,-1.2896488058586106,-0.40627840538994553,-0.13197363238520463,-0.6179991378085703,0.6992664251254942,-0.24037001885686732,-0.5332620158444401,0.5327633591532119,0.39688675923316535,-0.49127342578190397,-0.48972415640515005,0.023823362503818852,-0.18546598858628224,1.343045800893644,-0.1770597188775488,0.25214008064119986,1.2274586333157862,0.4721526841205121,-0.9826973699121523,-1.5606849629464579,-0.16697482186437737,0.4908222761445019,-0.6860319803741687,-0.11729001941304425,-0.6208716233441077,0.07154625213767855,1.4643920722585562,0.3945715978591854,-0.5505612246175996,-0.13083066819807349,-1.044606504721399,-0.2462709451177385,0.5985090413025085,0.3143435820265449,-0.9602978636913265,0.4534913489737418,-0.09605975474219891,-0.7753101838553341,-0.7742502283418986,0.6357756025404314,-0.49044256180591966,-0.764720792785598,-0.8541938419937462,0.43430846835749753,-0.5079574859701713,0.5252856898070025,-1.6491852872384019,-0.03140747009422265,0.6457594745591774,0.647676478950525,-0.50016789313208,-0.23600339748791477,-0.13325332374179896],\"y\":[0.32150281969406674,-0.5375114090740458,1.405532603031209,-0.7704175223987417,-0.009765076585491975,1.1238717890433714,-0.06259969185870799,2.0323203952935884,3.0009890611594208,1.7111919323299076,0.9932216693869329,-0.6468315791577404,-1.177032917531821,-0.39039121137810817,0.87673518593033,1.9811292589488843,-0.6887560906866697,-1.5327784444328618,1.5179818835882692,0.4752712172625812,1.162282783032806,0.04660162735970287,1.0163529467574801,-1.1595006124604927,0.5766618307723061,0.2375405168878249,1.1053143984623661,1.1040478978870039,0.836342731920424,-0.04570806578804016,0.6600001684857009,-0.2400304799422764,-0.45047942104137606,0.17315697609433256,-0.19460359273624564,-0.5849921813773654,-1.1820209241966644,1.7879377815254334,-0.07249399547385534,0.7162275946940893,-0.023273177844341592,-0.426885741153798,1.2699891858829377,-0.6233233226912274,-1.5680176154955823,-0.9027371202720441,-0.09294185135166289,2.233187015323965,1.1924318106589167,0.19664480476080262,0.8726251126360266,0.1711900531605973,1.1052958252871392,-0.6823934677520401,-0.6057828704185444,-0.8692048406331392,-0.6710976260017965,-1.1217220609467886,-0.030365794254444113,1.0328396211542255,-0.058052163508853616,0.8496670223481163,0.8403701636380349,0.0014199575066413089,-0.060451351074227375,-0.6475984207432077,-0.05402515872450157,-0.05178201572935777,0.07173011021271304,-1.1691731867372266,-1.0968899717265952,-0.5262199928333643,0.20399927592168204,-1.058049008405685,0.1800616573754354,-0.585041315285757,-2.260961307098487,-1.068688801929371,-0.3673536266374417,-0.4946558829441572,-0.5126351020847179,-1.1384969966313074,-1.8601651235149732,-0.3826090013752562,-0.9799386548889545,0.04872621865854082,0.8942355519741721,1.0505619091114213,2.15628580550566,-0.6617650653461706,0.9955985206733177,1.0524395465401521,1.137166793223741,0.21559863249206815,-0.06045364414594354,1.492946411274727,-2.4490672244432017,-2.947783114127447,-1.0717632831446346,-0.046741415306823804,-1.0864134171278006,1.0188868238734847,-0.3394293168372538,-0.8671894697812067,0.11594264528312846,1.0927318775513466,-1.0768344738272535,-0.5147227849197941,0.05496258764204617,-0.09082118917587054,1.0014316124749365,-0.4663794518145019,0.09190002492539714,1.610122931042169,0.11258757699362157,-0.4803178748708234,-1.9436092929505666,-0.669878525974654,0.7732403000993268,-0.7937644460051585,-0.6725657148423458,-0.9420661464887248,1.069293276388032,2.55398025619848,0.7134381637605206,-0.5208245674183308,-0.0676557994851346,-1.164738553914393,-0.6470540897524468,0.8126492285745207,0.23592065280962995,-0.44307051616859777,0.7682155233201249,-1.0515225359517513,-0.41881048965916823,-0.430561561113433,0.8557443780988987,-0.552635761170373,-0.4275681574766448,-0.4786571587209172,0.7197146720841823,-1.0092440068708652,0.6352869303164952,-1.5332478260737379,-0.6780764148370206,0.848479807865738,0.29363060633653454,-0.46287382074809114,-0.655592911841618,-0.0452401413656413],\"type\":\"scatter\"},{\"mode\":\"markers\",\"name\":\"UC vs K Predicted St.Vrain CMIP5 85\",\"x\":[0.3979012358570509,-0.508899417933747,1.6558949764239967,-0.6224591229060933,0.7773837870616698,0.9233761401360806,-0.451815178285862,0.35019185971716243,1.400719276722145,1.399118874814939,0.48737116959922405,-0.38223243275402374,-0.5515123498815198,-0.3919392583274931,0.5068208871790514,1.2098979621552917,-0.7482446678384022,-1.1257916898316127,1.6104633852309953,-0.20259948816069603,0.6922189530153859,0.15755819735512636,0.4447017579107968,-0.5580774365775305,0.5266539740812091,0.4309343750430796,-0.1740593449697814,0.8881934262366702,0.14435019126351356,-0.20369964604575677,0.3882014478805967,-0.031374931380852254,-0.566644461339657,0.4348328367930972,-0.328418525915031,-0.623826902704011,-0.5418777516353942,0.6620881764225373,-0.15192168924505317,0.5920784627388944,-0.4179325109037914,-0.1060491916996041,0.38248599612270984,-0.7819361157168057,-1.114015083480266,-0.30068856057300164,-0.13756358324361762,1.509679804232169,0.5978278345138512,0.5991142477308415,0.7116667903986895,0.4950268538472649,0.47854373160685754,-0.7022075224840326,-0.7569938366063507,0.7464241089411089,0.028204335367115807,-0.7420235651563925,1.3274140070207707,0.0684805385470869,-0.7750634540358639,-0.5637278995356617,0.8780366174320265,0.5148270139235042,0.7622129793038451,-0.18879419884709353,-1.415307103221632,1.5426486277710945,-0.5320957410366584,-1.1180663505198392,-0.30104071950702727,1.3451746789017998,-0.7905449479269512,-1.3791607467350309,-0.5422462391016573,-0.13886791834460016,0.9124255538305086,0.2724288997379086,-0.3909807667056104,-0.3406350113133814,-0.29974007957713694,-0.20809492800917662,-0.7926934292443191,0.6459602777668751,-0.30204143693017277,-1.4019595413894073,-0.36004219514386865,0.5441997716016215,-0.6784066221716492,-0.7227457207628022,0.4767097496772457,0.6156910187650246,-0.5581448807864053,-0.7658116127518027,0.08907613358483871,-0.4572279258165292,-0.12860534619878008,0.2550123519273886,0.7366849072427935,-0.13548497579942262,-0.5634488406563622,-0.5612143763249643,1.5911857422869315,1.5477506698325232,-0.5618098385827489,1.396248876363036,0.6226136339059377,0.4119472110447585,-0.5622470456452114,-0.7319777143802152,0.6491948591076466,-0.14645084805729966,0.7827368130712051,-0.563132891494898,-1.4131367093367002,-0.5627021151816183,0.1379298338981203,-0.18515351903241947,-1.49279592771468,-0.5611951573832654,-0.1417963982417192,-0.5106683082132818,-0.14577029290346108,0.8915941646167473,-0.19625813611380039,0.42797053071981256,-0.5274191836269518,-0.5581615477924092,-0.6229062639621498,-0.14337310412978568,-0.5635128608510424,0.3477123675689824,-0.13519117059067778,-0.7863290034417105,-0.13784797250243758,-0.5636067665800285,0.7442939230387456,0.3768349222919468,-1.3457971985284545,-0.28796693187068173,-0.5633214241727736,-0.9824680193303987,-0.5234158199001675,-1.1750383094338452,-0.5628204731135508,-0.13568122913485442,-0.5626895304358167,-0.14550580655637682,-1.4205217160991044,-0.8925539438399487],\"y\":[0.547496641829875,-0.5073265940905088,1.5447829070489756,-0.4736323616378166,0.2134501846740251,1.0110849424910833,0.03200965778079035,1.3749454326475214,2.6785535854180886,2.00363236948986,0.3232041554773189,-0.5648439755812044,-0.9940540706262049,-0.17040059496679916,0.7757640061255936,1.612244829494382,-0.7529397705531914,-1.3067651462945156,1.7820659799617775,0.0004146832479777385,1.156952351958292,0.081557694664291,1.0285107419349324,-0.9786426448083727,0.9339984286882234,0.24939875274662848,1.0622751671408355,1.0121982346306109,0.4583712263326415,-0.014433567008087265,0.19280367320374028,-0.3346520194600284,-0.3553915778441631,0.6701791682439939,-0.13046898731048304,-0.5279910620514972,-0.9984386796407061,1.276099114581892,-0.023130959074276147,0.6207535605394502,0.020135628310122524,-0.30257222441216725,1.088777074247501,-0.43189532687466775,-1.3377414432368053,-0.6366268432085673,-0.04110524319219756,1.8270645369129865,0.9136653364253763,0.8112701949322634,0.8240557577779187,0.3211763598230015,1.1035699063798323,-0.4755446293827779,-0.40901888031138417,-0.6047190782662567,-0.2755054305057266,-0.9556495903442558,3.310604657024456,-0.5977176182338548,-0.4771986420436216,-0.9833334023500824,0.5887572118101013,1.0259270236059899,1.1496442316433493,-0.021701498940054936,-1.5826482899288437,1.8091896178875921,-0.3649566379362173,-1.3167033493185891,-0.6364254507531082,3.0356451367603974,-0.7557133554974731,-1.6305308149193931,-0.9982875804098834,-0.0400355320388612,1.0114262710550592,0.7541960227795483,-0.10886425536084644,-0.5699337346356353,-0.637263002263312,-0.012738532953912965,-0.7558361233980622,0.12385037100392086,-0.6243567516759838,-2.1141196698812026,0.03492607355681553,0.7827546651005474,-0.841681314375985,-0.797794526704495,0.5433093100070573,0.9001363729710269,-0.9901629016536535,-0.4237404303943846,0.07339111628707792,-0.5000454636048979,-0.06406953439478548,0.7533806189301169,0.2040649173711236,-0.03933783550722224,-0.9847624685877746,-0.9877268285743257,1.7886856897782106,1.8067371315822869,-0.9804153736061326,1.9820609992539757,0.8791365170521448,0.7083416333076227,-0.9866466503512318,-0.38334360073825025,0.841390347240218,-0.07885580430562536,1.0158047476572525,-0.9816676480467101,-1.8049405161655308,-0.986069768561472,-0.1851485761108692,-0.002567210602623153,-1.9820769311176099,-0.9800214516119723,-0.03038005024803218,-0.5045212938644635,-0.027096098974576387,1.0120885301214908,-0.000619916755592802,0.7018057929260734,-0.8163748830710589,-0.9901513794047985,-0.9426310864287439,-0.028979807996902748,-0.9845951472842426,0.7585485443265892,-0.07201504246699017,-0.4015599472506611,-0.034872647799705156,-0.9842995281842198,1.4131212417110464,-0.24259720412962,-2.3302212471960706,-0.1015246225074004,-0.9819574044058161,-0.4427807575144201,-0.36205586342732804,-1.4624195963813507,-0.9859024950870665,-0.03882499414316597,-0.9811472380906278,-0.027292021442971673,-1.5790773942571623,-0.39455963136279704],\"type\":\"scatter\"},{\"mode\":\"markers\",\"name\":\"UC vs Actual St.Vrain CMIP5 45\",\"x\":[1.1016116470966335,-0.14083761962193897,1.849450739893322,-0.3819926920020408,0.6531997580784311,1.8844805428545186,0.6514403482094938,1.3805385916163848,1.821766488307277,2.673055323723779,0.6028281812213153,-0.4301746685872467,-1.3259682702665423,-0.4746952738126687,0.7797942601418336,2.0728767660185343,-0.5049093500184291,-1.358064667770869,1.8009545152806528,0.7714780871901437,2.4802951054136786,1.028839749865199,0.9597856115884876,-0.8279203732325686,0.43030402560936304,0.7949434303101315,2.721510366618372,2.2527585105789054,0.8884905541237847,0.7442861158457594,0.25376687012173854,-0.5602157638309576,-0.8742922549170665,0.3843274887378219,-0.03216159987628879,-0.30530346319385204,-1.2060363366231057,0.5711733782880438,0.5374696268086362,1.2623838073394857,0.6336561818088698,-0.22078400570728116,1.0800837457403634,-0.3768424431425497,-1.3826881673564522,-1.1138570795742115,-0.41172779330802994,1.8005889480176902,1.8848980621193303,0.7456558828260725,0.32414072455072146,1.0347376054587205,1.9694010469186698,-0.23797198770283745,-0.33597053829845963,-0.8369214296744155,-0.798516626525585,-1.0236919253217296,0.2096542810071436,0.6164897411794014,0.1863257880638587,-0.18217519450303707,0.4240773499958283,0.03893895348552987,-0.3777021905433101,-0.5750361138195323,0.04483174055990289,0.5092753553236204,-0.13664658769177762,-1.2074878337940966,-0.9403331587200371,-0.32080172761846365,0.5135506513846164,-1.0420234919500395,-0.31698006402120854,-0.46585514285376883,-1.5830302565872674,-1.042119160248957,-0.49091200082650094,-0.49536722915753983,-0.7458559797082809,-1.251025779710003,-1.4397622272218242,-0.48263130766855483,-0.7923533072416905,-0.16909461387170124,0.3064820035198828,0.3583697014865436,2.1047349431229074,-0.8814458361294896,-0.013325081868156482,0.753339124608873,2.1391014034809093,0.43867025018763955,-0.37810703866996065,0.519411126649421,-1.5109875925482434,-1.7137163207328447,-1.1048756636440629,-0.5457020590911239,-1.0398801419153547,0.2548585025929349,0.29526220282102533,-0.4357912215277659,0.8790143238521093,1.1716484448425697,-1.263811752825574,-0.1363253704504859,-0.45542919896645745,-0.5952075527388355,-0.26236740392676333,-0.7269763794471003,-0.7673287609188176,0.6902962495624909,0.22117439130580768,-0.2845345722605679,-1.5793695186326684,-0.8798511532925692,0.3239297472814796,-0.8066135858644181,-0.875093080942441,-1.415964896257355,0.9241089387113265,2.4509274719056235,0.08334805097027956,-0.5393594411020801,-0.37118534220855576,-1.1618838327605117,-0.7049574651386642,0.01443456378050558,-0.35853051686622917,-0.8291235129653107,0.810481609482742,-0.7829188924126947,-0.8836272000577841,-0.6004040521549692,0.2796188521955126,-0.47809561643633375,-0.9898139433369024,-0.7965804520513632,-0.162893914099382,-0.8117239202953281,0.20437351761988423,-1.369435890479271,-0.9070500940104904,0.19961544526975597,0.05623590848305796,-0.7983487318288095,-0.9881483012319107,-0.4240297228449725],\"y\":[0.32150281969406674,-0.5375114090740458,1.405532603031209,-0.7704175223987417,-0.009765076585491975,1.1238717890433714,-0.06259969185870799,2.0323203952935884,3.0009890611594208,1.7111919323299076,0.9932216693869329,-0.6468315791577404,-1.177032917531821,-0.39039121137810817,0.87673518593033,1.9811292589488843,-0.6887560906866697,-1.5327784444328618,1.5179818835882692,0.4752712172625812,1.162282783032806,0.04660162735970287,1.0163529467574801,-1.1595006124604927,0.5766618307723061,0.2375405168878249,1.1053143984623661,1.1040478978870039,0.836342731920424,-0.04570806578804016,0.6600001684857009,-0.2400304799422764,-0.45047942104137606,0.17315697609433256,-0.19460359273624564,-0.5849921813773654,-1.1820209241966644,1.7879377815254334,-0.07249399547385534,0.7162275946940893,-0.023273177844341592,-0.426885741153798,1.2699891858829377,-0.6233233226912274,-1.5680176154955823,-0.9027371202720441,-0.09294185135166289,2.233187015323965,1.1924318106589167,0.19664480476080262,0.8726251126360266,0.1711900531605973,1.1052958252871392,-0.6823934677520401,-0.6057828704185444,-0.8692048406331392,-0.6710976260017965,-1.1217220609467886,-0.030365794254444113,1.0328396211542255,-0.058052163508853616,0.8496670223481163,0.8403701636380349,0.0014199575066413089,-0.060451351074227375,-0.6475984207432077,-0.05402515872450157,-0.05178201572935777,0.07173011021271304,-1.1691731867372266,-1.0968899717265952,-0.5262199928333643,0.20399927592168204,-1.058049008405685,0.1800616573754354,-0.585041315285757,-2.260961307098487,-1.068688801929371,-0.3673536266374417,-0.4946558829441572,-0.5126351020847179,-1.1384969966313074,-1.8601651235149732,-0.3826090013752562,-0.9799386548889545,0.04872621865854082,0.8942355519741721,1.0505619091114213,2.15628580550566,-0.6617650653461706,0.9955985206733177,1.0524395465401521,1.137166793223741,0.21559863249206815,-0.06045364414594354,1.492946411274727,-2.4490672244432017,-2.947783114127447,-1.0717632831446346,-0.046741415306823804,-1.0864134171278006,1.0188868238734847,-0.3394293168372538,-0.8671894697812067,0.11594264528312846,1.0927318775513466,-1.0768344738272535,-0.5147227849197941,0.05496258764204617,-0.09082118917587054,1.0014316124749365,-0.4663794518145019,0.09190002492539714,1.610122931042169,0.11258757699362157,-0.4803178748708234,-1.9436092929505666,-0.669878525974654,0.7732403000993268,-0.7937644460051585,-0.6725657148423458,-0.9420661464887248,1.069293276388032,2.55398025619848,0.7134381637605206,-0.5208245674183308,-0.0676557994851346,-1.164738553914393,-0.6470540897524468,0.8126492285745207,0.23592065280962995,-0.44307051616859777,0.7682155233201249,-1.0515225359517513,-0.41881048965916823,-0.430561561113433,0.8557443780988987,-0.552635761170373,-0.4275681574766448,-0.4786571587209172,0.7197146720841823,-1.0092440068708652,0.6352869303164952,-1.5332478260737379,-0.6780764148370206,0.848479807865738,0.29363060633653454,-0.46287382074809114,-0.655592911841618,-0.0452401413656413],\"type\":\"scatter\"},{\"mode\":\"markers\",\"name\":\"UC vs Actual St.Vrain CMIP5 85\",\"x\":[1.0032613824979484,-0.0592810080939172,1.795408915374512,-0.3247118739953667,0.6360113768703808,1.6128547064682786,0.5381711096808885,1.3042682871678275,2.120638059797887,2.47671077437419,0.6362778573241785,-0.24816083930331165,-1.1134387109139294,-0.30970127164253425,0.8156589394785513,1.9969050335013991,-0.20768728563749317,-1.0890250633427074,1.4165197183082485,0.9968555291446163,2.7743898218272927,0.8748211029680665,1.051999277938208,-0.6732996316239989,0.43409175450608906,0.5885692083687546,2.4811767625358927,2.0663745575039534,0.9358984891995084,0.8293967381118537,0.35474181240017433,-0.496773618416361,-0.7349265985699973,0.46511641665977216,0.031238202276059484,-0.27203923308162903,-1.126024625046442,0.5232275571769249,0.5862029739887734,1.4787008505837316,1.0239460187572265,-0.05834689280223174,1.0057061284085804,-0.2949095846525386,-1.1598544986039727,-1.0437542832310613,-0.3086227409806006,1.5313201954933862,1.6772845923661994,0.8067848443520004,0.4625163670628978,1.0526130428283804,1.8397564685104673,-0.18762157224910414,-0.25464806942716395,-0.66097675977301,-0.3111608984204012,-0.859659643853307,1.7510900156484777,-0.3798407223570576,-0.8489453987653617,-1.1477213151956511,0.009457842759943927,1.2375466670269755,1.3534990284239807,-0.09613500812921019,-1.024358496699102,0.8732829646595486,-0.3413465761866265,-1.2357642602829015,-0.9796739742214401,2.0590116660732156,-0.8114214717291779,-1.4202846957721418,-1.3178088098130525,-0.21869265377339941,1.270687128970169,0.39020380887225736,-0.14503680340870323,-0.5370225259506821,-0.5156799973047009,-0.06079679640465835,-0.7618606381981716,-0.20242414755509391,-0.6530069797966485,-1.3849390339038699,-0.23877269408344007,1.4464687153287892,-0.7084876973541029,-0.6969081061983998,0.9777858236383697,1.067406449337896,-1.0009763874867967,-0.8320298889097303,0.016945092159540112,-0.3277577775385006,-0.20995151219085373,0.25744081054164897,0.10599034854107654,-0.165872158883756,-1.0758517454224785,-1.3473921837930438,1.0717194256874378,1.3548360166080486,-0.9193433071464802,1.540354752286896,1.5904468279282835,0.371094560917791,-1.1111131649914388,-0.3996852279306847,0.1622028852564957,-0.13259473142511166,0.06165311064424964,-0.9964805994725193,-1.4093664353198772,-1.1318224437004185,-0.17972743827460205,-0.13435980831705205,-1.4074340201275073,-0.7921019044204052,-0.4750935474962677,-0.770395471964473,0.18198091420258128,0.11479567473262142,-0.5653875383689588,0.5850361896339267,-0.41084590004175536,-1.091702478460962,-1.1129349763486585,-0.41813601085496427,-0.9314747713242034,-0.28323027797767936,-0.7686389913699848,-0.590476270632866,-0.6530533990227996,-0.9165501305012808,0.45678215979659365,-0.4329047747703175,-1.4598057956865609,-0.7354882138987406,-0.8720845233864556,-0.8592710977381153,-0.8002418882259881,-1.290280489474769,-1.0767365761036825,-0.9540918229203125,-1.0139697592710817,-0.6954719754275808,-1.3037586842877447,-0.9556941458378294],\"y\":[0.547496641829875,-0.5073265940905088,1.5447829070489756,-0.4736323616378166,0.2134501846740251,1.0110849424910833,0.03200965778079035,1.3749454326475214,2.6785535854180886,2.00363236948986,0.3232041554773189,-0.5648439755812044,-0.9940540706262049,-0.17040059496679916,0.7757640061255936,1.612244829494382,-0.7529397705531914,-1.3067651462945156,1.7820659799617775,0.0004146832479777385,1.156952351958292,0.081557694664291,1.0285107419349324,-0.9786426448083727,0.9339984286882234,0.24939875274662848,1.0622751671408355,1.0121982346306109,0.4583712263326415,-0.014433567008087265,0.19280367320374028,-0.3346520194600284,-0.3553915778441631,0.6701791682439939,-0.13046898731048304,-0.5279910620514972,-0.9984386796407061,1.276099114581892,-0.023130959074276147,0.6207535605394502,0.020135628310122524,-0.30257222441216725,1.088777074247501,-0.43189532687466775,-1.3377414432368053,-0.6366268432085673,-0.04110524319219756,1.8270645369129865,0.9136653364253763,0.8112701949322634,0.8240557577779187,0.3211763598230015,1.1035699063798323,-0.4755446293827779,-0.40901888031138417,-0.6047190782662567,-0.2755054305057266,-0.9556495903442558,3.310604657024456,-0.5977176182338548,-0.4771986420436216,-0.9833334023500824,0.5887572118101013,1.0259270236059899,1.1496442316433493,-0.021701498940054936,-1.5826482899288437,1.8091896178875921,-0.3649566379362173,-1.3167033493185891,-0.6364254507531082,3.0356451367603974,-0.7557133554974731,-1.6305308149193931,-0.9982875804098834,-0.0400355320388612,1.0114262710550592,0.7541960227795483,-0.10886425536084644,-0.5699337346356353,-0.637263002263312,-0.012738532953912965,-0.7558361233980622,0.12385037100392086,-0.6243567516759838,-2.1141196698812026,0.03492607355681553,0.7827546651005474,-0.841681314375985,-0.797794526704495,0.5433093100070573,0.9001363729710269,-0.9901629016536535,-0.4237404303943846,0.07339111628707792,-0.5000454636048979,-0.06406953439478548,0.7533806189301169,0.2040649173711236,-0.03933783550722224,-0.9847624685877746,-0.9877268285743257,1.7886856897782106,1.8067371315822869,-0.9804153736061326,1.9820609992539757,0.8791365170521448,0.7083416333076227,-0.9866466503512318,-0.38334360073825025,0.841390347240218,-0.07885580430562536,1.0158047476572525,-0.9816676480467101,-1.8049405161655308,-0.986069768561472,-0.1851485761108692,-0.002567210602623153,-1.9820769311176099,-0.9800214516119723,-0.03038005024803218,-0.5045212938644635,-0.027096098974576387,1.0120885301214908,-0.000619916755592802,0.7018057929260734,-0.8163748830710589,-0.9901513794047985,-0.9426310864287439,-0.028979807996902748,-0.9845951472842426,0.7585485443265892,-0.07201504246699017,-0.4015599472506611,-0.034872647799705156,-0.9842995281842198,1.4131212417110464,-0.24259720412962,-2.3302212471960706,-0.1015246225074004,-0.9819574044058161,-0.4427807575144201,-0.36205586342732804,-1.4624195963813507,-0.9859024950870665,-0.03882499414316597,-0.9811472380906278,-0.027292021442971673,-1.5790773942571623,-0.39455963136279704],\"type\":\"scatter\"}],                        {\"template\":{\"data\":{\"histogram2dcontour\":[{\"type\":\"histogram2dcontour\",\"colorbar\":{\"outlinewidth\":0,\"ticks\":\"\"},\"colorscale\":[[0.0,\"#0d0887\"],[0.1111111111111111,\"#46039f\"],[0.2222222222222222,\"#7201a8\"],[0.3333333333333333,\"#9c179e\"],[0.4444444444444444,\"#bd3786\"],[0.5555555555555556,\"#d8576b\"],[0.6666666666666666,\"#ed7953\"],[0.7777777777777778,\"#fb9f3a\"],[0.8888888888888888,\"#fdca26\"],[1.0,\"#f0f921\"]]}],\"choropleth\":[{\"type\":\"choropleth\",\"colorbar\":{\"outlinewidth\":0,\"ticks\":\"\"}}],\"histogram2d\":[{\"type\":\"histogram2d\",\"colorbar\":{\"outlinewidth\":0,\"ticks\":\"\"},\"colorscale\":[[0.0,\"#0d0887\"],[0.1111111111111111,\"#46039f\"],[0.2222222222222222,\"#7201a8\"],[0.3333333333333333,\"#9c179e\"],[0.4444444444444444,\"#bd3786\"],[0.5555555555555556,\"#d8576b\"],[0.6666666666666666,\"#ed7953\"],[0.7777777777777778,\"#fb9f3a\"],[0.8888888888888888,\"#fdca26\"],[1.0,\"#f0f921\"]]}],\"heatmap\":[{\"type\":\"heatmap\",\"colorbar\":{\"outlinewidth\":0,\"ticks\":\"\"},\"colorscale\":[[0.0,\"#0d0887\"],[0.1111111111111111,\"#46039f\"],[0.2222222222222222,\"#7201a8\"],[0.3333333333333333,\"#9c179e\"],[0.4444444444444444,\"#bd3786\"],[0.5555555555555556,\"#d8576b\"],[0.6666666666666666,\"#ed7953\"],[0.7777777777777778,\"#fb9f3a\"],[0.8888888888888888,\"#fdca26\"],[1.0,\"#f0f921\"]]}],\"heatmapgl\":[{\"type\":\"heatmapgl\",\"colorbar\":{\"outlinewidth\":0,\"ticks\":\"\"},\"colorscale\":[[0.0,\"#0d0887\"],[0.1111111111111111,\"#46039f\"],[0.2222222222222222,\"#7201a8\"],[0.3333333333333333,\"#9c179e\"],[0.4444444444444444,\"#bd3786\"],[0.5555555555555556,\"#d8576b\"],[0.6666666666666666,\"#ed7953\"],[0.7777777777777778,\"#fb9f3a\"],[0.8888888888888888,\"#fdca26\"],[1.0,\"#f0f921\"]]}],\"contourcarpet\":[{\"type\":\"contourcarpet\",\"colorbar\":{\"outlinewidth\":0,\"ticks\":\"\"}}],\"contour\":[{\"type\":\"contour\",\"colorbar\":{\"outlinewidth\":0,\"ticks\":\"\"},\"colorscale\":[[0.0,\"#0d0887\"],[0.1111111111111111,\"#46039f\"],[0.2222222222222222,\"#7201a8\"],[0.3333333333333333,\"#9c179e\"],[0.4444444444444444,\"#bd3786\"],[0.5555555555555556,\"#d8576b\"],[0.6666666666666666,\"#ed7953\"],[0.7777777777777778,\"#fb9f3a\"],[0.8888888888888888,\"#fdca26\"],[1.0,\"#f0f921\"]]}],\"surface\":[{\"type\":\"surface\",\"colorbar\":{\"outlinewidth\":0,\"ticks\":\"\"},\"colorscale\":[[0.0,\"#0d0887\"],[0.1111111111111111,\"#46039f\"],[0.2222222222222222,\"#7201a8\"],[0.3333333333333333,\"#9c179e\"],[0.4444444444444444,\"#bd3786\"],[0.5555555555555556,\"#d8576b\"],[0.6666666666666666,\"#ed7953\"],[0.7777777777777778,\"#fb9f3a\"],[0.8888888888888888,\"#fdca26\"],[1.0,\"#f0f921\"]]}],\"mesh3d\":[{\"type\":\"mesh3d\",\"colorbar\":{\"outlinewidth\":0,\"ticks\":\"\"}}],\"scatter\":[{\"fillpattern\":{\"fillmode\":\"overlay\",\"size\":10,\"solidity\":0.2},\"type\":\"scatter\"}],\"parcoords\":[{\"type\":\"parcoords\",\"line\":{\"colorbar\":{\"outlinewidth\":0,\"ticks\":\"\"}}}],\"scatterpolargl\":[{\"type\":\"scatterpolargl\",\"marker\":{\"colorbar\":{\"outlinewidth\":0,\"ticks\":\"\"}}}],\"bar\":[{\"error_x\":{\"color\":\"#2a3f5f\"},\"error_y\":{\"color\":\"#2a3f5f\"},\"marker\":{\"line\":{\"color\":\"#E5ECF6\",\"width\":0.5},\"pattern\":{\"fillmode\":\"overlay\",\"size\":10,\"solidity\":0.2}},\"type\":\"bar\"}],\"scattergeo\":[{\"type\":\"scattergeo\",\"marker\":{\"colorbar\":{\"outlinewidth\":0,\"ticks\":\"\"}}}],\"scatterpolar\":[{\"type\":\"scatterpolar\",\"marker\":{\"colorbar\":{\"outlinewidth\":0,\"ticks\":\"\"}}}],\"histogram\":[{\"marker\":{\"pattern\":{\"fillmode\":\"overlay\",\"size\":10,\"solidity\":0.2}},\"type\":\"histogram\"}],\"scattergl\":[{\"type\":\"scattergl\",\"marker\":{\"colorbar\":{\"outlinewidth\":0,\"ticks\":\"\"}}}],\"scatter3d\":[{\"type\":\"scatter3d\",\"line\":{\"colorbar\":{\"outlinewidth\":0,\"ticks\":\"\"}},\"marker\":{\"colorbar\":{\"outlinewidth\":0,\"ticks\":\"\"}}}],\"scattermapbox\":[{\"type\":\"scattermapbox\",\"marker\":{\"colorbar\":{\"outlinewidth\":0,\"ticks\":\"\"}}}],\"scatterternary\":[{\"type\":\"scatterternary\",\"marker\":{\"colorbar\":{\"outlinewidth\":0,\"ticks\":\"\"}}}],\"scattercarpet\":[{\"type\":\"scattercarpet\",\"marker\":{\"colorbar\":{\"outlinewidth\":0,\"ticks\":\"\"}}}],\"carpet\":[{\"aaxis\":{\"endlinecolor\":\"#2a3f5f\",\"gridcolor\":\"white\",\"linecolor\":\"white\",\"minorgridcolor\":\"white\",\"startlinecolor\":\"#2a3f5f\"},\"baxis\":{\"endlinecolor\":\"#2a3f5f\",\"gridcolor\":\"white\",\"linecolor\":\"white\",\"minorgridcolor\":\"white\",\"startlinecolor\":\"#2a3f5f\"},\"type\":\"carpet\"}],\"table\":[{\"cells\":{\"fill\":{\"color\":\"#EBF0F8\"},\"line\":{\"color\":\"white\"}},\"header\":{\"fill\":{\"color\":\"#C8D4E3\"},\"line\":{\"color\":\"white\"}},\"type\":\"table\"}],\"barpolar\":[{\"marker\":{\"line\":{\"color\":\"#E5ECF6\",\"width\":0.5},\"pattern\":{\"fillmode\":\"overlay\",\"size\":10,\"solidity\":0.2}},\"type\":\"barpolar\"}],\"pie\":[{\"automargin\":true,\"type\":\"pie\"}]},\"layout\":{\"autotypenumbers\":\"strict\",\"colorway\":[\"#636efa\",\"#EF553B\",\"#00cc96\",\"#ab63fa\",\"#FFA15A\",\"#19d3f3\",\"#FF6692\",\"#B6E880\",\"#FF97FF\",\"#FECB52\"],\"font\":{\"color\":\"#2a3f5f\"},\"hovermode\":\"closest\",\"hoverlabel\":{\"align\":\"left\"},\"paper_bgcolor\":\"white\",\"plot_bgcolor\":\"#E5ECF6\",\"polar\":{\"bgcolor\":\"#E5ECF6\",\"angularaxis\":{\"gridcolor\":\"white\",\"linecolor\":\"white\",\"ticks\":\"\"},\"radialaxis\":{\"gridcolor\":\"white\",\"linecolor\":\"white\",\"ticks\":\"\"}},\"ternary\":{\"bgcolor\":\"#E5ECF6\",\"aaxis\":{\"gridcolor\":\"white\",\"linecolor\":\"white\",\"ticks\":\"\"},\"baxis\":{\"gridcolor\":\"white\",\"linecolor\":\"white\",\"ticks\":\"\"},\"caxis\":{\"gridcolor\":\"white\",\"linecolor\":\"white\",\"ticks\":\"\"}},\"coloraxis\":{\"colorbar\":{\"outlinewidth\":0,\"ticks\":\"\"}},\"colorscale\":{\"sequential\":[[0.0,\"#0d0887\"],[0.1111111111111111,\"#46039f\"],[0.2222222222222222,\"#7201a8\"],[0.3333333333333333,\"#9c179e\"],[0.4444444444444444,\"#bd3786\"],[0.5555555555555556,\"#d8576b\"],[0.6666666666666666,\"#ed7953\"],[0.7777777777777778,\"#fb9f3a\"],[0.8888888888888888,\"#fdca26\"],[1.0,\"#f0f921\"]],\"sequentialminus\":[[0.0,\"#0d0887\"],[0.1111111111111111,\"#46039f\"],[0.2222222222222222,\"#7201a8\"],[0.3333333333333333,\"#9c179e\"],[0.4444444444444444,\"#bd3786\"],[0.5555555555555556,\"#d8576b\"],[0.6666666666666666,\"#ed7953\"],[0.7777777777777778,\"#fb9f3a\"],[0.8888888888888888,\"#fdca26\"],[1.0,\"#f0f921\"]],\"diverging\":[[0,\"#8e0152\"],[0.1,\"#c51b7d\"],[0.2,\"#de77ae\"],[0.3,\"#f1b6da\"],[0.4,\"#fde0ef\"],[0.5,\"#f7f7f7\"],[0.6,\"#e6f5d0\"],[0.7,\"#b8e186\"],[0.8,\"#7fbc41\"],[0.9,\"#4d9221\"],[1,\"#276419\"]]},\"xaxis\":{\"gridcolor\":\"white\",\"linecolor\":\"white\",\"ticks\":\"\",\"title\":{\"standoff\":15},\"zerolinecolor\":\"white\",\"automargin\":true,\"zerolinewidth\":2},\"yaxis\":{\"gridcolor\":\"white\",\"linecolor\":\"white\",\"ticks\":\"\",\"title\":{\"standoff\":15},\"zerolinecolor\":\"white\",\"automargin\":true,\"zerolinewidth\":2},\"scene\":{\"xaxis\":{\"backgroundcolor\":\"#E5ECF6\",\"gridcolor\":\"white\",\"linecolor\":\"white\",\"showbackground\":true,\"ticks\":\"\",\"zerolinecolor\":\"white\",\"gridwidth\":2},\"yaxis\":{\"backgroundcolor\":\"#E5ECF6\",\"gridcolor\":\"white\",\"linecolor\":\"white\",\"showbackground\":true,\"ticks\":\"\",\"zerolinecolor\":\"white\",\"gridwidth\":2},\"zaxis\":{\"backgroundcolor\":\"#E5ECF6\",\"gridcolor\":\"white\",\"linecolor\":\"white\",\"showbackground\":true,\"ticks\":\"\",\"zerolinecolor\":\"white\",\"gridwidth\":2}},\"shapedefaults\":{\"line\":{\"color\":\"#2a3f5f\"}},\"annotationdefaults\":{\"arrowcolor\":\"#2a3f5f\",\"arrowhead\":0,\"arrowwidth\":1},\"geo\":{\"bgcolor\":\"white\",\"landcolor\":\"#E5ECF6\",\"subunitcolor\":\"white\",\"showland\":true,\"showlakes\":true,\"lakecolor\":\"white\"},\"title\":{\"x\":0.05},\"mapbox\":{\"style\":\"light\"}}},\"font\":{\"family\":\"Arial, monospace\",\"size\":14,\"color\":\"Black\"},\"title\":{\"text\":\"KNeighborsRegressor Predictions for CMIP5 45 & 85\"},\"yaxis\":{\"title\":{\"text\":\"UC Volume in Acre-Ft\"}},\"xaxis\":{\"title\":{\"text\":\"St. Vrain Volume in Acre-Ft\"}},\"legend\":{\"title\":{\"text\":\"Legend\"}}},                        {\"responsive\": true}                    ).then(function(){\n",
       "                            \n",
       "var gd = document.getElementById('9ff0b213-60ef-4619-acbd-fcf99f2891c1');\n",
       "var x = new MutationObserver(function (mutations, observer) {{\n",
       "        var display = window.getComputedStyle(gd).display;\n",
       "        if (!display || display === 'none') {{\n",
       "            console.log([gd, 'removed!']);\n",
       "            Plotly.purge(gd);\n",
       "            observer.disconnect();\n",
       "        }}\n",
       "}});\n",
       "\n",
       "// Listen for the removal of the full notebook cells\n",
       "var notebookContainer = gd.closest('#notebook-container');\n",
       "if (notebookContainer) {{\n",
       "    x.observe(notebookContainer, {childList: true});\n",
       "}}\n",
       "\n",
       "// Listen for the clearing of the current output cell\n",
       "var outputEl = gd.closest('.output');\n",
       "if (outputEl) {{\n",
       "    x.observe(outputEl, {childList: true});\n",
       "}}\n",
       "\n",
       "                        })                };                });            </script>        </div>"
      ]
     },
     "metadata": {},
     "output_type": "display_data"
    }
   ],
   "source": [
    "# graph predicted CMIP5 St. Vrain data\n",
    "fig = go.Figure()\n",
    "fig.add_trace(go.Scatter(mode='markers', y=df_g45_SS[\"Values\"].values,\n",
    "                         x=cmip5_dict_uc.get(\"45\").get(\"k_pred\").flatten(),\n",
    "                         name=\"UC v K Predicted St. Vrain CMIP5 45\"))\n",
    "fig.add_trace(go.Scatter(mode='markers', y=df_g85_SS[\"Values\"].values,\n",
    "                         x=cmip5_dict_uc.get(\"85\").get(\"k_pred\").flatten(),\n",
    "                         name=\"UC vs K Predicted St.Vrain CMIP5 85\"))\n",
    "fig.add_trace(go.Scatter(mode='markers', y=df_g45_SS[\"Values\"].values,\n",
    "                         x=df_v45_SS[\"Values\"].values, name=\"UC vs Actual St.Vrain CMIP5 45\"))\n",
    "fig.add_trace(go.Scatter(mode='markers', y=df_g85_SS[\"Values\"].values,\n",
    "                         x=df_v85_SS[\"Values\"].values, name=\"UC vs Actual St.Vrain CMIP5 85\"))\n",
    "\n",
    "fig.update_layout(\n",
    "        title=\"KNeighborsRegressor Predictions for CMIP5 45 & 85\",\n",
    "        yaxis_title=\"UC Volume in Acre-Ft\",\n",
    "        xaxis_title=\"St. Vrain Volume in Acre-Ft\",\n",
    "        legend_title=\"Legend\",\n",
    "        font=dict(\n",
    "            family=\"Arial, monospace\",\n",
    "            size=14,\n",
    "            color=\"Black\")\n",
    "    )\n",
    "fig.show()"
   ]
  },
  {
   "cell_type": "code",
   "execution_count": 17,
   "id": "6453e892-ad0f-4ffc-86e9-a46d0b2e8c4a",
   "metadata": {},
   "outputs": [
    {
     "name": "stdout",
     "output_type": "stream",
     "text": [
      "R^2 score of the KNN regression from UC RCP4.5 data: 0.561\n",
      "R^2 score of the KNN regression from UC RCP8.5 data: 0.654\n"
     ]
    }
   ],
   "source": [
    "r2_k45_uc = r2_score(df_v45_SS[\"Values\"].values.reshape(-1, 1), cmip5_dict_uc.get(\"45\").get(\"k_pred\"))\n",
    "r2_k85_uc = r2_score(df_v85_SS[\"Values\"].values.reshape(-1, 1), cmip5_dict_uc.get(\"85\").get(\"k_pred\"))\n",
    "print(\"R^2 score of the KNN regression from UC RCP4.5 data: {}\".format(round(r2_k45_uc,3)))\n",
    "print(\"R^2 score of the KNN regression from UC RCP8.5 data: {}\".format(round(r2_k85_uc,3)))"
   ]
  },
  {
   "cell_type": "markdown",
   "id": "eaee489e-419a-45dd-a9fc-cffa110d5630",
   "metadata": {},
   "source": [
    "## Save Trained Model to Pickle File for Future Use (CRITICAL)"
   ]
  },
  {
   "cell_type": "code",
   "execution_count": 18,
   "id": "84eaf47e-1596-4d30-a97a-18f6092ff322",
   "metadata": {},
   "outputs": [],
   "source": [
    "# save KNN model to file\n",
    "with open('./KNNmodel_v1.pkl','wb') as f:\n",
    "    pickle.dump(neigh_uc, f)"
   ]
  },
  {
   "cell_type": "code",
   "execution_count": null,
   "id": "825c566a-0477-4fbb-b91e-737b0d5b6f78",
   "metadata": {},
   "outputs": [],
   "source": []
  }
 ],
 "metadata": {
  "kernelspec": {
   "display_name": "Python 3 (ipykernel)",
   "language": "python",
   "name": "python3"
  },
  "language_info": {
   "codemirror_mode": {
    "name": "ipython",
    "version": 3
   },
   "file_extension": ".py",
   "mimetype": "text/x-python",
   "name": "python",
   "nbconvert_exporter": "python",
   "pygments_lexer": "ipython3",
   "version": "3.8.13"
  }
 },
 "nbformat": 4,
 "nbformat_minor": 5
}
