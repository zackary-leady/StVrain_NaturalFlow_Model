{
 "cells": [
  {
   "cell_type": "markdown",
   "id": "5d927727-0031-4cd0-a6d5-3c67fbf92e1d",
   "metadata": {},
   "source": [
    "# Predicting St. Vrain Hydrology using KNN Model"
   ]
  },
  {
   "cell_type": "markdown",
   "id": "cf23dca6-fc40-49de-a74b-f0c2371521a9",
   "metadata": {},
   "source": [
    "This notebooks allows users to utilize a pre-trained K-Nearest Neighbors Model for predicting St. Vrain Hydrology based on other Natural Flow nodes.  \n",
    "\n",
    "Note: this notebook does not train a new model each time - but instead utilizes a pre-trained Reclamation model distributed with this notebook."
   ]
  },
  {
   "cell_type": "markdown",
   "id": "1ce22abe-ff58-407f-b836-9e3e6df6d7d4",
   "metadata": {},
   "source": [
    "Please press Shift+Enter (at the sametime) to run each code cell in this notebook.\n",
    "\n",
    "#### The cell below loads in the required Python libraries for running this notebook. If you get an import error please contact Zack to help you (zleady@usbr.gov)."
   ]
  },
  {
   "cell_type": "code",
   "execution_count": 1,
   "id": "e7143370-ba7a-4706-9212-79787e1fef7a",
   "metadata": {},
   "outputs": [
    {
     "name": "stdout",
     "output_type": "stream",
     "text": [
      "Check sklearn version: 1.1.2\n"
     ]
    }
   ],
   "source": [
    "# standard libraries\n",
    "import os\n",
    "import pickle\n",
    "# data read-in / manipulation libraries\n",
    "import pandas as pd\n",
    "import numpy as np\n",
    "# model building libraries\n",
    "import sklearn\n",
    "print(f\"Check sklearn version: {sklearn.__version__}\")\n",
    "from sklearn.metrics import r2_score\n",
    "#from sklearn.preprocessing import StandardScaler\n",
    "#from sklearn.neighbors import KNeighborsRegressor\n",
    "# graphing libraries\n",
    "import plotly.graph_objects as go"
   ]
  },
  {
   "cell_type": "markdown",
   "id": "85a04e2b-f3a2-4491-8b4e-5e82f509cbed",
   "metadata": {},
   "source": [
    "#### The cells below loads in the pre-trained saved model from the model.pkl file contained in the same folder as this notebook."
   ]
  },
  {
   "cell_type": "code",
   "execution_count": 2,
   "id": "71fc426e-d91c-48ea-b9e1-4223ad8002d6",
   "metadata": {},
   "outputs": [],
   "source": [
    "# modify this cell only if you have moved the K-NN model file from the default directory\n",
    "model_filepath = r\"\" # <-- user input or default to \"./KNNmodel_v1.pkl\"\n",
    "if not model_filepath:\n",
    "    model_filepath = \"./KNNmodel_v1.pkl\""
   ]
  },
  {
   "cell_type": "code",
   "execution_count": 3,
   "id": "cf89d786-3e0b-486b-a9a6-ec36062139d6",
   "metadata": {},
   "outputs": [],
   "source": [
    "# load saved scikit-learn K-NN Model \n",
    "with open(model_filepath, 'rb') as f:\n",
    "    KNN_UC_model = pickle.load(f)"
   ]
  },
  {
   "cell_type": "code",
   "execution_count": 4,
   "id": "862cc887-0e50-41e1-b098-6dff66857dc8",
   "metadata": {},
   "outputs": [
    {
     "data": {
      "text/html": [
       "<style>#sk-container-id-1 {color: black;background-color: white;}#sk-container-id-1 pre{padding: 0;}#sk-container-id-1 div.sk-toggleable {background-color: white;}#sk-container-id-1 label.sk-toggleable__label {cursor: pointer;display: block;width: 100%;margin-bottom: 0;padding: 0.3em;box-sizing: border-box;text-align: center;}#sk-container-id-1 label.sk-toggleable__label-arrow:before {content: \"▸\";float: left;margin-right: 0.25em;color: #696969;}#sk-container-id-1 label.sk-toggleable__label-arrow:hover:before {color: black;}#sk-container-id-1 div.sk-estimator:hover label.sk-toggleable__label-arrow:before {color: black;}#sk-container-id-1 div.sk-toggleable__content {max-height: 0;max-width: 0;overflow: hidden;text-align: left;background-color: #f0f8ff;}#sk-container-id-1 div.sk-toggleable__content pre {margin: 0.2em;color: black;border-radius: 0.25em;background-color: #f0f8ff;}#sk-container-id-1 input.sk-toggleable__control:checked~div.sk-toggleable__content {max-height: 200px;max-width: 100%;overflow: auto;}#sk-container-id-1 input.sk-toggleable__control:checked~label.sk-toggleable__label-arrow:before {content: \"▾\";}#sk-container-id-1 div.sk-estimator input.sk-toggleable__control:checked~label.sk-toggleable__label {background-color: #d4ebff;}#sk-container-id-1 div.sk-label input.sk-toggleable__control:checked~label.sk-toggleable__label {background-color: #d4ebff;}#sk-container-id-1 input.sk-hidden--visually {border: 0;clip: rect(1px 1px 1px 1px);clip: rect(1px, 1px, 1px, 1px);height: 1px;margin: -1px;overflow: hidden;padding: 0;position: absolute;width: 1px;}#sk-container-id-1 div.sk-estimator {font-family: monospace;background-color: #f0f8ff;border: 1px dotted black;border-radius: 0.25em;box-sizing: border-box;margin-bottom: 0.5em;}#sk-container-id-1 div.sk-estimator:hover {background-color: #d4ebff;}#sk-container-id-1 div.sk-parallel-item::after {content: \"\";width: 100%;border-bottom: 1px solid gray;flex-grow: 1;}#sk-container-id-1 div.sk-label:hover label.sk-toggleable__label {background-color: #d4ebff;}#sk-container-id-1 div.sk-serial::before {content: \"\";position: absolute;border-left: 1px solid gray;box-sizing: border-box;top: 0;bottom: 0;left: 50%;z-index: 0;}#sk-container-id-1 div.sk-serial {display: flex;flex-direction: column;align-items: center;background-color: white;padding-right: 0.2em;padding-left: 0.2em;position: relative;}#sk-container-id-1 div.sk-item {position: relative;z-index: 1;}#sk-container-id-1 div.sk-parallel {display: flex;align-items: stretch;justify-content: center;background-color: white;position: relative;}#sk-container-id-1 div.sk-item::before, #sk-container-id-1 div.sk-parallel-item::before {content: \"\";position: absolute;border-left: 1px solid gray;box-sizing: border-box;top: 0;bottom: 0;left: 50%;z-index: -1;}#sk-container-id-1 div.sk-parallel-item {display: flex;flex-direction: column;z-index: 1;position: relative;background-color: white;}#sk-container-id-1 div.sk-parallel-item:first-child::after {align-self: flex-end;width: 50%;}#sk-container-id-1 div.sk-parallel-item:last-child::after {align-self: flex-start;width: 50%;}#sk-container-id-1 div.sk-parallel-item:only-child::after {width: 0;}#sk-container-id-1 div.sk-dashed-wrapped {border: 1px dashed gray;margin: 0 0.4em 0.5em 0.4em;box-sizing: border-box;padding-bottom: 0.4em;background-color: white;}#sk-container-id-1 div.sk-label label {font-family: monospace;font-weight: bold;display: inline-block;line-height: 1.2em;}#sk-container-id-1 div.sk-label-container {text-align: center;}#sk-container-id-1 div.sk-container {/* jupyter's `normalize.less` sets `[hidden] { display: none; }` but bootstrap.min.css set `[hidden] { display: none !important; }` so we also need the `!important` here to be able to override the default hidden behavior on the sphinx rendered scikit-learn.org. See: https://github.com/scikit-learn/scikit-learn/issues/21755 */display: inline-block !important;position: relative;}#sk-container-id-1 div.sk-text-repr-fallback {display: none;}</style><div id=\"sk-container-id-1\" class=\"sk-top-container\"><div class=\"sk-text-repr-fallback\"><pre>KNeighborsRegressor(n_neighbors=12, weights=&#x27;distance&#x27;)</pre><b>In a Jupyter environment, please rerun this cell to show the HTML representation or trust the notebook. <br />On GitHub, the HTML representation is unable to render, please try loading this page with nbviewer.org.</b></div><div class=\"sk-container\" hidden><div class=\"sk-item\"><div class=\"sk-estimator sk-toggleable\"><input class=\"sk-toggleable__control sk-hidden--visually\" id=\"sk-estimator-id-1\" type=\"checkbox\" checked><label for=\"sk-estimator-id-1\" class=\"sk-toggleable__label sk-toggleable__label-arrow\">KNeighborsRegressor</label><div class=\"sk-toggleable__content\"><pre>KNeighborsRegressor(n_neighbors=12, weights=&#x27;distance&#x27;)</pre></div></div></div></div></div>"
      ],
      "text/plain": [
       "KNeighborsRegressor(n_neighbors=12, weights='distance')"
      ]
     },
     "metadata": {},
     "output_type": "display_data"
    }
   ],
   "source": [
    "display(KNN_UC_model)"
   ]
  },
  {
   "cell_type": "markdown",
   "id": "b4fb0781",
   "metadata": {},
   "source": [
    "**The cells below loads in the pre-configured scaling objects.**\n",
    "\n",
    "SS_predictor is a StandardScaler() which centers the mean at 0 trained on Historical Natural Flow from UpperColoradoRiver.Inflow or GlenWood Natural Flow.\n",
    "\n",
    "SS_vrain is a StandardScaler() which centers the mean at 0 trained on \"Historically\" filled Natural Flow from St. Vrain."
   ]
  },
  {
   "cell_type": "code",
   "execution_count": 5,
   "id": "661350f1",
   "metadata": {},
   "outputs": [],
   "source": [
    "with open(\"./KNN_Predictor_scaler_v1.pkl\", 'rb') as f:\n",
    "    SS_predictor = pickle.load(f)"
   ]
  },
  {
   "cell_type": "code",
   "execution_count": 6,
   "id": "f457b721",
   "metadata": {},
   "outputs": [],
   "source": [
    "with open(\"./KNN_Stvrain_scaler_v1.pkl\", 'rb') as f:\n",
    "    SS_vrain = pickle.load(f)"
   ]
  },
  {
   "cell_type": "code",
   "execution_count": 7,
   "id": "93ce8ca2",
   "metadata": {},
   "outputs": [
    {
     "data": {
      "text/html": [
       "<style>#sk-container-id-2 {color: black;background-color: white;}#sk-container-id-2 pre{padding: 0;}#sk-container-id-2 div.sk-toggleable {background-color: white;}#sk-container-id-2 label.sk-toggleable__label {cursor: pointer;display: block;width: 100%;margin-bottom: 0;padding: 0.3em;box-sizing: border-box;text-align: center;}#sk-container-id-2 label.sk-toggleable__label-arrow:before {content: \"▸\";float: left;margin-right: 0.25em;color: #696969;}#sk-container-id-2 label.sk-toggleable__label-arrow:hover:before {color: black;}#sk-container-id-2 div.sk-estimator:hover label.sk-toggleable__label-arrow:before {color: black;}#sk-container-id-2 div.sk-toggleable__content {max-height: 0;max-width: 0;overflow: hidden;text-align: left;background-color: #f0f8ff;}#sk-container-id-2 div.sk-toggleable__content pre {margin: 0.2em;color: black;border-radius: 0.25em;background-color: #f0f8ff;}#sk-container-id-2 input.sk-toggleable__control:checked~div.sk-toggleable__content {max-height: 200px;max-width: 100%;overflow: auto;}#sk-container-id-2 input.sk-toggleable__control:checked~label.sk-toggleable__label-arrow:before {content: \"▾\";}#sk-container-id-2 div.sk-estimator input.sk-toggleable__control:checked~label.sk-toggleable__label {background-color: #d4ebff;}#sk-container-id-2 div.sk-label input.sk-toggleable__control:checked~label.sk-toggleable__label {background-color: #d4ebff;}#sk-container-id-2 input.sk-hidden--visually {border: 0;clip: rect(1px 1px 1px 1px);clip: rect(1px, 1px, 1px, 1px);height: 1px;margin: -1px;overflow: hidden;padding: 0;position: absolute;width: 1px;}#sk-container-id-2 div.sk-estimator {font-family: monospace;background-color: #f0f8ff;border: 1px dotted black;border-radius: 0.25em;box-sizing: border-box;margin-bottom: 0.5em;}#sk-container-id-2 div.sk-estimator:hover {background-color: #d4ebff;}#sk-container-id-2 div.sk-parallel-item::after {content: \"\";width: 100%;border-bottom: 1px solid gray;flex-grow: 1;}#sk-container-id-2 div.sk-label:hover label.sk-toggleable__label {background-color: #d4ebff;}#sk-container-id-2 div.sk-serial::before {content: \"\";position: absolute;border-left: 1px solid gray;box-sizing: border-box;top: 0;bottom: 0;left: 50%;z-index: 0;}#sk-container-id-2 div.sk-serial {display: flex;flex-direction: column;align-items: center;background-color: white;padding-right: 0.2em;padding-left: 0.2em;position: relative;}#sk-container-id-2 div.sk-item {position: relative;z-index: 1;}#sk-container-id-2 div.sk-parallel {display: flex;align-items: stretch;justify-content: center;background-color: white;position: relative;}#sk-container-id-2 div.sk-item::before, #sk-container-id-2 div.sk-parallel-item::before {content: \"\";position: absolute;border-left: 1px solid gray;box-sizing: border-box;top: 0;bottom: 0;left: 50%;z-index: -1;}#sk-container-id-2 div.sk-parallel-item {display: flex;flex-direction: column;z-index: 1;position: relative;background-color: white;}#sk-container-id-2 div.sk-parallel-item:first-child::after {align-self: flex-end;width: 50%;}#sk-container-id-2 div.sk-parallel-item:last-child::after {align-self: flex-start;width: 50%;}#sk-container-id-2 div.sk-parallel-item:only-child::after {width: 0;}#sk-container-id-2 div.sk-dashed-wrapped {border: 1px dashed gray;margin: 0 0.4em 0.5em 0.4em;box-sizing: border-box;padding-bottom: 0.4em;background-color: white;}#sk-container-id-2 div.sk-label label {font-family: monospace;font-weight: bold;display: inline-block;line-height: 1.2em;}#sk-container-id-2 div.sk-label-container {text-align: center;}#sk-container-id-2 div.sk-container {/* jupyter's `normalize.less` sets `[hidden] { display: none; }` but bootstrap.min.css set `[hidden] { display: none !important; }` so we also need the `!important` here to be able to override the default hidden behavior on the sphinx rendered scikit-learn.org. See: https://github.com/scikit-learn/scikit-learn/issues/21755 */display: inline-block !important;position: relative;}#sk-container-id-2 div.sk-text-repr-fallback {display: none;}</style><div id=\"sk-container-id-2\" class=\"sk-top-container\"><div class=\"sk-text-repr-fallback\"><pre>StandardScaler()</pre><b>In a Jupyter environment, please rerun this cell to show the HTML representation or trust the notebook. <br />On GitHub, the HTML representation is unable to render, please try loading this page with nbviewer.org.</b></div><div class=\"sk-container\" hidden><div class=\"sk-item\"><div class=\"sk-estimator sk-toggleable\"><input class=\"sk-toggleable__control sk-hidden--visually\" id=\"sk-estimator-id-2\" type=\"checkbox\" checked><label for=\"sk-estimator-id-2\" class=\"sk-toggleable__label sk-toggleable__label-arrow\">StandardScaler</label><div class=\"sk-toggleable__content\"><pre>StandardScaler()</pre></div></div></div></div></div>"
      ],
      "text/plain": [
       "StandardScaler()"
      ]
     },
     "metadata": {},
     "output_type": "display_data"
    },
    {
     "data": {
      "text/html": [
       "<style>#sk-container-id-3 {color: black;background-color: white;}#sk-container-id-3 pre{padding: 0;}#sk-container-id-3 div.sk-toggleable {background-color: white;}#sk-container-id-3 label.sk-toggleable__label {cursor: pointer;display: block;width: 100%;margin-bottom: 0;padding: 0.3em;box-sizing: border-box;text-align: center;}#sk-container-id-3 label.sk-toggleable__label-arrow:before {content: \"▸\";float: left;margin-right: 0.25em;color: #696969;}#sk-container-id-3 label.sk-toggleable__label-arrow:hover:before {color: black;}#sk-container-id-3 div.sk-estimator:hover label.sk-toggleable__label-arrow:before {color: black;}#sk-container-id-3 div.sk-toggleable__content {max-height: 0;max-width: 0;overflow: hidden;text-align: left;background-color: #f0f8ff;}#sk-container-id-3 div.sk-toggleable__content pre {margin: 0.2em;color: black;border-radius: 0.25em;background-color: #f0f8ff;}#sk-container-id-3 input.sk-toggleable__control:checked~div.sk-toggleable__content {max-height: 200px;max-width: 100%;overflow: auto;}#sk-container-id-3 input.sk-toggleable__control:checked~label.sk-toggleable__label-arrow:before {content: \"▾\";}#sk-container-id-3 div.sk-estimator input.sk-toggleable__control:checked~label.sk-toggleable__label {background-color: #d4ebff;}#sk-container-id-3 div.sk-label input.sk-toggleable__control:checked~label.sk-toggleable__label {background-color: #d4ebff;}#sk-container-id-3 input.sk-hidden--visually {border: 0;clip: rect(1px 1px 1px 1px);clip: rect(1px, 1px, 1px, 1px);height: 1px;margin: -1px;overflow: hidden;padding: 0;position: absolute;width: 1px;}#sk-container-id-3 div.sk-estimator {font-family: monospace;background-color: #f0f8ff;border: 1px dotted black;border-radius: 0.25em;box-sizing: border-box;margin-bottom: 0.5em;}#sk-container-id-3 div.sk-estimator:hover {background-color: #d4ebff;}#sk-container-id-3 div.sk-parallel-item::after {content: \"\";width: 100%;border-bottom: 1px solid gray;flex-grow: 1;}#sk-container-id-3 div.sk-label:hover label.sk-toggleable__label {background-color: #d4ebff;}#sk-container-id-3 div.sk-serial::before {content: \"\";position: absolute;border-left: 1px solid gray;box-sizing: border-box;top: 0;bottom: 0;left: 50%;z-index: 0;}#sk-container-id-3 div.sk-serial {display: flex;flex-direction: column;align-items: center;background-color: white;padding-right: 0.2em;padding-left: 0.2em;position: relative;}#sk-container-id-3 div.sk-item {position: relative;z-index: 1;}#sk-container-id-3 div.sk-parallel {display: flex;align-items: stretch;justify-content: center;background-color: white;position: relative;}#sk-container-id-3 div.sk-item::before, #sk-container-id-3 div.sk-parallel-item::before {content: \"\";position: absolute;border-left: 1px solid gray;box-sizing: border-box;top: 0;bottom: 0;left: 50%;z-index: -1;}#sk-container-id-3 div.sk-parallel-item {display: flex;flex-direction: column;z-index: 1;position: relative;background-color: white;}#sk-container-id-3 div.sk-parallel-item:first-child::after {align-self: flex-end;width: 50%;}#sk-container-id-3 div.sk-parallel-item:last-child::after {align-self: flex-start;width: 50%;}#sk-container-id-3 div.sk-parallel-item:only-child::after {width: 0;}#sk-container-id-3 div.sk-dashed-wrapped {border: 1px dashed gray;margin: 0 0.4em 0.5em 0.4em;box-sizing: border-box;padding-bottom: 0.4em;background-color: white;}#sk-container-id-3 div.sk-label label {font-family: monospace;font-weight: bold;display: inline-block;line-height: 1.2em;}#sk-container-id-3 div.sk-label-container {text-align: center;}#sk-container-id-3 div.sk-container {/* jupyter's `normalize.less` sets `[hidden] { display: none; }` but bootstrap.min.css set `[hidden] { display: none !important; }` so we also need the `!important` here to be able to override the default hidden behavior on the sphinx rendered scikit-learn.org. See: https://github.com/scikit-learn/scikit-learn/issues/21755 */display: inline-block !important;position: relative;}#sk-container-id-3 div.sk-text-repr-fallback {display: none;}</style><div id=\"sk-container-id-3\" class=\"sk-top-container\"><div class=\"sk-text-repr-fallback\"><pre>StandardScaler()</pre><b>In a Jupyter environment, please rerun this cell to show the HTML representation or trust the notebook. <br />On GitHub, the HTML representation is unable to render, please try loading this page with nbviewer.org.</b></div><div class=\"sk-container\" hidden><div class=\"sk-item\"><div class=\"sk-estimator sk-toggleable\"><input class=\"sk-toggleable__control sk-hidden--visually\" id=\"sk-estimator-id-3\" type=\"checkbox\" checked><label for=\"sk-estimator-id-3\" class=\"sk-toggleable__label sk-toggleable__label-arrow\">StandardScaler</label><div class=\"sk-toggleable__content\"><pre>StandardScaler()</pre></div></div></div></div></div>"
      ],
      "text/plain": [
       "StandardScaler()"
      ]
     },
     "metadata": {},
     "output_type": "display_data"
    }
   ],
   "source": [
    "display(SS_predictor)\n",
    "display(SS_vrain)"
   ]
  },
  {
   "cell_type": "markdown",
   "id": "541607c1",
   "metadata": {},
   "source": [
    "*The input data will use the SS_predictor to be scaled before feeding into the KNN model. The KNN model then makes a prediction on the scaled predictor value and predicts into the scaled SS_vrain data space. Therefore the prediction from the model must be inverse scaled by the SS_vrain from the predicted scaled St. Vrain space into the historical St. Vrain data space that can actually be used by CRSS.*\n",
    "\n",
    "**Warning if your input data is too far out of the historical data range or CMIP5 then you may experience very poor performance**"
   ]
  },
  {
   "cell_type": "markdown",
   "id": "997837f8-4109-42e0-b54e-288c5d0a6881",
   "metadata": {},
   "source": [
    "#### The cells below read-in the user hydrology input - in this case it should be UpperColoradoRiver.Inflow Annual (CY) Sums of Intervening Natural Flow values"
   ]
  },
  {
   "cell_type": "code",
   "execution_count": 8,
   "id": "7051e2d0-7d3a-486f-a7c5-468c9fd90106",
   "metadata": {},
   "outputs": [],
   "source": [
    "input_hydrology_filepath = r\"./test_nf_input.xlsx\" # <---user must fill-in\n",
    "# if you use an excel file please provide the sheetname\n",
    "sheetname = \"Sheet1\" # <---user must fill-in if they use an Excel sheet file with more than 1 sheet"
   ]
  },
  {
   "cell_type": "code",
   "execution_count": 9,
   "id": "07340dac-fbcc-48a1-83d8-0ef4a234f84e",
   "metadata": {},
   "outputs": [],
   "source": [
    "# read-in user data\n",
    "# user data should be formatted as an *.csv or *.xlsx file - *.csv is preferred\n",
    "if input_hydrology_filepath:\n",
    "    ext = os.path.basename(input_hydrology_filepath).split(\".\")[1]\n",
    "    if ext == \"csv\":\n",
    "        input_df = pd.read_csv(input_hydrology_filepath, header=0, index_col=0)\n",
    "    elif ext == \"xlsx\":\n",
    "        input_df = pd.read_excel(input_hydrology_filepath, sheet_name=sheetname, header=0, index_col=0)\n",
    "    else:\n",
    "        print(\"Warning you must use a csv or xlsx file - macros are not supported\")"
   ]
  },
  {
   "cell_type": "code",
   "execution_count": 10,
   "id": "7bd09ed8-8952-4f9b-8c24-82279851fe11",
   "metadata": {},
   "outputs": [
    {
     "data": {
      "text/html": [
       "<div>\n",
       "<style scoped>\n",
       "    .dataframe tbody tr th:only-of-type {\n",
       "        vertical-align: middle;\n",
       "    }\n",
       "\n",
       "    .dataframe tbody tr th {\n",
       "        vertical-align: top;\n",
       "    }\n",
       "\n",
       "    .dataframe thead th {\n",
       "        text-align: right;\n",
       "    }\n",
       "</style>\n",
       "<table border=\"1\" class=\"dataframe\">\n",
       "  <thead>\n",
       "    <tr style=\"text-align: right;\">\n",
       "      <th></th>\n",
       "      <th>NF_1</th>\n",
       "      <th>NF_2</th>\n",
       "      <th>NF_3</th>\n",
       "    </tr>\n",
       "    <tr>\n",
       "      <th>Year</th>\n",
       "      <th></th>\n",
       "      <th></th>\n",
       "      <th></th>\n",
       "    </tr>\n",
       "  </thead>\n",
       "  <tbody>\n",
       "    <tr>\n",
       "      <th>1906</th>\n",
       "      <td>2763072</td>\n",
       "      <td>2763072</td>\n",
       "      <td>2763072</td>\n",
       "    </tr>\n",
       "    <tr>\n",
       "      <th>1907</th>\n",
       "      <td>3081437</td>\n",
       "      <td>3081437</td>\n",
       "      <td>3081437</td>\n",
       "    </tr>\n",
       "    <tr>\n",
       "      <th>1908</th>\n",
       "      <td>1649464</td>\n",
       "      <td>1649464</td>\n",
       "      <td>1649464</td>\n",
       "    </tr>\n",
       "    <tr>\n",
       "      <th>1909</th>\n",
       "      <td>3215703</td>\n",
       "      <td>3215703</td>\n",
       "      <td>3215703</td>\n",
       "    </tr>\n",
       "    <tr>\n",
       "      <th>1910</th>\n",
       "      <td>1847184</td>\n",
       "      <td>1847184</td>\n",
       "      <td>1847184</td>\n",
       "    </tr>\n",
       "    <tr>\n",
       "      <th>...</th>\n",
       "      <td>...</td>\n",
       "      <td>...</td>\n",
       "      <td>...</td>\n",
       "    </tr>\n",
       "    <tr>\n",
       "      <th>2016</th>\n",
       "      <td>2106977</td>\n",
       "      <td>2106977</td>\n",
       "      <td>2106977</td>\n",
       "    </tr>\n",
       "    <tr>\n",
       "      <th>2017</th>\n",
       "      <td>2181450</td>\n",
       "      <td>2181450</td>\n",
       "      <td>2181450</td>\n",
       "    </tr>\n",
       "    <tr>\n",
       "      <th>2018</th>\n",
       "      <td>1474316</td>\n",
       "      <td>1474316</td>\n",
       "      <td>1474316</td>\n",
       "    </tr>\n",
       "    <tr>\n",
       "      <th>2019</th>\n",
       "      <td>2550862</td>\n",
       "      <td>2550862</td>\n",
       "      <td>2550862</td>\n",
       "    </tr>\n",
       "    <tr>\n",
       "      <th>2020</th>\n",
       "      <td>1714823</td>\n",
       "      <td>1714823</td>\n",
       "      <td>1714823</td>\n",
       "    </tr>\n",
       "  </tbody>\n",
       "</table>\n",
       "<p>115 rows × 3 columns</p>\n",
       "</div>"
      ],
      "text/plain": [
       "         NF_1     NF_2     NF_3\n",
       "Year                           \n",
       "1906  2763072  2763072  2763072\n",
       "1907  3081437  3081437  3081437\n",
       "1908  1649464  1649464  1649464\n",
       "1909  3215703  3215703  3215703\n",
       "1910  1847184  1847184  1847184\n",
       "...       ...      ...      ...\n",
       "2016  2106977  2106977  2106977\n",
       "2017  2181450  2181450  2181450\n",
       "2018  1474316  1474316  1474316\n",
       "2019  2550862  2550862  2550862\n",
       "2020  1714823  1714823  1714823\n",
       "\n",
       "[115 rows x 3 columns]"
      ]
     },
     "metadata": {},
     "output_type": "display_data"
    }
   ],
   "source": [
    "display(input_df)"
   ]
  },
  {
   "cell_type": "markdown",
   "id": "fb1b7f73-635e-4bdb-8785-60c4c15039f6",
   "metadata": {},
   "source": [
    "#### In order to use the K-NN model correctly the data must be Standard-scaled from scikit-learn (mean = 0)"
   ]
  },
  {
   "cell_type": "code",
   "execution_count": 11,
   "id": "ae51ca67-5aef-4bd3-bee7-4f62cc56dc32",
   "metadata": {},
   "outputs": [
    {
     "data": {
      "text/html": [
       "<div>\n",
       "<style scoped>\n",
       "    .dataframe tbody tr th:only-of-type {\n",
       "        vertical-align: middle;\n",
       "    }\n",
       "\n",
       "    .dataframe tbody tr th {\n",
       "        vertical-align: top;\n",
       "    }\n",
       "\n",
       "    .dataframe thead th {\n",
       "        text-align: right;\n",
       "    }\n",
       "</style>\n",
       "<table border=\"1\" class=\"dataframe\">\n",
       "  <thead>\n",
       "    <tr style=\"text-align: right;\">\n",
       "      <th></th>\n",
       "      <th>NF_1</th>\n",
       "      <th>NF_2</th>\n",
       "      <th>NF_3</th>\n",
       "    </tr>\n",
       "    <tr>\n",
       "      <th>Year</th>\n",
       "      <th></th>\n",
       "      <th></th>\n",
       "      <th></th>\n",
       "    </tr>\n",
       "  </thead>\n",
       "  <tbody>\n",
       "    <tr>\n",
       "      <th>1906</th>\n",
       "      <td>1.143895</td>\n",
       "      <td>1.143895</td>\n",
       "      <td>1.143895</td>\n",
       "    </tr>\n",
       "    <tr>\n",
       "      <th>1907</th>\n",
       "      <td>1.708980</td>\n",
       "      <td>1.708980</td>\n",
       "      <td>1.708980</td>\n",
       "    </tr>\n",
       "    <tr>\n",
       "      <th>1908</th>\n",
       "      <td>-0.832714</td>\n",
       "      <td>-0.832714</td>\n",
       "      <td>-0.832714</td>\n",
       "    </tr>\n",
       "    <tr>\n",
       "      <th>1909</th>\n",
       "      <td>1.947297</td>\n",
       "      <td>1.947297</td>\n",
       "      <td>1.947297</td>\n",
       "    </tr>\n",
       "    <tr>\n",
       "      <th>1910</th>\n",
       "      <td>-0.481769</td>\n",
       "      <td>-0.481769</td>\n",
       "      <td>-0.481769</td>\n",
       "    </tr>\n",
       "    <tr>\n",
       "      <th>...</th>\n",
       "      <td>...</td>\n",
       "      <td>...</td>\n",
       "      <td>...</td>\n",
       "    </tr>\n",
       "    <tr>\n",
       "      <th>2016</th>\n",
       "      <td>-0.020647</td>\n",
       "      <td>-0.020647</td>\n",
       "      <td>-0.020647</td>\n",
       "    </tr>\n",
       "    <tr>\n",
       "      <th>2017</th>\n",
       "      <td>0.111540</td>\n",
       "      <td>0.111540</td>\n",
       "      <td>0.111540</td>\n",
       "    </tr>\n",
       "    <tr>\n",
       "      <th>2018</th>\n",
       "      <td>-1.143594</td>\n",
       "      <td>-1.143594</td>\n",
       "      <td>-1.143594</td>\n",
       "    </tr>\n",
       "    <tr>\n",
       "      <th>2019</th>\n",
       "      <td>0.767231</td>\n",
       "      <td>0.767231</td>\n",
       "      <td>0.767231</td>\n",
       "    </tr>\n",
       "    <tr>\n",
       "      <th>2020</th>\n",
       "      <td>-0.716704</td>\n",
       "      <td>-0.716704</td>\n",
       "      <td>-0.716704</td>\n",
       "    </tr>\n",
       "  </tbody>\n",
       "</table>\n",
       "<p>115 rows × 3 columns</p>\n",
       "</div>"
      ],
      "text/plain": [
       "          NF_1      NF_2      NF_3\n",
       "Year                              \n",
       "1906  1.143895  1.143895  1.143895\n",
       "1907  1.708980  1.708980  1.708980\n",
       "1908 -0.832714 -0.832714 -0.832714\n",
       "1909  1.947297  1.947297  1.947297\n",
       "1910 -0.481769 -0.481769 -0.481769\n",
       "...        ...       ...       ...\n",
       "2016 -0.020647 -0.020647 -0.020647\n",
       "2017  0.111540  0.111540  0.111540\n",
       "2018 -1.143594 -1.143594 -1.143594\n",
       "2019  0.767231  0.767231  0.767231\n",
       "2020 -0.716704 -0.716704 -0.716704\n",
       "\n",
       "[115 rows x 3 columns]"
      ]
     },
     "metadata": {},
     "output_type": "display_data"
    }
   ],
   "source": [
    "# values must be scaled using StandardScaler of the Predictor\n",
    "SS_df = pd.DataFrame(columns=input_df.columns, index=input_df.index)\n",
    "for col in input_df.columns:\n",
    "    select_col = input_df.loc[:, col].values.reshape(-1,1)\n",
    "    scale_col = SS_predictor.transform(select_col)\n",
    "    new_col = scale_col.reshape(scale_col.shape[0])\n",
    "    SS_df[col] = new_col\n",
    "\n",
    "display(SS_df)"
   ]
  },
  {
   "cell_type": "markdown",
   "id": "e57f49cb-3184-4903-97d0-62dfa05d359a",
   "metadata": {},
   "source": [
    "#### The cells below run KNN model predictions from UpperColoradoRiver.Inflow Annual Natural Flow to St. Vrain Annual Natural Flow"
   ]
  },
  {
   "cell_type": "code",
   "execution_count": 12,
   "id": "4309d987-e51e-4504-a958-988bfec93d74",
   "metadata": {},
   "outputs": [
    {
     "name": "stdout",
     "output_type": "stream",
     "text": [
      "Input original shape: (115,), Input reshaped for model: (115, 1)\n",
      "Output from model shape: (115, 1), Ouput dataframe shape: (115,)\n",
      "\n",
      "\n",
      "Input original shape: (115,), Input reshaped for model: (115, 1)\n",
      "Output from model shape: (115, 1), Ouput dataframe shape: (115,)\n",
      "\n",
      "\n",
      "Input original shape: (115,), Input reshaped for model: (115, 1)\n",
      "Output from model shape: (115, 1), Ouput dataframe shape: (115,)\n",
      "\n",
      "\n"
     ]
    }
   ],
   "source": [
    "# predict values\n",
    "trace_dict = {}\n",
    "for trace_col in SS_df.columns.tolist():\n",
    "    trace_vals = SS_df[trace_col].values\n",
    "    trace_valsr = trace_vals.reshape(-1, 1)\n",
    "    print(f\"Input original shape: {trace_vals.shape}, Input reshaped for model: {trace_valsr.shape}\")\n",
    "    trace_predict = KNN_UC_model.predict(trace_valsr)\n",
    "    trace_predictr = trace_predict.flatten()\n",
    "    print(f\"Output from model shape: {trace_predict.shape}, Ouput dataframe shape: {trace_predictr.shape}\")\n",
    "    trace_dict[trace_col] = trace_predictr\n",
    "    print(\"\\n\")\n",
    "\n",
    "# create output dataframe of predicted St.Vrain values\n",
    "output_stvrain_df = pd.DataFrame.from_dict(trace_dict)"
   ]
  },
  {
   "cell_type": "code",
   "execution_count": 13,
   "id": "6aeafbe4-c775-4ff3-a679-c2c3580dbf68",
   "metadata": {},
   "outputs": [
    {
     "data": {
      "text/html": [
       "<div>\n",
       "<style scoped>\n",
       "    .dataframe tbody tr th:only-of-type {\n",
       "        vertical-align: middle;\n",
       "    }\n",
       "\n",
       "    .dataframe tbody tr th {\n",
       "        vertical-align: top;\n",
       "    }\n",
       "\n",
       "    .dataframe thead th {\n",
       "        text-align: right;\n",
       "    }\n",
       "</style>\n",
       "<table border=\"1\" class=\"dataframe\">\n",
       "  <thead>\n",
       "    <tr style=\"text-align: right;\">\n",
       "      <th></th>\n",
       "      <th>NF_1</th>\n",
       "      <th>NF_2</th>\n",
       "      <th>NF_3</th>\n",
       "    </tr>\n",
       "  </thead>\n",
       "  <tbody>\n",
       "    <tr>\n",
       "      <th>0</th>\n",
       "      <td>0.873931</td>\n",
       "      <td>0.873931</td>\n",
       "      <td>0.873931</td>\n",
       "    </tr>\n",
       "    <tr>\n",
       "      <th>1</th>\n",
       "      <td>2.054987</td>\n",
       "      <td>2.054987</td>\n",
       "      <td>2.054987</td>\n",
       "    </tr>\n",
       "    <tr>\n",
       "      <th>2</th>\n",
       "      <td>-0.824119</td>\n",
       "      <td>-0.824119</td>\n",
       "      <td>-0.824119</td>\n",
       "    </tr>\n",
       "    <tr>\n",
       "      <th>3</th>\n",
       "      <td>1.361289</td>\n",
       "      <td>1.361289</td>\n",
       "      <td>1.361289</td>\n",
       "    </tr>\n",
       "    <tr>\n",
       "      <th>4</th>\n",
       "      <td>-1.267867</td>\n",
       "      <td>-1.267867</td>\n",
       "      <td>-1.267867</td>\n",
       "    </tr>\n",
       "    <tr>\n",
       "      <th>...</th>\n",
       "      <td>...</td>\n",
       "      <td>...</td>\n",
       "      <td>...</td>\n",
       "    </tr>\n",
       "    <tr>\n",
       "      <th>110</th>\n",
       "      <td>-0.190598</td>\n",
       "      <td>-0.190598</td>\n",
       "      <td>-0.190598</td>\n",
       "    </tr>\n",
       "    <tr>\n",
       "      <th>111</th>\n",
       "      <td>0.459410</td>\n",
       "      <td>0.459410</td>\n",
       "      <td>0.459410</td>\n",
       "    </tr>\n",
       "    <tr>\n",
       "      <th>112</th>\n",
       "      <td>-1.148935</td>\n",
       "      <td>-1.148935</td>\n",
       "      <td>-1.148935</td>\n",
       "    </tr>\n",
       "    <tr>\n",
       "      <th>113</th>\n",
       "      <td>0.445116</td>\n",
       "      <td>0.445116</td>\n",
       "      <td>0.445116</td>\n",
       "    </tr>\n",
       "    <tr>\n",
       "      <th>114</th>\n",
       "      <td>-0.477520</td>\n",
       "      <td>-0.477520</td>\n",
       "      <td>-0.477520</td>\n",
       "    </tr>\n",
       "  </tbody>\n",
       "</table>\n",
       "<p>115 rows × 3 columns</p>\n",
       "</div>"
      ],
      "text/plain": [
       "         NF_1      NF_2      NF_3\n",
       "0    0.873931  0.873931  0.873931\n",
       "1    2.054987  2.054987  2.054987\n",
       "2   -0.824119 -0.824119 -0.824119\n",
       "3    1.361289  1.361289  1.361289\n",
       "4   -1.267867 -1.267867 -1.267867\n",
       "..        ...       ...       ...\n",
       "110 -0.190598 -0.190598 -0.190598\n",
       "111  0.459410  0.459410  0.459410\n",
       "112 -1.148935 -1.148935 -1.148935\n",
       "113  0.445116  0.445116  0.445116\n",
       "114 -0.477520 -0.477520 -0.477520\n",
       "\n",
       "[115 rows x 3 columns]"
      ]
     },
     "metadata": {},
     "output_type": "display_data"
    }
   ],
   "source": [
    "display(output_stvrain_df)"
   ]
  },
  {
   "cell_type": "markdown",
   "id": "3ce7905b-a225-4b07-894f-e5a009ef7a60",
   "metadata": {},
   "source": [
    "#### Before writing out the predicted St. Vrain Annual Natural Flow the data must be Un-Scaled"
   ]
  },
  {
   "cell_type": "code",
   "execution_count": 14,
   "id": "930a30e3-53cb-43ac-b3ae-c8cce6154f4f",
   "metadata": {},
   "outputs": [
    {
     "data": {
      "text/html": [
       "<div>\n",
       "<style scoped>\n",
       "    .dataframe tbody tr th:only-of-type {\n",
       "        vertical-align: middle;\n",
       "    }\n",
       "\n",
       "    .dataframe tbody tr th {\n",
       "        vertical-align: top;\n",
       "    }\n",
       "\n",
       "    .dataframe thead th {\n",
       "        text-align: right;\n",
       "    }\n",
       "</style>\n",
       "<table border=\"1\" class=\"dataframe\">\n",
       "  <thead>\n",
       "    <tr style=\"text-align: right;\">\n",
       "      <th></th>\n",
       "      <th>NF_1</th>\n",
       "      <th>NF_2</th>\n",
       "      <th>NF_3</th>\n",
       "    </tr>\n",
       "    <tr>\n",
       "      <th>Year</th>\n",
       "      <th></th>\n",
       "      <th></th>\n",
       "      <th></th>\n",
       "    </tr>\n",
       "  </thead>\n",
       "  <tbody>\n",
       "    <tr>\n",
       "      <th>1906</th>\n",
       "      <td>149314.0</td>\n",
       "      <td>149314.0</td>\n",
       "      <td>149314.0</td>\n",
       "    </tr>\n",
       "    <tr>\n",
       "      <th>1907</th>\n",
       "      <td>189603.0</td>\n",
       "      <td>189603.0</td>\n",
       "      <td>189603.0</td>\n",
       "    </tr>\n",
       "    <tr>\n",
       "      <th>1908</th>\n",
       "      <td>91389.0</td>\n",
       "      <td>91389.0</td>\n",
       "      <td>91389.0</td>\n",
       "    </tr>\n",
       "    <tr>\n",
       "      <th>1909</th>\n",
       "      <td>165939.0</td>\n",
       "      <td>165939.0</td>\n",
       "      <td>165939.0</td>\n",
       "    </tr>\n",
       "    <tr>\n",
       "      <th>1910</th>\n",
       "      <td>76252.0</td>\n",
       "      <td>76252.0</td>\n",
       "      <td>76252.0</td>\n",
       "    </tr>\n",
       "    <tr>\n",
       "      <th>...</th>\n",
       "      <td>...</td>\n",
       "      <td>...</td>\n",
       "      <td>...</td>\n",
       "    </tr>\n",
       "    <tr>\n",
       "      <th>2016</th>\n",
       "      <td>113000.0</td>\n",
       "      <td>113000.0</td>\n",
       "      <td>113000.0</td>\n",
       "    </tr>\n",
       "    <tr>\n",
       "      <th>2017</th>\n",
       "      <td>135174.0</td>\n",
       "      <td>135174.0</td>\n",
       "      <td>135174.0</td>\n",
       "    </tr>\n",
       "    <tr>\n",
       "      <th>2018</th>\n",
       "      <td>80309.0</td>\n",
       "      <td>80309.0</td>\n",
       "      <td>80309.0</td>\n",
       "    </tr>\n",
       "    <tr>\n",
       "      <th>2019</th>\n",
       "      <td>134686.0</td>\n",
       "      <td>134686.0</td>\n",
       "      <td>134686.0</td>\n",
       "    </tr>\n",
       "    <tr>\n",
       "      <th>2020</th>\n",
       "      <td>103213.0</td>\n",
       "      <td>103213.0</td>\n",
       "      <td>103213.0</td>\n",
       "    </tr>\n",
       "  </tbody>\n",
       "</table>\n",
       "<p>115 rows × 3 columns</p>\n",
       "</div>"
      ],
      "text/plain": [
       "          NF_1      NF_2      NF_3\n",
       "Year                              \n",
       "1906  149314.0  149314.0  149314.0\n",
       "1907  189603.0  189603.0  189603.0\n",
       "1908   91389.0   91389.0   91389.0\n",
       "1909  165939.0  165939.0  165939.0\n",
       "1910   76252.0   76252.0   76252.0\n",
       "...        ...       ...       ...\n",
       "2016  113000.0  113000.0  113000.0\n",
       "2017  135174.0  135174.0  135174.0\n",
       "2018   80309.0   80309.0   80309.0\n",
       "2019  134686.0  134686.0  134686.0\n",
       "2020  103213.0  103213.0  103213.0\n",
       "\n",
       "[115 rows x 3 columns]"
      ]
     },
     "metadata": {},
     "output_type": "display_data"
    }
   ],
   "source": [
    "SS_inverse_vrain = pd.DataFrame(SS_vrain.inverse_transform(output_stvrain_df),\n",
    "                                columns=input_df.columns,\n",
    "                                index=input_df.index)\n",
    "SS_inverse_vrain = SS_inverse_vrain.round(0)\n",
    "display(SS_inverse_vrain)\n",
    "#display(input_df)"
   ]
  },
  {
   "cell_type": "markdown",
   "id": "30ae07b0-e8f4-4c8e-9473-06b227e4e177",
   "metadata": {},
   "source": [
    "#### Write out St. Vrain Annual Natural Flow Predictions to CSV or Excel (you can skip)"
   ]
  },
  {
   "cell_type": "code",
   "execution_count": 15,
   "id": "d788437e-df64-4962-b7b5-970f57130f47",
   "metadata": {},
   "outputs": [
    {
     "data": {
      "text/plain": [
       "'Wrote output dataframe to ./stvrain_predicted_nf.csv'"
      ]
     },
     "metadata": {},
     "output_type": "display_data"
    }
   ],
   "source": [
    "# write out un-scaled output dataframe of predicted St. Vrain values\n",
    "user_output_filepath = \"./stvrain_predicted_nf.csv\" # <-- user input\n",
    "ext = os.path.basename(user_output_filepath).split(\".\")[1]\n",
    "if ext == \"csv\":\n",
    "    SS_inverse_vrain.to_csv(user_output_filepath)\n",
    "elif ext == \"xlsx\":\n",
    "    SS_inverse_vrain.to_excel(user_output_filepath)\n",
    "else:\n",
    "    print(\"Warning output filepath must be a *.csv or *.xlsx path\")\n",
    "\n",
    "display(f\"Wrote output dataframe to {user_output_filepath}\")"
   ]
  },
  {
   "cell_type": "markdown",
   "id": "e863817b-77f6-4f25-8be5-5fed5b612f71",
   "metadata": {},
   "source": [
    "#### Write out St. Vrain Annual Natural Flow Predictions in RiverWare DMI format (you can skip)"
   ]
  },
  {
   "cell_type": "code",
   "execution_count": 16,
   "id": "bd0bbd89-a009-4c27-91f3-034f3d33ffd7",
   "metadata": {},
   "outputs": [
    {
     "name": "stdout",
     "output_type": "stream",
     "text": [
      "Column NF_1 in SS_inverse_vrain is mapped to the folder trace1\n",
      "Column NF_1 written too .\\StressTest\\trace1\\TMD_East_Slope_Supply.St_Vrain_Annual_Flow\n",
      "\n",
      "\n",
      "Column NF_2 in SS_inverse_vrain is mapped to the folder trace2\n",
      "Column NF_2 written too .\\StressTest\\trace2\\TMD_East_Slope_Supply.St_Vrain_Annual_Flow\n",
      "\n",
      "\n",
      "Column NF_3 in SS_inverse_vrain is mapped to the folder trace3\n",
      "Column NF_3 written too .\\StressTest\\trace3\\TMD_East_Slope_Supply.St_Vrain_Annual_Flow\n",
      "\n",
      "\n"
     ]
    }
   ],
   "source": [
    "# write out un-scaled output dataframe of predicted St. Vrain values using RW format\n",
    "scenario_output_dirname = r\".\\StressTest\" # <-- user input\n",
    "stvrain_filename = \"TMD_East_Slope_Supply.St_Vrain_Annual_Flow\" # <-- user input\n",
    "start_date_str = \"start_date: 2024-12-31 24:00\" # <-- user input\n",
    "units_str = \"units: acre-ft\" # <-- user input\n",
    "\n",
    "if not os.path.isdir(scenario_output_dirname):\n",
    "    os.mkdir(scenario_output_dirname)\n",
    "for indx, col in enumerate(SS_inverse_vrain.columns.tolist()):\n",
    "    col_to_folder_rename = f\"trace{indx+1}\"\n",
    "    print(f\"Column {col} in SS_inverse_vrain is mapped to the folder {col_to_folder_rename}\")\n",
    "    write_date = SS_inverse_vrain[col].values\n",
    "    temp_dirpath = os.path.join(scenario_output_dirname, col_to_folder_rename)\n",
    "    if not os.path.isdir(temp_dirpath):\n",
    "        os.mkdir(temp_dirpath)\n",
    "    df_filepath = os.path.join(temp_dirpath, stvrain_filename)\n",
    "    with open(df_filepath, \"w+\") as f:\n",
    "        f.write(f\"{start_date_str}\\n\")\n",
    "        f.write(f\"{units_str}\\n\")\n",
    "        for v in write_date:\n",
    "            f.write(f\"{round(v,0)}\\n\")\n",
    "    print(f\"Column {col} written too {df_filepath}\")\n",
    "    print(\"\\n\")\n",
    "        \n",
    "    \n",
    "    \n",
    "    "
   ]
  },
  {
   "cell_type": "code",
   "execution_count": null,
   "id": "5565e42b-0974-40d6-baf0-e8669a9f5933",
   "metadata": {},
   "outputs": [],
   "source": []
  }
 ],
 "metadata": {
  "kernelspec": {
   "display_name": "Python 3 (ipykernel)",
   "language": "python",
   "name": "python3"
  },
  "language_info": {
   "codemirror_mode": {
    "name": "ipython",
    "version": 3
   },
   "file_extension": ".py",
   "mimetype": "text/x-python",
   "name": "python",
   "nbconvert_exporter": "python",
   "pygments_lexer": "ipython3",
   "version": "3.8.13"
  }
 },
 "nbformat": 4,
 "nbformat_minor": 5
}
